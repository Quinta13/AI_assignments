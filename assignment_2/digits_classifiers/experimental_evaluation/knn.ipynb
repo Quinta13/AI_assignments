{
 "cells": [
  {
   "cell_type": "markdown",
   "source": [
    "# KNN\n"
   ],
   "metadata": {
    "collapsed": false
   }
  },
  {
   "cell_type": "code",
   "execution_count": 1,
   "outputs": [],
   "source": [
    "from sklearn.model_selection import train_test_split\n",
    "\n",
    "from assignment_2.digits_classifiers.model import Dataset, ClassifierTuning\n",
    "from assignment_2.digits_classifiers.classifiers import KNN\n",
    "from assignment_2.digits_classifiers.io import read_datasets"
   ],
   "metadata": {
    "collapsed": false,
    "pycharm": {
     "name": "#%%\n"
    }
   }
  },
  {
   "cell_type": "markdown",
   "source": [
    "## Import dataset"
   ],
   "metadata": {
    "collapsed": false,
    "pycharm": {
     "name": "#%% md\n"
    }
   }
  },
  {
   "cell_type": "code",
   "execution_count": 2,
   "outputs": [
    {
     "name": "stderr",
     "output_type": "stream",
     "text": [
      "2022-12-24 02:27:32.727 | INFO     | assignment_2.digits_classifiers.io:read_datasets:46 - Reading datasets\n"
     ]
    }
   ],
   "source": [
    "data = read_datasets()"
   ],
   "metadata": {
    "collapsed": false,
    "pycharm": {
     "name": "#%%\n"
    }
   }
  },
  {
   "cell_type": "code",
   "execution_count": 3,
   "outputs": [],
   "source": [
    "X, y = data"
   ],
   "metadata": {
    "collapsed": false,
    "pycharm": {
     "name": "#%%\n"
    }
   }
  },
  {
   "cell_type": "markdown",
   "source": [
    "## Removing constant columns"
   ],
   "metadata": {
    "collapsed": false
   }
  },
  {
   "cell_type": "code",
   "execution_count": 4,
   "outputs": [
    {
     "data": {
      "text/plain": "(70000, 784)"
     },
     "execution_count": 4,
     "metadata": {},
     "output_type": "execute_result"
    }
   ],
   "source": [
    "X.shape"
   ],
   "metadata": {
    "collapsed": false,
    "pycharm": {
     "name": "#%%\n"
    }
   }
  },
  {
   "cell_type": "code",
   "execution_count": 5,
   "outputs": [
    {
     "data": {
      "text/plain": "65"
     },
     "execution_count": 5,
     "metadata": {},
     "output_type": "execute_result"
    }
   ],
   "source": [
    "always_zero = [c for c in list(X.columns) if sum(X.loc[:, c]) == 0]\n",
    "len(always_zero)"
   ],
   "metadata": {
    "collapsed": false,
    "pycharm": {
     "name": "#%%\n"
    }
   }
  },
  {
   "cell_type": "code",
   "execution_count": 6,
   "outputs": [
    {
     "data": {
      "text/plain": "(70000, 719)"
     },
     "execution_count": 6,
     "metadata": {},
     "output_type": "execute_result"
    }
   ],
   "source": [
    "X.drop(columns=always_zero, axis=1, inplace=True)\n",
    "X.shape"
   ],
   "metadata": {
    "collapsed": false,
    "pycharm": {
     "name": "#%%\n"
    }
   }
  },
  {
   "cell_type": "markdown",
   "source": [
    "## Train Test split"
   ],
   "metadata": {
    "collapsed": false
   }
  },
  {
   "cell_type": "code",
   "execution_count": 7,
   "outputs": [],
   "source": [
    "X_train, X_test, y_train, y_test = train_test_split(X, y, test_size=0.2)\n",
    "X_train.reset_index(inplace=True, drop=True)\n",
    "X_test.reset_index(inplace=True, drop=True)"
   ],
   "metadata": {
    "collapsed": false,
    "pycharm": {
     "name": "#%%\n"
    }
   }
  },
  {
   "cell_type": "code",
   "execution_count": 8,
   "outputs": [
    {
     "data": {
      "text/plain": "       pixel13  pixel14  pixel15  pixel16  pixel33  pixel34  pixel35  pixel36  \\\n0          0.0      0.0      0.0      0.0      0.0      0.0      0.0      0.0   \n1          0.0      0.0      0.0      0.0      0.0      0.0      0.0      0.0   \n2          0.0      0.0      0.0      0.0      0.0      0.0      0.0      0.0   \n3          0.0      0.0      0.0      0.0      0.0      0.0      0.0      0.0   \n4          0.0      0.0      0.0      0.0      0.0      0.0      0.0      0.0   \n...        ...      ...      ...      ...      ...      ...      ...      ...   \n55995      0.0      0.0      0.0      0.0      0.0      0.0      0.0      0.0   \n55996      0.0      0.0      0.0      0.0      0.0      0.0      0.0      0.0   \n55997      0.0      0.0      0.0      0.0      0.0      0.0      0.0      0.0   \n55998      0.0      0.0      0.0      0.0      0.0      0.0      0.0      0.0   \n55999      0.0      0.0      0.0      0.0      0.0      0.0      0.0      0.0   \n\n       pixel37  pixel38  ...  pixel771  pixel772  pixel773  pixel774  \\\n0          0.0      0.0  ...       0.0       0.0       0.0       0.0   \n1          0.0      0.0  ...       0.0       0.0       0.0       0.0   \n2          0.0      0.0  ...       0.0       0.0       0.0       0.0   \n3          0.0      0.0  ...       0.0       0.0       0.0       0.0   \n4          0.0      0.0  ...       0.0       0.0       0.0       0.0   \n...        ...      ...  ...       ...       ...       ...       ...   \n55995      0.0      0.0  ...       0.0       0.0       0.0       0.0   \n55996      0.0      0.0  ...       0.0       0.0       0.0       0.0   \n55997      0.0      0.0  ...       0.0       0.0       0.0       0.0   \n55998      0.0      0.0  ...       0.0       0.0       0.0       0.0   \n55999      0.0      0.0  ...       0.0       0.0       0.0       0.0   \n\n       pixel775  pixel776  pixel777  pixel778  pixel779  pixel780  \n0           0.0       0.0       0.0       0.0       0.0       0.0  \n1           0.0       0.0       0.0       0.0       0.0       0.0  \n2           0.0       0.0       0.0       0.0       0.0       0.0  \n3           0.0       0.0       0.0       0.0       0.0       0.0  \n4           0.0       0.0       0.0       0.0       0.0       0.0  \n...         ...       ...       ...       ...       ...       ...  \n55995       0.0       0.0       0.0       0.0       0.0       0.0  \n55996       0.0       0.0       0.0       0.0       0.0       0.0  \n55997       0.0       0.0       0.0       0.0       0.0       0.0  \n55998       0.0       0.0       0.0       0.0       0.0       0.0  \n55999       0.0       0.0       0.0       0.0       0.0       0.0  \n\n[56000 rows x 719 columns]",
      "text/html": "<div>\n<style scoped>\n    .dataframe tbody tr th:only-of-type {\n        vertical-align: middle;\n    }\n\n    .dataframe tbody tr th {\n        vertical-align: top;\n    }\n\n    .dataframe thead th {\n        text-align: right;\n    }\n</style>\n<table border=\"1\" class=\"dataframe\">\n  <thead>\n    <tr style=\"text-align: right;\">\n      <th></th>\n      <th>pixel13</th>\n      <th>pixel14</th>\n      <th>pixel15</th>\n      <th>pixel16</th>\n      <th>pixel33</th>\n      <th>pixel34</th>\n      <th>pixel35</th>\n      <th>pixel36</th>\n      <th>pixel37</th>\n      <th>pixel38</th>\n      <th>...</th>\n      <th>pixel771</th>\n      <th>pixel772</th>\n      <th>pixel773</th>\n      <th>pixel774</th>\n      <th>pixel775</th>\n      <th>pixel776</th>\n      <th>pixel777</th>\n      <th>pixel778</th>\n      <th>pixel779</th>\n      <th>pixel780</th>\n    </tr>\n  </thead>\n  <tbody>\n    <tr>\n      <th>0</th>\n      <td>0.0</td>\n      <td>0.0</td>\n      <td>0.0</td>\n      <td>0.0</td>\n      <td>0.0</td>\n      <td>0.0</td>\n      <td>0.0</td>\n      <td>0.0</td>\n      <td>0.0</td>\n      <td>0.0</td>\n      <td>...</td>\n      <td>0.0</td>\n      <td>0.0</td>\n      <td>0.0</td>\n      <td>0.0</td>\n      <td>0.0</td>\n      <td>0.0</td>\n      <td>0.0</td>\n      <td>0.0</td>\n      <td>0.0</td>\n      <td>0.0</td>\n    </tr>\n    <tr>\n      <th>1</th>\n      <td>0.0</td>\n      <td>0.0</td>\n      <td>0.0</td>\n      <td>0.0</td>\n      <td>0.0</td>\n      <td>0.0</td>\n      <td>0.0</td>\n      <td>0.0</td>\n      <td>0.0</td>\n      <td>0.0</td>\n      <td>...</td>\n      <td>0.0</td>\n      <td>0.0</td>\n      <td>0.0</td>\n      <td>0.0</td>\n      <td>0.0</td>\n      <td>0.0</td>\n      <td>0.0</td>\n      <td>0.0</td>\n      <td>0.0</td>\n      <td>0.0</td>\n    </tr>\n    <tr>\n      <th>2</th>\n      <td>0.0</td>\n      <td>0.0</td>\n      <td>0.0</td>\n      <td>0.0</td>\n      <td>0.0</td>\n      <td>0.0</td>\n      <td>0.0</td>\n      <td>0.0</td>\n      <td>0.0</td>\n      <td>0.0</td>\n      <td>...</td>\n      <td>0.0</td>\n      <td>0.0</td>\n      <td>0.0</td>\n      <td>0.0</td>\n      <td>0.0</td>\n      <td>0.0</td>\n      <td>0.0</td>\n      <td>0.0</td>\n      <td>0.0</td>\n      <td>0.0</td>\n    </tr>\n    <tr>\n      <th>3</th>\n      <td>0.0</td>\n      <td>0.0</td>\n      <td>0.0</td>\n      <td>0.0</td>\n      <td>0.0</td>\n      <td>0.0</td>\n      <td>0.0</td>\n      <td>0.0</td>\n      <td>0.0</td>\n      <td>0.0</td>\n      <td>...</td>\n      <td>0.0</td>\n      <td>0.0</td>\n      <td>0.0</td>\n      <td>0.0</td>\n      <td>0.0</td>\n      <td>0.0</td>\n      <td>0.0</td>\n      <td>0.0</td>\n      <td>0.0</td>\n      <td>0.0</td>\n    </tr>\n    <tr>\n      <th>4</th>\n      <td>0.0</td>\n      <td>0.0</td>\n      <td>0.0</td>\n      <td>0.0</td>\n      <td>0.0</td>\n      <td>0.0</td>\n      <td>0.0</td>\n      <td>0.0</td>\n      <td>0.0</td>\n      <td>0.0</td>\n      <td>...</td>\n      <td>0.0</td>\n      <td>0.0</td>\n      <td>0.0</td>\n      <td>0.0</td>\n      <td>0.0</td>\n      <td>0.0</td>\n      <td>0.0</td>\n      <td>0.0</td>\n      <td>0.0</td>\n      <td>0.0</td>\n    </tr>\n    <tr>\n      <th>...</th>\n      <td>...</td>\n      <td>...</td>\n      <td>...</td>\n      <td>...</td>\n      <td>...</td>\n      <td>...</td>\n      <td>...</td>\n      <td>...</td>\n      <td>...</td>\n      <td>...</td>\n      <td>...</td>\n      <td>...</td>\n      <td>...</td>\n      <td>...</td>\n      <td>...</td>\n      <td>...</td>\n      <td>...</td>\n      <td>...</td>\n      <td>...</td>\n      <td>...</td>\n      <td>...</td>\n    </tr>\n    <tr>\n      <th>55995</th>\n      <td>0.0</td>\n      <td>0.0</td>\n      <td>0.0</td>\n      <td>0.0</td>\n      <td>0.0</td>\n      <td>0.0</td>\n      <td>0.0</td>\n      <td>0.0</td>\n      <td>0.0</td>\n      <td>0.0</td>\n      <td>...</td>\n      <td>0.0</td>\n      <td>0.0</td>\n      <td>0.0</td>\n      <td>0.0</td>\n      <td>0.0</td>\n      <td>0.0</td>\n      <td>0.0</td>\n      <td>0.0</td>\n      <td>0.0</td>\n      <td>0.0</td>\n    </tr>\n    <tr>\n      <th>55996</th>\n      <td>0.0</td>\n      <td>0.0</td>\n      <td>0.0</td>\n      <td>0.0</td>\n      <td>0.0</td>\n      <td>0.0</td>\n      <td>0.0</td>\n      <td>0.0</td>\n      <td>0.0</td>\n      <td>0.0</td>\n      <td>...</td>\n      <td>0.0</td>\n      <td>0.0</td>\n      <td>0.0</td>\n      <td>0.0</td>\n      <td>0.0</td>\n      <td>0.0</td>\n      <td>0.0</td>\n      <td>0.0</td>\n      <td>0.0</td>\n      <td>0.0</td>\n    </tr>\n    <tr>\n      <th>55997</th>\n      <td>0.0</td>\n      <td>0.0</td>\n      <td>0.0</td>\n      <td>0.0</td>\n      <td>0.0</td>\n      <td>0.0</td>\n      <td>0.0</td>\n      <td>0.0</td>\n      <td>0.0</td>\n      <td>0.0</td>\n      <td>...</td>\n      <td>0.0</td>\n      <td>0.0</td>\n      <td>0.0</td>\n      <td>0.0</td>\n      <td>0.0</td>\n      <td>0.0</td>\n      <td>0.0</td>\n      <td>0.0</td>\n      <td>0.0</td>\n      <td>0.0</td>\n    </tr>\n    <tr>\n      <th>55998</th>\n      <td>0.0</td>\n      <td>0.0</td>\n      <td>0.0</td>\n      <td>0.0</td>\n      <td>0.0</td>\n      <td>0.0</td>\n      <td>0.0</td>\n      <td>0.0</td>\n      <td>0.0</td>\n      <td>0.0</td>\n      <td>...</td>\n      <td>0.0</td>\n      <td>0.0</td>\n      <td>0.0</td>\n      <td>0.0</td>\n      <td>0.0</td>\n      <td>0.0</td>\n      <td>0.0</td>\n      <td>0.0</td>\n      <td>0.0</td>\n      <td>0.0</td>\n    </tr>\n    <tr>\n      <th>55999</th>\n      <td>0.0</td>\n      <td>0.0</td>\n      <td>0.0</td>\n      <td>0.0</td>\n      <td>0.0</td>\n      <td>0.0</td>\n      <td>0.0</td>\n      <td>0.0</td>\n      <td>0.0</td>\n      <td>0.0</td>\n      <td>...</td>\n      <td>0.0</td>\n      <td>0.0</td>\n      <td>0.0</td>\n      <td>0.0</td>\n      <td>0.0</td>\n      <td>0.0</td>\n      <td>0.0</td>\n      <td>0.0</td>\n      <td>0.0</td>\n      <td>0.0</td>\n    </tr>\n  </tbody>\n</table>\n<p>56000 rows × 719 columns</p>\n</div>"
     },
     "execution_count": 8,
     "metadata": {},
     "output_type": "execute_result"
    }
   ],
   "source": [
    "X_train"
   ],
   "metadata": {
    "collapsed": false,
    "pycharm": {
     "name": "#%%\n"
    }
   }
  },
  {
   "cell_type": "code",
   "execution_count": 9,
   "outputs": [],
   "source": [
    "data = Dataset(x=X, y=y)\n",
    "train = Dataset(x=X_train, y=y_train)\n",
    "test = Dataset(x=X_test, y=y_test)"
   ],
   "metadata": {
    "collapsed": false,
    "pycharm": {
     "name": "#%%\n"
    }
   }
  },
  {
   "cell_type": "code",
   "execution_count": 10,
   "outputs": [
    {
     "data": {
      "text/plain": "<Figure size 432x288 with 1 Axes>",
      "image/png": "[encoded data removed]"
     },
     "metadata": {
      "needs_background": "light"
     },
     "output_type": "display_data"
    }
   ],
   "source": [
    "data.digit_distribution()"
   ],
   "metadata": {
    "collapsed": false,
    "pycharm": {
     "name": "#%%\n"
    }
   }
  },
  {
   "cell_type": "markdown",
   "source": [
    "## Training KNN"
   ],
   "metadata": {
    "collapsed": false
   }
  },
  {
   "cell_type": "code",
   "execution_count": 11,
   "outputs": [],
   "source": [
    "knns = [\n",
    "    KNN(train=train, test=test, params={\"k\": k})\n",
    "    for k in [5, 11, 29]\n",
    "]"
   ],
   "metadata": {
    "collapsed": false,
    "pycharm": {
     "name": "#%%\n"
    }
   }
  },
  {
   "cell_type": "markdown",
   "source": [
    "Using small dimensionality for validation_train"
   ],
   "metadata": {
    "collapsed": false
   }
  },
  {
   "cell_type": "code",
   "execution_count": 12,
   "outputs": [],
   "source": [
    "_, X_train_cv, _, y_train_cv = train_test_split(X_train, y_train, test_size=0.20)\n",
    "train_cv = Dataset(x=X_train_cv, y=y_train_cv)"
   ],
   "metadata": {
    "collapsed": false,
    "pycharm": {
     "name": "#%%\n"
    }
   }
  },
  {
   "cell_type": "code",
   "execution_count": 13,
   "outputs": [
    {
     "data": {
      "text/plain": "       pixel13  pixel14  pixel15  pixel16  pixel33  pixel34  pixel35  pixel36  \\\n30897      0.0      0.0      0.0      0.0      0.0      0.0      0.0      0.0   \n15835      0.0      0.0      0.0      0.0      0.0      0.0      0.0      0.0   \n55213      0.0      0.0      0.0      0.0      0.0      0.0      0.0      0.0   \n44989      0.0      0.0      0.0      0.0      0.0      0.0      0.0      0.0   \n17681      0.0      0.0      0.0      0.0      0.0      0.0      0.0      0.0   \n...        ...      ...      ...      ...      ...      ...      ...      ...   \n5442       0.0      0.0      0.0      0.0      0.0      0.0      0.0      0.0   \n3914       0.0      0.0      0.0      0.0      0.0      0.0      0.0      0.0   \n27217      0.0      0.0      0.0      0.0      0.0      0.0      0.0      0.0   \n8140       0.0      0.0      0.0      0.0      0.0      0.0      0.0      0.0   \n2455       0.0      0.0      0.0      0.0      0.0      0.0      0.0      0.0   \n\n       pixel37  pixel38  ...  pixel771  pixel772  pixel773  pixel774  \\\n30897      0.0      0.0  ...       0.0       0.0       0.0       0.0   \n15835      0.0      0.0  ...       0.0       0.0       0.0       0.0   \n55213      0.0      0.0  ...       0.0       0.0       0.0       0.0   \n44989      0.0      0.0  ...       0.0       0.0       0.0       0.0   \n17681      0.0      0.0  ...       0.0       0.0       0.0       0.0   \n...        ...      ...  ...       ...       ...       ...       ...   \n5442       0.0      0.0  ...       0.0       0.0       0.0       0.0   \n3914       0.0      0.0  ...       0.0       0.0       0.0       0.0   \n27217      0.0      0.0  ...       0.0       0.0       0.0       0.0   \n8140       0.0      0.0  ...       0.0       0.0       0.0       0.0   \n2455       0.0      0.0  ...       0.0       0.0       0.0       0.0   \n\n       pixel775  pixel776  pixel777  pixel778  pixel779  pixel780  \n30897       0.0       0.0       0.0       0.0       0.0       0.0  \n15835       0.0       0.0       0.0       0.0       0.0       0.0  \n55213       0.0       0.0       0.0       0.0       0.0       0.0  \n44989       0.0       0.0       0.0       0.0       0.0       0.0  \n17681       0.0       0.0       0.0       0.0       0.0       0.0  \n...         ...       ...       ...       ...       ...       ...  \n5442        0.0       0.0       0.0       0.0       0.0       0.0  \n3914        0.0       0.0       0.0       0.0       0.0       0.0  \n27217       0.0       0.0       0.0       0.0       0.0       0.0  \n8140        0.0       0.0       0.0       0.0       0.0       0.0  \n2455        0.0       0.0       0.0       0.0       0.0       0.0  \n\n[11200 rows x 719 columns]",
      "text/html": "<div>\n<style scoped>\n    .dataframe tbody tr th:only-of-type {\n        vertical-align: middle;\n    }\n\n    .dataframe tbody tr th {\n        vertical-align: top;\n    }\n\n    .dataframe thead th {\n        text-align: right;\n    }\n</style>\n<table border=\"1\" class=\"dataframe\">\n  <thead>\n    <tr style=\"text-align: right;\">\n      <th></th>\n      <th>pixel13</th>\n      <th>pixel14</th>\n      <th>pixel15</th>\n      <th>pixel16</th>\n      <th>pixel33</th>\n      <th>pixel34</th>\n      <th>pixel35</th>\n      <th>pixel36</th>\n      <th>pixel37</th>\n      <th>pixel38</th>\n      <th>...</th>\n      <th>pixel771</th>\n      <th>pixel772</th>\n      <th>pixel773</th>\n      <th>pixel774</th>\n      <th>pixel775</th>\n      <th>pixel776</th>\n      <th>pixel777</th>\n      <th>pixel778</th>\n      <th>pixel779</th>\n      <th>pixel780</th>\n    </tr>\n  </thead>\n  <tbody>\n    <tr>\n      <th>30897</th>\n      <td>0.0</td>\n      <td>0.0</td>\n      <td>0.0</td>\n      <td>0.0</td>\n      <td>0.0</td>\n      <td>0.0</td>\n      <td>0.0</td>\n      <td>0.0</td>\n      <td>0.0</td>\n      <td>0.0</td>\n      <td>...</td>\n      <td>0.0</td>\n      <td>0.0</td>\n      <td>0.0</td>\n      <td>0.0</td>\n      <td>0.0</td>\n      <td>0.0</td>\n      <td>0.0</td>\n      <td>0.0</td>\n      <td>0.0</td>\n      <td>0.0</td>\n    </tr>\n    <tr>\n      <th>15835</th>\n      <td>0.0</td>\n      <td>0.0</td>\n      <td>0.0</td>\n      <td>0.0</td>\n      <td>0.0</td>\n      <td>0.0</td>\n      <td>0.0</td>\n      <td>0.0</td>\n      <td>0.0</td>\n      <td>0.0</td>\n      <td>...</td>\n      <td>0.0</td>\n      <td>0.0</td>\n      <td>0.0</td>\n      <td>0.0</td>\n      <td>0.0</td>\n      <td>0.0</td>\n      <td>0.0</td>\n      <td>0.0</td>\n      <td>0.0</td>\n      <td>0.0</td>\n    </tr>\n    <tr>\n      <th>55213</th>\n      <td>0.0</td>\n      <td>0.0</td>\n      <td>0.0</td>\n      <td>0.0</td>\n      <td>0.0</td>\n      <td>0.0</td>\n      <td>0.0</td>\n      <td>0.0</td>\n      <td>0.0</td>\n      <td>0.0</td>\n      <td>...</td>\n      <td>0.0</td>\n      <td>0.0</td>\n      <td>0.0</td>\n      <td>0.0</td>\n      <td>0.0</td>\n      <td>0.0</td>\n      <td>0.0</td>\n      <td>0.0</td>\n      <td>0.0</td>\n      <td>0.0</td>\n    </tr>\n    <tr>\n      <th>44989</th>\n      <td>0.0</td>\n      <td>0.0</td>\n      <td>0.0</td>\n      <td>0.0</td>\n      <td>0.0</td>\n      <td>0.0</td>\n      <td>0.0</td>\n      <td>0.0</td>\n      <td>0.0</td>\n      <td>0.0</td>\n      <td>...</td>\n      <td>0.0</td>\n      <td>0.0</td>\n      <td>0.0</td>\n      <td>0.0</td>\n      <td>0.0</td>\n      <td>0.0</td>\n      <td>0.0</td>\n      <td>0.0</td>\n      <td>0.0</td>\n      <td>0.0</td>\n    </tr>\n    <tr>\n      <th>17681</th>\n      <td>0.0</td>\n      <td>0.0</td>\n      <td>0.0</td>\n      <td>0.0</td>\n      <td>0.0</td>\n      <td>0.0</td>\n      <td>0.0</td>\n      <td>0.0</td>\n      <td>0.0</td>\n      <td>0.0</td>\n      <td>...</td>\n      <td>0.0</td>\n      <td>0.0</td>\n      <td>0.0</td>\n      <td>0.0</td>\n      <td>0.0</td>\n      <td>0.0</td>\n      <td>0.0</td>\n      <td>0.0</td>\n      <td>0.0</td>\n      <td>0.0</td>\n    </tr>\n    <tr>\n      <th>...</th>\n      <td>...</td>\n      <td>...</td>\n      <td>...</td>\n      <td>...</td>\n      <td>...</td>\n      <td>...</td>\n      <td>...</td>\n      <td>...</td>\n      <td>...</td>\n      <td>...</td>\n      <td>...</td>\n      <td>...</td>\n      <td>...</td>\n      <td>...</td>\n      <td>...</td>\n      <td>...</td>\n      <td>...</td>\n      <td>...</td>\n      <td>...</td>\n      <td>...</td>\n      <td>...</td>\n    </tr>\n    <tr>\n      <th>5442</th>\n      <td>0.0</td>\n      <td>0.0</td>\n      <td>0.0</td>\n      <td>0.0</td>\n      <td>0.0</td>\n      <td>0.0</td>\n      <td>0.0</td>\n      <td>0.0</td>\n      <td>0.0</td>\n      <td>0.0</td>\n      <td>...</td>\n      <td>0.0</td>\n      <td>0.0</td>\n      <td>0.0</td>\n      <td>0.0</td>\n      <td>0.0</td>\n      <td>0.0</td>\n      <td>0.0</td>\n      <td>0.0</td>\n      <td>0.0</td>\n      <td>0.0</td>\n    </tr>\n    <tr>\n      <th>3914</th>\n      <td>0.0</td>\n      <td>0.0</td>\n      <td>0.0</td>\n      <td>0.0</td>\n      <td>0.0</td>\n      <td>0.0</td>\n      <td>0.0</td>\n      <td>0.0</td>\n      <td>0.0</td>\n      <td>0.0</td>\n      <td>...</td>\n      <td>0.0</td>\n      <td>0.0</td>\n      <td>0.0</td>\n      <td>0.0</td>\n      <td>0.0</td>\n      <td>0.0</td>\n      <td>0.0</td>\n      <td>0.0</td>\n      <td>0.0</td>\n      <td>0.0</td>\n    </tr>\n    <tr>\n      <th>27217</th>\n      <td>0.0</td>\n      <td>0.0</td>\n      <td>0.0</td>\n      <td>0.0</td>\n      <td>0.0</td>\n      <td>0.0</td>\n      <td>0.0</td>\n      <td>0.0</td>\n      <td>0.0</td>\n      <td>0.0</td>\n      <td>...</td>\n      <td>0.0</td>\n      <td>0.0</td>\n      <td>0.0</td>\n      <td>0.0</td>\n      <td>0.0</td>\n      <td>0.0</td>\n      <td>0.0</td>\n      <td>0.0</td>\n      <td>0.0</td>\n      <td>0.0</td>\n    </tr>\n    <tr>\n      <th>8140</th>\n      <td>0.0</td>\n      <td>0.0</td>\n      <td>0.0</td>\n      <td>0.0</td>\n      <td>0.0</td>\n      <td>0.0</td>\n      <td>0.0</td>\n      <td>0.0</td>\n      <td>0.0</td>\n      <td>0.0</td>\n      <td>...</td>\n      <td>0.0</td>\n      <td>0.0</td>\n      <td>0.0</td>\n      <td>0.0</td>\n      <td>0.0</td>\n      <td>0.0</td>\n      <td>0.0</td>\n      <td>0.0</td>\n      <td>0.0</td>\n      <td>0.0</td>\n    </tr>\n    <tr>\n      <th>2455</th>\n      <td>0.0</td>\n      <td>0.0</td>\n      <td>0.0</td>\n      <td>0.0</td>\n      <td>0.0</td>\n      <td>0.0</td>\n      <td>0.0</td>\n      <td>0.0</td>\n      <td>0.0</td>\n      <td>0.0</td>\n      <td>...</td>\n      <td>0.0</td>\n      <td>0.0</td>\n      <td>0.0</td>\n      <td>0.0</td>\n      <td>0.0</td>\n      <td>0.0</td>\n      <td>0.0</td>\n      <td>0.0</td>\n      <td>0.0</td>\n      <td>0.0</td>\n    </tr>\n  </tbody>\n</table>\n<p>11200 rows × 719 columns</p>\n</div>"
     },
     "execution_count": 13,
     "metadata": {},
     "output_type": "execute_result"
    }
   ],
   "source": [
    "X_train_cv"
   ],
   "metadata": {
    "collapsed": false,
    "pycharm": {
     "name": "#%%\n"
    }
   }
  },
  {
   "cell_type": "code",
   "execution_count": 14,
   "outputs": [
    {
     "data": {
      "text/plain": "[Estimator: KNNEstimator(); K: 5; Params: {'k': [29, 11, 5]}]"
     },
     "execution_count": 14,
     "metadata": {},
     "output_type": "execute_result"
    }
   ],
   "source": [
    "tuning_knns = ClassifierTuning(classifiers=knns, base_estimator=KNN.default_estimator(), data=train_cv, k=5)\n",
    "tuning_knns"
   ],
   "metadata": {
    "collapsed": false,
    "pycharm": {
     "name": "#%%\n"
    }
   }
  },
  {
   "cell_type": "code",
   "execution_count": 15,
   "outputs": [
    {
     "name": "stdout",
     "output_type": "stream",
     "text": [
      "Wall time: 22min 16s\n"
     ]
    }
   ],
   "source": [
    "%%time\n",
    "tuning_knns.evaluate()"
   ],
   "metadata": {
    "collapsed": false,
    "pycharm": {
     "name": "#%%\n"
    }
   }
  },
  {
   "cell_type": "code",
   "execution_count": 16,
   "outputs": [
    {
     "data": {
      "text/plain": "{'k': 5}"
     },
     "execution_count": 16,
     "metadata": {},
     "output_type": "execute_result"
    }
   ],
   "source": [
    "tuning_knns.best_params"
   ],
   "metadata": {
    "collapsed": false,
    "pycharm": {
     "name": "#%%\n"
    }
   }
  },
  {
   "cell_type": "code",
   "execution_count": 17,
   "outputs": [
    {
     "data": {
      "text/plain": "0.9475892857142856"
     },
     "execution_count": 17,
     "metadata": {},
     "output_type": "execute_result"
    }
   ],
   "source": [
    "tuning_knns.best_score"
   ],
   "metadata": {
    "collapsed": false,
    "pycharm": {
     "name": "#%%\n"
    }
   }
  },
  {
   "cell_type": "code",
   "execution_count": 18,
   "outputs": [
    {
     "data": {
      "text/plain": "[KNN: Train 56000, Test 14000, not fitted, not predicted] [k: 5]"
     },
     "execution_count": 18,
     "metadata": {},
     "output_type": "execute_result"
    }
   ],
   "source": [
    "best_knn = KNN(train=train, test=test, params=tuning_knns.best_params)\n",
    "best_knn"
   ],
   "metadata": {
    "collapsed": false,
    "pycharm": {
     "name": "#%%\n"
    }
   }
  },
  {
   "cell_type": "code",
   "execution_count": 19,
   "outputs": [
    {
     "name": "stdout",
     "output_type": "stream",
     "text": [
      "Wall time: 469 ms\n"
     ]
    }
   ],
   "source": [
    "%%time\n",
    "best_knn.train()"
   ],
   "metadata": {
    "collapsed": false,
    "pycharm": {
     "name": "#%%\n"
    }
   }
  },
  {
   "cell_type": "code",
   "execution_count": 20,
   "outputs": [
    {
     "name": "stdout",
     "output_type": "stream",
     "text": [
      " > 0.000000\n",
      " > 0.142857\n",
      " > 0.285714\n",
      " > 0.428571\n",
      " > 0.571429\n",
      " > 0.714286\n",
      " > 0.857143\n",
      " > 1.000000\n",
      " > 1.142857\n",
      " > 1.285714\n",
      " > 1.428571\n",
      " > 1.571429\n",
      " > 1.714286\n",
      " > 1.857143\n",
      " > 2.000000\n",
      " > 2.142857\n",
      " > 2.285714\n",
      " > 2.428571\n",
      " > 2.571429\n",
      " > 2.714286\n",
      " > 2.857143\n",
      " > 3.000000\n",
      " > 3.142857\n",
      " > 3.285714\n",
      " > 3.428571\n",
      " > 3.571429\n",
      " > 3.714286\n",
      " > 3.857143\n",
      " > 4.000000\n",
      " > 4.142857\n",
      " > 4.285714\n",
      " > 4.428571\n",
      " > 4.571429\n",
      " > 4.714286\n",
      " > 4.857143\n",
      " > 5.000000\n",
      " > 5.142857\n",
      " > 5.285714\n",
      " > 5.428571\n",
      " > 5.571429\n",
      " > 5.714286\n",
      " > 5.857143\n",
      " > 6.000000\n",
      " > 6.142857\n",
      " > 6.285714\n",
      " > 6.428571\n",
      " > 6.571429\n",
      " > 6.714286\n",
      " > 6.857143\n",
      " > 7.000000\n",
      " > 7.142857\n",
      " > 7.285714\n",
      " > 7.428571\n",
      " > 7.571429\n",
      " > 7.714286\n",
      " > 7.857143\n",
      " > 8.000000\n",
      " > 8.142857\n",
      " > 8.285714\n",
      " > 8.428571\n",
      " > 8.571429\n",
      " > 8.714286\n",
      " > 8.857143\n",
      " > 9.000000\n",
      " > 9.142857\n",
      " > 9.285714\n",
      " > 9.428571\n",
      " > 9.571429\n",
      " > 9.714286\n",
      " > 9.857143\n",
      " > 10.000000\n",
      " > 10.142857\n",
      " > 10.285714\n",
      " > 10.428571\n",
      " > 10.571429\n",
      " > 10.714286\n",
      " > 10.857143\n",
      " > 11.000000\n",
      " > 11.142857\n",
      " > 11.285714\n",
      " > 11.428571\n",
      " > 11.571429\n",
      " > 11.714286\n",
      " > 11.857143\n",
      " > 12.000000\n",
      " > 12.142857\n",
      " > 12.285714\n",
      " > 12.428571\n",
      " > 12.571429\n",
      " > 12.714286\n",
      " > 12.857143\n",
      " > 13.000000\n",
      " > 13.142857\n",
      " > 13.285714\n",
      " > 13.428571\n",
      " > 13.571429\n",
      " > 13.714286\n",
      " > 13.857143\n",
      " > 14.000000\n",
      " > 14.142857\n",
      " > 14.285714\n",
      " > 14.428571\n",
      " > 14.571429\n",
      " > 14.714286\n",
      " > 14.857143\n",
      " > 15.000000\n",
      " > 15.142857\n",
      " > 15.285714\n",
      " > 15.428571\n",
      " > 15.571429\n",
      " > 15.714286\n",
      " > 15.857143\n",
      " > 16.000000\n",
      " > 16.142857\n",
      " > 16.285714\n",
      " > 16.428571\n",
      " > 16.571429\n",
      " > 16.714286\n",
      " > 16.857143\n",
      " > 17.000000\n",
      " > 17.142857\n",
      " > 17.285714\n",
      " > 17.428571\n",
      " > 17.571429\n",
      " > 17.714286\n",
      " > 17.857143\n",
      " > 18.000000\n",
      " > 18.142857\n",
      " > 18.285714\n",
      " > 18.428571\n",
      " > 18.571429\n",
      " > 18.714286\n",
      " > 18.857143\n",
      " > 19.000000\n",
      " > 19.142857\n",
      " > 19.285714\n",
      " > 19.428571\n",
      " > 19.571429\n",
      " > 19.714286\n",
      " > 19.857143\n",
      " > 20.000000\n",
      " > 20.142857\n",
      " > 20.285714\n",
      " > 20.428571\n",
      " > 20.571429\n",
      " > 20.714286\n",
      " > 20.857143\n",
      " > 21.000000\n",
      " > 21.142857\n",
      " > 21.285714\n",
      " > 21.428571\n",
      " > 21.571429\n",
      " > 21.714286\n",
      " > 21.857143\n",
      " > 22.000000\n",
      " > 22.142857\n",
      " > 22.285714\n",
      " > 22.428571\n",
      " > 22.571429\n",
      " > 22.714286\n",
      " > 22.857143\n",
      " > 23.000000\n",
      " > 23.142857\n",
      " > 23.285714\n",
      " > 23.428571\n",
      " > 23.571429\n",
      " > 23.714286\n",
      " > 23.857143\n",
      " > 24.000000\n",
      " > 24.142857\n",
      " > 24.285714\n",
      " > 24.428571\n",
      " > 24.571429\n",
      " > 24.714286\n",
      " > 24.857143\n",
      " > 25.000000\n",
      " > 25.142857\n",
      " > 25.285714\n",
      " > 25.428571\n",
      " > 25.571429\n",
      " > 25.714286\n",
      " > 25.857143\n",
      " > 26.000000\n",
      " > 26.142857\n",
      " > 26.285714\n",
      " > 26.428571\n",
      " > 26.571429\n",
      " > 26.714286\n",
      " > 26.857143\n",
      " > 27.000000\n",
      " > 27.142857\n",
      " > 27.285714\n",
      " > 27.428571\n",
      " > 27.571429\n",
      " > 27.714286\n",
      " > 27.857143\n",
      " > 28.000000\n",
      " > 28.142857\n",
      " > 28.285714\n",
      " > 28.428571\n",
      " > 28.571429\n",
      " > 28.714286\n",
      " > 28.857143\n",
      " > 29.000000\n",
      " > 29.142857\n",
      " > 29.285714\n",
      " > 29.428571\n",
      " > 29.571429\n",
      " > 29.714286\n",
      " > 29.857143\n",
      " > 30.000000\n",
      " > 30.142857\n",
      " > 30.285714\n",
      " > 30.428571\n",
      " > 30.571429\n",
      " > 30.714286\n",
      " > 30.857143\n",
      " > 31.000000\n",
      " > 31.142857\n",
      " > 31.285714\n",
      " > 31.428571\n",
      " > 31.571429\n",
      " > 31.714286\n",
      " > 31.857143\n",
      " > 32.000000\n",
      " > 32.142857\n",
      " > 32.285714\n",
      " > 32.428571\n",
      " > 32.571429\n",
      " > 32.714286\n",
      " > 32.857143\n",
      " > 33.000000\n",
      " > 33.142857\n",
      " > 33.285714\n",
      " > 33.428571\n",
      " > 33.571429\n",
      " > 33.714286\n",
      " > 33.857143\n",
      " > 34.000000\n",
      " > 34.142857\n",
      " > 34.285714\n",
      " > 34.428571\n",
      " > 34.571429\n",
      " > 34.714286\n",
      " > 34.857143\n",
      " > 35.000000\n",
      " > 35.142857\n",
      " > 35.285714\n",
      " > 35.428571\n",
      " > 35.571429\n",
      " > 35.714286\n",
      " > 35.857143\n",
      " > 36.000000\n",
      " > 36.142857\n",
      " > 36.285714\n",
      " > 36.428571\n",
      " > 36.571429\n",
      " > 36.714286\n",
      " > 36.857143\n",
      " > 37.000000\n",
      " > 37.142857\n",
      " > 37.285714\n",
      " > 37.428571\n",
      " > 37.571429\n",
      " > 37.714286\n",
      " > 37.857143\n",
      " > 38.000000\n",
      " > 38.142857\n",
      " > 38.285714\n",
      " > 38.428571\n",
      " > 38.571429\n",
      " > 38.714286\n",
      " > 38.857143\n",
      " > 39.000000\n",
      " > 39.142857\n",
      " > 39.285714\n",
      " > 39.428571\n",
      " > 39.571429\n",
      " > 39.714286\n",
      " > 39.857143\n",
      " > 40.000000\n",
      " > 40.142857\n",
      " > 40.285714\n",
      " > 40.428571\n",
      " > 40.571429\n",
      " > 40.714286\n",
      " > 40.857143\n",
      " > 41.000000\n",
      " > 41.142857\n",
      " > 41.285714\n",
      " > 41.428571\n",
      " > 41.571429\n",
      " > 41.714286\n",
      " > 41.857143\n",
      " > 42.000000\n",
      " > 42.142857\n",
      " > 42.285714\n",
      " > 42.428571\n",
      " > 42.571429\n",
      " > 42.714286\n",
      " > 42.857143\n",
      " > 43.000000\n",
      " > 43.142857\n",
      " > 43.285714\n",
      " > 43.428571\n",
      " > 43.571429\n",
      " > 43.714286\n",
      " > 43.857143\n",
      " > 44.000000\n",
      " > 44.142857\n",
      " > 44.285714\n",
      " > 44.428571\n",
      " > 44.571429\n",
      " > 44.714286\n",
      " > 44.857143\n",
      " > 45.000000\n",
      " > 45.142857\n",
      " > 45.285714\n",
      " > 45.428571\n",
      " > 45.571429\n",
      " > 45.714286\n",
      " > 45.857143\n",
      " > 46.000000\n",
      " > 46.142857\n",
      " > 46.285714\n",
      " > 46.428571\n",
      " > 46.571429\n",
      " > 46.714286\n",
      " > 46.857143\n",
      " > 47.000000\n",
      " > 47.142857\n",
      " > 47.285714\n",
      " > 47.428571\n",
      " > 47.571429\n",
      " > 47.714286\n",
      " > 47.857143\n",
      " > 48.000000\n",
      " > 48.142857\n",
      " > 48.285714\n",
      " > 48.428571\n",
      " > 48.571429\n",
      " > 48.714286\n",
      " > 48.857143\n",
      " > 49.000000\n",
      " > 49.142857\n",
      " > 49.285714\n",
      " > 49.428571\n",
      " > 49.571429\n",
      " > 49.714286\n",
      " > 49.857143\n",
      " > 50.000000\n",
      " > 50.142857\n",
      " > 50.285714\n",
      " > 50.428571\n",
      " > 50.571429\n",
      " > 50.714286\n",
      " > 50.857143\n",
      " > 51.000000\n",
      " > 51.142857\n",
      " > 51.285714\n",
      " > 51.428571\n",
      " > 51.571429\n",
      " > 51.714286\n",
      " > 51.857143\n",
      " > 52.000000\n",
      " > 52.142857\n",
      " > 52.285714\n",
      " > 52.428571\n",
      " > 52.571429\n",
      " > 52.714286\n",
      " > 52.857143\n",
      " > 53.000000\n",
      " > 53.142857\n",
      " > 53.285714\n",
      " > 53.428571\n",
      " > 53.571429\n",
      " > 53.714286\n",
      " > 53.857143\n",
      " > 54.000000\n",
      " > 54.142857\n",
      " > 54.285714\n",
      " > 54.428571\n",
      " > 54.571429\n",
      " > 54.714286\n",
      " > 54.857143\n",
      " > 55.000000\n",
      " > 55.142857\n",
      " > 55.285714\n",
      " > 55.428571\n",
      " > 55.571429\n",
      " > 55.714286\n",
      " > 55.857143\n",
      " > 56.000000\n",
      " > 56.142857\n",
      " > 56.285714\n",
      " > 56.428571\n",
      " > 56.571429\n",
      " > 56.714286\n",
      " > 56.857143\n",
      " > 57.000000\n",
      " > 57.142857\n",
      " > 57.285714\n",
      " > 57.428571\n",
      " > 57.571429\n",
      " > 57.714286\n",
      " > 57.857143\n",
      " > 58.000000\n",
      " > 58.142857\n",
      " > 58.285714\n",
      " > 58.428571\n",
      " > 58.571429\n",
      " > 58.714286\n",
      " > 58.857143\n",
      " > 59.000000\n",
      " > 59.142857\n",
      " > 59.285714\n",
      " > 59.428571\n",
      " > 59.571429\n",
      " > 59.714286\n",
      " > 59.857143\n",
      " > 60.000000\n",
      " > 60.142857\n",
      " > 60.285714\n",
      " > 60.428571\n",
      " > 60.571429\n",
      " > 60.714286\n",
      " > 60.857143\n",
      " > 61.000000\n",
      " > 61.142857\n",
      " > 61.285714\n",
      " > 61.428571\n",
      " > 61.571429\n",
      " > 61.714286\n",
      " > 61.857143\n",
      " > 62.000000\n",
      " > 62.142857\n",
      " > 62.285714\n",
      " > 62.428571\n",
      " > 62.571429\n",
      " > 62.714286\n",
      " > 62.857143\n",
      " > 63.000000\n",
      " > 63.142857\n",
      " > 63.285714\n",
      " > 63.428571\n",
      " > 63.571429\n",
      " > 63.714286\n",
      " > 63.857143\n",
      " > 64.000000\n",
      " > 64.142857\n",
      " > 64.285714\n",
      " > 64.428571\n",
      " > 64.571429\n",
      " > 64.714286\n",
      " > 64.857143\n",
      " > 65.000000\n",
      " > 65.142857\n",
      " > 65.285714\n",
      " > 65.428571\n",
      " > 65.571429\n",
      " > 65.714286\n",
      " > 65.857143\n",
      " > 66.000000\n",
      " > 66.142857\n",
      " > 66.285714\n",
      " > 66.428571\n",
      " > 66.571429\n",
      " > 66.714286\n",
      " > 66.857143\n",
      " > 67.000000\n",
      " > 67.142857\n",
      " > 67.285714\n",
      " > 67.428571\n",
      " > 67.571429\n",
      " > 67.714286\n",
      " > 67.857143\n",
      " > 68.000000\n",
      " > 68.142857\n",
      " > 68.285714\n",
      " > 68.428571\n",
      " > 68.571429\n",
      " > 68.714286\n",
      " > 68.857143\n",
      " > 69.000000\n",
      " > 69.142857\n",
      " > 69.285714\n",
      " > 69.428571\n",
      " > 69.571429\n",
      " > 69.714286\n",
      " > 69.857143\n",
      " > 70.000000\n",
      " > 70.142857\n",
      " > 70.285714\n",
      " > 70.428571\n",
      " > 70.571429\n",
      " > 70.714286\n",
      " > 70.857143\n",
      " > 71.000000\n",
      " > 71.142857\n",
      " > 71.285714\n",
      " > 71.428571\n",
      " > 71.571429\n",
      " > 71.714286\n",
      " > 71.857143\n",
      " > 72.000000\n",
      " > 72.142857\n",
      " > 72.285714\n",
      " > 72.428571\n",
      " > 72.571429\n",
      " > 72.714286\n",
      " > 72.857143\n",
      " > 73.000000\n",
      " > 73.142857\n",
      " > 73.285714\n",
      " > 73.428571\n",
      " > 73.571429\n",
      " > 73.714286\n",
      " > 73.857143\n",
      " > 74.000000\n",
      " > 74.142857\n",
      " > 74.285714\n",
      " > 74.428571\n",
      " > 74.571429\n",
      " > 74.714286\n",
      " > 74.857143\n",
      " > 75.000000\n",
      " > 75.142857\n",
      " > 75.285714\n",
      " > 75.428571\n",
      " > 75.571429\n",
      " > 75.714286\n",
      " > 75.857143\n",
      " > 76.000000\n",
      " > 76.142857\n",
      " > 76.285714\n",
      " > 76.428571\n",
      " > 76.571429\n",
      " > 76.714286\n",
      " > 76.857143\n",
      " > 77.000000\n",
      " > 77.142857\n",
      " > 77.285714\n",
      " > 77.428571\n",
      " > 77.571429\n",
      " > 77.714286\n",
      " > 77.857143\n",
      " > 78.000000\n",
      " > 78.142857\n",
      " > 78.285714\n",
      " > 78.428571\n",
      " > 78.571429\n",
      " > 78.714286\n",
      " > 78.857143\n",
      " > 79.000000\n",
      " > 79.142857\n",
      " > 79.285714\n",
      " > 79.428571\n",
      " > 79.571429\n",
      " > 79.714286\n",
      " > 79.857143\n",
      " > 80.000000\n",
      " > 80.142857\n",
      " > 80.285714\n",
      " > 80.428571\n",
      " > 80.571429\n",
      " > 80.714286\n",
      " > 80.857143\n",
      " > 81.000000\n",
      " > 81.142857\n",
      " > 81.285714\n",
      " > 81.428571\n",
      " > 81.571429\n",
      " > 81.714286\n",
      " > 81.857143\n",
      " > 82.000000\n",
      " > 82.142857\n",
      " > 82.285714\n",
      " > 82.428571\n",
      " > 82.571429\n",
      " > 82.714286\n",
      " > 82.857143\n",
      " > 83.000000\n",
      " > 83.142857\n",
      " > 83.285714\n",
      " > 83.428571\n",
      " > 83.571429\n",
      " > 83.714286\n",
      " > 83.857143\n",
      " > 84.000000\n",
      " > 84.142857\n",
      " > 84.285714\n",
      " > 84.428571\n",
      " > 84.571429\n",
      " > 84.714286\n",
      " > 84.857143\n",
      " > 85.000000\n",
      " > 85.142857\n",
      " > 85.285714\n",
      " > 85.428571\n",
      " > 85.571429\n",
      " > 85.714286\n",
      " > 85.857143\n",
      " > 86.000000\n",
      " > 86.142857\n",
      " > 86.285714\n",
      " > 86.428571\n",
      " > 86.571429\n",
      " > 86.714286\n",
      " > 86.857143\n",
      " > 87.000000\n",
      " > 87.142857\n",
      " > 87.285714\n",
      " > 87.428571\n",
      " > 87.571429\n",
      " > 87.714286\n",
      " > 87.857143\n",
      " > 88.000000\n",
      " > 88.142857\n",
      " > 88.285714\n",
      " > 88.428571\n",
      " > 88.571429\n",
      " > 88.714286\n",
      " > 88.857143\n",
      " > 89.000000\n",
      " > 89.142857\n",
      " > 89.285714\n",
      " > 89.428571\n",
      " > 89.571429\n",
      " > 89.714286\n",
      " > 89.857143\n",
      " > 90.000000\n",
      " > 90.142857\n",
      " > 90.285714\n",
      " > 90.428571\n",
      " > 90.571429\n",
      " > 90.714286\n",
      " > 90.857143\n",
      " > 91.000000\n",
      " > 91.142857\n",
      " > 91.285714\n",
      " > 91.428571\n",
      " > 91.571429\n",
      " > 91.714286\n",
      " > 91.857143\n",
      " > 92.000000\n",
      " > 92.142857\n",
      " > 92.285714\n",
      " > 92.428571\n",
      " > 92.571429\n",
      " > 92.714286\n",
      " > 92.857143\n",
      " > 93.000000\n",
      " > 93.142857\n",
      " > 93.285714\n",
      " > 93.428571\n",
      " > 93.571429\n",
      " > 93.714286\n",
      " > 93.857143\n",
      " > 94.000000\n",
      " > 94.142857\n",
      " > 94.285714\n",
      " > 94.428571\n",
      " > 94.571429\n",
      " > 94.714286\n",
      " > 94.857143\n",
      " > 95.000000\n",
      " > 95.142857\n",
      " > 95.285714\n",
      " > 95.428571\n",
      " > 95.571429\n",
      " > 95.714286\n",
      " > 95.857143\n",
      " > 96.000000\n",
      " > 96.142857\n",
      " > 96.285714\n",
      " > 96.428571\n",
      " > 96.571429\n",
      " > 96.714286\n",
      " > 96.857143\n",
      " > 97.000000\n",
      " > 97.142857\n",
      " > 97.285714\n",
      " > 97.428571\n",
      " > 97.571429\n",
      " > 97.714286\n",
      " > 97.857143\n",
      " > 98.000000\n",
      " > 98.142857\n",
      " > 98.285714\n",
      " > 98.428571\n",
      " > 98.571429\n",
      " > 98.714286\n",
      " > 98.857143\n",
      " > 99.000000\n",
      " > 99.142857\n",
      " > 99.285714\n",
      " > 99.428571\n",
      " > 99.571429\n",
      " > 99.714286\n",
      " > 99.857143\n",
      "Wall time: 1h 56min 58s\n"
     ]
    }
   ],
   "source": [
    "%%time\n",
    "best_knn.predict()"
   ],
   "metadata": {
    "collapsed": false,
    "pycharm": {
     "name": "#%%\n"
    }
   }
  },
  {
   "cell_type": "code",
   "execution_count": 21,
   "outputs": [
    {
     "data": {
      "text/plain": "0.9713571428571428"
     },
     "execution_count": 21,
     "metadata": {},
     "output_type": "execute_result"
    }
   ],
   "source": [
    "best_knn.accuracy"
   ],
   "metadata": {
    "collapsed": false,
    "pycharm": {
     "name": "#%%\n"
    }
   }
  },
  {
   "cell_type": "code",
   "execution_count": 22,
   "outputs": [
    {
     "name": "stderr",
     "output_type": "stream",
     "text": [
      "2022-12-24 04:47:01.133 | INFO     | assignment_2.digits_classifiers.model:confusion_matrix:197 - Saving C:\\Users\\user\\Documents\\GitHub\\AI_assignments\\assignment_2\\digits_classifiers\\images\\knn_cm.png\n"
     ]
    },
    {
     "data": {
      "text/plain": "<Figure size 432x288 with 2 Axes>",
      "image/png": "[encoded data removed]"
     },
     "metadata": {
      "needs_background": "light"
     },
     "output_type": "display_data"
    }
   ],
   "source": [
    "best_knn.confusion_matrix(save=True, file_name='knn_cm.png')"
   ],
   "metadata": {
    "collapsed": false,
    "pycharm": {
     "name": "#%%\n"
    }
   }
  },
  {
   "cell_type": "code",
   "execution_count": 23,
   "outputs": [
    {
     "data": {
      "text/plain": "6.23831e-278"
     },
     "execution_count": 23,
     "metadata": {},
     "output_type": "execute_result"
    }
   ],
   "source": [
    "6.238310e-278"
   ],
   "metadata": {
    "collapsed": false,
    "pycharm": {
     "name": "#%%\n"
    }
   }
  },
  {
   "cell_type": "code",
   "execution_count": 24,
   "outputs": [
    {
     "data": {
      "text/plain": "'$6.24 \\\\times 10^{fexp(f)}$'"
     },
     "execution_count": 24,
     "metadata": {},
     "output_type": "execute_result"
    }
   ],
   "source": [
    "from math import floor, log10\n",
    "\n",
    "def fexp(f):\n",
    "    return int(floor(log10(abs(f)))) if f != 0 else 0\n",
    "\n",
    "def fman(f):\n",
    "    return f/10**fexp(f)\n",
    "\n",
    "def n_repr(f):\n",
    "    if f == 0:\n",
    "        return 0\n",
    "    return f\"${round(fman(f), 2)} \\\\times 10^{{fexp(f)}}$\"\n",
    "n_repr(6.238310e-278)"
   ],
   "metadata": {
    "collapsed": false,
    "pycharm": {
     "name": "#%%\n"
    }
   }
  },
  {
   "cell_type": "markdown",
   "source": [
    "### Fool data"
   ],
   "metadata": {
    "collapsed": false
   }
  },
  {
   "cell_type": "code",
   "execution_count": 25,
   "outputs": [],
   "source": [
    "from assignment_2.digits_classifiers.io import read_fool_dataset\n",
    "\n",
    "X_fool = read_fool_dataset()\n",
    "X_fool.drop(columns=always_zero, axis=1, inplace=True)"
   ],
   "metadata": {
    "collapsed": false,
    "pycharm": {
     "name": "#%%\n"
    }
   }
  },
  {
   "cell_type": "code",
   "execution_count": 26,
   "outputs": [
    {
     "name": "stdout",
     "output_type": "stream",
     "text": [
      " > 0.000000\n"
     ]
    },
    {
     "data": {
      "text/plain": "array([9., 4., 9., 9., 5., 1.])"
     },
     "execution_count": 26,
     "metadata": {},
     "output_type": "execute_result"
    }
   ],
   "source": [
    "best_knn.estimator.predict(X=X_fool)"
   ],
   "metadata": {
    "collapsed": false,
    "pycharm": {
     "name": "#%%\n"
    }
   }
  }
 ],
 "metadata": {
  "kernelspec": {
   "display_name": "Python 3",
   "language": "python",
   "name": "python3"
  },
  "language_info": {
   "codemirror_mode": {
    "name": "ipython",
    "version": 2
   },
   "file_extension": ".py",
   "mimetype": "text/x-python",
   "name": "python",
   "nbconvert_exporter": "python",
   "pygments_lexer": "ipython2",
   "version": "2.7.6"
  }
 },
 "nbformat": 4,
 "nbformat_minor": 0
}