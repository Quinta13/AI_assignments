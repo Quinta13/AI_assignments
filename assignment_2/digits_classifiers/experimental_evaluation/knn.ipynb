{
 "cells": [
  {
   "cell_type": "markdown",
   "source": [
    "# KNN\n"
   ],
   "metadata": {
    "collapsed": false
   }
  },
  {
   "cell_type": "code",
   "execution_count": 1,
   "outputs": [],
   "source": [
    "from sklearn.model_selection import train_test_split\n",
    "from scipy.spatial import distance\n",
    "\n",
    "from assignment_2.digits_classifiers.model import Dataset, ClassifierTuning\n",
    "from assignment_2.digits_classifiers.classifiers import KNN\n",
    "from assignment_2.digits_classifiers.io import read_datasets"
   ],
   "metadata": {
    "collapsed": false,
    "pycharm": {
     "name": "#%%\n"
    }
   }
  },
  {
   "cell_type": "markdown",
   "source": [
    "## Import dataset"
   ],
   "metadata": {
    "collapsed": false,
    "pycharm": {
     "name": "#%% md\n"
    }
   }
  },
  {
   "cell_type": "code",
   "execution_count": 2,
   "outputs": [
    {
     "name": "stderr",
     "output_type": "stream",
     "text": [
      "2022-12-22 09:49:07.579 | INFO     | assignment_2.digits_classifiers.io:read_datasets:46 - Reading datasets\n"
     ]
    }
   ],
   "source": [
    "data = read_datasets()"
   ],
   "metadata": {
    "collapsed": false,
    "pycharm": {
     "name": "#%%\n"
    }
   }
  },
  {
   "cell_type": "code",
   "execution_count": 3,
   "outputs": [],
   "source": [
    "X, y = data"
   ],
   "metadata": {
    "collapsed": false,
    "pycharm": {
     "name": "#%%\n"
    }
   }
  },
  {
   "cell_type": "markdown",
   "source": [
    "## Removing constant columns"
   ],
   "metadata": {
    "collapsed": false
   }
  },
  {
   "cell_type": "code",
   "execution_count": 4,
   "outputs": [],
   "source": [
    "always_zero = [c for c in list(X.columns) if sum(X.loc[:, c]) == 0]"
   ],
   "metadata": {
    "collapsed": false,
    "pycharm": {
     "name": "#%%\n"
    }
   }
  },
  {
   "cell_type": "code",
   "execution_count": 5,
   "outputs": [],
   "source": [
    "X.drop(columns=always_zero, axis=1, inplace=True)"
   ],
   "metadata": {
    "collapsed": false,
    "pycharm": {
     "name": "#%%\n"
    }
   }
  },
  {
   "cell_type": "markdown",
   "source": [
    "## Discard part of data"
   ],
   "metadata": {
    "collapsed": false
   }
  },
  {
   "cell_type": "code",
   "execution_count": 6,
   "outputs": [],
   "source": [
    "X, _, y, _ = train_test_split(X, y, test_size=0.98)"
   ],
   "metadata": {
    "collapsed": false,
    "pycharm": {
     "name": "#%%\n"
    }
   }
  },
  {
   "cell_type": "markdown",
   "source": [
    "## Train Test split"
   ],
   "metadata": {
    "collapsed": false
   }
  },
  {
   "cell_type": "code",
   "execution_count": 7,
   "outputs": [],
   "source": [
    "X_train, X_test, y_train, y_test = train_test_split(X, y, test_size=0.2)\n",
    "X_train.reset_index(inplace=True, drop=True)\n",
    "X_test.reset_index(inplace=True, drop=True)"
   ],
   "metadata": {
    "collapsed": false,
    "pycharm": {
     "name": "#%%\n"
    }
   }
  },
  {
   "cell_type": "code",
   "execution_count": 8,
   "outputs": [
    {
     "data": {
      "text/plain": "      pixel13  pixel14  pixel15  pixel16  pixel33  pixel34  pixel35  pixel36  \\\n0         0.0      0.0      0.0      0.0      0.0      0.0      0.0      0.0   \n1         0.0      0.0      0.0      0.0      0.0      0.0      0.0      0.0   \n2         0.0      0.0      0.0      0.0      0.0      0.0      0.0      0.0   \n3         0.0      0.0      0.0      0.0      0.0      0.0      0.0      0.0   \n4         0.0      0.0      0.0      0.0      0.0      0.0      0.0      0.0   \n...       ...      ...      ...      ...      ...      ...      ...      ...   \n1115      0.0      0.0      0.0      0.0      0.0      0.0      0.0      0.0   \n1116      0.0      0.0      0.0      0.0      0.0      0.0      0.0      0.0   \n1117      0.0      0.0      0.0      0.0      0.0      0.0      0.0      0.0   \n1118      0.0      0.0      0.0      0.0      0.0      0.0      0.0      0.0   \n1119      0.0      0.0      0.0      0.0      0.0      0.0      0.0      0.0   \n\n      pixel37  pixel38  ...  pixel771  pixel772  pixel773  pixel774  pixel775  \\\n0         0.0      0.0  ...       0.0       0.0       0.0       0.0       0.0   \n1         0.0      0.0  ...       0.0       0.0       0.0       0.0       0.0   \n2         0.0      0.0  ...       0.0       0.0       0.0       0.0       0.0   \n3         0.0      0.0  ...       0.0       0.0       0.0       0.0       0.0   \n4         0.0      0.0  ...       0.0       0.0       0.0       0.0       0.0   \n...       ...      ...  ...       ...       ...       ...       ...       ...   \n1115      0.0      0.0  ...       0.0       0.0       0.0       0.0       0.0   \n1116      0.0      0.0  ...       0.0       0.0       0.0       0.0       0.0   \n1117      0.0      0.0  ...       0.0       0.0       0.0       0.0       0.0   \n1118      0.0      0.0  ...       0.0       0.0       0.0       0.0       0.0   \n1119      0.0      0.0  ...       0.0       0.0       0.0       0.0       0.0   \n\n      pixel776  pixel777  pixel778  pixel779  pixel780  \n0          0.0       0.0       0.0       0.0       0.0  \n1          0.0       0.0       0.0       0.0       0.0  \n2          0.0       0.0       0.0       0.0       0.0  \n3          0.0       0.0       0.0       0.0       0.0  \n4          0.0       0.0       0.0       0.0       0.0  \n...        ...       ...       ...       ...       ...  \n1115       0.0       0.0       0.0       0.0       0.0  \n1116       0.0       0.0       0.0       0.0       0.0  \n1117       0.0       0.0       0.0       0.0       0.0  \n1118       0.0       0.0       0.0       0.0       0.0  \n1119       0.0       0.0       0.0       0.0       0.0  \n\n[1120 rows x 719 columns]",
      "text/html": "<div>\n<style scoped>\n    .dataframe tbody tr th:only-of-type {\n        vertical-align: middle;\n    }\n\n    .dataframe tbody tr th {\n        vertical-align: top;\n    }\n\n    .dataframe thead th {\n        text-align: right;\n    }\n</style>\n<table border=\"1\" class=\"dataframe\">\n  <thead>\n    <tr style=\"text-align: right;\">\n      <th></th>\n      <th>pixel13</th>\n      <th>pixel14</th>\n      <th>pixel15</th>\n      <th>pixel16</th>\n      <th>pixel33</th>\n      <th>pixel34</th>\n      <th>pixel35</th>\n      <th>pixel36</th>\n      <th>pixel37</th>\n      <th>pixel38</th>\n      <th>...</th>\n      <th>pixel771</th>\n      <th>pixel772</th>\n      <th>pixel773</th>\n      <th>pixel774</th>\n      <th>pixel775</th>\n      <th>pixel776</th>\n      <th>pixel777</th>\n      <th>pixel778</th>\n      <th>pixel779</th>\n      <th>pixel780</th>\n    </tr>\n  </thead>\n  <tbody>\n    <tr>\n      <th>0</th>\n      <td>0.0</td>\n      <td>0.0</td>\n      <td>0.0</td>\n      <td>0.0</td>\n      <td>0.0</td>\n      <td>0.0</td>\n      <td>0.0</td>\n      <td>0.0</td>\n      <td>0.0</td>\n      <td>0.0</td>\n      <td>...</td>\n      <td>0.0</td>\n      <td>0.0</td>\n      <td>0.0</td>\n      <td>0.0</td>\n      <td>0.0</td>\n      <td>0.0</td>\n      <td>0.0</td>\n      <td>0.0</td>\n      <td>0.0</td>\n      <td>0.0</td>\n    </tr>\n    <tr>\n      <th>1</th>\n      <td>0.0</td>\n      <td>0.0</td>\n      <td>0.0</td>\n      <td>0.0</td>\n      <td>0.0</td>\n      <td>0.0</td>\n      <td>0.0</td>\n      <td>0.0</td>\n      <td>0.0</td>\n      <td>0.0</td>\n      <td>...</td>\n      <td>0.0</td>\n      <td>0.0</td>\n      <td>0.0</td>\n      <td>0.0</td>\n      <td>0.0</td>\n      <td>0.0</td>\n      <td>0.0</td>\n      <td>0.0</td>\n      <td>0.0</td>\n      <td>0.0</td>\n    </tr>\n    <tr>\n      <th>2</th>\n      <td>0.0</td>\n      <td>0.0</td>\n      <td>0.0</td>\n      <td>0.0</td>\n      <td>0.0</td>\n      <td>0.0</td>\n      <td>0.0</td>\n      <td>0.0</td>\n      <td>0.0</td>\n      <td>0.0</td>\n      <td>...</td>\n      <td>0.0</td>\n      <td>0.0</td>\n      <td>0.0</td>\n      <td>0.0</td>\n      <td>0.0</td>\n      <td>0.0</td>\n      <td>0.0</td>\n      <td>0.0</td>\n      <td>0.0</td>\n      <td>0.0</td>\n    </tr>\n    <tr>\n      <th>3</th>\n      <td>0.0</td>\n      <td>0.0</td>\n      <td>0.0</td>\n      <td>0.0</td>\n      <td>0.0</td>\n      <td>0.0</td>\n      <td>0.0</td>\n      <td>0.0</td>\n      <td>0.0</td>\n      <td>0.0</td>\n      <td>...</td>\n      <td>0.0</td>\n      <td>0.0</td>\n      <td>0.0</td>\n      <td>0.0</td>\n      <td>0.0</td>\n      <td>0.0</td>\n      <td>0.0</td>\n      <td>0.0</td>\n      <td>0.0</td>\n      <td>0.0</td>\n    </tr>\n    <tr>\n      <th>4</th>\n      <td>0.0</td>\n      <td>0.0</td>\n      <td>0.0</td>\n      <td>0.0</td>\n      <td>0.0</td>\n      <td>0.0</td>\n      <td>0.0</td>\n      <td>0.0</td>\n      <td>0.0</td>\n      <td>0.0</td>\n      <td>...</td>\n      <td>0.0</td>\n      <td>0.0</td>\n      <td>0.0</td>\n      <td>0.0</td>\n      <td>0.0</td>\n      <td>0.0</td>\n      <td>0.0</td>\n      <td>0.0</td>\n      <td>0.0</td>\n      <td>0.0</td>\n    </tr>\n    <tr>\n      <th>...</th>\n      <td>...</td>\n      <td>...</td>\n      <td>...</td>\n      <td>...</td>\n      <td>...</td>\n      <td>...</td>\n      <td>...</td>\n      <td>...</td>\n      <td>...</td>\n      <td>...</td>\n      <td>...</td>\n      <td>...</td>\n      <td>...</td>\n      <td>...</td>\n      <td>...</td>\n      <td>...</td>\n      <td>...</td>\n      <td>...</td>\n      <td>...</td>\n      <td>...</td>\n      <td>...</td>\n    </tr>\n    <tr>\n      <th>1115</th>\n      <td>0.0</td>\n      <td>0.0</td>\n      <td>0.0</td>\n      <td>0.0</td>\n      <td>0.0</td>\n      <td>0.0</td>\n      <td>0.0</td>\n      <td>0.0</td>\n      <td>0.0</td>\n      <td>0.0</td>\n      <td>...</td>\n      <td>0.0</td>\n      <td>0.0</td>\n      <td>0.0</td>\n      <td>0.0</td>\n      <td>0.0</td>\n      <td>0.0</td>\n      <td>0.0</td>\n      <td>0.0</td>\n      <td>0.0</td>\n      <td>0.0</td>\n    </tr>\n    <tr>\n      <th>1116</th>\n      <td>0.0</td>\n      <td>0.0</td>\n      <td>0.0</td>\n      <td>0.0</td>\n      <td>0.0</td>\n      <td>0.0</td>\n      <td>0.0</td>\n      <td>0.0</td>\n      <td>0.0</td>\n      <td>0.0</td>\n      <td>...</td>\n      <td>0.0</td>\n      <td>0.0</td>\n      <td>0.0</td>\n      <td>0.0</td>\n      <td>0.0</td>\n      <td>0.0</td>\n      <td>0.0</td>\n      <td>0.0</td>\n      <td>0.0</td>\n      <td>0.0</td>\n    </tr>\n    <tr>\n      <th>1117</th>\n      <td>0.0</td>\n      <td>0.0</td>\n      <td>0.0</td>\n      <td>0.0</td>\n      <td>0.0</td>\n      <td>0.0</td>\n      <td>0.0</td>\n      <td>0.0</td>\n      <td>0.0</td>\n      <td>0.0</td>\n      <td>...</td>\n      <td>0.0</td>\n      <td>0.0</td>\n      <td>0.0</td>\n      <td>0.0</td>\n      <td>0.0</td>\n      <td>0.0</td>\n      <td>0.0</td>\n      <td>0.0</td>\n      <td>0.0</td>\n      <td>0.0</td>\n    </tr>\n    <tr>\n      <th>1118</th>\n      <td>0.0</td>\n      <td>0.0</td>\n      <td>0.0</td>\n      <td>0.0</td>\n      <td>0.0</td>\n      <td>0.0</td>\n      <td>0.0</td>\n      <td>0.0</td>\n      <td>0.0</td>\n      <td>0.0</td>\n      <td>...</td>\n      <td>0.0</td>\n      <td>0.0</td>\n      <td>0.0</td>\n      <td>0.0</td>\n      <td>0.0</td>\n      <td>0.0</td>\n      <td>0.0</td>\n      <td>0.0</td>\n      <td>0.0</td>\n      <td>0.0</td>\n    </tr>\n    <tr>\n      <th>1119</th>\n      <td>0.0</td>\n      <td>0.0</td>\n      <td>0.0</td>\n      <td>0.0</td>\n      <td>0.0</td>\n      <td>0.0</td>\n      <td>0.0</td>\n      <td>0.0</td>\n      <td>0.0</td>\n      <td>0.0</td>\n      <td>...</td>\n      <td>0.0</td>\n      <td>0.0</td>\n      <td>0.0</td>\n      <td>0.0</td>\n      <td>0.0</td>\n      <td>0.0</td>\n      <td>0.0</td>\n      <td>0.0</td>\n      <td>0.0</td>\n      <td>0.0</td>\n    </tr>\n  </tbody>\n</table>\n<p>1120 rows × 719 columns</p>\n</div>"
     },
     "execution_count": 8,
     "metadata": {},
     "output_type": "execute_result"
    }
   ],
   "source": [
    "X_train"
   ],
   "metadata": {
    "collapsed": false,
    "pycharm": {
     "name": "#%%\n"
    }
   }
  },
  {
   "cell_type": "code",
   "execution_count": 9,
   "outputs": [],
   "source": [
    "data = Dataset(x=X, y=y)\n",
    "train = Dataset(x=X_train, y=y_train)\n",
    "test = Dataset(x=X_test, y=y_test)"
   ],
   "metadata": {
    "collapsed": false,
    "pycharm": {
     "name": "#%%\n"
    }
   }
  },
  {
   "cell_type": "code",
   "execution_count": 10,
   "outputs": [
    {
     "data": {
      "text/plain": "<Figure size 432x288 with 1 Axes>",
      "image/png": "[encoded data removed]"
     },
     "metadata": {
      "needs_background": "light"
     },
     "output_type": "display_data"
    }
   ],
   "source": [
    "data.digit_distribution()"
   ],
   "metadata": {
    "collapsed": false,
    "pycharm": {
     "name": "#%%\n"
    }
   }
  },
  {
   "cell_type": "markdown",
   "source": [
    "## Trial"
   ],
   "metadata": {
    "collapsed": false,
    "pycharm": {
     "name": "#%% md\n"
    }
   }
  },
  {
   "cell_type": "code",
   "execution_count": 12,
   "outputs": [
    {
     "data": {
      "text/plain": "      pixel13  pixel14  pixel15  pixel16  pixel33  pixel34  pixel35  pixel36  \\\n0         0.0      0.0      0.0      0.0      0.0      0.0      0.0      0.0   \n1         0.0      0.0      0.0      0.0      0.0      0.0      0.0      0.0   \n2         0.0      0.0      0.0      0.0      0.0      0.0      0.0      0.0   \n3         0.0      0.0      0.0      0.0      0.0      0.0      0.0      0.0   \n4         0.0      0.0      0.0      0.0      0.0      0.0      0.0      0.0   \n...       ...      ...      ...      ...      ...      ...      ...      ...   \n1115      0.0      0.0      0.0      0.0      0.0      0.0      0.0      0.0   \n1116      0.0      0.0      0.0      0.0      0.0      0.0      0.0      0.0   \n1117      0.0      0.0      0.0      0.0      0.0      0.0      0.0      0.0   \n1118      0.0      0.0      0.0      0.0      0.0      0.0      0.0      0.0   \n1119      0.0      0.0      0.0      0.0      0.0      0.0      0.0      0.0   \n\n      pixel37  pixel38  ...  pixel771  pixel772  pixel773  pixel774  pixel775  \\\n0         0.0      0.0  ...       0.0       0.0       0.0       0.0       0.0   \n1         0.0      0.0  ...       0.0       0.0       0.0       0.0       0.0   \n2         0.0      0.0  ...       0.0       0.0       0.0       0.0       0.0   \n3         0.0      0.0  ...       0.0       0.0       0.0       0.0       0.0   \n4         0.0      0.0  ...       0.0       0.0       0.0       0.0       0.0   \n...       ...      ...  ...       ...       ...       ...       ...       ...   \n1115      0.0      0.0  ...       0.0       0.0       0.0       0.0       0.0   \n1116      0.0      0.0  ...       0.0       0.0       0.0       0.0       0.0   \n1117      0.0      0.0  ...       0.0       0.0       0.0       0.0       0.0   \n1118      0.0      0.0  ...       0.0       0.0       0.0       0.0       0.0   \n1119      0.0      0.0  ...       0.0       0.0       0.0       0.0       0.0   \n\n      pixel776  pixel777  pixel778  pixel779  pixel780  \n0          0.0       0.0       0.0       0.0       0.0  \n1          0.0       0.0       0.0       0.0       0.0  \n2          0.0       0.0       0.0       0.0       0.0  \n3          0.0       0.0       0.0       0.0       0.0  \n4          0.0       0.0       0.0       0.0       0.0  \n...        ...       ...       ...       ...       ...  \n1115       0.0       0.0       0.0       0.0       0.0  \n1116       0.0       0.0       0.0       0.0       0.0  \n1117       0.0       0.0       0.0       0.0       0.0  \n1118       0.0       0.0       0.0       0.0       0.0  \n1119       0.0       0.0       0.0       0.0       0.0  \n\n[1120 rows x 719 columns]",
      "text/html": "<div>\n<style scoped>\n    .dataframe tbody tr th:only-of-type {\n        vertical-align: middle;\n    }\n\n    .dataframe tbody tr th {\n        vertical-align: top;\n    }\n\n    .dataframe thead th {\n        text-align: right;\n    }\n</style>\n<table border=\"1\" class=\"dataframe\">\n  <thead>\n    <tr style=\"text-align: right;\">\n      <th></th>\n      <th>pixel13</th>\n      <th>pixel14</th>\n      <th>pixel15</th>\n      <th>pixel16</th>\n      <th>pixel33</th>\n      <th>pixel34</th>\n      <th>pixel35</th>\n      <th>pixel36</th>\n      <th>pixel37</th>\n      <th>pixel38</th>\n      <th>...</th>\n      <th>pixel771</th>\n      <th>pixel772</th>\n      <th>pixel773</th>\n      <th>pixel774</th>\n      <th>pixel775</th>\n      <th>pixel776</th>\n      <th>pixel777</th>\n      <th>pixel778</th>\n      <th>pixel779</th>\n      <th>pixel780</th>\n    </tr>\n  </thead>\n  <tbody>\n    <tr>\n      <th>0</th>\n      <td>0.0</td>\n      <td>0.0</td>\n      <td>0.0</td>\n      <td>0.0</td>\n      <td>0.0</td>\n      <td>0.0</td>\n      <td>0.0</td>\n      <td>0.0</td>\n      <td>0.0</td>\n      <td>0.0</td>\n      <td>...</td>\n      <td>0.0</td>\n      <td>0.0</td>\n      <td>0.0</td>\n      <td>0.0</td>\n      <td>0.0</td>\n      <td>0.0</td>\n      <td>0.0</td>\n      <td>0.0</td>\n      <td>0.0</td>\n      <td>0.0</td>\n    </tr>\n    <tr>\n      <th>1</th>\n      <td>0.0</td>\n      <td>0.0</td>\n      <td>0.0</td>\n      <td>0.0</td>\n      <td>0.0</td>\n      <td>0.0</td>\n      <td>0.0</td>\n      <td>0.0</td>\n      <td>0.0</td>\n      <td>0.0</td>\n      <td>...</td>\n      <td>0.0</td>\n      <td>0.0</td>\n      <td>0.0</td>\n      <td>0.0</td>\n      <td>0.0</td>\n      <td>0.0</td>\n      <td>0.0</td>\n      <td>0.0</td>\n      <td>0.0</td>\n      <td>0.0</td>\n    </tr>\n    <tr>\n      <th>2</th>\n      <td>0.0</td>\n      <td>0.0</td>\n      <td>0.0</td>\n      <td>0.0</td>\n      <td>0.0</td>\n      <td>0.0</td>\n      <td>0.0</td>\n      <td>0.0</td>\n      <td>0.0</td>\n      <td>0.0</td>\n      <td>...</td>\n      <td>0.0</td>\n      <td>0.0</td>\n      <td>0.0</td>\n      <td>0.0</td>\n      <td>0.0</td>\n      <td>0.0</td>\n      <td>0.0</td>\n      <td>0.0</td>\n      <td>0.0</td>\n      <td>0.0</td>\n    </tr>\n    <tr>\n      <th>3</th>\n      <td>0.0</td>\n      <td>0.0</td>\n      <td>0.0</td>\n      <td>0.0</td>\n      <td>0.0</td>\n      <td>0.0</td>\n      <td>0.0</td>\n      <td>0.0</td>\n      <td>0.0</td>\n      <td>0.0</td>\n      <td>...</td>\n      <td>0.0</td>\n      <td>0.0</td>\n      <td>0.0</td>\n      <td>0.0</td>\n      <td>0.0</td>\n      <td>0.0</td>\n      <td>0.0</td>\n      <td>0.0</td>\n      <td>0.0</td>\n      <td>0.0</td>\n    </tr>\n    <tr>\n      <th>4</th>\n      <td>0.0</td>\n      <td>0.0</td>\n      <td>0.0</td>\n      <td>0.0</td>\n      <td>0.0</td>\n      <td>0.0</td>\n      <td>0.0</td>\n      <td>0.0</td>\n      <td>0.0</td>\n      <td>0.0</td>\n      <td>...</td>\n      <td>0.0</td>\n      <td>0.0</td>\n      <td>0.0</td>\n      <td>0.0</td>\n      <td>0.0</td>\n      <td>0.0</td>\n      <td>0.0</td>\n      <td>0.0</td>\n      <td>0.0</td>\n      <td>0.0</td>\n    </tr>\n    <tr>\n      <th>...</th>\n      <td>...</td>\n      <td>...</td>\n      <td>...</td>\n      <td>...</td>\n      <td>...</td>\n      <td>...</td>\n      <td>...</td>\n      <td>...</td>\n      <td>...</td>\n      <td>...</td>\n      <td>...</td>\n      <td>...</td>\n      <td>...</td>\n      <td>...</td>\n      <td>...</td>\n      <td>...</td>\n      <td>...</td>\n      <td>...</td>\n      <td>...</td>\n      <td>...</td>\n      <td>...</td>\n    </tr>\n    <tr>\n      <th>1115</th>\n      <td>0.0</td>\n      <td>0.0</td>\n      <td>0.0</td>\n      <td>0.0</td>\n      <td>0.0</td>\n      <td>0.0</td>\n      <td>0.0</td>\n      <td>0.0</td>\n      <td>0.0</td>\n      <td>0.0</td>\n      <td>...</td>\n      <td>0.0</td>\n      <td>0.0</td>\n      <td>0.0</td>\n      <td>0.0</td>\n      <td>0.0</td>\n      <td>0.0</td>\n      <td>0.0</td>\n      <td>0.0</td>\n      <td>0.0</td>\n      <td>0.0</td>\n    </tr>\n    <tr>\n      <th>1116</th>\n      <td>0.0</td>\n      <td>0.0</td>\n      <td>0.0</td>\n      <td>0.0</td>\n      <td>0.0</td>\n      <td>0.0</td>\n      <td>0.0</td>\n      <td>0.0</td>\n      <td>0.0</td>\n      <td>0.0</td>\n      <td>...</td>\n      <td>0.0</td>\n      <td>0.0</td>\n      <td>0.0</td>\n      <td>0.0</td>\n      <td>0.0</td>\n      <td>0.0</td>\n      <td>0.0</td>\n      <td>0.0</td>\n      <td>0.0</td>\n      <td>0.0</td>\n    </tr>\n    <tr>\n      <th>1117</th>\n      <td>0.0</td>\n      <td>0.0</td>\n      <td>0.0</td>\n      <td>0.0</td>\n      <td>0.0</td>\n      <td>0.0</td>\n      <td>0.0</td>\n      <td>0.0</td>\n      <td>0.0</td>\n      <td>0.0</td>\n      <td>...</td>\n      <td>0.0</td>\n      <td>0.0</td>\n      <td>0.0</td>\n      <td>0.0</td>\n      <td>0.0</td>\n      <td>0.0</td>\n      <td>0.0</td>\n      <td>0.0</td>\n      <td>0.0</td>\n      <td>0.0</td>\n    </tr>\n    <tr>\n      <th>1118</th>\n      <td>0.0</td>\n      <td>0.0</td>\n      <td>0.0</td>\n      <td>0.0</td>\n      <td>0.0</td>\n      <td>0.0</td>\n      <td>0.0</td>\n      <td>0.0</td>\n      <td>0.0</td>\n      <td>0.0</td>\n      <td>...</td>\n      <td>0.0</td>\n      <td>0.0</td>\n      <td>0.0</td>\n      <td>0.0</td>\n      <td>0.0</td>\n      <td>0.0</td>\n      <td>0.0</td>\n      <td>0.0</td>\n      <td>0.0</td>\n      <td>0.0</td>\n    </tr>\n    <tr>\n      <th>1119</th>\n      <td>0.0</td>\n      <td>0.0</td>\n      <td>0.0</td>\n      <td>0.0</td>\n      <td>0.0</td>\n      <td>0.0</td>\n      <td>0.0</td>\n      <td>0.0</td>\n      <td>0.0</td>\n      <td>0.0</td>\n      <td>...</td>\n      <td>0.0</td>\n      <td>0.0</td>\n      <td>0.0</td>\n      <td>0.0</td>\n      <td>0.0</td>\n      <td>0.0</td>\n      <td>0.0</td>\n      <td>0.0</td>\n      <td>0.0</td>\n      <td>0.0</td>\n    </tr>\n  </tbody>\n</table>\n<p>1120 rows × 719 columns</p>\n</div>"
     },
     "execution_count": 12,
     "metadata": {},
     "output_type": "execute_result"
    }
   ],
   "source": [
    "X_train"
   ],
   "metadata": {
    "collapsed": false,
    "pycharm": {
     "name": "#%%\n"
    }
   }
  },
  {
   "cell_type": "code",
   "execution_count": 16,
   "outputs": [
    {
     "data": {
      "text/plain": "array([[0., 0., 0., ..., 0., 0., 0.],\n       [0., 0., 0., ..., 0., 0., 0.],\n       [0., 0., 0., ..., 0., 0., 0.],\n       ...,\n       [0., 0., 0., ..., 0., 0., 0.],\n       [0., 0., 0., ..., 0., 0., 0.],\n       [0., 0., 0., ..., 0., 0., 0.]])"
     },
     "execution_count": 16,
     "metadata": {},
     "output_type": "execute_result"
    }
   ],
   "source": [
    "import numpy as np\n",
    "\n",
    "X_train_arr = np.array(X_train)\n",
    "X_train_arr"
   ],
   "metadata": {
    "collapsed": false,
    "pycharm": {
     "name": "#%%\n"
    }
   }
  },
  {
   "cell_type": "code",
   "execution_count": 17,
   "outputs": [
    {
     "data": {
      "text/plain": "array([0.        , 0.        , 0.        , 0.        , 0.        ,\n       0.        , 0.        , 0.        , 0.        , 0.        ,\n       0.        , 0.        , 0.        , 0.        , 0.        ,\n       0.        , 0.        , 0.        , 0.        , 0.        ,\n       0.        , 0.        , 0.        , 0.        , 0.        ,\n       0.        , 0.        , 0.        , 0.        , 0.        ,\n       0.        , 0.        , 0.        , 0.        , 0.        ,\n       0.        , 0.        , 0.        , 0.        , 0.        ,\n       0.        , 0.        , 0.        , 0.        , 0.        ,\n       0.        , 0.        , 0.        , 0.        , 0.        ,\n       0.        , 0.        , 0.        , 0.        , 0.        ,\n       0.        , 0.        , 0.        , 0.        , 0.        ,\n       0.        , 0.        , 0.        , 0.        , 0.        ,\n       0.        , 0.        , 0.        , 0.        , 0.        ,\n       0.        , 0.        , 0.        , 0.        , 0.        ,\n       0.        , 0.        , 0.        , 0.        , 0.        ,\n       0.        , 0.        , 0.        , 0.        , 0.        ,\n       0.        , 0.        , 0.        , 0.        , 0.        ,\n       0.        , 0.        , 0.        , 0.        , 0.        ,\n       0.        , 0.        , 0.        , 0.        , 0.        ,\n       0.        , 0.        , 0.        , 0.        , 0.        ,\n       0.        , 0.10196078, 0.44313725, 0.44313725, 1.        ,\n       0.99215686, 0.99215686, 0.99215686, 0.99215686, 0.44705882,\n       0.29411765, 0.        , 0.        , 0.        , 0.        ,\n       0.        , 0.        , 0.        , 0.        , 0.        ,\n       0.        , 0.        , 0.        , 0.        , 0.        ,\n       0.        , 0.        , 0.        , 0.22352941, 0.98823529,\n       0.98823529, 0.99215686, 0.98823529, 0.98823529, 0.98823529,\n       0.98823529, 0.99215686, 0.95294118, 0.75686275, 0.10980392,\n       0.        , 0.        , 0.        , 0.        , 0.        ,\n       0.        , 0.        , 0.        , 0.        , 0.        ,\n       0.        , 0.        , 0.        , 0.        , 0.        ,\n       0.        , 0.05098039, 0.60784314, 0.98823529, 0.99215686,\n       0.98823529, 0.98823529, 0.83921569, 0.76470588, 0.76862745,\n       0.96470588, 0.98823529, 0.84313725, 0.77254902, 0.1254902 ,\n       0.        , 0.        , 0.        , 0.        , 0.        ,\n       0.        , 0.        , 0.        , 0.        , 0.        ,\n       0.        , 0.        , 0.        , 0.        , 0.        ,\n       0.03921569, 0.32941176, 0.32941176, 0.36470588, 0.43921569,\n       0.21960784, 0.11372549, 0.11372549, 0.40392157, 0.55686275,\n       0.98823529, 0.98823529, 0.84705882, 0.47843137, 0.08627451,\n       0.        , 0.        , 0.        , 0.        , 0.        ,\n       0.        , 0.        , 0.        , 0.        , 0.        ,\n       0.        , 0.        , 0.        , 0.        , 0.        ,\n       0.        , 0.63921569, 0.98823529, 0.98823529, 0.98823529,\n       0.99215686, 0.98823529, 0.98823529, 0.98823529, 0.98823529,\n       0.99215686, 0.98823529, 0.89019608, 0.18431373, 0.        ,\n       0.        , 0.        , 0.        , 0.        , 0.        ,\n       0.        , 0.        , 0.        , 0.        , 0.        ,\n       0.        , 0.        , 0.        , 0.        , 0.88627451,\n       0.99215686, 0.99215686, 0.99215686, 1.        , 0.99215686,\n       0.99215686, 0.99215686, 0.99215686, 1.        , 0.99215686,\n       0.99215686, 0.32941176, 0.        , 0.        , 0.        ,\n       0.        , 0.        , 0.        , 0.        , 0.        ,\n       0.        , 0.        , 0.        , 0.        , 0.        ,\n       0.        , 0.        , 0.39215686, 0.98823529, 0.98823529,\n       0.98823529, 0.99215686, 0.98823529, 0.91372549, 0.65490196,\n       0.65490196, 0.65882353, 0.4745098 , 0.10588235, 0.03529412,\n       0.        , 0.        , 0.        , 0.        , 0.        ,\n       0.        , 0.        , 0.        , 0.        , 0.        ,\n       0.        , 0.        , 0.        , 0.        , 0.        ,\n       0.0745098 , 0.64705882, 0.91372549, 0.98823529, 0.74509804,\n       0.23921569, 0.16862745, 0.        , 0.        , 0.        ,\n       0.        , 0.        , 0.        , 0.        , 0.        ,\n       0.        , 0.        , 0.        , 0.        , 0.        ,\n       0.        , 0.        , 0.        , 0.        , 0.        ,\n       0.        , 0.        , 0.        , 0.        , 0.        ,\n       0.6627451 , 0.98823529, 0.99215686, 0.47843137, 0.        ,\n       0.        , 0.        , 0.        , 0.        , 0.        ,\n       0.        , 0.        , 0.        , 0.        , 0.        ,\n       0.        , 0.        , 0.        , 0.        , 0.        ,\n       0.        , 0.        , 0.        , 0.        , 0.        ,\n       0.        , 0.        , 0.        , 0.35686275, 0.98823529,\n       0.99215686, 0.83921569, 0.12156863, 0.        , 0.        ,\n       0.        , 0.        , 0.        , 0.        , 0.        ,\n       0.        , 0.        , 0.        , 0.        , 0.        ,\n       0.        , 0.        , 0.        , 0.        , 0.        ,\n       0.        , 0.        , 0.        , 0.        , 0.        ,\n       0.        , 0.        , 0.55294118, 1.        , 0.99215686,\n       0.46666667, 0.        , 0.        , 0.        , 0.        ,\n       0.        , 0.        , 0.        , 0.        , 0.        ,\n       0.        , 0.        , 0.        , 0.        , 0.        ,\n       0.        , 0.        , 0.        , 0.        , 0.        ,\n       0.        , 0.        , 0.        , 0.        , 0.        ,\n       0.05882353, 0.99215686, 0.98823529, 0.83921569, 0.10980392,\n       0.        , 0.        , 0.        , 0.        , 0.        ,\n       0.        , 0.        , 0.        , 0.        , 0.        ,\n       0.        , 0.        , 0.        , 0.        , 0.        ,\n       0.        , 0.        , 0.        , 0.        , 0.        ,\n       0.        , 0.        , 0.        , 0.99215686, 0.98823529,\n       0.98823529, 0.32941176, 0.        , 0.        , 0.        ,\n       0.        , 0.        , 0.        , 0.        , 0.        ,\n       0.        , 0.        , 0.        , 0.        , 0.        ,\n       0.        , 0.        , 0.        , 0.        , 0.        ,\n       0.        , 0.        , 0.        , 0.        , 0.        ,\n       0.        , 0.99215686, 0.98823529, 0.98823529, 0.38823529,\n       0.        , 0.        , 0.        , 0.        , 0.        ,\n       0.        , 0.        , 0.        , 0.        , 0.        ,\n       0.        , 0.        , 0.        , 0.        , 0.        ,\n       0.        , 0.        , 0.        , 0.        , 0.        ,\n       0.        , 0.        , 0.        , 0.30980392, 0.99215686,\n       0.98823529, 0.98823529, 0.8745098 , 0.        , 0.        ,\n       0.        , 0.        , 0.        , 0.        , 0.        ,\n       0.        , 0.        , 0.        , 0.        , 0.        ,\n       0.        , 0.        , 0.        , 0.        , 0.        ,\n       0.        , 0.        , 0.        , 0.        , 0.36078431,\n       0.99215686, 1.        , 0.99215686, 0.99215686, 0.88235294,\n       0.        , 0.        , 0.        , 0.        , 0.        ,\n       0.        , 0.        , 0.        , 0.        , 0.        ,\n       0.        , 0.        , 0.        , 0.        , 0.        ,\n       0.11372549, 0.0745098 , 0.18823529, 0.18823529, 0.33333333,\n       0.51372549, 0.88235294, 0.95294118, 0.98823529, 0.99215686,\n       0.98823529, 0.98823529, 0.8745098 , 0.        , 0.        ,\n       0.        , 0.        , 0.        , 0.        , 0.        ,\n       0.        , 0.        , 0.        , 0.        , 0.        ,\n       0.        , 0.        , 0.        , 0.33333333, 0.81960784,\n       0.89019608, 0.89019608, 0.99215686, 0.98823529, 0.98823529,\n       0.98823529, 0.98823529, 0.99215686, 0.98823529, 0.98823529,\n       0.75294118, 0.        , 0.        , 0.        , 0.        ,\n       0.        , 0.        , 0.        , 0.        , 0.        ,\n       0.        , 0.        , 0.        , 0.        , 0.        ,\n       0.10980392, 0.32941176, 0.76862745, 0.98823529, 0.99215686,\n       0.98823529, 0.98823529, 0.98823529, 0.98823529, 0.99215686,\n       0.70196078, 0.32941176, 0.10980392, 0.        , 0.        ,\n       0.        , 0.        , 0.        , 0.        , 0.        ,\n       0.        , 0.        , 0.        , 0.        , 0.        ,\n       0.        , 0.        , 0.29411765, 0.43921569, 0.43921569,\n       0.92941176, 0.98823529, 0.98823529, 0.67843137, 0.43921569,\n       0.04705882, 0.        , 0.        , 0.        , 0.        ,\n       0.        , 0.        , 0.        , 0.        , 0.        ,\n       0.        , 0.        , 0.        , 0.        , 0.        ,\n       0.        , 0.        , 0.        , 0.        , 0.        ,\n       0.        , 0.        , 0.        , 0.        , 0.        ,\n       0.        , 0.        , 0.        , 0.        , 0.        ,\n       0.        , 0.        , 0.        , 0.        , 0.        ,\n       0.        , 0.        , 0.        , 0.        , 0.        ,\n       0.        , 0.        , 0.        , 0.        , 0.        ,\n       0.        , 0.        , 0.        , 0.        , 0.        ,\n       0.        , 0.        , 0.        , 0.        , 0.        ,\n       0.        , 0.        , 0.        , 0.        , 0.        ,\n       0.        , 0.        , 0.        , 0.        , 0.        ,\n       0.        , 0.        , 0.        , 0.        , 0.        ,\n       0.        , 0.        , 0.        , 0.        , 0.        ,\n       0.        , 0.        , 0.        , 0.        ])"
     },
     "execution_count": 17,
     "metadata": {},
     "output_type": "execute_result"
    }
   ],
   "source": [
    "X_train_arr[0]"
   ],
   "metadata": {
    "collapsed": false,
    "pycharm": {
     "name": "#%%\n"
    }
   }
  },
  {
   "cell_type": "markdown",
   "source": [
    "## Training KNN"
   ],
   "metadata": {
    "collapsed": false
   }
  },
  {
   "cell_type": "code",
   "execution_count": 24,
   "outputs": [],
   "source": [
    "knns = [\n",
    "    KNN(train=train, test=test, params={\"k\": k, \"f_distance\": dist})\n",
    "    for k in [10, 20]\n",
    "    for dist in [distance.euclidean]\n",
    "]"
   ],
   "metadata": {
    "collapsed": false,
    "pycharm": {
     "name": "#%%\n"
    }
   }
  },
  {
   "cell_type": "code",
   "execution_count": 25,
   "outputs": [],
   "source": [
    "tuning_knns = ClassifierTuning(classifiers=knns, base_estimator=KNN.default_estimator(), data=train, k=5)"
   ],
   "metadata": {
    "collapsed": false,
    "pycharm": {
     "name": "#%%\n"
    }
   }
  },
  {
   "cell_type": "code",
   "execution_count": 26,
   "outputs": [],
   "source": [
    "tuning_knns.evaluate()"
   ],
   "metadata": {
    "collapsed": false,
    "pycharm": {
     "name": "#%%\n"
    }
   }
  },
  {
   "cell_type": "code",
   "execution_count": 27,
   "outputs": [
    {
     "data": {
      "text/plain": "[KNN: Train 1120, Test 280, not fitted, not predicted] [k: 10; distance: <function euclidean at 0x000002AFDB542AF0>]"
     },
     "execution_count": 27,
     "metadata": {},
     "output_type": "execute_result"
    }
   ],
   "source": [
    "best_knn = KNN(train=train, test=test, params=tuning_knns.best_params)\n",
    "best_knn"
   ],
   "metadata": {
    "collapsed": false,
    "pycharm": {
     "name": "#%%\n"
    }
   }
  },
  {
   "cell_type": "code",
   "execution_count": 28,
   "outputs": [
    {
     "name": "stderr",
     "output_type": "stream",
     "text": [
      "2022-12-17 00:35:40.551 | INFO     | assignment_2.digits_classifiers.classifiers:predict:253 -  > 0.000%\n",
      "2022-12-17 00:35:42.151 | INFO     | assignment_2.digits_classifiers.classifiers:predict:253 -  > 3.571%\n",
      "2022-12-17 00:35:44.274 | INFO     | assignment_2.digits_classifiers.classifiers:predict:253 -  > 7.143%\n",
      "2022-12-17 00:35:46.579 | INFO     | assignment_2.digits_classifiers.classifiers:predict:253 -  > 10.714%\n",
      "2022-12-17 00:35:48.919 | INFO     | assignment_2.digits_classifiers.classifiers:predict:253 -  > 14.286%\n",
      "2022-12-17 00:35:50.806 | INFO     | assignment_2.digits_classifiers.classifiers:predict:253 -  > 17.857%\n",
      "2022-12-17 00:35:52.870 | INFO     | assignment_2.digits_classifiers.classifiers:predict:253 -  > 21.429%\n",
      "2022-12-17 00:35:55.023 | INFO     | assignment_2.digits_classifiers.classifiers:predict:253 -  > 25.000%\n",
      "2022-12-17 00:35:57.041 | INFO     | assignment_2.digits_classifiers.classifiers:predict:253 -  > 28.571%\n",
      "2022-12-17 00:35:59.115 | INFO     | assignment_2.digits_classifiers.classifiers:predict:253 -  > 32.143%\n",
      "2022-12-17 00:36:01.251 | INFO     | assignment_2.digits_classifiers.classifiers:predict:253 -  > 35.714%\n",
      "2022-12-17 00:36:03.299 | INFO     | assignment_2.digits_classifiers.classifiers:predict:253 -  > 39.286%\n",
      "2022-12-17 00:36:05.321 | INFO     | assignment_2.digits_classifiers.classifiers:predict:253 -  > 42.857%\n",
      "2022-12-17 00:36:07.491 | INFO     | assignment_2.digits_classifiers.classifiers:predict:253 -  > 46.429%\n",
      "2022-12-17 00:36:09.292 | INFO     | assignment_2.digits_classifiers.classifiers:predict:253 -  > 50.000%\n",
      "2022-12-17 00:36:11.292 | INFO     | assignment_2.digits_classifiers.classifiers:predict:253 -  > 53.571%\n",
      "2022-12-17 00:36:13.369 | INFO     | assignment_2.digits_classifiers.classifiers:predict:253 -  > 57.143%\n",
      "2022-12-17 00:36:15.335 | INFO     | assignment_2.digits_classifiers.classifiers:predict:253 -  > 60.714%\n",
      "2022-12-17 00:36:17.388 | INFO     | assignment_2.digits_classifiers.classifiers:predict:253 -  > 64.286%\n",
      "2022-12-17 00:36:19.436 | INFO     | assignment_2.digits_classifiers.classifiers:predict:253 -  > 67.857%\n",
      "2022-12-17 00:36:21.553 | INFO     | assignment_2.digits_classifiers.classifiers:predict:253 -  > 71.429%\n",
      "2022-12-17 00:36:23.517 | INFO     | assignment_2.digits_classifiers.classifiers:predict:253 -  > 75.000%\n",
      "2022-12-17 00:36:25.587 | INFO     | assignment_2.digits_classifiers.classifiers:predict:253 -  > 78.571%\n",
      "2022-12-17 00:36:27.621 | INFO     | assignment_2.digits_classifiers.classifiers:predict:253 -  > 82.143%\n",
      "2022-12-17 00:36:29.593 | INFO     | assignment_2.digits_classifiers.classifiers:predict:253 -  > 85.714%\n",
      "2022-12-17 00:36:31.725 | INFO     | assignment_2.digits_classifiers.classifiers:predict:253 -  > 89.286%\n",
      "2022-12-17 00:36:33.925 | INFO     | assignment_2.digits_classifiers.classifiers:predict:253 -  > 92.857%\n",
      "2022-12-17 00:36:35.975 | INFO     | assignment_2.digits_classifiers.classifiers:predict:253 -  > 96.429%\n"
     ]
    },
    {
     "data": {
      "text/plain": "0.8821428571428571"
     },
     "execution_count": 28,
     "metadata": {},
     "output_type": "execute_result"
    }
   ],
   "source": [
    "best_knn.train()\n",
    "best_knn.predict()\n",
    "best_knn.accuracy"
   ],
   "metadata": {
    "collapsed": false,
    "pycharm": {
     "name": "#%%\n"
    }
   }
  },
  {
   "cell_type": "code",
   "execution_count": 29,
   "outputs": [
    {
     "data": {
      "text/plain": "<Figure size 432x288 with 2 Axes>",
      "image/png": "[encoded data removed]"
     },
     "metadata": {
      "needs_background": "light"
     },
     "output_type": "display_data"
    }
   ],
   "source": [
    "best_knn.confusion_matrix()"
   ],
   "metadata": {
    "collapsed": false,
    "pycharm": {
     "name": "#%%\n"
    }
   }
  }
 ],
 "metadata": {
  "kernelspec": {
   "display_name": "Python 3",
   "language": "python",
   "name": "python3"
  },
  "language_info": {
   "codemirror_mode": {
    "name": "ipython",
    "version": 2
   },
   "file_extension": ".py",
   "mimetype": "text/x-python",
   "name": "python",
   "nbconvert_exporter": "python",
   "pygments_lexer": "ipython2",
   "version": "2.7.6"
  }
 },
 "nbformat": 4,
 "nbformat_minor": 0
}