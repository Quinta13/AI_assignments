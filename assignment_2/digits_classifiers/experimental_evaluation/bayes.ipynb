{
 "cells": [
  {
   "cell_type": "markdown",
   "source": [
    "# KNN\n"
   ],
   "metadata": {
    "collapsed": false
   }
  },
  {
   "cell_type": "code",
   "execution_count": 1,
   "outputs": [],
   "source": [
    "import os.path\n",
    "\n",
    "import pandas as pd\n",
    "from sklearn.model_selection import train_test_split\n",
    "\n",
    "from assignment_2.digits_classifiers.model import Dataset\n",
    "from assignment_2.digits_classifiers.classifiers import NaiveBayes\n",
    "from assignment_2.digits_classifiers.io import read_datasets"
   ],
   "metadata": {
    "collapsed": false,
    "pycharm": {
     "name": "#%%\n"
    }
   }
  },
  {
   "cell_type": "markdown",
   "source": [
    "## Import dataset"
   ],
   "metadata": {
    "collapsed": false
   }
  },
  {
   "cell_type": "code",
   "execution_count": 2,
   "outputs": [
    {
     "name": "stderr",
     "output_type": "stream",
     "text": [
      "2022-12-23 12:59:00.920 | INFO     | assignment_2.digits_classifiers.io:read_datasets:46 - Reading datasets\n"
     ]
    }
   ],
   "source": [
    "data = read_datasets()"
   ],
   "metadata": {
    "collapsed": false,
    "pycharm": {
     "name": "#%%\n"
    }
   }
  },
  {
   "cell_type": "code",
   "execution_count": 3,
   "outputs": [],
   "source": [
    "X, y = data"
   ],
   "metadata": {
    "collapsed": false,
    "pycharm": {
     "name": "#%%\n"
    }
   }
  },
  {
   "cell_type": "markdown",
   "source": [
    "## Train Test split"
   ],
   "metadata": {
    "collapsed": false
   }
  },
  {
   "cell_type": "code",
   "execution_count": 4,
   "outputs": [],
   "source": [
    "X_train, X_test, y_train, y_test = train_test_split(X, y, test_size=0.1)\n",
    "X_train.reset_index(inplace=True, drop=True)\n",
    "X_test.reset_index(inplace=True, drop=True)"
   ],
   "metadata": {
    "collapsed": false,
    "pycharm": {
     "name": "#%%\n"
    }
   }
  },
  {
   "cell_type": "code",
   "execution_count": 5,
   "outputs": [
    {
     "data": {
      "text/plain": "       pixel1  pixel2  pixel3  pixel4  pixel5  pixel6  pixel7  pixel8  pixel9  \\\n0         0.0     0.0     0.0     0.0     0.0     0.0     0.0     0.0     0.0   \n1         0.0     0.0     0.0     0.0     0.0     0.0     0.0     0.0     0.0   \n2         0.0     0.0     0.0     0.0     0.0     0.0     0.0     0.0     0.0   \n3         0.0     0.0     0.0     0.0     0.0     0.0     0.0     0.0     0.0   \n4         0.0     0.0     0.0     0.0     0.0     0.0     0.0     0.0     0.0   \n...       ...     ...     ...     ...     ...     ...     ...     ...     ...   \n62995     0.0     0.0     0.0     0.0     0.0     0.0     0.0     0.0     0.0   \n62996     0.0     0.0     0.0     0.0     0.0     0.0     0.0     0.0     0.0   \n62997     0.0     0.0     0.0     0.0     0.0     0.0     0.0     0.0     0.0   \n62998     0.0     0.0     0.0     0.0     0.0     0.0     0.0     0.0     0.0   \n62999     0.0     0.0     0.0     0.0     0.0     0.0     0.0     0.0     0.0   \n\n       pixel10  ...  pixel775  pixel776  pixel777  pixel778  pixel779  \\\n0          0.0  ...       0.0       0.0       0.0       0.0       0.0   \n1          0.0  ...       0.0       0.0       0.0       0.0       0.0   \n2          0.0  ...       0.0       0.0       0.0       0.0       0.0   \n3          0.0  ...       0.0       0.0       0.0       0.0       0.0   \n4          0.0  ...       0.0       0.0       0.0       0.0       0.0   \n...        ...  ...       ...       ...       ...       ...       ...   \n62995      0.0  ...       0.0       0.0       0.0       0.0       0.0   \n62996      0.0  ...       0.0       0.0       0.0       0.0       0.0   \n62997      0.0  ...       0.0       0.0       0.0       0.0       0.0   \n62998      0.0  ...       0.0       0.0       0.0       0.0       0.0   \n62999      0.0  ...       0.0       0.0       0.0       0.0       0.0   \n\n       pixel780  pixel781  pixel782  pixel783  pixel784  \n0           0.0       0.0       0.0       0.0       0.0  \n1           0.0       0.0       0.0       0.0       0.0  \n2           0.0       0.0       0.0       0.0       0.0  \n3           0.0       0.0       0.0       0.0       0.0  \n4           0.0       0.0       0.0       0.0       0.0  \n...         ...       ...       ...       ...       ...  \n62995       0.0       0.0       0.0       0.0       0.0  \n62996       0.0       0.0       0.0       0.0       0.0  \n62997       0.0       0.0       0.0       0.0       0.0  \n62998       0.0       0.0       0.0       0.0       0.0  \n62999       0.0       0.0       0.0       0.0       0.0  \n\n[63000 rows x 784 columns]",
      "text/html": "<div>\n<style scoped>\n    .dataframe tbody tr th:only-of-type {\n        vertical-align: middle;\n    }\n\n    .dataframe tbody tr th {\n        vertical-align: top;\n    }\n\n    .dataframe thead th {\n        text-align: right;\n    }\n</style>\n<table border=\"1\" class=\"dataframe\">\n  <thead>\n    <tr style=\"text-align: right;\">\n      <th></th>\n      <th>pixel1</th>\n      <th>pixel2</th>\n      <th>pixel3</th>\n      <th>pixel4</th>\n      <th>pixel5</th>\n      <th>pixel6</th>\n      <th>pixel7</th>\n      <th>pixel8</th>\n      <th>pixel9</th>\n      <th>pixel10</th>\n      <th>...</th>\n      <th>pixel775</th>\n      <th>pixel776</th>\n      <th>pixel777</th>\n      <th>pixel778</th>\n      <th>pixel779</th>\n      <th>pixel780</th>\n      <th>pixel781</th>\n      <th>pixel782</th>\n      <th>pixel783</th>\n      <th>pixel784</th>\n    </tr>\n  </thead>\n  <tbody>\n    <tr>\n      <th>0</th>\n      <td>0.0</td>\n      <td>0.0</td>\n      <td>0.0</td>\n      <td>0.0</td>\n      <td>0.0</td>\n      <td>0.0</td>\n      <td>0.0</td>\n      <td>0.0</td>\n      <td>0.0</td>\n      <td>0.0</td>\n      <td>...</td>\n      <td>0.0</td>\n      <td>0.0</td>\n      <td>0.0</td>\n      <td>0.0</td>\n      <td>0.0</td>\n      <td>0.0</td>\n      <td>0.0</td>\n      <td>0.0</td>\n      <td>0.0</td>\n      <td>0.0</td>\n    </tr>\n    <tr>\n      <th>1</th>\n      <td>0.0</td>\n      <td>0.0</td>\n      <td>0.0</td>\n      <td>0.0</td>\n      <td>0.0</td>\n      <td>0.0</td>\n      <td>0.0</td>\n      <td>0.0</td>\n      <td>0.0</td>\n      <td>0.0</td>\n      <td>...</td>\n      <td>0.0</td>\n      <td>0.0</td>\n      <td>0.0</td>\n      <td>0.0</td>\n      <td>0.0</td>\n      <td>0.0</td>\n      <td>0.0</td>\n      <td>0.0</td>\n      <td>0.0</td>\n      <td>0.0</td>\n    </tr>\n    <tr>\n      <th>2</th>\n      <td>0.0</td>\n      <td>0.0</td>\n      <td>0.0</td>\n      <td>0.0</td>\n      <td>0.0</td>\n      <td>0.0</td>\n      <td>0.0</td>\n      <td>0.0</td>\n      <td>0.0</td>\n      <td>0.0</td>\n      <td>...</td>\n      <td>0.0</td>\n      <td>0.0</td>\n      <td>0.0</td>\n      <td>0.0</td>\n      <td>0.0</td>\n      <td>0.0</td>\n      <td>0.0</td>\n      <td>0.0</td>\n      <td>0.0</td>\n      <td>0.0</td>\n    </tr>\n    <tr>\n      <th>3</th>\n      <td>0.0</td>\n      <td>0.0</td>\n      <td>0.0</td>\n      <td>0.0</td>\n      <td>0.0</td>\n      <td>0.0</td>\n      <td>0.0</td>\n      <td>0.0</td>\n      <td>0.0</td>\n      <td>0.0</td>\n      <td>...</td>\n      <td>0.0</td>\n      <td>0.0</td>\n      <td>0.0</td>\n      <td>0.0</td>\n      <td>0.0</td>\n      <td>0.0</td>\n      <td>0.0</td>\n      <td>0.0</td>\n      <td>0.0</td>\n      <td>0.0</td>\n    </tr>\n    <tr>\n      <th>4</th>\n      <td>0.0</td>\n      <td>0.0</td>\n      <td>0.0</td>\n      <td>0.0</td>\n      <td>0.0</td>\n      <td>0.0</td>\n      <td>0.0</td>\n      <td>0.0</td>\n      <td>0.0</td>\n      <td>0.0</td>\n      <td>...</td>\n      <td>0.0</td>\n      <td>0.0</td>\n      <td>0.0</td>\n      <td>0.0</td>\n      <td>0.0</td>\n      <td>0.0</td>\n      <td>0.0</td>\n      <td>0.0</td>\n      <td>0.0</td>\n      <td>0.0</td>\n    </tr>\n    <tr>\n      <th>...</th>\n      <td>...</td>\n      <td>...</td>\n      <td>...</td>\n      <td>...</td>\n      <td>...</td>\n      <td>...</td>\n      <td>...</td>\n      <td>...</td>\n      <td>...</td>\n      <td>...</td>\n      <td>...</td>\n      <td>...</td>\n      <td>...</td>\n      <td>...</td>\n      <td>...</td>\n      <td>...</td>\n      <td>...</td>\n      <td>...</td>\n      <td>...</td>\n      <td>...</td>\n      <td>...</td>\n    </tr>\n    <tr>\n      <th>62995</th>\n      <td>0.0</td>\n      <td>0.0</td>\n      <td>0.0</td>\n      <td>0.0</td>\n      <td>0.0</td>\n      <td>0.0</td>\n      <td>0.0</td>\n      <td>0.0</td>\n      <td>0.0</td>\n      <td>0.0</td>\n      <td>...</td>\n      <td>0.0</td>\n      <td>0.0</td>\n      <td>0.0</td>\n      <td>0.0</td>\n      <td>0.0</td>\n      <td>0.0</td>\n      <td>0.0</td>\n      <td>0.0</td>\n      <td>0.0</td>\n      <td>0.0</td>\n    </tr>\n    <tr>\n      <th>62996</th>\n      <td>0.0</td>\n      <td>0.0</td>\n      <td>0.0</td>\n      <td>0.0</td>\n      <td>0.0</td>\n      <td>0.0</td>\n      <td>0.0</td>\n      <td>0.0</td>\n      <td>0.0</td>\n      <td>0.0</td>\n      <td>...</td>\n      <td>0.0</td>\n      <td>0.0</td>\n      <td>0.0</td>\n      <td>0.0</td>\n      <td>0.0</td>\n      <td>0.0</td>\n      <td>0.0</td>\n      <td>0.0</td>\n      <td>0.0</td>\n      <td>0.0</td>\n    </tr>\n    <tr>\n      <th>62997</th>\n      <td>0.0</td>\n      <td>0.0</td>\n      <td>0.0</td>\n      <td>0.0</td>\n      <td>0.0</td>\n      <td>0.0</td>\n      <td>0.0</td>\n      <td>0.0</td>\n      <td>0.0</td>\n      <td>0.0</td>\n      <td>...</td>\n      <td>0.0</td>\n      <td>0.0</td>\n      <td>0.0</td>\n      <td>0.0</td>\n      <td>0.0</td>\n      <td>0.0</td>\n      <td>0.0</td>\n      <td>0.0</td>\n      <td>0.0</td>\n      <td>0.0</td>\n    </tr>\n    <tr>\n      <th>62998</th>\n      <td>0.0</td>\n      <td>0.0</td>\n      <td>0.0</td>\n      <td>0.0</td>\n      <td>0.0</td>\n      <td>0.0</td>\n      <td>0.0</td>\n      <td>0.0</td>\n      <td>0.0</td>\n      <td>0.0</td>\n      <td>...</td>\n      <td>0.0</td>\n      <td>0.0</td>\n      <td>0.0</td>\n      <td>0.0</td>\n      <td>0.0</td>\n      <td>0.0</td>\n      <td>0.0</td>\n      <td>0.0</td>\n      <td>0.0</td>\n      <td>0.0</td>\n    </tr>\n    <tr>\n      <th>62999</th>\n      <td>0.0</td>\n      <td>0.0</td>\n      <td>0.0</td>\n      <td>0.0</td>\n      <td>0.0</td>\n      <td>0.0</td>\n      <td>0.0</td>\n      <td>0.0</td>\n      <td>0.0</td>\n      <td>0.0</td>\n      <td>...</td>\n      <td>0.0</td>\n      <td>0.0</td>\n      <td>0.0</td>\n      <td>0.0</td>\n      <td>0.0</td>\n      <td>0.0</td>\n      <td>0.0</td>\n      <td>0.0</td>\n      <td>0.0</td>\n      <td>0.0</td>\n    </tr>\n  </tbody>\n</table>\n<p>63000 rows × 784 columns</p>\n</div>"
     },
     "execution_count": 5,
     "metadata": {},
     "output_type": "execute_result"
    }
   ],
   "source": [
    "X_train"
   ],
   "metadata": {
    "collapsed": false,
    "pycharm": {
     "name": "#%%\n"
    }
   }
  },
  {
   "cell_type": "code",
   "execution_count": 6,
   "outputs": [],
   "source": [
    "data = Dataset(x=X, y=y)\n",
    "train = Dataset(x=X_train, y=y_train)\n",
    "test = Dataset(x=X_test, y=y_test)"
   ],
   "metadata": {
    "collapsed": false,
    "pycharm": {
     "name": "#%%\n"
    }
   }
  },
  {
   "cell_type": "code",
   "execution_count": 7,
   "outputs": [
    {
     "data": {
      "text/plain": "<Figure size 432x288 with 1 Axes>",
      "image/png": "[encoded data removed]"
     },
     "metadata": {
      "needs_background": "light"
     },
     "output_type": "display_data"
    }
   ],
   "source": [
    "data.digit_distribution()"
   ],
   "metadata": {
    "collapsed": false,
    "pycharm": {
     "name": "#%%\n"
    }
   }
  },
  {
   "cell_type": "markdown",
   "source": [
    "## Plotting the mean distribution"
   ],
   "metadata": {
    "collapsed": false,
    "pycharm": {
     "name": "#%% md\n"
    }
   }
  },
  {
   "cell_type": "code",
   "execution_count": 8,
   "outputs": [
    {
     "name": "stderr",
     "output_type": "stream",
     "text": [
      "2022-12-23 12:58:48.310 | INFO     | assignment_2.digits_classifiers.utils:plot_digit:77 - Saving C:\\Users\\user\\Documents\\GitHub\\AI_assignments\\assignment_2\\digits_classifiers\\images\\0_mean\n",
      "2022-12-23 12:58:48.529 | INFO     | assignment_2.digits_classifiers.utils:plot_digit:77 - Saving C:\\Users\\user\\Documents\\GitHub\\AI_assignments\\assignment_2\\digits_classifiers\\images\\1_mean\n",
      "2022-12-23 12:58:48.763 | INFO     | assignment_2.digits_classifiers.utils:plot_digit:77 - Saving C:\\Users\\user\\Documents\\GitHub\\AI_assignments\\assignment_2\\digits_classifiers\\images\\2_mean\n",
      "2022-12-23 12:58:48.998 | INFO     | assignment_2.digits_classifiers.utils:plot_digit:77 - Saving C:\\Users\\user\\Documents\\GitHub\\AI_assignments\\assignment_2\\digits_classifiers\\images\\3_mean\n",
      "2022-12-23 12:58:49.248 | INFO     | assignment_2.digits_classifiers.utils:plot_digit:77 - Saving C:\\Users\\user\\Documents\\GitHub\\AI_assignments\\assignment_2\\digits_classifiers\\images\\4_mean\n",
      "2022-12-23 12:58:49.498 | INFO     | assignment_2.digits_classifiers.utils:plot_digit:77 - Saving C:\\Users\\user\\Documents\\GitHub\\AI_assignments\\assignment_2\\digits_classifiers\\images\\5_mean\n",
      "2022-12-23 12:58:49.763 | INFO     | assignment_2.digits_classifiers.utils:plot_digit:77 - Saving C:\\Users\\user\\Documents\\GitHub\\AI_assignments\\assignment_2\\digits_classifiers\\images\\6_mean\n",
      "2022-12-23 12:58:50.013 | INFO     | assignment_2.digits_classifiers.utils:plot_digit:77 - Saving C:\\Users\\user\\Documents\\GitHub\\AI_assignments\\assignment_2\\digits_classifiers\\images\\7_mean\n",
      "2022-12-23 12:58:50.248 | INFO     | assignment_2.digits_classifiers.utils:plot_digit:77 - Saving C:\\Users\\user\\Documents\\GitHub\\AI_assignments\\assignment_2\\digits_classifiers\\images\\8_mean\n",
      "2022-12-23 12:58:50.513 | INFO     | assignment_2.digits_classifiers.utils:plot_digit:77 - Saving C:\\Users\\user\\Documents\\GitHub\\AI_assignments\\assignment_2\\digits_classifiers\\images\\9_mean\n"
     ]
    },
    {
     "data": {
      "text/plain": "<Figure size 432x288 with 1 Axes>",
      "image/png": "[encoded data removed]"
     },
     "metadata": {
      "needs_background": "light"
     },
     "output_type": "display_data"
    },
    {
     "data": {
      "text/plain": "<Figure size 432x288 with 1 Axes>",
      "image/png": "[encoded data removed]"
     },
     "metadata": {
      "needs_background": "light"
     },
     "output_type": "display_data"
    },
    {
     "data": {
      "text/plain": "<Figure size 432x288 with 1 Axes>",
      "image/png": "[encoded data removed]"
     },
     "metadata": {
      "needs_background": "light"
     },
     "output_type": "display_data"
    },
    {
     "data": {
      "text/plain": "<Figure size 432x288 with 1 Axes>",
      "image/png": "[encoded data removed]"
     },
     "metadata": {
      "needs_background": "light"
     },
     "output_type": "display_data"
    },
    {
     "data": {
      "text/plain": "<Figure size 432x288 with 1 Axes>",
      "image/png": "[encoded data removed]"
     },
     "metadata": {
      "needs_background": "light"
     },
     "output_type": "display_data"
    },
    {
     "data": {
      "text/plain": "<Figure size 432x288 with 1 Axes>",
      "image/png": "[encoded data removed]"
     },
     "metadata": {
      "needs_background": "light"
     },
     "output_type": "display_data"
    },
    {
     "data": {
      "text/plain": "<Figure size 432x288 with 1 Axes>",
      "image/png": "[encoded data removed]"
     },
     "metadata": {
      "needs_background": "light"
     },
     "output_type": "display_data"
    },
    {
     "data": {
      "text/plain": "<Figure size 432x288 with 1 Axes>",
      "image/png": "[encoded data removed]"
     },
     "metadata": {
      "needs_background": "light"
     },
     "output_type": "display_data"
    },
    {
     "data": {
      "text/plain": "<Figure size 432x288 with 1 Axes>",
      "image/png": "[encoded data removed]"
     },
     "metadata": {
      "needs_background": "light"
     },
     "output_type": "display_data"
    },
    {
     "data": {
      "text/plain": "<Figure size 432x288 with 1 Axes>",
      "image/png": "[encoded data removed]"
     },
     "metadata": {
      "needs_background": "light"
     },
     "output_type": "display_data"
    }
   ],
   "source": [
    "import numpy as np\n",
    "\n",
    "from assignment_2.digits_classifiers.utils import chunks, plot_digit\n",
    "\n",
    "def mean_distribution():\n",
    "    for i in range(10):\n",
    "        pixels = [(np.array(X.loc[y==i]))[:, c].mean() for c in range(len(X.columns))]\n",
    "        chunks_ = chunks(lst=pixels, n=28)\n",
    "        plot_digit(pixels=chunks_, save=True, file_name=f\"{i}_mean\")\n",
    "\n",
    "mean_distribution()"
   ],
   "metadata": {
    "collapsed": false,
    "pycharm": {
     "name": "#%%\n"
    }
   }
  },
  {
   "cell_type": "markdown",
   "source": [
    "## Modelling bayes"
   ],
   "metadata": {
    "collapsed": false
   }
  },
  {
   "cell_type": "code",
   "execution_count": 8,
   "outputs": [],
   "source": [
    "nb = NaiveBayes(train=train, test=test)"
   ],
   "metadata": {
    "collapsed": false,
    "pycharm": {
     "name": "#%%\n"
    }
   }
  },
  {
   "cell_type": "code",
   "execution_count": 9,
   "outputs": [
    {
     "name": "stderr",
     "output_type": "stream",
     "text": [
      "C:\\Users\\user\\Documents\\GitHub\\AI_assignments\\assignment_2\\digits_classifiers\\classifiers.py:308: RuntimeWarning: invalid value encountered in double_scalars\n",
      "  k = mean * (1-mean) / var - 1  # K = ( E[X] * (1 - E[X]) / Var[X] ) - 1\n"
     ]
    },
    {
     "name": "stdout",
     "output_type": "stream",
     "text": [
      "Wall time: 859 ms\n"
     ]
    }
   ],
   "source": [
    "%%time\n",
    "nb.train()"
   ],
   "metadata": {
    "collapsed": false,
    "pycharm": {
     "name": "#%%\n"
    }
   }
  },
  {
   "cell_type": "code",
   "execution_count": 10,
   "outputs": [
    {
     "name": "stdout",
     "output_type": "stream",
     "text": [
      " > 0.000000\n",
      " > 0.428571\n",
      " > 0.857143\n",
      " > 1.285714\n",
      " > 1.714286\n",
      " > 2.142857\n",
      " > 2.571429\n",
      " > 3.000000\n",
      " > 3.428571\n",
      " > 3.857143\n",
      " > 4.285714\n",
      " > 4.714286\n",
      " > 5.142857\n",
      " > 5.571429\n",
      " > 6.000000\n",
      " > 6.428571\n",
      " > 6.857143\n",
      " > 7.285714\n",
      " > 7.714286\n",
      " > 8.142857\n",
      " > 8.571429\n",
      " > 9.000000\n",
      " > 9.428571\n",
      " > 9.857143\n",
      " > 10.285714\n",
      " > 10.714286\n",
      " > 11.142857\n",
      " > 11.571429\n",
      " > 12.000000\n",
      " > 12.428571\n",
      " > 12.857143\n",
      " > 13.285714\n",
      " > 13.714286\n",
      " > 14.142857\n",
      " > 14.571429\n",
      " > 15.000000\n",
      " > 15.428571\n",
      " > 15.857143\n",
      " > 16.285714\n",
      " > 16.714286\n",
      " > 17.142857\n",
      " > 17.571429\n",
      " > 18.000000\n",
      " > 18.428571\n",
      " > 18.857143\n",
      " > 19.285714\n",
      " > 19.714286\n",
      " > 20.142857\n",
      " > 20.571429\n",
      " > 21.000000\n",
      " > 21.428571\n",
      " > 21.857143\n",
      " > 22.285714\n",
      " > 22.714286\n",
      " > 23.142857\n",
      " > 23.571429\n",
      " > 24.000000\n",
      " > 24.428571\n",
      " > 24.857143\n",
      " > 25.285714\n",
      " > 25.714286\n",
      " > 26.142857\n",
      " > 26.571429\n",
      " > 27.000000\n",
      " > 27.428571\n",
      " > 27.857143\n",
      " > 28.285714\n",
      " > 28.714286\n",
      " > 29.142857\n",
      " > 29.571429\n",
      " > 30.000000\n",
      " > 30.428571\n",
      " > 30.857143\n",
      " > 31.285714\n",
      " > 31.714286\n",
      " > 32.142857\n",
      " > 32.571429\n",
      " > 33.000000\n",
      " > 33.428571\n",
      " > 33.857143\n",
      " > 34.285714\n",
      " > 34.714286\n",
      " > 35.142857\n",
      " > 35.571429\n",
      " > 36.000000\n",
      " > 36.428571\n",
      " > 36.857143\n",
      " > 37.285714\n",
      " > 37.714286\n",
      " > 38.142857\n",
      " > 38.571429\n",
      " > 39.000000\n",
      " > 39.428571\n",
      " > 39.857143\n",
      " > 40.285714\n",
      " > 40.714286\n",
      " > 41.142857\n",
      " > 41.571429\n",
      " > 42.000000\n",
      " > 42.428571\n",
      " > 42.857143\n",
      " > 43.285714\n",
      " > 43.714286\n",
      " > 44.142857\n",
      " > 44.571429\n",
      " > 45.000000\n",
      " > 45.428571\n",
      " > 45.857143\n",
      " > 46.285714\n",
      " > 46.714286\n",
      " > 47.142857\n",
      " > 47.571429\n",
      " > 48.000000\n",
      " > 48.428571\n",
      " > 48.857143\n",
      " > 49.285714\n",
      " > 49.714286\n",
      " > 50.142857\n",
      " > 50.571429\n",
      " > 51.000000\n",
      " > 51.428571\n",
      " > 51.857143\n",
      " > 52.285714\n",
      " > 52.714286\n",
      " > 53.142857\n",
      " > 53.571429\n",
      " > 54.000000\n",
      " > 54.428571\n",
      " > 54.857143\n",
      " > 55.285714\n",
      " > 55.714286\n",
      " > 56.142857\n",
      " > 56.571429\n",
      " > 57.000000\n",
      " > 57.428571\n",
      " > 57.857143\n",
      " > 58.285714\n",
      " > 58.714286\n",
      " > 59.142857\n",
      " > 59.571429\n",
      " > 60.000000\n",
      " > 60.428571\n",
      " > 60.857143\n",
      " > 61.285714\n",
      " > 61.714286\n",
      " > 62.142857\n",
      " > 62.571429\n",
      " > 63.000000\n",
      " > 63.428571\n",
      " > 63.857143\n",
      " > 64.285714\n",
      " > 64.714286\n",
      " > 65.142857\n",
      " > 65.571429\n",
      " > 66.000000\n",
      " > 66.428571\n",
      " > 66.857143\n",
      " > 67.285714\n",
      " > 67.714286\n",
      " > 68.142857\n",
      " > 68.571429\n",
      " > 69.000000\n",
      " > 69.428571\n",
      " > 69.857143\n",
      " > 70.285714\n",
      " > 70.714286\n",
      " > 71.142857\n",
      " > 71.571429\n",
      " > 72.000000\n",
      " > 72.428571\n",
      " > 72.857143\n",
      " > 73.285714\n",
      " > 73.714286\n",
      " > 74.142857\n",
      " > 74.571429\n",
      " > 75.000000\n",
      " > 75.428571\n",
      " > 75.857143\n",
      " > 76.285714\n",
      " > 76.714286\n",
      " > 77.142857\n",
      " > 77.571429\n",
      " > 78.000000\n",
      " > 78.428571\n",
      " > 78.857143\n",
      " > 79.285714\n",
      " > 79.714286\n",
      " > 80.142857\n",
      " > 80.571429\n",
      " > 81.000000\n",
      " > 81.428571\n",
      " > 81.857143\n",
      " > 82.285714\n",
      " > 82.714286\n",
      " > 83.142857\n",
      " > 83.571429\n",
      " > 84.000000\n",
      " > 84.428571\n",
      " > 84.857143\n",
      " > 85.285714\n",
      " > 85.714286\n",
      " > 86.142857\n",
      " > 86.571429\n",
      " > 87.000000\n",
      " > 87.428571\n",
      " > 87.857143\n",
      " > 88.285714\n",
      " > 88.714286\n",
      " > 89.142857\n",
      " > 89.571429\n",
      " > 90.000000\n",
      " > 90.428571\n",
      " > 90.857143\n",
      " > 91.285714\n",
      " > 91.714286\n",
      " > 92.142857\n",
      " > 92.571429\n",
      " > 93.000000\n",
      " > 93.428571\n",
      " > 93.857143\n",
      " > 94.285714\n",
      " > 94.714286\n",
      " > 95.142857\n",
      " > 95.571429\n",
      " > 96.000000\n",
      " > 96.428571\n",
      " > 96.857143\n",
      " > 97.285714\n",
      " > 97.714286\n",
      " > 98.142857\n",
      " > 98.571429\n",
      " > 99.000000\n",
      " > 99.428571\n",
      " > 99.857143\n",
      "Wall time: 1h 20min 17s\n"
     ]
    }
   ],
   "source": [
    "%%time\n",
    "nb.predict()"
   ],
   "metadata": {
    "collapsed": false,
    "pycharm": {
     "name": "#%%\n"
    }
   }
  },
  {
   "cell_type": "code",
   "execution_count": 11,
   "outputs": [
    {
     "data": {
      "text/plain": "0.8425714285714285"
     },
     "execution_count": 11,
     "metadata": {},
     "output_type": "execute_result"
    }
   ],
   "source": [
    "nb.accuracy"
   ],
   "metadata": {
    "collapsed": false,
    "pycharm": {
     "name": "#%%\n"
    }
   }
  },
  {
   "cell_type": "code",
   "execution_count": 12,
   "outputs": [
    {
     "data": {
      "text/plain": "<Figure size 432x288 with 2 Axes>",
      "image/png": "[encoded data removed]"
     },
     "metadata": {
      "needs_background": "light"
     },
     "output_type": "display_data"
    }
   ],
   "source": [
    "nb.confusion_matrix()"
   ],
   "metadata": {
    "collapsed": false,
    "pycharm": {
     "name": "#%%\n"
    }
   }
  },
  {
   "cell_type": "markdown",
   "source": [
    "## Fool data"
   ],
   "metadata": {
    "collapsed": false,
    "pycharm": {
     "name": "#%% md\n"
    }
   }
  },
  {
   "cell_type": "code",
   "execution_count": 16,
   "outputs": [],
   "source": [
    "import numpy as np\n",
    "\n",
    "from assignment_2.digits_classifiers.io import read_fool_dataset\n",
    "from assignment_2.digits_classifiers.utils import chunks, plot_digit\n",
    "\n",
    "def get_one_class_dataset() -> pd.DataFrame:\n",
    "    return pd.concat(\n",
    "        [ X.loc[y==i].head(1) for i in range(len(set(y))) ]\n",
    "    )\n",
    "\n",
    "def get_with_fool_dataset() -> pd.DataFrame:\n",
    "    with_fool = pd.concat([\n",
    "        get_one_class_dataset(),\n",
    "        read_fool_dataset()\n",
    "    ])\n",
    "    return with_fool.reset_index(drop=True)\n",
    "\n",
    "with_fools = np.array(get_with_fool_dataset())"
   ],
   "metadata": {
    "collapsed": false,
    "pycharm": {
     "name": "#%%\n"
    }
   }
  },
  {
   "cell_type": "code",
   "execution_count": 17,
   "outputs": [
    {
     "data": {
      "text/plain": "<Figure size 432x288 with 1 Axes>",
      "image/png": "[encoded data removed]"
     },
     "metadata": {
      "needs_background": "light"
     },
     "output_type": "display_data"
    },
    {
     "data": {
      "text/plain": "<Figure size 432x288 with 1 Axes>",
      "image/png": "[encoded data removed]"
     },
     "metadata": {
      "needs_background": "light"
     },
     "output_type": "display_data"
    },
    {
     "data": {
      "text/plain": "<Figure size 432x288 with 1 Axes>",
      "image/png": "[encoded data removed]"
     },
     "metadata": {
      "needs_background": "light"
     },
     "output_type": "display_data"
    },
    {
     "data": {
      "text/plain": "<Figure size 432x288 with 1 Axes>",
      "image/png": "[encoded data removed]"
     },
     "metadata": {
      "needs_background": "light"
     },
     "output_type": "display_data"
    },
    {
     "data": {
      "text/plain": "<Figure size 432x288 with 1 Axes>",
      "image/png": "[encoded data removed]"
     },
     "metadata": {
      "needs_background": "light"
     },
     "output_type": "display_data"
    },
    {
     "data": {
      "text/plain": "<Figure size 432x288 with 1 Axes>",
      "image/png": "[encoded data removed]"
     },
     "metadata": {
      "needs_background": "light"
     },
     "output_type": "display_data"
    },
    {
     "data": {
      "text/plain": "<Figure size 432x288 with 1 Axes>",
      "image/png": "[encoded data removed]"
     },
     "metadata": {
      "needs_background": "light"
     },
     "output_type": "display_data"
    },
    {
     "data": {
      "text/plain": "<Figure size 432x288 with 1 Axes>",
      "image/png": "[encoded data removed]"
     },
     "metadata": {
      "needs_background": "light"
     },
     "output_type": "display_data"
    },
    {
     "data": {
      "text/plain": "<Figure size 432x288 with 1 Axes>",
      "image/png": "[encoded data removed]"
     },
     "metadata": {
      "needs_background": "light"
     },
     "output_type": "display_data"
    },
    {
     "data": {
      "text/plain": "<Figure size 432x288 with 1 Axes>",
      "image/png": "[encoded data removed]"
     },
     "metadata": {
      "needs_background": "light"
     },
     "output_type": "display_data"
    },
    {
     "data": {
      "text/plain": "<Figure size 432x288 with 1 Axes>",
      "image/png": "[encoded data removed]"
     },
     "metadata": {
      "needs_background": "light"
     },
     "output_type": "display_data"
    },
    {
     "data": {
      "text/plain": "<Figure size 432x288 with 1 Axes>",
      "image/png": "[encoded data removed]"
     },
     "metadata": {
      "needs_background": "light"
     },
     "output_type": "display_data"
    },
    {
     "data": {
      "text/plain": "<Figure size 432x288 with 1 Axes>",
      "image/png": "[encoded data removed]"
     },
     "metadata": {
      "needs_background": "light"
     },
     "output_type": "display_data"
    },
    {
     "data": {
      "text/plain": "<Figure size 432x288 with 1 Axes>",
      "image/png": "[encoded data removed]"
     },
     "metadata": {
      "needs_background": "light"
     },
     "output_type": "display_data"
    },
    {
     "data": {
      "text/plain": "<Figure size 432x288 with 1 Axes>",
      "image/png": "[encoded data removed]"
     },
     "metadata": {
      "needs_background": "light"
     },
     "output_type": "display_data"
    },
    {
     "data": {
      "text/plain": "<Figure size 432x288 with 1 Axes>",
      "image/png": "[encoded data removed]"
     },
     "metadata": {
      "needs_background": "light"
     },
     "output_type": "display_data"
    }
   ],
   "source": [
    "def plot_with_fools():\n",
    "    for i in range(with_fools.shape[0]):\n",
    "        chunks_ = chunks(lst=with_fools[i], n=28)\n",
    "        plot_digit(pixels=chunks_)\n",
    "\n",
    "plot_with_fools()"
   ],
   "metadata": {
    "collapsed": false,
    "pycharm": {
     "name": "#%%\n"
    }
   }
  },
  {
   "cell_type": "code",
   "execution_count": 18,
   "outputs": [],
   "source": [
    "def get_products():\n",
    "\n",
    "    labels = [i for i in range(10)]\n",
    "\n",
    "    # probability products associated to each label\n",
    "    products = [{ label: prod for prod, label in nb.estimator._labels_products(with_fools[i])} for i in range(len(with_fools))]\n",
    "\n",
    "    # product converted to dictionary\n",
    "    as_dict = {\n",
    "        l : [product[l] for product in products]\n",
    "        for l in labels\n",
    "    }\n",
    "\n",
    "    # convert to dataframe\n",
    "    df = pd.DataFrame(as_dict)\n",
    "\n",
    "    # set index\n",
    "    df.set_index([[str(i) for i in range(10)] + ['A', 'eleven', 'grid', 'pi', 'smile', 'empty']], inplace=True)\n",
    "\n",
    "    return df"
   ],
   "metadata": {
    "collapsed": false,
    "pycharm": {
     "name": "#%%\n"
    }
   }
  },
  {
   "cell_type": "code",
   "execution_count": 19,
   "outputs": [
    {
     "data": {
      "text/plain": "                    0              1              2              3  \\\n0       3.858999e-203   0.000000e+00  4.673926e-279  3.717677e-277   \n1       7.426411e-242  9.415228e-123  1.851334e-170  4.119776e-183   \n2       1.892868e-287   0.000000e+00  4.788384e-239  1.817521e-284   \n3       6.075192e-277   0.000000e+00  2.481418e-255  2.432600e-223   \n4        0.000000e+00   0.000000e+00  6.398984e-294  3.033431e-296   \n5       3.289649e-271  8.595846e-304  5.243764e-259  2.396248e-227   \n6        0.000000e+00   0.000000e+00  2.395727e-254  6.375530e-281   \n7       8.819524e-255  1.944911e-308  2.478106e-255  1.913897e-261   \n8       1.278680e-284  1.700593e-234  1.000788e-239  4.029720e-245   \n9       7.667194e-266  4.156922e-271  4.529372e-240  6.059566e-249   \nA       2.016806e-287   0.000000e+00  3.382632e-247  2.176768e-250   \neleven  1.686934e-267   0.000000e+00  1.175200e-244  1.162500e-253   \ngrid     0.000000e+00   0.000000e+00   0.000000e+00   0.000000e+00   \npi       0.000000e+00   0.000000e+00   0.000000e+00   0.000000e+00   \nsmile    0.000000e+00   0.000000e+00   0.000000e+00   0.000000e+00   \nempty   6.230249e-146   3.149480e-77  5.499677e-115  1.635416e-117   \n\n                    4              5              6              7  \\\n0       8.314823e-301  4.075618e-250  1.271801e-285   0.000000e+00   \n1       6.820140e-187  2.591671e-175  1.239670e-206  2.841434e-197   \n2       9.169653e-283  1.655119e-267  3.297527e-274  6.710045e-307   \n3       1.014609e-281  3.352546e-242  5.277452e-308  4.559966e-307   \n4       2.716937e-247  1.132510e-290  1.236969e-316  9.766745e-286   \n5       4.849385e-274  1.726876e-224  1.047777e-253   0.000000e+00   \n6       1.109364e-271  5.492085e-269  1.921128e-210   0.000000e+00   \n7       4.211003e-214  1.722821e-228  9.896204e-244  1.713146e-176   \n8       1.575984e-252  1.494182e-226  2.120664e-265  8.084431e-259   \n9       6.767893e-191  2.436700e-220  8.112700e-226  1.188104e-197   \nA       6.826102e-263  5.416958e-246  1.010536e-245  6.452003e-320   \neleven  9.131302e-258  2.414097e-259  4.835689e-293   0.000000e+00   \ngrid     0.000000e+00   0.000000e+00   0.000000e+00   0.000000e+00   \npi       0.000000e+00   0.000000e+00   0.000000e+00   0.000000e+00   \nsmile    0.000000e+00   0.000000e+00   0.000000e+00   0.000000e+00   \nempty   1.902247e-100   9.834352e-98  7.984598e-116   1.676439e-94   \n\n                    8              9  \n0       6.238310e-278  1.357435e-310  \n1       9.462430e-163  6.707325e-196  \n2       1.540623e-259  4.166261e-284  \n3       2.545457e-228  6.083140e-276  \n4       7.372848e-316  2.791414e-283  \n5       1.467233e-240  2.851834e-278  \n6       1.369524e-267   0.000000e+00  \n7       1.497494e-234  1.077413e-195  \n8       8.213185e-204  1.132141e-244  \n9       1.808899e-222  5.634894e-170  \nA       5.002955e-264  2.160453e-268  \neleven  3.056146e-284  2.928375e-295  \ngrid     0.000000e+00   0.000000e+00  \npi       0.000000e+00   0.000000e+00  \nsmile    0.000000e+00   0.000000e+00  \nempty   9.144082e-130  1.124974e-106  ",
      "text/html": "<div>\n<style scoped>\n    .dataframe tbody tr th:only-of-type {\n        vertical-align: middle;\n    }\n\n    .dataframe tbody tr th {\n        vertical-align: top;\n    }\n\n    .dataframe thead th {\n        text-align: right;\n    }\n</style>\n<table border=\"1\" class=\"dataframe\">\n  <thead>\n    <tr style=\"text-align: right;\">\n      <th></th>\n      <th>0</th>\n      <th>1</th>\n      <th>2</th>\n      <th>3</th>\n      <th>4</th>\n      <th>5</th>\n      <th>6</th>\n      <th>7</th>\n      <th>8</th>\n      <th>9</th>\n    </tr>\n  </thead>\n  <tbody>\n    <tr>\n      <th>0</th>\n      <td>3.858999e-203</td>\n      <td>0.000000e+00</td>\n      <td>4.673926e-279</td>\n      <td>3.717677e-277</td>\n      <td>8.314823e-301</td>\n      <td>4.075618e-250</td>\n      <td>1.271801e-285</td>\n      <td>0.000000e+00</td>\n      <td>6.238310e-278</td>\n      <td>1.357435e-310</td>\n    </tr>\n    <tr>\n      <th>1</th>\n      <td>7.426411e-242</td>\n      <td>9.415228e-123</td>\n      <td>1.851334e-170</td>\n      <td>4.119776e-183</td>\n      <td>6.820140e-187</td>\n      <td>2.591671e-175</td>\n      <td>1.239670e-206</td>\n      <td>2.841434e-197</td>\n      <td>9.462430e-163</td>\n      <td>6.707325e-196</td>\n    </tr>\n    <tr>\n      <th>2</th>\n      <td>1.892868e-287</td>\n      <td>0.000000e+00</td>\n      <td>4.788384e-239</td>\n      <td>1.817521e-284</td>\n      <td>9.169653e-283</td>\n      <td>1.655119e-267</td>\n      <td>3.297527e-274</td>\n      <td>6.710045e-307</td>\n      <td>1.540623e-259</td>\n      <td>4.166261e-284</td>\n    </tr>\n    <tr>\n      <th>3</th>\n      <td>6.075192e-277</td>\n      <td>0.000000e+00</td>\n      <td>2.481418e-255</td>\n      <td>2.432600e-223</td>\n      <td>1.014609e-281</td>\n      <td>3.352546e-242</td>\n      <td>5.277452e-308</td>\n      <td>4.559966e-307</td>\n      <td>2.545457e-228</td>\n      <td>6.083140e-276</td>\n    </tr>\n    <tr>\n      <th>4</th>\n      <td>0.000000e+00</td>\n      <td>0.000000e+00</td>\n      <td>6.398984e-294</td>\n      <td>3.033431e-296</td>\n      <td>2.716937e-247</td>\n      <td>1.132510e-290</td>\n      <td>1.236969e-316</td>\n      <td>9.766745e-286</td>\n      <td>7.372848e-316</td>\n      <td>2.791414e-283</td>\n    </tr>\n    <tr>\n      <th>5</th>\n      <td>3.289649e-271</td>\n      <td>8.595846e-304</td>\n      <td>5.243764e-259</td>\n      <td>2.396248e-227</td>\n      <td>4.849385e-274</td>\n      <td>1.726876e-224</td>\n      <td>1.047777e-253</td>\n      <td>0.000000e+00</td>\n      <td>1.467233e-240</td>\n      <td>2.851834e-278</td>\n    </tr>\n    <tr>\n      <th>6</th>\n      <td>0.000000e+00</td>\n      <td>0.000000e+00</td>\n      <td>2.395727e-254</td>\n      <td>6.375530e-281</td>\n      <td>1.109364e-271</td>\n      <td>5.492085e-269</td>\n      <td>1.921128e-210</td>\n      <td>0.000000e+00</td>\n      <td>1.369524e-267</td>\n      <td>0.000000e+00</td>\n    </tr>\n    <tr>\n      <th>7</th>\n      <td>8.819524e-255</td>\n      <td>1.944911e-308</td>\n      <td>2.478106e-255</td>\n      <td>1.913897e-261</td>\n      <td>4.211003e-214</td>\n      <td>1.722821e-228</td>\n      <td>9.896204e-244</td>\n      <td>1.713146e-176</td>\n      <td>1.497494e-234</td>\n      <td>1.077413e-195</td>\n    </tr>\n    <tr>\n      <th>8</th>\n      <td>1.278680e-284</td>\n      <td>1.700593e-234</td>\n      <td>1.000788e-239</td>\n      <td>4.029720e-245</td>\n      <td>1.575984e-252</td>\n      <td>1.494182e-226</td>\n      <td>2.120664e-265</td>\n      <td>8.084431e-259</td>\n      <td>8.213185e-204</td>\n      <td>1.132141e-244</td>\n    </tr>\n    <tr>\n      <th>9</th>\n      <td>7.667194e-266</td>\n      <td>4.156922e-271</td>\n      <td>4.529372e-240</td>\n      <td>6.059566e-249</td>\n      <td>6.767893e-191</td>\n      <td>2.436700e-220</td>\n      <td>8.112700e-226</td>\n      <td>1.188104e-197</td>\n      <td>1.808899e-222</td>\n      <td>5.634894e-170</td>\n    </tr>\n    <tr>\n      <th>A</th>\n      <td>2.016806e-287</td>\n      <td>0.000000e+00</td>\n      <td>3.382632e-247</td>\n      <td>2.176768e-250</td>\n      <td>6.826102e-263</td>\n      <td>5.416958e-246</td>\n      <td>1.010536e-245</td>\n      <td>6.452003e-320</td>\n      <td>5.002955e-264</td>\n      <td>2.160453e-268</td>\n    </tr>\n    <tr>\n      <th>eleven</th>\n      <td>1.686934e-267</td>\n      <td>0.000000e+00</td>\n      <td>1.175200e-244</td>\n      <td>1.162500e-253</td>\n      <td>9.131302e-258</td>\n      <td>2.414097e-259</td>\n      <td>4.835689e-293</td>\n      <td>0.000000e+00</td>\n      <td>3.056146e-284</td>\n      <td>2.928375e-295</td>\n    </tr>\n    <tr>\n      <th>grid</th>\n      <td>0.000000e+00</td>\n      <td>0.000000e+00</td>\n      <td>0.000000e+00</td>\n      <td>0.000000e+00</td>\n      <td>0.000000e+00</td>\n      <td>0.000000e+00</td>\n      <td>0.000000e+00</td>\n      <td>0.000000e+00</td>\n      <td>0.000000e+00</td>\n      <td>0.000000e+00</td>\n    </tr>\n    <tr>\n      <th>pi</th>\n      <td>0.000000e+00</td>\n      <td>0.000000e+00</td>\n      <td>0.000000e+00</td>\n      <td>0.000000e+00</td>\n      <td>0.000000e+00</td>\n      <td>0.000000e+00</td>\n      <td>0.000000e+00</td>\n      <td>0.000000e+00</td>\n      <td>0.000000e+00</td>\n      <td>0.000000e+00</td>\n    </tr>\n    <tr>\n      <th>smile</th>\n      <td>0.000000e+00</td>\n      <td>0.000000e+00</td>\n      <td>0.000000e+00</td>\n      <td>0.000000e+00</td>\n      <td>0.000000e+00</td>\n      <td>0.000000e+00</td>\n      <td>0.000000e+00</td>\n      <td>0.000000e+00</td>\n      <td>0.000000e+00</td>\n      <td>0.000000e+00</td>\n    </tr>\n    <tr>\n      <th>empty</th>\n      <td>6.230249e-146</td>\n      <td>3.149480e-77</td>\n      <td>5.499677e-115</td>\n      <td>1.635416e-117</td>\n      <td>1.902247e-100</td>\n      <td>9.834352e-98</td>\n      <td>7.984598e-116</td>\n      <td>1.676439e-94</td>\n      <td>9.144082e-130</td>\n      <td>1.124974e-106</td>\n    </tr>\n  </tbody>\n</table>\n</div>"
     },
     "execution_count": 19,
     "metadata": {},
     "output_type": "execute_result"
    }
   ],
   "source": [
    "df = get_products()\n",
    "df"
   ],
   "metadata": {
    "collapsed": false,
    "pycharm": {
     "name": "#%%\n"
    }
   }
  },
  {
   "cell_type": "code",
   "execution_count": 20,
   "outputs": [],
   "source": [
    "from assignment_2.digits_classifiers.settings import get_root_dir, DATASETS\n",
    "\n",
    "out = os.path.join(get_root_dir(), DATASETS, \"bayes_fools.csv\")\n",
    "df.to_csv(out)"
   ],
   "metadata": {
    "collapsed": false,
    "pycharm": {
     "name": "#%%\n"
    }
   }
  },
  {
   "cell_type": "code",
   "execution_count": null,
   "outputs": [],
   "source": [],
   "metadata": {
    "collapsed": false,
    "pycharm": {
     "name": "#%%\n"
    }
   }
  }
 ],
 "metadata": {
  "kernelspec": {
   "display_name": "Python 3",
   "language": "python",
   "name": "python3"
  },
  "language_info": {
   "codemirror_mode": {
    "name": "ipython",
    "version": 2
   },
   "file_extension": ".py",
   "mimetype": "text/x-python",
   "name": "python",
   "nbconvert_exporter": "python",
   "pygments_lexer": "ipython2",
   "version": "2.7.6"
  }
 },
 "nbformat": 4,
 "nbformat_minor": 0
}