{
 "cells": [
  {
   "cell_type": "markdown",
   "source": [
    "# KNN\n"
   ],
   "metadata": {
    "collapsed": false
   }
  },
  {
   "cell_type": "code",
   "execution_count": 1,
   "outputs": [],
   "source": [
    "import pandas as pd\n",
    "from sklearn.model_selection import train_test_split\n",
    "\n",
    "from assignment_2.digits_classifiers.model import Dataset\n",
    "from assignment_2.digits_classifiers.classifiers import NaiveBayes\n",
    "from assignment_2.digits_classifiers.io import read_datasets"
   ],
   "metadata": {
    "collapsed": false,
    "pycharm": {
     "name": "#%%\n"
    }
   }
  },
  {
   "cell_type": "markdown",
   "source": [
    "## Import dataset"
   ],
   "metadata": {
    "collapsed": false
   }
  },
  {
   "cell_type": "code",
   "execution_count": 2,
   "outputs": [
    {
     "name": "stderr",
     "output_type": "stream",
     "text": [
      "2022-12-23 09:26:42.120 | INFO     | assignment_2.digits_classifiers.io:read_datasets:46 - Reading datasets\n"
     ]
    }
   ],
   "source": [
    "data = read_datasets()"
   ],
   "metadata": {
    "collapsed": false,
    "pycharm": {
     "name": "#%%\n"
    }
   }
  },
  {
   "cell_type": "code",
   "execution_count": 3,
   "outputs": [],
   "source": [
    "X, y = data"
   ],
   "metadata": {
    "collapsed": false,
    "pycharm": {
     "name": "#%%\n"
    }
   }
  },
  {
   "cell_type": "code",
   "execution_count": 4,
   "outputs": [],
   "source": [
    "X, _, y, _ = train_test_split(X, y, test_size=0.99)"
   ],
   "metadata": {
    "collapsed": false,
    "pycharm": {
     "name": "#%%\n"
    }
   }
  },
  {
   "cell_type": "markdown",
   "source": [
    "## Train Test split"
   ],
   "metadata": {
    "collapsed": false
   }
  },
  {
   "cell_type": "code",
   "execution_count": 5,
   "outputs": [],
   "source": [
    "X_train, X_test, y_train, y_test = train_test_split(X, y, test_size=0.1)\n",
    "X_train.reset_index(inplace=True, drop=True)\n",
    "X_test.reset_index(inplace=True, drop=True)"
   ],
   "metadata": {
    "collapsed": false,
    "pycharm": {
     "name": "#%%\n"
    }
   }
  },
  {
   "cell_type": "code",
   "execution_count": 6,
   "outputs": [
    {
     "data": {
      "text/plain": "     pixel1  pixel2  pixel3  pixel4  pixel5  pixel6  pixel7  pixel8  pixel9  \\\n0       0.0     0.0     0.0     0.0     0.0     0.0     0.0     0.0     0.0   \n1       0.0     0.0     0.0     0.0     0.0     0.0     0.0     0.0     0.0   \n2       0.0     0.0     0.0     0.0     0.0     0.0     0.0     0.0     0.0   \n3       0.0     0.0     0.0     0.0     0.0     0.0     0.0     0.0     0.0   \n4       0.0     0.0     0.0     0.0     0.0     0.0     0.0     0.0     0.0   \n..      ...     ...     ...     ...     ...     ...     ...     ...     ...   \n625     0.0     0.0     0.0     0.0     0.0     0.0     0.0     0.0     0.0   \n626     0.0     0.0     0.0     0.0     0.0     0.0     0.0     0.0     0.0   \n627     0.0     0.0     0.0     0.0     0.0     0.0     0.0     0.0     0.0   \n628     0.0     0.0     0.0     0.0     0.0     0.0     0.0     0.0     0.0   \n629     0.0     0.0     0.0     0.0     0.0     0.0     0.0     0.0     0.0   \n\n     pixel10  ...  pixel775  pixel776  pixel777  pixel778  pixel779  pixel780  \\\n0        0.0  ...       0.0       0.0       0.0       0.0       0.0       0.0   \n1        0.0  ...       0.0       0.0       0.0       0.0       0.0       0.0   \n2        0.0  ...       0.0       0.0       0.0       0.0       0.0       0.0   \n3        0.0  ...       0.0       0.0       0.0       0.0       0.0       0.0   \n4        0.0  ...       0.0       0.0       0.0       0.0       0.0       0.0   \n..       ...  ...       ...       ...       ...       ...       ...       ...   \n625      0.0  ...       0.0       0.0       0.0       0.0       0.0       0.0   \n626      0.0  ...       0.0       0.0       0.0       0.0       0.0       0.0   \n627      0.0  ...       0.0       0.0       0.0       0.0       0.0       0.0   \n628      0.0  ...       0.0       0.0       0.0       0.0       0.0       0.0   \n629      0.0  ...       0.0       0.0       0.0       0.0       0.0       0.0   \n\n     pixel781  pixel782  pixel783  pixel784  \n0         0.0       0.0       0.0       0.0  \n1         0.0       0.0       0.0       0.0  \n2         0.0       0.0       0.0       0.0  \n3         0.0       0.0       0.0       0.0  \n4         0.0       0.0       0.0       0.0  \n..        ...       ...       ...       ...  \n625       0.0       0.0       0.0       0.0  \n626       0.0       0.0       0.0       0.0  \n627       0.0       0.0       0.0       0.0  \n628       0.0       0.0       0.0       0.0  \n629       0.0       0.0       0.0       0.0  \n\n[630 rows x 784 columns]",
      "text/html": "<div>\n<style scoped>\n    .dataframe tbody tr th:only-of-type {\n        vertical-align: middle;\n    }\n\n    .dataframe tbody tr th {\n        vertical-align: top;\n    }\n\n    .dataframe thead th {\n        text-align: right;\n    }\n</style>\n<table border=\"1\" class=\"dataframe\">\n  <thead>\n    <tr style=\"text-align: right;\">\n      <th></th>\n      <th>pixel1</th>\n      <th>pixel2</th>\n      <th>pixel3</th>\n      <th>pixel4</th>\n      <th>pixel5</th>\n      <th>pixel6</th>\n      <th>pixel7</th>\n      <th>pixel8</th>\n      <th>pixel9</th>\n      <th>pixel10</th>\n      <th>...</th>\n      <th>pixel775</th>\n      <th>pixel776</th>\n      <th>pixel777</th>\n      <th>pixel778</th>\n      <th>pixel779</th>\n      <th>pixel780</th>\n      <th>pixel781</th>\n      <th>pixel782</th>\n      <th>pixel783</th>\n      <th>pixel784</th>\n    </tr>\n  </thead>\n  <tbody>\n    <tr>\n      <th>0</th>\n      <td>0.0</td>\n      <td>0.0</td>\n      <td>0.0</td>\n      <td>0.0</td>\n      <td>0.0</td>\n      <td>0.0</td>\n      <td>0.0</td>\n      <td>0.0</td>\n      <td>0.0</td>\n      <td>0.0</td>\n      <td>...</td>\n      <td>0.0</td>\n      <td>0.0</td>\n      <td>0.0</td>\n      <td>0.0</td>\n      <td>0.0</td>\n      <td>0.0</td>\n      <td>0.0</td>\n      <td>0.0</td>\n      <td>0.0</td>\n      <td>0.0</td>\n    </tr>\n    <tr>\n      <th>1</th>\n      <td>0.0</td>\n      <td>0.0</td>\n      <td>0.0</td>\n      <td>0.0</td>\n      <td>0.0</td>\n      <td>0.0</td>\n      <td>0.0</td>\n      <td>0.0</td>\n      <td>0.0</td>\n      <td>0.0</td>\n      <td>...</td>\n      <td>0.0</td>\n      <td>0.0</td>\n      <td>0.0</td>\n      <td>0.0</td>\n      <td>0.0</td>\n      <td>0.0</td>\n      <td>0.0</td>\n      <td>0.0</td>\n      <td>0.0</td>\n      <td>0.0</td>\n    </tr>\n    <tr>\n      <th>2</th>\n      <td>0.0</td>\n      <td>0.0</td>\n      <td>0.0</td>\n      <td>0.0</td>\n      <td>0.0</td>\n      <td>0.0</td>\n      <td>0.0</td>\n      <td>0.0</td>\n      <td>0.0</td>\n      <td>0.0</td>\n      <td>...</td>\n      <td>0.0</td>\n      <td>0.0</td>\n      <td>0.0</td>\n      <td>0.0</td>\n      <td>0.0</td>\n      <td>0.0</td>\n      <td>0.0</td>\n      <td>0.0</td>\n      <td>0.0</td>\n      <td>0.0</td>\n    </tr>\n    <tr>\n      <th>3</th>\n      <td>0.0</td>\n      <td>0.0</td>\n      <td>0.0</td>\n      <td>0.0</td>\n      <td>0.0</td>\n      <td>0.0</td>\n      <td>0.0</td>\n      <td>0.0</td>\n      <td>0.0</td>\n      <td>0.0</td>\n      <td>...</td>\n      <td>0.0</td>\n      <td>0.0</td>\n      <td>0.0</td>\n      <td>0.0</td>\n      <td>0.0</td>\n      <td>0.0</td>\n      <td>0.0</td>\n      <td>0.0</td>\n      <td>0.0</td>\n      <td>0.0</td>\n    </tr>\n    <tr>\n      <th>4</th>\n      <td>0.0</td>\n      <td>0.0</td>\n      <td>0.0</td>\n      <td>0.0</td>\n      <td>0.0</td>\n      <td>0.0</td>\n      <td>0.0</td>\n      <td>0.0</td>\n      <td>0.0</td>\n      <td>0.0</td>\n      <td>...</td>\n      <td>0.0</td>\n      <td>0.0</td>\n      <td>0.0</td>\n      <td>0.0</td>\n      <td>0.0</td>\n      <td>0.0</td>\n      <td>0.0</td>\n      <td>0.0</td>\n      <td>0.0</td>\n      <td>0.0</td>\n    </tr>\n    <tr>\n      <th>...</th>\n      <td>...</td>\n      <td>...</td>\n      <td>...</td>\n      <td>...</td>\n      <td>...</td>\n      <td>...</td>\n      <td>...</td>\n      <td>...</td>\n      <td>...</td>\n      <td>...</td>\n      <td>...</td>\n      <td>...</td>\n      <td>...</td>\n      <td>...</td>\n      <td>...</td>\n      <td>...</td>\n      <td>...</td>\n      <td>...</td>\n      <td>...</td>\n      <td>...</td>\n      <td>...</td>\n    </tr>\n    <tr>\n      <th>625</th>\n      <td>0.0</td>\n      <td>0.0</td>\n      <td>0.0</td>\n      <td>0.0</td>\n      <td>0.0</td>\n      <td>0.0</td>\n      <td>0.0</td>\n      <td>0.0</td>\n      <td>0.0</td>\n      <td>0.0</td>\n      <td>...</td>\n      <td>0.0</td>\n      <td>0.0</td>\n      <td>0.0</td>\n      <td>0.0</td>\n      <td>0.0</td>\n      <td>0.0</td>\n      <td>0.0</td>\n      <td>0.0</td>\n      <td>0.0</td>\n      <td>0.0</td>\n    </tr>\n    <tr>\n      <th>626</th>\n      <td>0.0</td>\n      <td>0.0</td>\n      <td>0.0</td>\n      <td>0.0</td>\n      <td>0.0</td>\n      <td>0.0</td>\n      <td>0.0</td>\n      <td>0.0</td>\n      <td>0.0</td>\n      <td>0.0</td>\n      <td>...</td>\n      <td>0.0</td>\n      <td>0.0</td>\n      <td>0.0</td>\n      <td>0.0</td>\n      <td>0.0</td>\n      <td>0.0</td>\n      <td>0.0</td>\n      <td>0.0</td>\n      <td>0.0</td>\n      <td>0.0</td>\n    </tr>\n    <tr>\n      <th>627</th>\n      <td>0.0</td>\n      <td>0.0</td>\n      <td>0.0</td>\n      <td>0.0</td>\n      <td>0.0</td>\n      <td>0.0</td>\n      <td>0.0</td>\n      <td>0.0</td>\n      <td>0.0</td>\n      <td>0.0</td>\n      <td>...</td>\n      <td>0.0</td>\n      <td>0.0</td>\n      <td>0.0</td>\n      <td>0.0</td>\n      <td>0.0</td>\n      <td>0.0</td>\n      <td>0.0</td>\n      <td>0.0</td>\n      <td>0.0</td>\n      <td>0.0</td>\n    </tr>\n    <tr>\n      <th>628</th>\n      <td>0.0</td>\n      <td>0.0</td>\n      <td>0.0</td>\n      <td>0.0</td>\n      <td>0.0</td>\n      <td>0.0</td>\n      <td>0.0</td>\n      <td>0.0</td>\n      <td>0.0</td>\n      <td>0.0</td>\n      <td>...</td>\n      <td>0.0</td>\n      <td>0.0</td>\n      <td>0.0</td>\n      <td>0.0</td>\n      <td>0.0</td>\n      <td>0.0</td>\n      <td>0.0</td>\n      <td>0.0</td>\n      <td>0.0</td>\n      <td>0.0</td>\n    </tr>\n    <tr>\n      <th>629</th>\n      <td>0.0</td>\n      <td>0.0</td>\n      <td>0.0</td>\n      <td>0.0</td>\n      <td>0.0</td>\n      <td>0.0</td>\n      <td>0.0</td>\n      <td>0.0</td>\n      <td>0.0</td>\n      <td>0.0</td>\n      <td>...</td>\n      <td>0.0</td>\n      <td>0.0</td>\n      <td>0.0</td>\n      <td>0.0</td>\n      <td>0.0</td>\n      <td>0.0</td>\n      <td>0.0</td>\n      <td>0.0</td>\n      <td>0.0</td>\n      <td>0.0</td>\n    </tr>\n  </tbody>\n</table>\n<p>630 rows × 784 columns</p>\n</div>"
     },
     "execution_count": 6,
     "metadata": {},
     "output_type": "execute_result"
    }
   ],
   "source": [
    "X_train"
   ],
   "metadata": {
    "collapsed": false,
    "pycharm": {
     "name": "#%%\n"
    }
   }
  },
  {
   "cell_type": "code",
   "execution_count": 7,
   "outputs": [],
   "source": [
    "data = Dataset(x=X, y=y)\n",
    "train = Dataset(x=X_train, y=y_train)\n",
    "test = Dataset(x=X_test, y=y_test)"
   ],
   "metadata": {
    "collapsed": false,
    "pycharm": {
     "name": "#%%\n"
    }
   }
  },
  {
   "cell_type": "code",
   "execution_count": 8,
   "outputs": [
    {
     "data": {
      "text/plain": "<Figure size 432x288 with 1 Axes>",
      "image/png": "[encoded data removed]"
     },
     "metadata": {
      "needs_background": "light"
     },
     "output_type": "display_data"
    }
   ],
   "source": [
    "data.digit_distribution()"
   ],
   "metadata": {
    "collapsed": false,
    "pycharm": {
     "name": "#%%\n"
    }
   }
  },
  {
   "cell_type": "markdown",
   "source": [
    "## Plotting the mean distribution"
   ],
   "metadata": {
    "collapsed": false,
    "pycharm": {
     "name": "#%% md\n"
    }
   }
  },
  {
   "cell_type": "code",
   "execution_count": 9,
   "outputs": [
    {
     "name": "stderr",
     "output_type": "stream",
     "text": [
      "2022-12-23 09:26:47.287 | INFO     | assignment_2.digits_classifiers.utils:plot_digit:77 - Saving C:\\Users\\user\\Documents\\GitHub\\AI_assignments\\assignment_2\\digits_classifiers\\images\\0_mean\n",
      "2022-12-23 09:26:47.521 | INFO     | assignment_2.digits_classifiers.utils:plot_digit:77 - Saving C:\\Users\\user\\Documents\\GitHub\\AI_assignments\\assignment_2\\digits_classifiers\\images\\1_mean\n",
      "2022-12-23 09:26:47.756 | INFO     | assignment_2.digits_classifiers.utils:plot_digit:77 - Saving C:\\Users\\user\\Documents\\GitHub\\AI_assignments\\assignment_2\\digits_classifiers\\images\\2_mean\n",
      "2022-12-23 09:26:47.990 | INFO     | assignment_2.digits_classifiers.utils:plot_digit:77 - Saving C:\\Users\\user\\Documents\\GitHub\\AI_assignments\\assignment_2\\digits_classifiers\\images\\3_mean\n",
      "2022-12-23 09:26:48.224 | INFO     | assignment_2.digits_classifiers.utils:plot_digit:77 - Saving C:\\Users\\user\\Documents\\GitHub\\AI_assignments\\assignment_2\\digits_classifiers\\images\\4_mean\n",
      "2022-12-23 09:26:48.459 | INFO     | assignment_2.digits_classifiers.utils:plot_digit:77 - Saving C:\\Users\\user\\Documents\\GitHub\\AI_assignments\\assignment_2\\digits_classifiers\\images\\5_mean\n",
      "2022-12-23 09:26:48.709 | INFO     | assignment_2.digits_classifiers.utils:plot_digit:77 - Saving C:\\Users\\user\\Documents\\GitHub\\AI_assignments\\assignment_2\\digits_classifiers\\images\\6_mean\n",
      "2022-12-23 09:26:48.974 | INFO     | assignment_2.digits_classifiers.utils:plot_digit:77 - Saving C:\\Users\\user\\Documents\\GitHub\\AI_assignments\\assignment_2\\digits_classifiers\\images\\7_mean\n",
      "2022-12-23 09:26:49.271 | INFO     | assignment_2.digits_classifiers.utils:plot_digit:77 - Saving C:\\Users\\user\\Documents\\GitHub\\AI_assignments\\assignment_2\\digits_classifiers\\images\\8_mean\n",
      "2022-12-23 09:26:49.618 | INFO     | assignment_2.digits_classifiers.utils:plot_digit:77 - Saving C:\\Users\\user\\Documents\\GitHub\\AI_assignments\\assignment_2\\digits_classifiers\\images\\9_mean\n"
     ]
    },
    {
     "data": {
      "text/plain": "<Figure size 432x288 with 1 Axes>",
      "image/png": "[encoded data removed]"
     },
     "metadata": {
      "needs_background": "light"
     },
     "output_type": "display_data"
    },
    {
     "data": {
      "text/plain": "<Figure size 432x288 with 1 Axes>",
      "image/png": "[encoded data removed]"
     },
     "metadata": {
      "needs_background": "light"
     },
     "output_type": "display_data"
    },
    {
     "data": {
      "text/plain": "<Figure size 432x288 with 1 Axes>",
      "image/png": "[encoded data removed]"
     },
     "metadata": {
      "needs_background": "light"
     },
     "output_type": "display_data"
    },
    {
     "data": {
      "text/plain": "<Figure size 432x288 with 1 Axes>",
      "image/png": "[encoded data removed]"
     },
     "metadata": {
      "needs_background": "light"
     },
     "output_type": "display_data"
    },
    {
     "data": {
      "text/plain": "<Figure size 432x288 with 1 Axes>",
      "image/png": "[encoded data removed]"
     },
     "metadata": {
      "needs_background": "light"
     },
     "output_type": "display_data"
    },
    {
     "data": {
      "text/plain": "<Figure size 432x288 with 1 Axes>",
      "image/png": "[encoded data removed]"
     },
     "metadata": {
      "needs_background": "light"
     },
     "output_type": "display_data"
    },
    {
     "data": {
      "text/plain": "<Figure size 432x288 with 1 Axes>",
      "image/png": "[encoded data removed]"
     },
     "metadata": {
      "needs_background": "light"
     },
     "output_type": "display_data"
    },
    {
     "data": {
      "text/plain": "<Figure size 432x288 with 1 Axes>",
      "image/png": "[encoded data removed]"
     },
     "metadata": {
      "needs_background": "light"
     },
     "output_type": "display_data"
    },
    {
     "data": {
      "text/plain": "<Figure size 432x288 with 1 Axes>",
      "image/png": "[encoded data removed]"
     },
     "metadata": {
      "needs_background": "light"
     },
     "output_type": "display_data"
    },
    {
     "data": {
      "text/plain": "<Figure size 432x288 with 1 Axes>",
      "image/png": "[encoded data removed]"
     },
     "metadata": {
      "needs_background": "light"
     },
     "output_type": "display_data"
    }
   ],
   "source": [
    "import numpy as np\n",
    "\n",
    "from assignment_2.digits_classifiers.utils import chunks, plot_digit\n",
    "\n",
    "def mean_distribution():\n",
    "    for i in range(10):\n",
    "        pixels = [(np.array(X.loc[y==i]))[:, c].mean() for c in range(len(X.columns))]\n",
    "        chunks_ = chunks(lst=pixels, n=28)\n",
    "        plot_digit(pixels=chunks_, save=True, file_name=f\"{i}_mean\")\n",
    "\n",
    "mean_distribution()"
   ],
   "metadata": {
    "collapsed": false,
    "pycharm": {
     "name": "#%%\n"
    }
   }
  },
  {
   "cell_type": "markdown",
   "source": [
    "## Modelling bayes"
   ],
   "metadata": {
    "collapsed": false
   }
  },
  {
   "cell_type": "code",
   "execution_count": 10,
   "outputs": [],
   "source": [
    "nb = NaiveBayes(train=train, test=test)"
   ],
   "metadata": {
    "collapsed": false,
    "pycharm": {
     "name": "#%%\n"
    }
   }
  },
  {
   "cell_type": "code",
   "execution_count": 11,
   "outputs": [
    {
     "name": "stderr",
     "output_type": "stream",
     "text": [
      "C:\\Users\\user\\Documents\\GitHub\\AI_assignments\\assignment_2\\digits_classifiers\\classifiers.py:302: RuntimeWarning: invalid value encountered in double_scalars\n",
      "  k = mean * (1-mean) / var - 1  # K = ( E[X] * (1 - E[X]) / Var[X] ) - 1\n"
     ]
    },
    {
     "name": "stdout",
     "output_type": "stream",
     "text": [
      "Wall time: 234 ms\n"
     ]
    }
   ],
   "source": [
    "%%time\n",
    "nb.train()"
   ],
   "metadata": {
    "collapsed": false,
    "pycharm": {
     "name": "#%%\n"
    }
   }
  },
  {
   "cell_type": "code",
   "execution_count": 12,
   "outputs": [
    {
     "name": "stdout",
     "output_type": "stream",
     "text": [
      " > 0.000000\n",
      " > 42.857143\n",
      " > 85.714286\n",
      "Wall time: 37.2 s\n"
     ]
    }
   ],
   "source": [
    "%%time\n",
    "nb.predict()"
   ],
   "metadata": {
    "collapsed": false,
    "pycharm": {
     "name": "#%%\n"
    }
   }
  },
  {
   "cell_type": "code",
   "execution_count": 13,
   "outputs": [
    {
     "data": {
      "text/plain": "0.7571428571428571"
     },
     "execution_count": 13,
     "metadata": {},
     "output_type": "execute_result"
    }
   ],
   "source": [
    "nb.accuracy"
   ],
   "metadata": {
    "collapsed": false,
    "pycharm": {
     "name": "#%%\n"
    }
   }
  },
  {
   "cell_type": "code",
   "execution_count": 14,
   "outputs": [
    {
     "data": {
      "text/plain": "<Figure size 432x288 with 2 Axes>",
      "image/png": "[encoded data removed]"
     },
     "metadata": {
      "needs_background": "light"
     },
     "output_type": "display_data"
    }
   ],
   "source": [
    "nb.confusion_matrix()"
   ],
   "metadata": {
    "collapsed": false,
    "pycharm": {
     "name": "#%%\n"
    }
   }
  },
  {
   "cell_type": "markdown",
   "source": [
    "## Fool data"
   ],
   "metadata": {
    "collapsed": false,
    "pycharm": {
     "name": "#%% md\n"
    }
   }
  },
  {
   "cell_type": "code",
   "execution_count": 40,
   "outputs": [],
   "source": [
    "from assignment_2.digits_classifiers.io import read_fool_dataset\n",
    "\n",
    "\n",
    "def get_one_class_dataset() -> pd.DataFrame:\n",
    "    return pd.concat(\n",
    "        [ X.loc[y==i].head(1) for i in range(len(set(y))) ]\n",
    "    )\n",
    "\n",
    "def get_with_fool_dataset() -> pd.DataFrame:\n",
    "    with_fool = pd.concat([\n",
    "        get_one_class_dataset(),\n",
    "        read_fool_dataset()\n",
    "    ])\n",
    "    return with_fool.reset_index(drop=True)\n",
    "\n",
    "with_fools = np.array(get_with_fool_dataset())"
   ],
   "metadata": {
    "collapsed": false,
    "pycharm": {
     "name": "#%%\n"
    }
   }
  },
  {
   "cell_type": "code",
   "execution_count": 73,
   "outputs": [
    {
     "data": {
      "text/plain": "<Figure size 432x288 with 1 Axes>",
      "image/png": "[encoded data removed]"
     },
     "metadata": {
      "needs_background": "light"
     },
     "output_type": "display_data"
    },
    {
     "data": {
      "text/plain": "<Figure size 432x288 with 1 Axes>",
      "image/png": "[encoded data removed]"
     },
     "metadata": {
      "needs_background": "light"
     },
     "output_type": "display_data"
    },
    {
     "data": {
      "text/plain": "<Figure size 432x288 with 1 Axes>",
      "image/png": "[encoded data removed]"
     },
     "metadata": {
      "needs_background": "light"
     },
     "output_type": "display_data"
    },
    {
     "data": {
      "text/plain": "<Figure size 432x288 with 1 Axes>",
      "image/png": "[encoded data removed]"
     },
     "metadata": {
      "needs_background": "light"
     },
     "output_type": "display_data"
    },
    {
     "data": {
      "text/plain": "<Figure size 432x288 with 1 Axes>",
      "image/png": "[encoded data removed]"
     },
     "metadata": {
      "needs_background": "light"
     },
     "output_type": "display_data"
    },
    {
     "data": {
      "text/plain": "<Figure size 432x288 with 1 Axes>",
      "image/png": "[encoded data removed]"
     },
     "metadata": {
      "needs_background": "light"
     },
     "output_type": "display_data"
    },
    {
     "data": {
      "text/plain": "<Figure size 432x288 with 1 Axes>",
      "image/png": "[encoded data removed]"
     },
     "metadata": {
      "needs_background": "light"
     },
     "output_type": "display_data"
    },
    {
     "data": {
      "text/plain": "<Figure size 432x288 with 1 Axes>",
      "image/png": "[encoded data removed]"
     },
     "metadata": {
      "needs_background": "light"
     },
     "output_type": "display_data"
    },
    {
     "data": {
      "text/plain": "<Figure size 432x288 with 1 Axes>",
      "image/png": "[encoded data removed]"
     },
     "metadata": {
      "needs_background": "light"
     },
     "output_type": "display_data"
    },
    {
     "data": {
      "text/plain": "<Figure size 432x288 with 1 Axes>",
      "image/png": "[encoded data removed]"
     },
     "metadata": {
      "needs_background": "light"
     },
     "output_type": "display_data"
    },
    {
     "data": {
      "text/plain": "<Figure size 432x288 with 1 Axes>",
      "image/png": "[encoded data removed]"
     },
     "metadata": {
      "needs_background": "light"
     },
     "output_type": "display_data"
    },
    {
     "data": {
      "text/plain": "<Figure size 432x288 with 1 Axes>",
      "image/png": "[encoded data removed]"
     },
     "metadata": {
      "needs_background": "light"
     },
     "output_type": "display_data"
    },
    {
     "data": {
      "text/plain": "<Figure size 432x288 with 1 Axes>",
      "image/png": "[encoded data removed]"
     },
     "metadata": {
      "needs_background": "light"
     },
     "output_type": "display_data"
    },
    {
     "data": {
      "text/plain": "<Figure size 432x288 with 1 Axes>",
      "image/png": "[encoded data removed]"
     },
     "metadata": {
      "needs_background": "light"
     },
     "output_type": "display_data"
    },
    {
     "data": {
      "text/plain": "<Figure size 432x288 with 1 Axes>",
      "image/png": "[encoded data removed]"
     },
     "metadata": {
      "needs_background": "light"
     },
     "output_type": "display_data"
    },
    {
     "data": {
      "text/plain": "<Figure size 432x288 with 1 Axes>",
      "image/png": "[encoded data removed]"
     },
     "metadata": {
      "needs_background": "light"
     },
     "output_type": "display_data"
    }
   ],
   "source": [
    "def plot_with_fools():\n",
    "    for i in range(with_fools.shape[0]):\n",
    "        chunks_ = chunks(lst=with_fools[i], n=28)\n",
    "        plot_digit(pixels=chunks_)\n",
    "\n",
    "plot_with_fools()"
   ],
   "metadata": {
    "collapsed": false,
    "pycharm": {
     "name": "#%%\n"
    }
   }
  },
  {
   "cell_type": "code",
   "execution_count": 48,
   "outputs": [
    {
     "data": {
      "text/plain": "[(7.797330904654582e-213, 0),\n (0.0, 1),\n (2.7774413093093e-311, 2),\n (2.03076991863e-313, 3),\n (9.398653838401639e-294, 4),\n (0.0, 5),\n (8.998282292915601e-297, 6),\n (0.0, 7),\n (7.568455579868031e-297, 8),\n (4.996062059279508e-308, 9)]"
     },
     "execution_count": 48,
     "metadata": {},
     "output_type": "execute_result"
    }
   ],
   "source": [
    "nb.estimator._labels_products(with_fools[0])"
   ],
   "metadata": {
    "collapsed": false,
    "pycharm": {
     "name": "#%%\n"
    }
   }
  },
  {
   "cell_type": "code",
   "execution_count": 51,
   "outputs": [],
   "source": [
    "products = [{ label: prod for prod, label in nb.estimator._labels_products(with_fools[i])} for i in range(len(with_fools))]"
   ],
   "metadata": {
    "collapsed": false,
    "pycharm": {
     "name": "#%%\n"
    }
   }
  },
  {
   "cell_type": "code",
   "execution_count": 55,
   "outputs": [
    {
     "data": {
      "text/plain": "[0, 1, 2, 3, 4, 5, 6, 7, 8, 9]"
     },
     "execution_count": 55,
     "metadata": {},
     "output_type": "execute_result"
    }
   ],
   "source": [
    "labels = list(products[0].keys())\n",
    "labels"
   ],
   "metadata": {
    "collapsed": false,
    "pycharm": {
     "name": "#%%\n"
    }
   }
  },
  {
   "cell_type": "code",
   "execution_count": 61,
   "outputs": [],
   "source": [
    "as_dict = {\n",
    "    l : [product[l] for product in products]\n",
    "    for l in labels\n",
    "}"
   ],
   "metadata": {
    "collapsed": false,
    "pycharm": {
     "name": "#%%\n"
    }
   }
  },
  {
   "cell_type": "code",
   "execution_count": 63,
   "outputs": [],
   "source": [
    "df = pd.DataFrame(as_dict)"
   ],
   "metadata": {
    "collapsed": false,
    "pycharm": {
     "name": "#%%\n"
    }
   }
  },
  {
   "cell_type": "code",
   "execution_count": 67,
   "outputs": [
    {
     "data": {
      "text/plain": "                0              1              2              3              4  \\\n0   7.797331e-213   0.000000e+00  2.777441e-311  2.030770e-313  9.398654e-294   \n1    0.000000e+00  1.179479e-128  3.185900e-173  6.725852e-170  3.164268e-187   \n2    0.000000e+00   0.000000e+00  3.690505e-239  1.732685e-286   0.000000e+00   \n3    0.000000e+00   0.000000e+00  7.406444e-261  6.133265e-220  1.940229e-295   \n4    0.000000e+00   0.000000e+00  1.240182e-268  1.821621e-289  2.292379e-195   \n5    0.000000e+00   0.000000e+00  2.497446e-303  4.926425e-281   0.000000e+00   \n6    0.000000e+00   0.000000e+00  8.170261e-259  4.678237e-309  2.369091e-224   \n7   1.027966e-236   0.000000e+00  4.808630e-223  2.270672e-260   0.000000e+00   \n8    0.000000e+00  3.718873e-289  2.570304e-230  6.105493e-234  2.614590e-245   \n9    0.000000e+00   0.000000e+00  3.939801e-249  1.487370e-282  1.238453e-201   \n10   0.000000e+00   0.000000e+00  2.238500e-242  3.106007e-256  7.656816e-231   \n11   0.000000e+00   0.000000e+00  5.980102e-255  2.692206e-260  1.158919e-254   \n12   0.000000e+00   0.000000e+00   0.000000e+00   0.000000e+00   0.000000e+00   \n13   0.000000e+00   0.000000e+00   0.000000e+00   0.000000e+00   0.000000e+00   \n14   0.000000e+00   0.000000e+00   0.000000e+00   0.000000e+00   0.000000e+00   \n15  1.216660e-139   1.032317e-83  1.082657e-110  2.497503e-125  3.174597e-100   \n\n                5              6              7              8              9  \n0    0.000000e+00  8.998282e-297   0.000000e+00  7.568456e-297  4.996062e-308  \n1   7.122032e-176  3.349741e-173  7.177519e-177  2.179345e-157   0.000000e+00  \n2   4.306943e-285   0.000000e+00   0.000000e+00  1.423051e-252  1.956128e-305  \n3   6.496957e-252  1.476453e-280   0.000000e+00  4.292160e-261   0.000000e+00  \n4   8.257110e-262   0.000000e+00  1.231317e-276   0.000000e+00  1.187731e-232  \n5   2.475885e-255   0.000000e+00   0.000000e+00  2.660941e-286   0.000000e+00  \n6   1.230520e-286  1.601984e-243  5.817105e-270  2.808975e-266   0.000000e+00  \n7   6.369368e-229  4.262845e-237  1.380186e-177  2.757708e-233  1.059361e-207  \n8   1.018262e-222  1.861299e-249  2.713940e-247  6.421355e-195   0.000000e+00  \n9   8.543918e-243  3.610367e-236  1.627825e-237   0.000000e+00  8.000964e-196  \n10  4.959186e-255   0.000000e+00   0.000000e+00  1.647259e-258   0.000000e+00  \n11  1.547600e-249   0.000000e+00   0.000000e+00  1.297165e-287  1.262070e-256  \n12   0.000000e+00   0.000000e+00   0.000000e+00   0.000000e+00   0.000000e+00  \n13   0.000000e+00   0.000000e+00   0.000000e+00   0.000000e+00   0.000000e+00  \n14   0.000000e+00   0.000000e+00   0.000000e+00   0.000000e+00   0.000000e+00  \n15  1.009727e-102  1.703594e-110   2.124395e-91  1.498131e-126  3.063784e-111  ",
      "text/html": "<div>\n<style scoped>\n    .dataframe tbody tr th:only-of-type {\n        vertical-align: middle;\n    }\n\n    .dataframe tbody tr th {\n        vertical-align: top;\n    }\n\n    .dataframe thead th {\n        text-align: right;\n    }\n</style>\n<table border=\"1\" class=\"dataframe\">\n  <thead>\n    <tr style=\"text-align: right;\">\n      <th></th>\n      <th>0</th>\n      <th>1</th>\n      <th>2</th>\n      <th>3</th>\n      <th>4</th>\n      <th>5</th>\n      <th>6</th>\n      <th>7</th>\n      <th>8</th>\n      <th>9</th>\n    </tr>\n  </thead>\n  <tbody>\n    <tr>\n      <th>0</th>\n      <td>7.797331e-213</td>\n      <td>0.000000e+00</td>\n      <td>2.777441e-311</td>\n      <td>2.030770e-313</td>\n      <td>9.398654e-294</td>\n      <td>0.000000e+00</td>\n      <td>8.998282e-297</td>\n      <td>0.000000e+00</td>\n      <td>7.568456e-297</td>\n      <td>4.996062e-308</td>\n    </tr>\n    <tr>\n      <th>1</th>\n      <td>0.000000e+00</td>\n      <td>1.179479e-128</td>\n      <td>3.185900e-173</td>\n      <td>6.725852e-170</td>\n      <td>3.164268e-187</td>\n      <td>7.122032e-176</td>\n      <td>3.349741e-173</td>\n      <td>7.177519e-177</td>\n      <td>2.179345e-157</td>\n      <td>0.000000e+00</td>\n    </tr>\n    <tr>\n      <th>2</th>\n      <td>0.000000e+00</td>\n      <td>0.000000e+00</td>\n      <td>3.690505e-239</td>\n      <td>1.732685e-286</td>\n      <td>0.000000e+00</td>\n      <td>4.306943e-285</td>\n      <td>0.000000e+00</td>\n      <td>0.000000e+00</td>\n      <td>1.423051e-252</td>\n      <td>1.956128e-305</td>\n    </tr>\n    <tr>\n      <th>3</th>\n      <td>0.000000e+00</td>\n      <td>0.000000e+00</td>\n      <td>7.406444e-261</td>\n      <td>6.133265e-220</td>\n      <td>1.940229e-295</td>\n      <td>6.496957e-252</td>\n      <td>1.476453e-280</td>\n      <td>0.000000e+00</td>\n      <td>4.292160e-261</td>\n      <td>0.000000e+00</td>\n    </tr>\n    <tr>\n      <th>4</th>\n      <td>0.000000e+00</td>\n      <td>0.000000e+00</td>\n      <td>1.240182e-268</td>\n      <td>1.821621e-289</td>\n      <td>2.292379e-195</td>\n      <td>8.257110e-262</td>\n      <td>0.000000e+00</td>\n      <td>1.231317e-276</td>\n      <td>0.000000e+00</td>\n      <td>1.187731e-232</td>\n    </tr>\n    <tr>\n      <th>5</th>\n      <td>0.000000e+00</td>\n      <td>0.000000e+00</td>\n      <td>2.497446e-303</td>\n      <td>4.926425e-281</td>\n      <td>0.000000e+00</td>\n      <td>2.475885e-255</td>\n      <td>0.000000e+00</td>\n      <td>0.000000e+00</td>\n      <td>2.660941e-286</td>\n      <td>0.000000e+00</td>\n    </tr>\n    <tr>\n      <th>6</th>\n      <td>0.000000e+00</td>\n      <td>0.000000e+00</td>\n      <td>8.170261e-259</td>\n      <td>4.678237e-309</td>\n      <td>2.369091e-224</td>\n      <td>1.230520e-286</td>\n      <td>1.601984e-243</td>\n      <td>5.817105e-270</td>\n      <td>2.808975e-266</td>\n      <td>0.000000e+00</td>\n    </tr>\n    <tr>\n      <th>7</th>\n      <td>1.027966e-236</td>\n      <td>0.000000e+00</td>\n      <td>4.808630e-223</td>\n      <td>2.270672e-260</td>\n      <td>0.000000e+00</td>\n      <td>6.369368e-229</td>\n      <td>4.262845e-237</td>\n      <td>1.380186e-177</td>\n      <td>2.757708e-233</td>\n      <td>1.059361e-207</td>\n    </tr>\n    <tr>\n      <th>8</th>\n      <td>0.000000e+00</td>\n      <td>3.718873e-289</td>\n      <td>2.570304e-230</td>\n      <td>6.105493e-234</td>\n      <td>2.614590e-245</td>\n      <td>1.018262e-222</td>\n      <td>1.861299e-249</td>\n      <td>2.713940e-247</td>\n      <td>6.421355e-195</td>\n      <td>0.000000e+00</td>\n    </tr>\n    <tr>\n      <th>9</th>\n      <td>0.000000e+00</td>\n      <td>0.000000e+00</td>\n      <td>3.939801e-249</td>\n      <td>1.487370e-282</td>\n      <td>1.238453e-201</td>\n      <td>8.543918e-243</td>\n      <td>3.610367e-236</td>\n      <td>1.627825e-237</td>\n      <td>0.000000e+00</td>\n      <td>8.000964e-196</td>\n    </tr>\n    <tr>\n      <th>10</th>\n      <td>0.000000e+00</td>\n      <td>0.000000e+00</td>\n      <td>2.238500e-242</td>\n      <td>3.106007e-256</td>\n      <td>7.656816e-231</td>\n      <td>4.959186e-255</td>\n      <td>0.000000e+00</td>\n      <td>0.000000e+00</td>\n      <td>1.647259e-258</td>\n      <td>0.000000e+00</td>\n    </tr>\n    <tr>\n      <th>11</th>\n      <td>0.000000e+00</td>\n      <td>0.000000e+00</td>\n      <td>5.980102e-255</td>\n      <td>2.692206e-260</td>\n      <td>1.158919e-254</td>\n      <td>1.547600e-249</td>\n      <td>0.000000e+00</td>\n      <td>0.000000e+00</td>\n      <td>1.297165e-287</td>\n      <td>1.262070e-256</td>\n    </tr>\n    <tr>\n      <th>12</th>\n      <td>0.000000e+00</td>\n      <td>0.000000e+00</td>\n      <td>0.000000e+00</td>\n      <td>0.000000e+00</td>\n      <td>0.000000e+00</td>\n      <td>0.000000e+00</td>\n      <td>0.000000e+00</td>\n      <td>0.000000e+00</td>\n      <td>0.000000e+00</td>\n      <td>0.000000e+00</td>\n    </tr>\n    <tr>\n      <th>13</th>\n      <td>0.000000e+00</td>\n      <td>0.000000e+00</td>\n      <td>0.000000e+00</td>\n      <td>0.000000e+00</td>\n      <td>0.000000e+00</td>\n      <td>0.000000e+00</td>\n      <td>0.000000e+00</td>\n      <td>0.000000e+00</td>\n      <td>0.000000e+00</td>\n      <td>0.000000e+00</td>\n    </tr>\n    <tr>\n      <th>14</th>\n      <td>0.000000e+00</td>\n      <td>0.000000e+00</td>\n      <td>0.000000e+00</td>\n      <td>0.000000e+00</td>\n      <td>0.000000e+00</td>\n      <td>0.000000e+00</td>\n      <td>0.000000e+00</td>\n      <td>0.000000e+00</td>\n      <td>0.000000e+00</td>\n      <td>0.000000e+00</td>\n    </tr>\n    <tr>\n      <th>15</th>\n      <td>1.216660e-139</td>\n      <td>1.032317e-83</td>\n      <td>1.082657e-110</td>\n      <td>2.497503e-125</td>\n      <td>3.174597e-100</td>\n      <td>1.009727e-102</td>\n      <td>1.703594e-110</td>\n      <td>2.124395e-91</td>\n      <td>1.498131e-126</td>\n      <td>3.063784e-111</td>\n    </tr>\n  </tbody>\n</table>\n</div>"
     },
     "execution_count": 67,
     "metadata": {},
     "output_type": "execute_result"
    }
   ],
   "source": [
    "df"
   ],
   "metadata": {
    "collapsed": false,
    "pycharm": {
     "name": "#%%\n"
    }
   }
  },
  {
   "cell_type": "code",
   "execution_count": 80,
   "outputs": [],
   "source": [
    "df.set_index([[str(i) for i in range(10)] + ['A', 'eleven', 'grid', 'pi', 'smile', 'empty']], inplace=True)"
   ],
   "metadata": {
    "collapsed": false,
    "pycharm": {
     "name": "#%%\n"
    }
   }
  },
  {
   "cell_type": "code",
   "execution_count": 81,
   "outputs": [
    {
     "data": {
      "text/plain": "                    0              1              2              3  \\\n0       7.797331e-213   0.000000e+00  2.777441e-311  2.030770e-313   \n1        0.000000e+00  1.179479e-128  3.185900e-173  6.725852e-170   \n2        0.000000e+00   0.000000e+00  3.690505e-239  1.732685e-286   \n3        0.000000e+00   0.000000e+00  7.406444e-261  6.133265e-220   \n4        0.000000e+00   0.000000e+00  1.240182e-268  1.821621e-289   \n5        0.000000e+00   0.000000e+00  2.497446e-303  4.926425e-281   \n6        0.000000e+00   0.000000e+00  8.170261e-259  4.678237e-309   \n7       1.027966e-236   0.000000e+00  4.808630e-223  2.270672e-260   \n8        0.000000e+00  3.718873e-289  2.570304e-230  6.105493e-234   \n9        0.000000e+00   0.000000e+00  3.939801e-249  1.487370e-282   \nA        0.000000e+00   0.000000e+00  2.238500e-242  3.106007e-256   \neleven   0.000000e+00   0.000000e+00  5.980102e-255  2.692206e-260   \ngrid     0.000000e+00   0.000000e+00   0.000000e+00   0.000000e+00   \npi       0.000000e+00   0.000000e+00   0.000000e+00   0.000000e+00   \nsmile    0.000000e+00   0.000000e+00   0.000000e+00   0.000000e+00   \nempty   1.216660e-139   1.032317e-83  1.082657e-110  2.497503e-125   \n\n                    4              5              6              7  \\\n0       9.398654e-294   0.000000e+00  8.998282e-297   0.000000e+00   \n1       3.164268e-187  7.122032e-176  3.349741e-173  7.177519e-177   \n2        0.000000e+00  4.306943e-285   0.000000e+00   0.000000e+00   \n3       1.940229e-295  6.496957e-252  1.476453e-280   0.000000e+00   \n4       2.292379e-195  8.257110e-262   0.000000e+00  1.231317e-276   \n5        0.000000e+00  2.475885e-255   0.000000e+00   0.000000e+00   \n6       2.369091e-224  1.230520e-286  1.601984e-243  5.817105e-270   \n7        0.000000e+00  6.369368e-229  4.262845e-237  1.380186e-177   \n8       2.614590e-245  1.018262e-222  1.861299e-249  2.713940e-247   \n9       1.238453e-201  8.543918e-243  3.610367e-236  1.627825e-237   \nA       7.656816e-231  4.959186e-255   0.000000e+00   0.000000e+00   \neleven  1.158919e-254  1.547600e-249   0.000000e+00   0.000000e+00   \ngrid     0.000000e+00   0.000000e+00   0.000000e+00   0.000000e+00   \npi       0.000000e+00   0.000000e+00   0.000000e+00   0.000000e+00   \nsmile    0.000000e+00   0.000000e+00   0.000000e+00   0.000000e+00   \nempty   3.174597e-100  1.009727e-102  1.703594e-110   2.124395e-91   \n\n                    8              9  \n0       7.568456e-297  4.996062e-308  \n1       2.179345e-157   0.000000e+00  \n2       1.423051e-252  1.956128e-305  \n3       4.292160e-261   0.000000e+00  \n4        0.000000e+00  1.187731e-232  \n5       2.660941e-286   0.000000e+00  \n6       2.808975e-266   0.000000e+00  \n7       2.757708e-233  1.059361e-207  \n8       6.421355e-195   0.000000e+00  \n9        0.000000e+00  8.000964e-196  \nA       1.647259e-258   0.000000e+00  \neleven  1.297165e-287  1.262070e-256  \ngrid     0.000000e+00   0.000000e+00  \npi       0.000000e+00   0.000000e+00  \nsmile    0.000000e+00   0.000000e+00  \nempty   1.498131e-126  3.063784e-111  ",
      "text/html": "<div>\n<style scoped>\n    .dataframe tbody tr th:only-of-type {\n        vertical-align: middle;\n    }\n\n    .dataframe tbody tr th {\n        vertical-align: top;\n    }\n\n    .dataframe thead th {\n        text-align: right;\n    }\n</style>\n<table border=\"1\" class=\"dataframe\">\n  <thead>\n    <tr style=\"text-align: right;\">\n      <th></th>\n      <th>0</th>\n      <th>1</th>\n      <th>2</th>\n      <th>3</th>\n      <th>4</th>\n      <th>5</th>\n      <th>6</th>\n      <th>7</th>\n      <th>8</th>\n      <th>9</th>\n    </tr>\n  </thead>\n  <tbody>\n    <tr>\n      <th>0</th>\n      <td>7.797331e-213</td>\n      <td>0.000000e+00</td>\n      <td>2.777441e-311</td>\n      <td>2.030770e-313</td>\n      <td>9.398654e-294</td>\n      <td>0.000000e+00</td>\n      <td>8.998282e-297</td>\n      <td>0.000000e+00</td>\n      <td>7.568456e-297</td>\n      <td>4.996062e-308</td>\n    </tr>\n    <tr>\n      <th>1</th>\n      <td>0.000000e+00</td>\n      <td>1.179479e-128</td>\n      <td>3.185900e-173</td>\n      <td>6.725852e-170</td>\n      <td>3.164268e-187</td>\n      <td>7.122032e-176</td>\n      <td>3.349741e-173</td>\n      <td>7.177519e-177</td>\n      <td>2.179345e-157</td>\n      <td>0.000000e+00</td>\n    </tr>\n    <tr>\n      <th>2</th>\n      <td>0.000000e+00</td>\n      <td>0.000000e+00</td>\n      <td>3.690505e-239</td>\n      <td>1.732685e-286</td>\n      <td>0.000000e+00</td>\n      <td>4.306943e-285</td>\n      <td>0.000000e+00</td>\n      <td>0.000000e+00</td>\n      <td>1.423051e-252</td>\n      <td>1.956128e-305</td>\n    </tr>\n    <tr>\n      <th>3</th>\n      <td>0.000000e+00</td>\n      <td>0.000000e+00</td>\n      <td>7.406444e-261</td>\n      <td>6.133265e-220</td>\n      <td>1.940229e-295</td>\n      <td>6.496957e-252</td>\n      <td>1.476453e-280</td>\n      <td>0.000000e+00</td>\n      <td>4.292160e-261</td>\n      <td>0.000000e+00</td>\n    </tr>\n    <tr>\n      <th>4</th>\n      <td>0.000000e+00</td>\n      <td>0.000000e+00</td>\n      <td>1.240182e-268</td>\n      <td>1.821621e-289</td>\n      <td>2.292379e-195</td>\n      <td>8.257110e-262</td>\n      <td>0.000000e+00</td>\n      <td>1.231317e-276</td>\n      <td>0.000000e+00</td>\n      <td>1.187731e-232</td>\n    </tr>\n    <tr>\n      <th>5</th>\n      <td>0.000000e+00</td>\n      <td>0.000000e+00</td>\n      <td>2.497446e-303</td>\n      <td>4.926425e-281</td>\n      <td>0.000000e+00</td>\n      <td>2.475885e-255</td>\n      <td>0.000000e+00</td>\n      <td>0.000000e+00</td>\n      <td>2.660941e-286</td>\n      <td>0.000000e+00</td>\n    </tr>\n    <tr>\n      <th>6</th>\n      <td>0.000000e+00</td>\n      <td>0.000000e+00</td>\n      <td>8.170261e-259</td>\n      <td>4.678237e-309</td>\n      <td>2.369091e-224</td>\n      <td>1.230520e-286</td>\n      <td>1.601984e-243</td>\n      <td>5.817105e-270</td>\n      <td>2.808975e-266</td>\n      <td>0.000000e+00</td>\n    </tr>\n    <tr>\n      <th>7</th>\n      <td>1.027966e-236</td>\n      <td>0.000000e+00</td>\n      <td>4.808630e-223</td>\n      <td>2.270672e-260</td>\n      <td>0.000000e+00</td>\n      <td>6.369368e-229</td>\n      <td>4.262845e-237</td>\n      <td>1.380186e-177</td>\n      <td>2.757708e-233</td>\n      <td>1.059361e-207</td>\n    </tr>\n    <tr>\n      <th>8</th>\n      <td>0.000000e+00</td>\n      <td>3.718873e-289</td>\n      <td>2.570304e-230</td>\n      <td>6.105493e-234</td>\n      <td>2.614590e-245</td>\n      <td>1.018262e-222</td>\n      <td>1.861299e-249</td>\n      <td>2.713940e-247</td>\n      <td>6.421355e-195</td>\n      <td>0.000000e+00</td>\n    </tr>\n    <tr>\n      <th>9</th>\n      <td>0.000000e+00</td>\n      <td>0.000000e+00</td>\n      <td>3.939801e-249</td>\n      <td>1.487370e-282</td>\n      <td>1.238453e-201</td>\n      <td>8.543918e-243</td>\n      <td>3.610367e-236</td>\n      <td>1.627825e-237</td>\n      <td>0.000000e+00</td>\n      <td>8.000964e-196</td>\n    </tr>\n    <tr>\n      <th>A</th>\n      <td>0.000000e+00</td>\n      <td>0.000000e+00</td>\n      <td>2.238500e-242</td>\n      <td>3.106007e-256</td>\n      <td>7.656816e-231</td>\n      <td>4.959186e-255</td>\n      <td>0.000000e+00</td>\n      <td>0.000000e+00</td>\n      <td>1.647259e-258</td>\n      <td>0.000000e+00</td>\n    </tr>\n    <tr>\n      <th>eleven</th>\n      <td>0.000000e+00</td>\n      <td>0.000000e+00</td>\n      <td>5.980102e-255</td>\n      <td>2.692206e-260</td>\n      <td>1.158919e-254</td>\n      <td>1.547600e-249</td>\n      <td>0.000000e+00</td>\n      <td>0.000000e+00</td>\n      <td>1.297165e-287</td>\n      <td>1.262070e-256</td>\n    </tr>\n    <tr>\n      <th>grid</th>\n      <td>0.000000e+00</td>\n      <td>0.000000e+00</td>\n      <td>0.000000e+00</td>\n      <td>0.000000e+00</td>\n      <td>0.000000e+00</td>\n      <td>0.000000e+00</td>\n      <td>0.000000e+00</td>\n      <td>0.000000e+00</td>\n      <td>0.000000e+00</td>\n      <td>0.000000e+00</td>\n    </tr>\n    <tr>\n      <th>pi</th>\n      <td>0.000000e+00</td>\n      <td>0.000000e+00</td>\n      <td>0.000000e+00</td>\n      <td>0.000000e+00</td>\n      <td>0.000000e+00</td>\n      <td>0.000000e+00</td>\n      <td>0.000000e+00</td>\n      <td>0.000000e+00</td>\n      <td>0.000000e+00</td>\n      <td>0.000000e+00</td>\n    </tr>\n    <tr>\n      <th>smile</th>\n      <td>0.000000e+00</td>\n      <td>0.000000e+00</td>\n      <td>0.000000e+00</td>\n      <td>0.000000e+00</td>\n      <td>0.000000e+00</td>\n      <td>0.000000e+00</td>\n      <td>0.000000e+00</td>\n      <td>0.000000e+00</td>\n      <td>0.000000e+00</td>\n      <td>0.000000e+00</td>\n    </tr>\n    <tr>\n      <th>empty</th>\n      <td>1.216660e-139</td>\n      <td>1.032317e-83</td>\n      <td>1.082657e-110</td>\n      <td>2.497503e-125</td>\n      <td>3.174597e-100</td>\n      <td>1.009727e-102</td>\n      <td>1.703594e-110</td>\n      <td>2.124395e-91</td>\n      <td>1.498131e-126</td>\n      <td>3.063784e-111</td>\n    </tr>\n  </tbody>\n</table>\n</div>"
     },
     "execution_count": 81,
     "metadata": {},
     "output_type": "execute_result"
    }
   ],
   "source": [
    "df"
   ],
   "metadata": {
    "collapsed": false,
    "pycharm": {
     "name": "#%%\n"
    }
   }
  }
 ],
 "metadata": {
  "kernelspec": {
   "display_name": "Python 3",
   "language": "python",
   "name": "python3"
  },
  "language_info": {
   "codemirror_mode": {
    "name": "ipython",
    "version": 2
   },
   "file_extension": ".py",
   "mimetype": "text/x-python",
   "name": "python",
   "nbconvert_exporter": "python",
   "pygments_lexer": "ipython2",
   "version": "2.7.6"
  }
 },
 "nbformat": 4,
 "nbformat_minor": 0
}