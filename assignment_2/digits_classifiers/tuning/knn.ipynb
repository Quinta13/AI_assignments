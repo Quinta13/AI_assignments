{
 "cells": [
  {
   "cell_type": "markdown",
   "source": [
    "# KNN Tuning"
   ],
   "metadata": {
    "collapsed": false
   }
  },
  {
   "cell_type": "code",
   "execution_count": 17,
   "outputs": [],
   "source": [
    "from scipy.spatial import distance\n",
    "from sklearn.model_selection import train_test_split\n",
    "\n",
    "from assignment_2.digits_classifiers.model import Dataset, ClassifierTuning\n",
    "from assignment_2.digits_classifiers.classifiers import KNN\n",
    "from assignment_2.digits_classifiers.io import read_datasets"
   ],
   "metadata": {
    "collapsed": false,
    "pycharm": {
     "name": "#%%\n"
    }
   }
  },
  {
   "cell_type": "markdown",
   "source": [
    "## Import dataset"
   ],
   "metadata": {
    "collapsed": false,
    "pycharm": {
     "name": "#%% md\n"
    }
   }
  },
  {
   "cell_type": "code",
   "execution_count": 18,
   "outputs": [
    {
     "name": "stderr",
     "output_type": "stream",
     "text": [
      "2022-12-14 15:22:38.801 | INFO     | assignment_2.digits_classifiers.io:read_datasets:40 - Reading datasets\n"
     ]
    }
   ],
   "source": [
    "data = read_datasets()"
   ],
   "metadata": {
    "collapsed": false,
    "pycharm": {
     "name": "#%%\n"
    }
   }
  },
  {
   "cell_type": "code",
   "execution_count": 19,
   "outputs": [],
   "source": [
    "X, y = data"
   ],
   "metadata": {
    "collapsed": false,
    "pycharm": {
     "name": "#%%\n"
    }
   }
  },
  {
   "cell_type": "markdown",
   "source": [
    "## Removing constant columns"
   ],
   "metadata": {
    "collapsed": false
   }
  },
  {
   "cell_type": "code",
   "execution_count": 20,
   "outputs": [],
   "source": [
    "always_zero = [c for c in list(X.columns) if sum(X.loc[:, c]) == 0]"
   ],
   "metadata": {
    "collapsed": false,
    "pycharm": {
     "name": "#%%\n"
    }
   }
  },
  {
   "cell_type": "code",
   "execution_count": 21,
   "outputs": [],
   "source": [
    "X.drop(columns=always_zero, axis=1, inplace=True)"
   ],
   "metadata": {
    "collapsed": false,
    "pycharm": {
     "name": "#%%\n"
    }
   }
  },
  {
   "cell_type": "markdown",
   "source": [
    "## Discard part of data"
   ],
   "metadata": {
    "collapsed": false
   }
  },
  {
   "cell_type": "code",
   "execution_count": 22,
   "outputs": [],
   "source": [
    "X, _, y, _ = train_test_split(X, y, test_size=0.95)"
   ],
   "metadata": {
    "collapsed": false,
    "pycharm": {
     "name": "#%%\n"
    }
   }
  },
  {
   "cell_type": "markdown",
   "source": [
    "## Train Test split"
   ],
   "metadata": {
    "collapsed": false
   }
  },
  {
   "cell_type": "code",
   "execution_count": 23,
   "outputs": [],
   "source": [
    "X_train, X_test, y_train, y_test = train_test_split(X, y, test_size=0.2)\n",
    "X_train.reset_index(inplace=True, drop=True)\n",
    "X_test.reset_index(inplace=True, drop=True)"
   ],
   "metadata": {
    "collapsed": false,
    "pycharm": {
     "name": "#%%\n"
    }
   }
  },
  {
   "cell_type": "code",
   "execution_count": 24,
   "outputs": [
    {
     "data": {
      "text/plain": "      pixel13  pixel14  pixel15  pixel16  pixel33  pixel34  pixel35  pixel36  \\\n0         0.0      0.0      0.0      0.0      0.0      0.0      0.0      0.0   \n1         0.0      0.0      0.0      0.0      0.0      0.0      0.0      0.0   \n2         0.0      0.0      0.0      0.0      0.0      0.0      0.0      0.0   \n3         0.0      0.0      0.0      0.0      0.0      0.0      0.0      0.0   \n4         0.0      0.0      0.0      0.0      0.0      0.0      0.0      0.0   \n...       ...      ...      ...      ...      ...      ...      ...      ...   \n2795      0.0      0.0      0.0      0.0      0.0      0.0      0.0      0.0   \n2796      0.0      0.0      0.0      0.0      0.0      0.0      0.0      0.0   \n2797      0.0      0.0      0.0      0.0      0.0      0.0      0.0      0.0   \n2798      0.0      0.0      0.0      0.0      0.0      0.0      0.0      0.0   \n2799      0.0      0.0      0.0      0.0      0.0      0.0      0.0      0.0   \n\n      pixel37  pixel38  ...  pixel771  pixel772  pixel773  pixel774  pixel775  \\\n0         0.0      0.0  ...       0.0       0.0       0.0       0.0       0.0   \n1         0.0      0.0  ...       0.0       0.0       0.0       0.0       0.0   \n2         0.0      0.0  ...       0.0       0.0       0.0       0.0       0.0   \n3         0.0      0.0  ...       0.0       0.0       0.0       0.0       0.0   \n4         0.0      0.0  ...       0.0       0.0       0.0       0.0       0.0   \n...       ...      ...  ...       ...       ...       ...       ...       ...   \n2795      0.0      0.0  ...       0.0       0.0       0.0       0.0       0.0   \n2796      0.0      0.0  ...       0.0       0.0       0.0       0.0       0.0   \n2797      0.0      0.0  ...       0.0       0.0       0.0       0.0       0.0   \n2798      0.0      0.0  ...       0.0       0.0       0.0       0.0       0.0   \n2799      0.0      0.0  ...       0.0       0.0       0.0       0.0       0.0   \n\n      pixel776  pixel777  pixel778  pixel779  pixel780  \n0          0.0       0.0       0.0       0.0       0.0  \n1          0.0       0.0       0.0       0.0       0.0  \n2          0.0       0.0       0.0       0.0       0.0  \n3          0.0       0.0       0.0       0.0       0.0  \n4          0.0       0.0       0.0       0.0       0.0  \n...        ...       ...       ...       ...       ...  \n2795       0.0       0.0       0.0       0.0       0.0  \n2796       0.0       0.0       0.0       0.0       0.0  \n2797       0.0       0.0       0.0       0.0       0.0  \n2798       0.0       0.0       0.0       0.0       0.0  \n2799       0.0       0.0       0.0       0.0       0.0  \n\n[2800 rows x 719 columns]",
      "text/html": "<div>\n<style scoped>\n    .dataframe tbody tr th:only-of-type {\n        vertical-align: middle;\n    }\n\n    .dataframe tbody tr th {\n        vertical-align: top;\n    }\n\n    .dataframe thead th {\n        text-align: right;\n    }\n</style>\n<table border=\"1\" class=\"dataframe\">\n  <thead>\n    <tr style=\"text-align: right;\">\n      <th></th>\n      <th>pixel13</th>\n      <th>pixel14</th>\n      <th>pixel15</th>\n      <th>pixel16</th>\n      <th>pixel33</th>\n      <th>pixel34</th>\n      <th>pixel35</th>\n      <th>pixel36</th>\n      <th>pixel37</th>\n      <th>pixel38</th>\n      <th>...</th>\n      <th>pixel771</th>\n      <th>pixel772</th>\n      <th>pixel773</th>\n      <th>pixel774</th>\n      <th>pixel775</th>\n      <th>pixel776</th>\n      <th>pixel777</th>\n      <th>pixel778</th>\n      <th>pixel779</th>\n      <th>pixel780</th>\n    </tr>\n  </thead>\n  <tbody>\n    <tr>\n      <th>0</th>\n      <td>0.0</td>\n      <td>0.0</td>\n      <td>0.0</td>\n      <td>0.0</td>\n      <td>0.0</td>\n      <td>0.0</td>\n      <td>0.0</td>\n      <td>0.0</td>\n      <td>0.0</td>\n      <td>0.0</td>\n      <td>...</td>\n      <td>0.0</td>\n      <td>0.0</td>\n      <td>0.0</td>\n      <td>0.0</td>\n      <td>0.0</td>\n      <td>0.0</td>\n      <td>0.0</td>\n      <td>0.0</td>\n      <td>0.0</td>\n      <td>0.0</td>\n    </tr>\n    <tr>\n      <th>1</th>\n      <td>0.0</td>\n      <td>0.0</td>\n      <td>0.0</td>\n      <td>0.0</td>\n      <td>0.0</td>\n      <td>0.0</td>\n      <td>0.0</td>\n      <td>0.0</td>\n      <td>0.0</td>\n      <td>0.0</td>\n      <td>...</td>\n      <td>0.0</td>\n      <td>0.0</td>\n      <td>0.0</td>\n      <td>0.0</td>\n      <td>0.0</td>\n      <td>0.0</td>\n      <td>0.0</td>\n      <td>0.0</td>\n      <td>0.0</td>\n      <td>0.0</td>\n    </tr>\n    <tr>\n      <th>2</th>\n      <td>0.0</td>\n      <td>0.0</td>\n      <td>0.0</td>\n      <td>0.0</td>\n      <td>0.0</td>\n      <td>0.0</td>\n      <td>0.0</td>\n      <td>0.0</td>\n      <td>0.0</td>\n      <td>0.0</td>\n      <td>...</td>\n      <td>0.0</td>\n      <td>0.0</td>\n      <td>0.0</td>\n      <td>0.0</td>\n      <td>0.0</td>\n      <td>0.0</td>\n      <td>0.0</td>\n      <td>0.0</td>\n      <td>0.0</td>\n      <td>0.0</td>\n    </tr>\n    <tr>\n      <th>3</th>\n      <td>0.0</td>\n      <td>0.0</td>\n      <td>0.0</td>\n      <td>0.0</td>\n      <td>0.0</td>\n      <td>0.0</td>\n      <td>0.0</td>\n      <td>0.0</td>\n      <td>0.0</td>\n      <td>0.0</td>\n      <td>...</td>\n      <td>0.0</td>\n      <td>0.0</td>\n      <td>0.0</td>\n      <td>0.0</td>\n      <td>0.0</td>\n      <td>0.0</td>\n      <td>0.0</td>\n      <td>0.0</td>\n      <td>0.0</td>\n      <td>0.0</td>\n    </tr>\n    <tr>\n      <th>4</th>\n      <td>0.0</td>\n      <td>0.0</td>\n      <td>0.0</td>\n      <td>0.0</td>\n      <td>0.0</td>\n      <td>0.0</td>\n      <td>0.0</td>\n      <td>0.0</td>\n      <td>0.0</td>\n      <td>0.0</td>\n      <td>...</td>\n      <td>0.0</td>\n      <td>0.0</td>\n      <td>0.0</td>\n      <td>0.0</td>\n      <td>0.0</td>\n      <td>0.0</td>\n      <td>0.0</td>\n      <td>0.0</td>\n      <td>0.0</td>\n      <td>0.0</td>\n    </tr>\n    <tr>\n      <th>...</th>\n      <td>...</td>\n      <td>...</td>\n      <td>...</td>\n      <td>...</td>\n      <td>...</td>\n      <td>...</td>\n      <td>...</td>\n      <td>...</td>\n      <td>...</td>\n      <td>...</td>\n      <td>...</td>\n      <td>...</td>\n      <td>...</td>\n      <td>...</td>\n      <td>...</td>\n      <td>...</td>\n      <td>...</td>\n      <td>...</td>\n      <td>...</td>\n      <td>...</td>\n      <td>...</td>\n    </tr>\n    <tr>\n      <th>2795</th>\n      <td>0.0</td>\n      <td>0.0</td>\n      <td>0.0</td>\n      <td>0.0</td>\n      <td>0.0</td>\n      <td>0.0</td>\n      <td>0.0</td>\n      <td>0.0</td>\n      <td>0.0</td>\n      <td>0.0</td>\n      <td>...</td>\n      <td>0.0</td>\n      <td>0.0</td>\n      <td>0.0</td>\n      <td>0.0</td>\n      <td>0.0</td>\n      <td>0.0</td>\n      <td>0.0</td>\n      <td>0.0</td>\n      <td>0.0</td>\n      <td>0.0</td>\n    </tr>\n    <tr>\n      <th>2796</th>\n      <td>0.0</td>\n      <td>0.0</td>\n      <td>0.0</td>\n      <td>0.0</td>\n      <td>0.0</td>\n      <td>0.0</td>\n      <td>0.0</td>\n      <td>0.0</td>\n      <td>0.0</td>\n      <td>0.0</td>\n      <td>...</td>\n      <td>0.0</td>\n      <td>0.0</td>\n      <td>0.0</td>\n      <td>0.0</td>\n      <td>0.0</td>\n      <td>0.0</td>\n      <td>0.0</td>\n      <td>0.0</td>\n      <td>0.0</td>\n      <td>0.0</td>\n    </tr>\n    <tr>\n      <th>2797</th>\n      <td>0.0</td>\n      <td>0.0</td>\n      <td>0.0</td>\n      <td>0.0</td>\n      <td>0.0</td>\n      <td>0.0</td>\n      <td>0.0</td>\n      <td>0.0</td>\n      <td>0.0</td>\n      <td>0.0</td>\n      <td>...</td>\n      <td>0.0</td>\n      <td>0.0</td>\n      <td>0.0</td>\n      <td>0.0</td>\n      <td>0.0</td>\n      <td>0.0</td>\n      <td>0.0</td>\n      <td>0.0</td>\n      <td>0.0</td>\n      <td>0.0</td>\n    </tr>\n    <tr>\n      <th>2798</th>\n      <td>0.0</td>\n      <td>0.0</td>\n      <td>0.0</td>\n      <td>0.0</td>\n      <td>0.0</td>\n      <td>0.0</td>\n      <td>0.0</td>\n      <td>0.0</td>\n      <td>0.0</td>\n      <td>0.0</td>\n      <td>...</td>\n      <td>0.0</td>\n      <td>0.0</td>\n      <td>0.0</td>\n      <td>0.0</td>\n      <td>0.0</td>\n      <td>0.0</td>\n      <td>0.0</td>\n      <td>0.0</td>\n      <td>0.0</td>\n      <td>0.0</td>\n    </tr>\n    <tr>\n      <th>2799</th>\n      <td>0.0</td>\n      <td>0.0</td>\n      <td>0.0</td>\n      <td>0.0</td>\n      <td>0.0</td>\n      <td>0.0</td>\n      <td>0.0</td>\n      <td>0.0</td>\n      <td>0.0</td>\n      <td>0.0</td>\n      <td>...</td>\n      <td>0.0</td>\n      <td>0.0</td>\n      <td>0.0</td>\n      <td>0.0</td>\n      <td>0.0</td>\n      <td>0.0</td>\n      <td>0.0</td>\n      <td>0.0</td>\n      <td>0.0</td>\n      <td>0.0</td>\n    </tr>\n  </tbody>\n</table>\n<p>2800 rows × 719 columns</p>\n</div>"
     },
     "execution_count": 24,
     "metadata": {},
     "output_type": "execute_result"
    }
   ],
   "source": [
    "X_train"
   ],
   "metadata": {
    "collapsed": false,
    "pycharm": {
     "name": "#%%\n"
    }
   }
  },
  {
   "cell_type": "code",
   "execution_count": 25,
   "outputs": [],
   "source": [
    "data = Dataset(x=X, y=y)\n",
    "train = Dataset(x=X_train, y=y_train)\n",
    "test = Dataset(x=X_test, y=y_test)"
   ],
   "metadata": {
    "collapsed": false,
    "pycharm": {
     "name": "#%%\n"
    }
   }
  },
  {
   "cell_type": "code",
   "execution_count": 26,
   "outputs": [
    {
     "data": {
      "text/plain": "<Figure size 432x288 with 1 Axes>",
      "image/png": "[encoded data removed]"
     },
     "metadata": {
      "needs_background": "light"
     },
     "output_type": "display_data"
    }
   ],
   "source": [
    "data.digit_distribution()"
   ],
   "metadata": {
    "collapsed": false,
    "pycharm": {
     "name": "#%%\n"
    }
   }
  },
  {
   "cell_type": "markdown",
   "source": [
    "## Training KNN"
   ],
   "metadata": {
    "collapsed": false
   }
  },
  {
   "cell_type": "code",
   "execution_count": 27,
   "outputs": [],
   "source": [
    "knns = [\n",
    "    KNN(train=train, test=test, k=k, distance_fun=distance.euclidean)\n",
    "    for k in [10]\n",
    "]"
   ],
   "metadata": {
    "collapsed": false,
    "pycharm": {
     "name": "#%%\n"
    }
   }
  },
  {
   "cell_type": "code",
   "execution_count": 28,
   "outputs": [],
   "source": [
    "tuning_knns = ClassifierTuning(classifiers=knns, data=train, k=3)"
   ],
   "metadata": {
    "collapsed": false,
    "pycharm": {
     "name": "#%%\n"
    }
   }
  },
  {
   "cell_type": "code",
   "execution_count": 29,
   "outputs": [
    {
     "name": "stderr",
     "output_type": "stream",
     "text": [
      "2022-12-14 15:22:49.063 | INFO     | assignment_2.digits_classifiers.model:evaluate_best_model:298 - Evaluating classifier: [k-NEAREST-NEIGHBORHOOD: Train 2800, Test 700] - [K: 10]\n",
      "2022-12-14 15:22:49.109 | INFO     | assignment_2.digits_classifiers.model:evaluate:244 -  > Processing fold 1\n",
      "2022-12-14 15:22:49.110 | INFO     | assignment_2.digits_classifiers.classifiers:predict:284 -  > 0.000%\n",
      "2022-12-14 15:22:50.747 | INFO     | assignment_2.digits_classifiers.classifiers:predict:284 -  > 1.071%\n",
      "2022-12-14 15:22:52.493 | INFO     | assignment_2.digits_classifiers.classifiers:predict:284 -  > 2.141%\n",
      "2022-12-14 15:22:53.653 | INFO     | assignment_2.digits_classifiers.classifiers:predict:284 -  > 3.212%\n",
      "2022-12-14 15:22:54.573 | INFO     | assignment_2.digits_classifiers.classifiers:predict:284 -  > 4.283%\n",
      "2022-12-14 15:22:55.425 | INFO     | assignment_2.digits_classifiers.classifiers:predict:284 -  > 5.353%\n",
      "2022-12-14 15:22:56.360 | INFO     | assignment_2.digits_classifiers.classifiers:predict:284 -  > 6.424%\n",
      "2022-12-14 15:22:57.215 | INFO     | assignment_2.digits_classifiers.classifiers:predict:284 -  > 7.495%\n",
      "2022-12-14 15:22:58.241 | INFO     | assignment_2.digits_classifiers.classifiers:predict:284 -  > 8.565%\n",
      "2022-12-14 15:22:59.721 | INFO     | assignment_2.digits_classifiers.classifiers:predict:284 -  > 9.636%\n",
      "2022-12-14 15:23:01.163 | INFO     | assignment_2.digits_classifiers.classifiers:predict:284 -  > 10.707%\n",
      "2022-12-14 15:23:02.240 | INFO     | assignment_2.digits_classifiers.classifiers:predict:284 -  > 11.777%\n",
      "2022-12-14 15:23:03.215 | INFO     | assignment_2.digits_classifiers.classifiers:predict:284 -  > 12.848%\n",
      "2022-12-14 15:23:04.154 | INFO     | assignment_2.digits_classifiers.classifiers:predict:284 -  > 13.919%\n",
      "2022-12-14 15:23:05.076 | INFO     | assignment_2.digits_classifiers.classifiers:predict:284 -  > 14.989%\n",
      "2022-12-14 15:23:05.970 | INFO     | assignment_2.digits_classifiers.classifiers:predict:284 -  > 16.060%\n",
      "2022-12-14 15:23:07.159 | INFO     | assignment_2.digits_classifiers.classifiers:predict:284 -  > 17.131%\n",
      "2022-12-14 15:23:08.270 | INFO     | assignment_2.digits_classifiers.classifiers:predict:284 -  > 18.201%\n",
      "2022-12-14 15:23:09.188 | INFO     | assignment_2.digits_classifiers.classifiers:predict:284 -  > 19.272%\n",
      "2022-12-14 15:23:10.110 | INFO     | assignment_2.digits_classifiers.classifiers:predict:284 -  > 20.343%\n",
      "2022-12-14 15:23:10.980 | INFO     | assignment_2.digits_classifiers.classifiers:predict:284 -  > 21.413%\n",
      "2022-12-14 15:23:12.570 | INFO     | assignment_2.digits_classifiers.classifiers:predict:284 -  > 22.484%\n",
      "2022-12-14 15:23:13.655 | INFO     | assignment_2.digits_classifiers.classifiers:predict:284 -  > 23.555%\n",
      "2022-12-14 15:23:15.472 | INFO     | assignment_2.digits_classifiers.classifiers:predict:284 -  > 24.625%\n",
      "2022-12-14 15:23:16.693 | INFO     | assignment_2.digits_classifiers.classifiers:predict:284 -  > 25.696%\n",
      "2022-12-14 15:23:17.650 | INFO     | assignment_2.digits_classifiers.classifiers:predict:284 -  > 26.767%\n",
      "2022-12-14 15:23:18.617 | INFO     | assignment_2.digits_classifiers.classifiers:predict:284 -  > 27.837%\n",
      "2022-12-14 15:23:19.520 | INFO     | assignment_2.digits_classifiers.classifiers:predict:284 -  > 28.908%\n",
      "2022-12-14 15:23:20.471 | INFO     | assignment_2.digits_classifiers.classifiers:predict:284 -  > 29.979%\n",
      "2022-12-14 15:23:22.008 | INFO     | assignment_2.digits_classifiers.classifiers:predict:284 -  > 31.049%\n",
      "2022-12-14 15:23:23.370 | INFO     | assignment_2.digits_classifiers.classifiers:predict:284 -  > 32.120%\n",
      "2022-12-14 15:23:24.621 | INFO     | assignment_2.digits_classifiers.classifiers:predict:284 -  > 33.191%\n",
      "2022-12-14 15:23:25.863 | INFO     | assignment_2.digits_classifiers.classifiers:predict:284 -  > 34.261%\n",
      "2022-12-14 15:23:27.160 | INFO     | assignment_2.digits_classifiers.classifiers:predict:284 -  > 35.332%\n",
      "2022-12-14 15:23:28.270 | INFO     | assignment_2.digits_classifiers.classifiers:predict:284 -  > 36.403%\n",
      "2022-12-14 15:23:29.452 | INFO     | assignment_2.digits_classifiers.classifiers:predict:284 -  > 37.473%\n",
      "2022-12-14 15:23:31.385 | INFO     | assignment_2.digits_classifiers.classifiers:predict:284 -  > 38.544%\n",
      "2022-12-14 15:23:33.138 | INFO     | assignment_2.digits_classifiers.classifiers:predict:284 -  > 39.615%\n",
      "2022-12-14 15:23:34.362 | INFO     | assignment_2.digits_classifiers.classifiers:predict:284 -  > 40.685%\n",
      "2022-12-14 15:23:35.666 | INFO     | assignment_2.digits_classifiers.classifiers:predict:284 -  > 41.756%\n",
      "2022-12-14 15:23:36.823 | INFO     | assignment_2.digits_classifiers.classifiers:predict:284 -  > 42.827%\n",
      "2022-12-14 15:23:37.935 | INFO     | assignment_2.digits_classifiers.classifiers:predict:284 -  > 43.897%\n",
      "2022-12-14 15:23:39.508 | INFO     | assignment_2.digits_classifiers.classifiers:predict:284 -  > 44.968%\n",
      "2022-12-14 15:23:40.969 | INFO     | assignment_2.digits_classifiers.classifiers:predict:284 -  > 46.039%\n",
      "2022-12-14 15:23:42.318 | INFO     | assignment_2.digits_classifiers.classifiers:predict:284 -  > 47.109%\n",
      "2022-12-14 15:23:43.405 | INFO     | assignment_2.digits_classifiers.classifiers:predict:284 -  > 48.180%\n",
      "2022-12-14 15:23:44.641 | INFO     | assignment_2.digits_classifiers.classifiers:predict:284 -  > 49.251%\n",
      "2022-12-14 15:23:45.769 | INFO     | assignment_2.digits_classifiers.classifiers:predict:284 -  > 50.321%\n",
      "2022-12-14 15:23:46.661 | INFO     | assignment_2.digits_classifiers.classifiers:predict:284 -  > 51.392%\n",
      "2022-12-14 15:23:47.763 | INFO     | assignment_2.digits_classifiers.classifiers:predict:284 -  > 52.463%\n",
      "2022-12-14 15:23:48.832 | INFO     | assignment_2.digits_classifiers.classifiers:predict:284 -  > 53.533%\n",
      "2022-12-14 15:23:49.690 | INFO     | assignment_2.digits_classifiers.classifiers:predict:284 -  > 54.604%\n",
      "2022-12-14 15:23:50.403 | INFO     | assignment_2.digits_classifiers.classifiers:predict:284 -  > 55.675%\n",
      "2022-12-14 15:23:51.222 | INFO     | assignment_2.digits_classifiers.classifiers:predict:284 -  > 56.745%\n",
      "2022-12-14 15:23:52.000 | INFO     | assignment_2.digits_classifiers.classifiers:predict:284 -  > 57.816%\n",
      "2022-12-14 15:23:52.702 | INFO     | assignment_2.digits_classifiers.classifiers:predict:284 -  > 58.887%\n",
      "2022-12-14 15:23:53.470 | INFO     | assignment_2.digits_classifiers.classifiers:predict:284 -  > 59.957%\n",
      "2022-12-14 15:23:54.416 | INFO     | assignment_2.digits_classifiers.classifiers:predict:284 -  > 61.028%\n",
      "2022-12-14 15:23:55.578 | INFO     | assignment_2.digits_classifiers.classifiers:predict:284 -  > 62.099%\n",
      "2022-12-14 15:23:56.608 | INFO     | assignment_2.digits_classifiers.classifiers:predict:284 -  > 63.169%\n",
      "2022-12-14 15:23:57.416 | INFO     | assignment_2.digits_classifiers.classifiers:predict:284 -  > 64.240%\n",
      "2022-12-14 15:23:58.244 | INFO     | assignment_2.digits_classifiers.classifiers:predict:284 -  > 65.310%\n",
      "2022-12-14 15:23:59.138 | INFO     | assignment_2.digits_classifiers.classifiers:predict:284 -  > 66.381%\n",
      "2022-12-14 15:23:59.960 | INFO     | assignment_2.digits_classifiers.classifiers:predict:284 -  > 67.452%\n",
      "2022-12-14 15:24:00.793 | INFO     | assignment_2.digits_classifiers.classifiers:predict:284 -  > 68.522%\n",
      "2022-12-14 15:24:01.694 | INFO     | assignment_2.digits_classifiers.classifiers:predict:284 -  > 69.593%\n",
      "2022-12-14 15:24:02.854 | INFO     | assignment_2.digits_classifiers.classifiers:predict:284 -  > 70.664%\n",
      "2022-12-14 15:24:04.034 | INFO     | assignment_2.digits_classifiers.classifiers:predict:284 -  > 71.734%\n",
      "2022-12-14 15:24:04.964 | INFO     | assignment_2.digits_classifiers.classifiers:predict:284 -  > 72.805%\n",
      "2022-12-14 15:24:05.818 | INFO     | assignment_2.digits_classifiers.classifiers:predict:284 -  > 73.876%\n",
      "2022-12-14 15:24:06.637 | INFO     | assignment_2.digits_classifiers.classifiers:predict:284 -  > 74.946%\n",
      "2022-12-14 15:24:07.410 | INFO     | assignment_2.digits_classifiers.classifiers:predict:284 -  > 76.017%\n",
      "2022-12-14 15:24:08.207 | INFO     | assignment_2.digits_classifiers.classifiers:predict:284 -  > 77.088%\n",
      "2022-12-14 15:24:09.058 | INFO     | assignment_2.digits_classifiers.classifiers:predict:284 -  > 78.158%\n",
      "2022-12-14 15:24:10.161 | INFO     | assignment_2.digits_classifiers.classifiers:predict:284 -  > 79.229%\n",
      "2022-12-14 15:24:11.237 | INFO     | assignment_2.digits_classifiers.classifiers:predict:284 -  > 80.300%\n",
      "2022-12-14 15:24:12.104 | INFO     | assignment_2.digits_classifiers.classifiers:predict:284 -  > 81.370%\n",
      "2022-12-14 15:24:12.861 | INFO     | assignment_2.digits_classifiers.classifiers:predict:284 -  > 82.441%\n",
      "2022-12-14 15:24:13.619 | INFO     | assignment_2.digits_classifiers.classifiers:predict:284 -  > 83.512%\n",
      "2022-12-14 15:24:14.345 | INFO     | assignment_2.digits_classifiers.classifiers:predict:284 -  > 84.582%\n",
      "2022-12-14 15:24:15.017 | INFO     | assignment_2.digits_classifiers.classifiers:predict:284 -  > 85.653%\n",
      "2022-12-14 15:24:15.780 | INFO     | assignment_2.digits_classifiers.classifiers:predict:284 -  > 86.724%\n",
      "2022-12-14 15:24:16.804 | INFO     | assignment_2.digits_classifiers.classifiers:predict:284 -  > 87.794%\n",
      "2022-12-14 15:24:17.843 | INFO     | assignment_2.digits_classifiers.classifiers:predict:284 -  > 88.865%\n",
      "2022-12-14 15:24:18.788 | INFO     | assignment_2.digits_classifiers.classifiers:predict:284 -  > 89.936%\n",
      "2022-12-14 15:24:19.561 | INFO     | assignment_2.digits_classifiers.classifiers:predict:284 -  > 91.006%\n",
      "2022-12-14 15:24:20.310 | INFO     | assignment_2.digits_classifiers.classifiers:predict:284 -  > 92.077%\n",
      "2022-12-14 15:24:21.122 | INFO     | assignment_2.digits_classifiers.classifiers:predict:284 -  > 93.148%\n",
      "2022-12-14 15:24:21.894 | INFO     | assignment_2.digits_classifiers.classifiers:predict:284 -  > 94.218%\n",
      "2022-12-14 15:24:22.604 | INFO     | assignment_2.digits_classifiers.classifiers:predict:284 -  > 95.289%\n",
      "2022-12-14 15:24:23.332 | INFO     | assignment_2.digits_classifiers.classifiers:predict:284 -  > 96.360%\n",
      "2022-12-14 15:24:24.333 | INFO     | assignment_2.digits_classifiers.classifiers:predict:284 -  > 97.430%\n",
      "2022-12-14 15:24:25.455 | INFO     | assignment_2.digits_classifiers.classifiers:predict:284 -  > 98.501%\n",
      "2022-12-14 15:24:26.369 | INFO     | assignment_2.digits_classifiers.classifiers:predict:284 -  > 99.572%\n",
      "2022-12-14 15:24:26.744 | INFO     | assignment_2.digits_classifiers.model:evaluate:244 -  > Processing fold 2\n",
      "2022-12-14 15:24:26.744 | INFO     | assignment_2.digits_classifiers.classifiers:predict:284 -  > 0.000%\n",
      "2022-12-14 15:24:27.580 | INFO     | assignment_2.digits_classifiers.classifiers:predict:284 -  > 1.071%\n",
      "2022-12-14 15:24:28.337 | INFO     | assignment_2.digits_classifiers.classifiers:predict:284 -  > 2.141%\n",
      "2022-12-14 15:24:29.087 | INFO     | assignment_2.digits_classifiers.classifiers:predict:284 -  > 3.212%\n",
      "2022-12-14 15:24:29.939 | INFO     | assignment_2.digits_classifiers.classifiers:predict:284 -  > 4.283%\n",
      "2022-12-14 15:24:30.728 | INFO     | assignment_2.digits_classifiers.classifiers:predict:284 -  > 5.353%\n",
      "2022-12-14 15:24:31.898 | INFO     | assignment_2.digits_classifiers.classifiers:predict:284 -  > 6.424%\n",
      "2022-12-14 15:24:33.051 | INFO     | assignment_2.digits_classifiers.classifiers:predict:284 -  > 7.495%\n",
      "2022-12-14 15:24:34.012 | INFO     | assignment_2.digits_classifiers.classifiers:predict:284 -  > 8.565%\n",
      "2022-12-14 15:24:34.839 | INFO     | assignment_2.digits_classifiers.classifiers:predict:284 -  > 9.636%\n",
      "2022-12-14 15:24:35.661 | INFO     | assignment_2.digits_classifiers.classifiers:predict:284 -  > 10.707%\n",
      "2022-12-14 15:24:36.449 | INFO     | assignment_2.digits_classifiers.classifiers:predict:284 -  > 11.777%\n",
      "2022-12-14 15:24:37.214 | INFO     | assignment_2.digits_classifiers.classifiers:predict:284 -  > 12.848%\n",
      "2022-12-14 15:24:38.003 | INFO     | assignment_2.digits_classifiers.classifiers:predict:284 -  > 13.919%\n",
      "2022-12-14 15:24:38.996 | INFO     | assignment_2.digits_classifiers.classifiers:predict:284 -  > 14.989%\n",
      "2022-12-14 15:24:40.053 | INFO     | assignment_2.digits_classifiers.classifiers:predict:284 -  > 16.060%\n",
      "2022-12-14 15:24:41.061 | INFO     | assignment_2.digits_classifiers.classifiers:predict:284 -  > 17.131%\n",
      "2022-12-14 15:24:41.850 | INFO     | assignment_2.digits_classifiers.classifiers:predict:284 -  > 18.201%\n",
      "2022-12-14 15:24:42.559 | INFO     | assignment_2.digits_classifiers.classifiers:predict:284 -  > 19.272%\n",
      "2022-12-14 15:24:43.231 | INFO     | assignment_2.digits_classifiers.classifiers:predict:284 -  > 20.343%\n",
      "2022-12-14 15:24:43.972 | INFO     | assignment_2.digits_classifiers.classifiers:predict:284 -  > 21.413%\n",
      "2022-12-14 15:24:44.731 | INFO     | assignment_2.digits_classifiers.classifiers:predict:284 -  > 22.484%\n",
      "2022-12-14 15:24:45.472 | INFO     | assignment_2.digits_classifiers.classifiers:predict:284 -  > 23.555%\n",
      "2022-12-14 15:24:46.433 | INFO     | assignment_2.digits_classifiers.classifiers:predict:284 -  > 24.625%\n",
      "2022-12-14 15:24:47.474 | INFO     | assignment_2.digits_classifiers.classifiers:predict:284 -  > 25.696%\n",
      "2022-12-14 15:24:48.357 | INFO     | assignment_2.digits_classifiers.classifiers:predict:284 -  > 26.767%\n",
      "2022-12-14 15:24:49.138 | INFO     | assignment_2.digits_classifiers.classifiers:predict:284 -  > 27.837%\n",
      "2022-12-14 15:24:49.819 | INFO     | assignment_2.digits_classifiers.classifiers:predict:284 -  > 28.908%\n",
      "2022-12-14 15:24:50.545 | INFO     | assignment_2.digits_classifiers.classifiers:predict:284 -  > 29.979%\n",
      "2022-12-14 15:24:51.333 | INFO     | assignment_2.digits_classifiers.classifiers:predict:284 -  > 31.049%\n",
      "2022-12-14 15:24:52.115 | INFO     | assignment_2.digits_classifiers.classifiers:predict:284 -  > 32.120%\n",
      "2022-12-14 15:24:52.857 | INFO     | assignment_2.digits_classifiers.classifiers:predict:284 -  > 33.191%\n",
      "2022-12-14 15:24:53.771 | INFO     | assignment_2.digits_classifiers.classifiers:predict:284 -  > 34.261%\n",
      "2022-12-14 15:24:54.799 | INFO     | assignment_2.digits_classifiers.classifiers:predict:284 -  > 35.332%\n",
      "2022-12-14 15:24:55.635 | INFO     | assignment_2.digits_classifiers.classifiers:predict:284 -  > 36.403%\n",
      "2022-12-14 15:24:56.437 | INFO     | assignment_2.digits_classifiers.classifiers:predict:284 -  > 37.473%\n",
      "2022-12-14 15:24:57.187 | INFO     | assignment_2.digits_classifiers.classifiers:predict:284 -  > 38.544%\n",
      "2022-12-14 15:24:57.929 | INFO     | assignment_2.digits_classifiers.classifiers:predict:284 -  > 39.615%\n",
      "2022-12-14 15:24:58.639 | INFO     | assignment_2.digits_classifiers.classifiers:predict:284 -  > 40.685%\n",
      "2022-12-14 15:24:59.349 | INFO     | assignment_2.digits_classifiers.classifiers:predict:284 -  > 41.756%\n",
      "2022-12-14 15:25:00.083 | INFO     | assignment_2.digits_classifiers.classifiers:predict:284 -  > 42.827%\n",
      "2022-12-14 15:25:01.108 | INFO     | assignment_2.digits_classifiers.classifiers:predict:284 -  > 43.897%\n",
      "2022-12-14 15:25:02.194 | INFO     | assignment_2.digits_classifiers.classifiers:predict:284 -  > 44.968%\n",
      "2022-12-14 15:25:02.997 | INFO     | assignment_2.digits_classifiers.classifiers:predict:284 -  > 46.039%\n",
      "2022-12-14 15:25:03.724 | INFO     | assignment_2.digits_classifiers.classifiers:predict:284 -  > 47.109%\n",
      "2022-12-14 15:25:04.465 | INFO     | assignment_2.digits_classifiers.classifiers:predict:284 -  > 48.180%\n",
      "2022-12-14 15:25:05.183 | INFO     | assignment_2.digits_classifiers.classifiers:predict:284 -  > 49.251%\n",
      "2022-12-14 15:25:05.895 | INFO     | assignment_2.digits_classifiers.classifiers:predict:284 -  > 50.321%\n",
      "2022-12-14 15:25:06.636 | INFO     | assignment_2.digits_classifiers.classifiers:predict:284 -  > 51.392%\n",
      "2022-12-14 15:25:07.440 | INFO     | assignment_2.digits_classifiers.classifiers:predict:284 -  > 52.463%\n",
      "2022-12-14 15:25:08.432 | INFO     | assignment_2.digits_classifiers.classifiers:predict:284 -  > 53.533%\n",
      "2022-12-14 15:25:09.456 | INFO     | assignment_2.digits_classifiers.classifiers:predict:284 -  > 54.604%\n",
      "2022-12-14 15:25:10.292 | INFO     | assignment_2.digits_classifiers.classifiers:predict:284 -  > 55.675%\n",
      "2022-12-14 15:25:11.086 | INFO     | assignment_2.digits_classifiers.classifiers:predict:284 -  > 56.745%\n",
      "2022-12-14 15:25:11.848 | INFO     | assignment_2.digits_classifiers.classifiers:predict:284 -  > 57.816%\n",
      "2022-12-14 15:25:12.592 | INFO     | assignment_2.digits_classifiers.classifiers:predict:284 -  > 58.887%\n",
      "2022-12-14 15:25:13.303 | INFO     | assignment_2.digits_classifiers.classifiers:predict:284 -  > 59.957%\n",
      "2022-12-14 15:25:14.038 | INFO     | assignment_2.digits_classifiers.classifiers:predict:284 -  > 61.028%\n",
      "2022-12-14 15:25:14.858 | INFO     | assignment_2.digits_classifiers.classifiers:predict:284 -  > 62.099%\n",
      "2022-12-14 15:25:15.899 | INFO     | assignment_2.digits_classifiers.classifiers:predict:284 -  > 63.169%\n",
      "2022-12-14 15:25:16.906 | INFO     | assignment_2.digits_classifiers.classifiers:predict:284 -  > 64.240%\n",
      "2022-12-14 15:25:17.696 | INFO     | assignment_2.digits_classifiers.classifiers:predict:284 -  > 65.310%\n",
      "2022-12-14 15:25:18.422 | INFO     | assignment_2.digits_classifiers.classifiers:predict:284 -  > 66.381%\n",
      "2022-12-14 15:25:19.157 | INFO     | assignment_2.digits_classifiers.classifiers:predict:284 -  > 67.452%\n",
      "2022-12-14 15:25:19.867 | INFO     | assignment_2.digits_classifiers.classifiers:predict:284 -  > 68.522%\n",
      "2022-12-14 15:25:20.651 | INFO     | assignment_2.digits_classifiers.classifiers:predict:284 -  > 69.593%\n",
      "2022-12-14 15:25:21.376 | INFO     | assignment_2.digits_classifiers.classifiers:predict:284 -  > 70.664%\n",
      "2022-12-14 15:25:22.204 | INFO     | assignment_2.digits_classifiers.classifiers:predict:284 -  > 71.734%\n",
      "2022-12-14 15:25:23.228 | INFO     | assignment_2.digits_classifiers.classifiers:predict:284 -  > 72.805%\n",
      "2022-12-14 15:25:24.236 | INFO     | assignment_2.digits_classifiers.classifiers:predict:284 -  > 73.876%\n",
      "2022-12-14 15:25:25.042 | INFO     | assignment_2.digits_classifiers.classifiers:predict:284 -  > 74.946%\n",
      "2022-12-14 15:25:25.721 | INFO     | assignment_2.digits_classifiers.classifiers:predict:284 -  > 76.017%\n",
      "2022-12-14 15:25:26.447 | INFO     | assignment_2.digits_classifiers.classifiers:predict:284 -  > 77.088%\n",
      "2022-12-14 15:25:27.197 | INFO     | assignment_2.digits_classifiers.classifiers:predict:284 -  > 78.158%\n",
      "2022-12-14 15:25:27.923 | INFO     | assignment_2.digits_classifiers.classifiers:predict:284 -  > 79.229%\n",
      "2022-12-14 15:25:28.665 | INFO     | assignment_2.digits_classifiers.classifiers:predict:284 -  > 80.300%\n",
      "2022-12-14 15:25:29.531 | INFO     | assignment_2.digits_classifiers.classifiers:predict:284 -  > 81.370%\n",
      "2022-12-14 15:25:30.571 | INFO     | assignment_2.digits_classifiers.classifiers:predict:284 -  > 82.441%\n",
      "2022-12-14 15:25:31.594 | INFO     | assignment_2.digits_classifiers.classifiers:predict:284 -  > 83.512%\n",
      "2022-12-14 15:25:32.399 | INFO     | assignment_2.digits_classifiers.classifiers:predict:284 -  > 84.582%\n",
      "2022-12-14 15:25:33.374 | INFO     | assignment_2.digits_classifiers.classifiers:predict:284 -  > 85.653%\n",
      "2022-12-14 15:25:34.093 | INFO     | assignment_2.digits_classifiers.classifiers:predict:284 -  > 86.724%\n",
      "2022-12-14 15:25:34.818 | INFO     | assignment_2.digits_classifiers.classifiers:predict:284 -  > 87.794%\n",
      "2022-12-14 15:25:35.559 | INFO     | assignment_2.digits_classifiers.classifiers:predict:284 -  > 88.865%\n",
      "2022-12-14 15:25:36.316 | INFO     | assignment_2.digits_classifiers.classifiers:predict:284 -  > 89.936%\n",
      "2022-12-14 15:25:37.374 | INFO     | assignment_2.digits_classifiers.classifiers:predict:284 -  > 91.006%\n",
      "2022-12-14 15:25:38.444 | INFO     | assignment_2.digits_classifiers.classifiers:predict:284 -  > 92.077%\n",
      "2022-12-14 15:25:39.273 | INFO     | assignment_2.digits_classifiers.classifiers:predict:284 -  > 93.148%\n",
      "2022-12-14 15:25:40.047 | INFO     | assignment_2.digits_classifiers.classifiers:predict:284 -  > 94.218%\n",
      "2022-12-14 15:25:40.775 | INFO     | assignment_2.digits_classifiers.classifiers:predict:284 -  > 95.289%\n",
      "2022-12-14 15:25:41.484 | INFO     | assignment_2.digits_classifiers.classifiers:predict:284 -  > 96.360%\n",
      "2022-12-14 15:25:42.203 | INFO     | assignment_2.digits_classifiers.classifiers:predict:284 -  > 97.430%\n",
      "2022-12-14 15:25:42.945 | INFO     | assignment_2.digits_classifiers.classifiers:predict:284 -  > 98.501%\n",
      "2022-12-14 15:25:43.687 | INFO     | assignment_2.digits_classifiers.classifiers:predict:284 -  > 99.572%\n",
      "2022-12-14 15:25:44.062 | INFO     | assignment_2.digits_classifiers.model:evaluate:244 -  > Processing fold 3\n",
      "2022-12-14 15:25:44.062 | INFO     | assignment_2.digits_classifiers.classifiers:predict:284 -  > 0.000%\n",
      "2022-12-14 15:25:45.118 | INFO     | assignment_2.digits_classifiers.classifiers:predict:284 -  > 1.073%\n",
      "2022-12-14 15:25:46.112 | INFO     | assignment_2.digits_classifiers.classifiers:predict:284 -  > 2.146%\n",
      "2022-12-14 15:25:46.883 | INFO     | assignment_2.digits_classifiers.classifiers:predict:284 -  > 3.219%\n",
      "2022-12-14 15:25:47.690 | INFO     | assignment_2.digits_classifiers.classifiers:predict:284 -  > 4.292%\n",
      "2022-12-14 15:25:48.401 | INFO     | assignment_2.digits_classifiers.classifiers:predict:284 -  > 5.365%\n",
      "2022-12-14 15:25:49.151 | INFO     | assignment_2.digits_classifiers.classifiers:predict:284 -  > 6.438%\n",
      "2022-12-14 15:25:49.891 | INFO     | assignment_2.digits_classifiers.classifiers:predict:284 -  > 7.511%\n",
      "2022-12-14 15:25:50.663 | INFO     | assignment_2.digits_classifiers.classifiers:predict:284 -  > 8.584%\n",
      "2022-12-14 15:25:51.530 | INFO     | assignment_2.digits_classifiers.classifiers:predict:284 -  > 9.657%\n",
      "2022-12-14 15:25:52.586 | INFO     | assignment_2.digits_classifiers.classifiers:predict:284 -  > 10.730%\n",
      "2022-12-14 15:25:53.577 | INFO     | assignment_2.digits_classifiers.classifiers:predict:284 -  > 11.803%\n",
      "2022-12-14 15:25:54.380 | INFO     | assignment_2.digits_classifiers.classifiers:predict:284 -  > 12.876%\n",
      "2022-12-14 15:25:55.146 | INFO     | assignment_2.digits_classifiers.classifiers:predict:284 -  > 13.948%\n",
      "2022-12-14 15:25:55.888 | INFO     | assignment_2.digits_classifiers.classifiers:predict:284 -  > 15.021%\n",
      "2022-12-14 15:25:56.629 | INFO     | assignment_2.digits_classifiers.classifiers:predict:284 -  > 16.094%\n",
      "2022-12-14 15:25:57.433 | INFO     | assignment_2.digits_classifiers.classifiers:predict:284 -  > 17.167%\n",
      "2022-12-14 15:25:58.245 | INFO     | assignment_2.digits_classifiers.classifiers:predict:284 -  > 18.240%\n",
      "2022-12-14 15:25:59.344 | INFO     | assignment_2.digits_classifiers.classifiers:predict:284 -  > 19.313%\n",
      "2022-12-14 15:26:00.586 | INFO     | assignment_2.digits_classifiers.classifiers:predict:284 -  > 20.386%\n",
      "2022-12-14 15:26:01.500 | INFO     | assignment_2.digits_classifiers.classifiers:predict:284 -  > 21.459%\n",
      "2022-12-14 15:26:02.265 | INFO     | assignment_2.digits_classifiers.classifiers:predict:284 -  > 22.532%\n",
      "2022-12-14 15:26:03.086 | INFO     | assignment_2.digits_classifiers.classifiers:predict:284 -  > 23.605%\n",
      "2022-12-14 15:26:03.874 | INFO     | assignment_2.digits_classifiers.classifiers:predict:284 -  > 24.678%\n",
      "2022-12-14 15:26:04.631 | INFO     | assignment_2.digits_classifiers.classifiers:predict:284 -  > 25.751%\n",
      "2022-12-14 15:26:05.389 | INFO     | assignment_2.digits_classifiers.classifiers:predict:284 -  > 26.824%\n",
      "2022-12-14 15:26:06.303 | INFO     | assignment_2.digits_classifiers.classifiers:predict:284 -  > 27.897%\n",
      "2022-12-14 15:26:07.375 | INFO     | assignment_2.digits_classifiers.classifiers:predict:284 -  > 28.970%\n",
      "2022-12-14 15:26:08.399 | INFO     | assignment_2.digits_classifiers.classifiers:predict:284 -  > 30.043%\n",
      "2022-12-14 15:26:09.102 | INFO     | assignment_2.digits_classifiers.classifiers:predict:284 -  > 31.116%\n",
      "2022-12-14 15:26:09.890 | INFO     | assignment_2.digits_classifiers.classifiers:predict:284 -  > 32.189%\n",
      "2022-12-14 15:26:10.647 | INFO     | assignment_2.digits_classifiers.classifiers:predict:284 -  > 33.262%\n",
      "2022-12-14 15:26:11.420 | INFO     | assignment_2.digits_classifiers.classifiers:predict:284 -  > 34.335%\n",
      "2022-12-14 15:26:12.139 | INFO     | assignment_2.digits_classifiers.classifiers:predict:284 -  > 35.408%\n",
      "2022-12-14 15:26:12.943 | INFO     | assignment_2.digits_classifiers.classifiers:predict:284 -  > 36.481%\n",
      "2022-12-14 15:26:13.964 | INFO     | assignment_2.digits_classifiers.classifiers:predict:284 -  > 37.554%\n",
      "2022-12-14 15:26:14.973 | INFO     | assignment_2.digits_classifiers.classifiers:predict:284 -  > 38.627%\n",
      "2022-12-14 15:26:15.919 | INFO     | assignment_2.digits_classifiers.classifiers:predict:284 -  > 39.700%\n",
      "2022-12-14 15:26:16.722 | INFO     | assignment_2.digits_classifiers.classifiers:predict:284 -  > 40.773%\n",
      "2022-12-14 15:26:17.462 | INFO     | assignment_2.digits_classifiers.classifiers:predict:284 -  > 41.845%\n",
      "2022-12-14 15:26:18.244 | INFO     | assignment_2.digits_classifiers.classifiers:predict:284 -  > 42.918%\n",
      "2022-12-14 15:26:18.987 | INFO     | assignment_2.digits_classifiers.classifiers:predict:284 -  > 43.991%\n",
      "2022-12-14 15:26:19.681 | INFO     | assignment_2.digits_classifiers.classifiers:predict:284 -  > 45.064%\n",
      "2022-12-14 15:26:20.391 | INFO     | assignment_2.digits_classifiers.classifiers:predict:284 -  > 46.137%\n",
      "2022-12-14 15:26:21.406 | INFO     | assignment_2.digits_classifiers.classifiers:predict:284 -  > 47.210%\n",
      "2022-12-14 15:26:22.493 | INFO     | assignment_2.digits_classifiers.classifiers:predict:284 -  > 48.283%\n",
      "2022-12-14 15:26:23.329 | INFO     | assignment_2.digits_classifiers.classifiers:predict:284 -  > 49.356%\n",
      "2022-12-14 15:26:24.094 | INFO     | assignment_2.digits_classifiers.classifiers:predict:284 -  > 50.429%\n",
      "2022-12-14 15:26:24.867 | INFO     | assignment_2.digits_classifiers.classifiers:predict:284 -  > 51.502%\n",
      "2022-12-14 15:26:25.593 | INFO     | assignment_2.digits_classifiers.classifiers:predict:284 -  > 52.575%\n",
      "2022-12-14 15:26:26.319 | INFO     | assignment_2.digits_classifiers.classifiers:predict:284 -  > 53.648%\n",
      "2022-12-14 15:26:27.053 | INFO     | assignment_2.digits_classifiers.classifiers:predict:284 -  > 54.721%\n",
      "2022-12-14 15:26:27.842 | INFO     | assignment_2.digits_classifiers.classifiers:predict:284 -  > 55.794%\n",
      "2022-12-14 15:26:28.989 | INFO     | assignment_2.digits_classifiers.classifiers:predict:284 -  > 56.867%\n",
      "2022-12-14 15:26:30.090 | INFO     | assignment_2.digits_classifiers.classifiers:predict:284 -  > 57.940%\n",
      "2022-12-14 15:26:30.958 | INFO     | assignment_2.digits_classifiers.classifiers:predict:284 -  > 59.013%\n",
      "2022-12-14 15:26:31.812 | INFO     | assignment_2.digits_classifiers.classifiers:predict:284 -  > 60.086%\n",
      "2022-12-14 15:26:32.569 | INFO     | assignment_2.digits_classifiers.classifiers:predict:284 -  > 61.159%\n",
      "2022-12-14 15:26:33.328 | INFO     | assignment_2.digits_classifiers.classifiers:predict:284 -  > 62.232%\n",
      "2022-12-14 15:26:34.077 | INFO     | assignment_2.digits_classifiers.classifiers:predict:284 -  > 63.305%\n",
      "2022-12-14 15:26:34.802 | INFO     | assignment_2.digits_classifiers.classifiers:predict:284 -  > 64.378%\n",
      "2022-12-14 15:26:35.686 | INFO     | assignment_2.digits_classifiers.classifiers:predict:284 -  > 65.451%\n",
      "2022-12-14 15:26:36.725 | INFO     | assignment_2.digits_classifiers.classifiers:predict:284 -  > 66.524%\n",
      "2022-12-14 15:26:37.749 | INFO     | assignment_2.digits_classifiers.classifiers:predict:284 -  > 67.597%\n",
      "2022-12-14 15:26:38.523 | INFO     | assignment_2.digits_classifiers.classifiers:predict:284 -  > 68.670%\n",
      "2022-12-14 15:26:39.341 | INFO     | assignment_2.digits_classifiers.classifiers:predict:284 -  > 69.742%\n",
      "2022-12-14 15:26:40.060 | INFO     | assignment_2.digits_classifiers.classifiers:predict:284 -  > 70.815%\n",
      "2022-12-14 15:26:40.817 | INFO     | assignment_2.digits_classifiers.classifiers:predict:284 -  > 71.888%\n",
      "2022-12-14 15:26:41.589 | INFO     | assignment_2.digits_classifiers.classifiers:predict:284 -  > 72.961%\n",
      "2022-12-14 15:26:42.348 | INFO     | assignment_2.digits_classifiers.classifiers:predict:284 -  > 74.034%\n",
      "2022-12-14 15:26:43.591 | INFO     | assignment_2.digits_classifiers.classifiers:predict:284 -  > 75.107%\n",
      "2022-12-14 15:26:44.693 | INFO     | assignment_2.digits_classifiers.classifiers:predict:284 -  > 76.180%\n",
      "2022-12-14 15:26:45.638 | INFO     | assignment_2.digits_classifiers.classifiers:predict:284 -  > 77.253%\n",
      "2022-12-14 15:26:46.429 | INFO     | assignment_2.digits_classifiers.classifiers:predict:284 -  > 78.326%\n",
      "2022-12-14 15:26:47.179 | INFO     | assignment_2.digits_classifiers.classifiers:predict:284 -  > 79.399%\n",
      "2022-12-14 15:26:47.933 | INFO     | assignment_2.digits_classifiers.classifiers:predict:284 -  > 80.472%\n",
      "2022-12-14 15:26:48.767 | INFO     | assignment_2.digits_classifiers.classifiers:predict:284 -  > 81.545%\n",
      "2022-12-14 15:26:49.494 | INFO     | assignment_2.digits_classifiers.classifiers:predict:284 -  > 82.618%\n",
      "2022-12-14 15:26:50.329 | INFO     | assignment_2.digits_classifiers.classifiers:predict:284 -  > 83.691%\n",
      "2022-12-14 15:26:51.415 | INFO     | assignment_2.digits_classifiers.classifiers:predict:284 -  > 84.764%\n",
      "2022-12-14 15:26:52.485 | INFO     | assignment_2.digits_classifiers.classifiers:predict:284 -  > 85.837%\n",
      "2022-12-14 15:26:53.337 | INFO     | assignment_2.digits_classifiers.classifiers:predict:284 -  > 86.910%\n",
      "2022-12-14 15:26:54.118 | INFO     | assignment_2.digits_classifiers.classifiers:predict:284 -  > 87.983%\n",
      "2022-12-14 15:26:54.859 | INFO     | assignment_2.digits_classifiers.classifiers:predict:284 -  > 89.056%\n",
      "2022-12-14 15:26:55.633 | INFO     | assignment_2.digits_classifiers.classifiers:predict:284 -  > 90.129%\n",
      "2022-12-14 15:26:56.374 | INFO     | assignment_2.digits_classifiers.classifiers:predict:284 -  > 91.202%\n",
      "2022-12-14 15:26:57.155 | INFO     | assignment_2.digits_classifiers.classifiers:predict:284 -  > 92.275%\n",
      "2022-12-14 15:26:58.101 | INFO     | assignment_2.digits_classifiers.classifiers:predict:284 -  > 93.348%\n",
      "2022-12-14 15:26:59.220 | INFO     | assignment_2.digits_classifiers.classifiers:predict:284 -  > 94.421%\n",
      "2022-12-14 15:27:00.134 | INFO     | assignment_2.digits_classifiers.classifiers:predict:284 -  > 95.494%\n",
      "2022-12-14 15:27:00.891 | INFO     | assignment_2.digits_classifiers.classifiers:predict:284 -  > 96.567%\n",
      "2022-12-14 15:27:01.617 | INFO     | assignment_2.digits_classifiers.classifiers:predict:284 -  > 97.639%\n",
      "2022-12-14 15:27:02.296 | INFO     | assignment_2.digits_classifiers.classifiers:predict:284 -  > 98.712%\n",
      "2022-12-14 15:27:03.093 | INFO     | assignment_2.digits_classifiers.classifiers:predict:284 -  > 99.785%\n"
     ]
    }
   ],
   "source": [
    "tuning_knns.evaluate_best_model()"
   ],
   "metadata": {
    "collapsed": false,
    "pycharm": {
     "name": "#%%\n"
    }
   }
  },
  {
   "cell_type": "code",
   "execution_count": 30,
   "outputs": [
    {
     "data": {
      "text/plain": "[k-NEAREST-NEIGHBORHOOD: Train 1868, Test 932] - [K: 10]"
     },
     "execution_count": 30,
     "metadata": {},
     "output_type": "execute_result"
    }
   ],
   "source": [
    "tuning_knns.best_model"
   ],
   "metadata": {
    "collapsed": false,
    "pycharm": {
     "name": "#%%\n"
    }
   }
  },
  {
   "cell_type": "code",
   "execution_count": 31,
   "outputs": [
    {
     "name": "stderr",
     "output_type": "stream",
     "text": [
      "2022-12-14 15:27:03.265 | INFO     | assignment_2.digits_classifiers.classifiers:predict:284 -  > 0.000%\n",
      "2022-12-14 15:27:04.341 | INFO     | assignment_2.digits_classifiers.classifiers:predict:284 -  > 1.429%\n",
      "2022-12-14 15:27:05.802 | INFO     | assignment_2.digits_classifiers.classifiers:predict:284 -  > 2.857%\n",
      "2022-12-14 15:27:07.246 | INFO     | assignment_2.digits_classifiers.classifiers:predict:284 -  > 4.286%\n",
      "2022-12-14 15:27:08.462 | INFO     | assignment_2.digits_classifiers.classifiers:predict:284 -  > 5.714%\n",
      "2022-12-14 15:27:09.610 | INFO     | assignment_2.digits_classifiers.classifiers:predict:284 -  > 7.143%\n",
      "2022-12-14 15:27:10.774 | INFO     | assignment_2.digits_classifiers.classifiers:predict:284 -  > 8.571%\n",
      "2022-12-14 15:27:11.859 | INFO     | assignment_2.digits_classifiers.classifiers:predict:284 -  > 10.000%\n",
      "2022-12-14 15:27:13.440 | INFO     | assignment_2.digits_classifiers.classifiers:predict:284 -  > 11.429%\n",
      "2022-12-14 15:27:14.841 | INFO     | assignment_2.digits_classifiers.classifiers:predict:284 -  > 12.857%\n",
      "2022-12-14 15:27:16.020 | INFO     | assignment_2.digits_classifiers.classifiers:predict:284 -  > 14.286%\n",
      "2022-12-14 15:27:17.135 | INFO     | assignment_2.digits_classifiers.classifiers:predict:284 -  > 15.714%\n",
      "2022-12-14 15:27:18.305 | INFO     | assignment_2.digits_classifiers.classifiers:predict:284 -  > 17.143%\n",
      "2022-12-14 15:27:19.579 | INFO     | assignment_2.digits_classifiers.classifiers:predict:284 -  > 18.571%\n",
      "2022-12-14 15:27:21.196 | INFO     | assignment_2.digits_classifiers.classifiers:predict:284 -  > 20.000%\n",
      "2022-12-14 15:27:22.450 | INFO     | assignment_2.digits_classifiers.classifiers:predict:284 -  > 21.429%\n",
      "2022-12-14 15:27:23.566 | INFO     | assignment_2.digits_classifiers.classifiers:predict:284 -  > 22.857%\n",
      "2022-12-14 15:27:24.714 | INFO     | assignment_2.digits_classifiers.classifiers:predict:284 -  > 24.286%\n",
      "2022-12-14 15:27:25.876 | INFO     | assignment_2.digits_classifiers.classifiers:predict:284 -  > 25.714%\n",
      "2022-12-14 15:27:27.212 | INFO     | assignment_2.digits_classifiers.classifiers:predict:284 -  > 27.143%\n",
      "2022-12-14 15:27:28.711 | INFO     | assignment_2.digits_classifiers.classifiers:predict:284 -  > 28.571%\n",
      "2022-12-14 15:27:29.921 | INFO     | assignment_2.digits_classifiers.classifiers:predict:284 -  > 30.000%\n",
      "2022-12-14 15:27:30.991 | INFO     | assignment_2.digits_classifiers.classifiers:predict:284 -  > 31.429%\n",
      "2022-12-14 15:27:32.045 | INFO     | assignment_2.digits_classifiers.classifiers:predict:284 -  > 32.857%\n",
      "2022-12-14 15:27:33.161 | INFO     | assignment_2.digits_classifiers.classifiers:predict:284 -  > 34.286%\n",
      "2022-12-14 15:27:34.568 | INFO     | assignment_2.digits_classifiers.classifiers:predict:284 -  > 35.714%\n",
      "2022-12-14 15:27:36.077 | INFO     | assignment_2.digits_classifiers.classifiers:predict:284 -  > 37.143%\n",
      "2022-12-14 15:27:37.255 | INFO     | assignment_2.digits_classifiers.classifiers:predict:284 -  > 38.571%\n",
      "2022-12-14 15:27:38.393 | INFO     | assignment_2.digits_classifiers.classifiers:predict:284 -  > 40.000%\n",
      "2022-12-14 15:27:39.541 | INFO     | assignment_2.digits_classifiers.classifiers:predict:284 -  > 41.429%\n",
      "2022-12-14 15:27:40.703 | INFO     | assignment_2.digits_classifiers.classifiers:predict:284 -  > 42.857%\n",
      "2022-12-14 15:27:42.212 | INFO     | assignment_2.digits_classifiers.classifiers:predict:284 -  > 44.286%\n",
      "2022-12-14 15:27:43.649 | INFO     | assignment_2.digits_classifiers.classifiers:predict:284 -  > 45.714%\n",
      "2022-12-14 15:27:44.811 | INFO     | assignment_2.digits_classifiers.classifiers:predict:284 -  > 47.143%\n",
      "2022-12-14 15:27:46.005 | INFO     | assignment_2.digits_classifiers.classifiers:predict:284 -  > 48.571%\n",
      "2022-12-14 15:27:47.045 | INFO     | assignment_2.digits_classifiers.classifiers:predict:284 -  > 50.000%\n",
      "2022-12-14 15:27:48.193 | INFO     | assignment_2.digits_classifiers.classifiers:predict:284 -  > 51.429%\n",
      "2022-12-14 15:27:49.757 | INFO     | assignment_2.digits_classifiers.classifiers:predict:284 -  > 52.857%\n",
      "2022-12-14 15:27:51.077 | INFO     | assignment_2.digits_classifiers.classifiers:predict:284 -  > 54.286%\n",
      "2022-12-14 15:27:52.342 | INFO     | assignment_2.digits_classifiers.classifiers:predict:284 -  > 55.714%\n",
      "2022-12-14 15:27:53.458 | INFO     | assignment_2.digits_classifiers.classifiers:predict:284 -  > 57.143%\n",
      "2022-12-14 15:27:54.621 | INFO     | assignment_2.digits_classifiers.classifiers:predict:284 -  > 58.571%\n",
      "2022-12-14 15:27:55.926 | INFO     | assignment_2.digits_classifiers.classifiers:predict:284 -  > 60.000%\n",
      "2022-12-14 15:27:57.411 | INFO     | assignment_2.digits_classifiers.classifiers:predict:284 -  > 61.429%\n",
      "2022-12-14 15:27:58.794 | INFO     | assignment_2.digits_classifiers.classifiers:predict:284 -  > 62.857%\n",
      "2022-12-14 15:28:00.147 | INFO     | assignment_2.digits_classifiers.classifiers:predict:284 -  > 64.286%\n",
      "2022-12-14 15:28:01.447 | INFO     | assignment_2.digits_classifiers.classifiers:predict:284 -  > 65.714%\n",
      "2022-12-14 15:28:02.891 | INFO     | assignment_2.digits_classifiers.classifiers:predict:284 -  > 67.143%\n",
      "2022-12-14 15:28:04.678 | INFO     | assignment_2.digits_classifiers.classifiers:predict:284 -  > 68.571%\n",
      "2022-12-14 15:28:05.965 | INFO     | assignment_2.digits_classifiers.classifiers:predict:284 -  > 70.000%\n",
      "2022-12-14 15:28:07.145 | INFO     | assignment_2.digits_classifiers.classifiers:predict:284 -  > 71.429%\n",
      "2022-12-14 15:28:08.299 | INFO     | assignment_2.digits_classifiers.classifiers:predict:284 -  > 72.857%\n",
      "2022-12-14 15:28:09.482 | INFO     | assignment_2.digits_classifiers.classifiers:predict:284 -  > 74.286%\n",
      "2022-12-14 15:28:10.929 | INFO     | assignment_2.digits_classifiers.classifiers:predict:284 -  > 75.714%\n",
      "2022-12-14 15:28:12.505 | INFO     | assignment_2.digits_classifiers.classifiers:predict:284 -  > 77.143%\n",
      "2022-12-14 15:28:13.831 | INFO     | assignment_2.digits_classifiers.classifiers:predict:284 -  > 78.571%\n",
      "2022-12-14 15:28:15.072 | INFO     | assignment_2.digits_classifiers.classifiers:predict:284 -  > 80.000%\n",
      "2022-12-14 15:28:16.219 | INFO     | assignment_2.digits_classifiers.classifiers:predict:284 -  > 81.429%\n",
      "2022-12-14 15:28:17.438 | INFO     | assignment_2.digits_classifiers.classifiers:predict:284 -  > 82.857%\n",
      "2022-12-14 15:28:19.026 | INFO     | assignment_2.digits_classifiers.classifiers:predict:284 -  > 84.286%\n",
      "2022-12-14 15:28:20.417 | INFO     | assignment_2.digits_classifiers.classifiers:predict:284 -  > 85.714%\n",
      "2022-12-14 15:28:21.568 | INFO     | assignment_2.digits_classifiers.classifiers:predict:284 -  > 87.143%\n",
      "2022-12-14 15:28:22.700 | INFO     | assignment_2.digits_classifiers.classifiers:predict:284 -  > 88.571%\n",
      "2022-12-14 15:28:23.832 | INFO     | assignment_2.digits_classifiers.classifiers:predict:284 -  > 90.000%\n",
      "2022-12-14 15:28:25.135 | INFO     | assignment_2.digits_classifiers.classifiers:predict:284 -  > 91.429%\n",
      "2022-12-14 15:28:26.684 | INFO     | assignment_2.digits_classifiers.classifiers:predict:284 -  > 92.857%\n",
      "2022-12-14 15:28:27.974 | INFO     | assignment_2.digits_classifiers.classifiers:predict:284 -  > 94.286%\n",
      "2022-12-14 15:28:29.091 | INFO     | assignment_2.digits_classifiers.classifiers:predict:284 -  > 95.714%\n",
      "2022-12-14 15:28:30.296 | INFO     | assignment_2.digits_classifiers.classifiers:predict:284 -  > 97.143%\n",
      "2022-12-14 15:28:31.443 | INFO     | assignment_2.digits_classifiers.classifiers:predict:284 -  > 98.571%\n"
     ]
    },
    {
     "data": {
      "text/plain": "0.9057142857142857"
     },
     "execution_count": 31,
     "metadata": {},
     "output_type": "execute_result"
    }
   ],
   "source": [
    "best_knn = tuning_knns.best_model\n",
    "best_knn.change_dataset(\n",
    "    train=train,\n",
    "    test=test\n",
    ")\n",
    "best_knn.train()\n",
    "best_knn.predict()\n",
    "best_knn.accuracy"
   ],
   "metadata": {
    "collapsed": false,
    "pycharm": {
     "name": "#%%\n"
    }
   }
  },
  {
   "cell_type": "code",
   "execution_count": 32,
   "outputs": [
    {
     "data": {
      "text/plain": "<Figure size 432x288 with 2 Axes>",
      "image/png": "[encoded data removed]"
     },
     "metadata": {
      "needs_background": "light"
     },
     "output_type": "display_data"
    }
   ],
   "source": [
    "best_knn.confusion_matrix()"
   ],
   "metadata": {
    "collapsed": false,
    "pycharm": {
     "name": "#%%\n"
    }
   }
  }
 ],
 "metadata": {
  "kernelspec": {
   "display_name": "Python 3",
   "language": "python",
   "name": "python3"
  },
  "language_info": {
   "codemirror_mode": {
    "name": "ipython",
    "version": 2
   },
   "file_extension": ".py",
   "mimetype": "text/x-python",
   "name": "python",
   "nbconvert_exporter": "python",
   "pygments_lexer": "ipython2",
   "version": "2.7.6"
  }
 },
 "nbformat": 4,
 "nbformat_minor": 0
}