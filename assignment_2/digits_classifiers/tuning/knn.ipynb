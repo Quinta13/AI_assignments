{
 "cells": [
  {
   "cell_type": "code",
   "execution_count": 19,
   "outputs": [],
   "source": [
    "from sklearn.model_selection import train_test_split\n",
    "from scipy.spatial import distance\n",
    "\n",
    "from assignment_2.digits_classifiers.io.read_datasets import read_datasets\n",
    "from assignment_2.digits_classifiers.classifiers import KNN\n",
    "from assignment_2.digits_classifiers.model import Dataset"
   ],
   "metadata": {
    "collapsed": false,
    "pycharm": {
     "name": "#%%\n"
    }
   }
  },
  {
   "cell_type": "code",
   "execution_count": 20,
   "outputs": [
    {
     "name": "stdout",
     "output_type": "stream",
     "text": [
      "Reading datasets\n"
     ]
    }
   ],
   "source": [
    "data = read_datasets()"
   ],
   "metadata": {
    "collapsed": false,
    "pycharm": {
     "name": "#%%\n"
    }
   }
  },
  {
   "cell_type": "code",
   "execution_count": 21,
   "outputs": [],
   "source": [
    "X, y = data"
   ],
   "metadata": {
    "collapsed": false,
    "pycharm": {
     "name": "#%%\n"
    }
   }
  },
  {
   "cell_type": "markdown",
   "source": [
    "Restricting dataset"
   ],
   "metadata": {
    "collapsed": false
   }
  },
  {
   "cell_type": "code",
   "execution_count": 22,
   "outputs": [],
   "source": [
    "always_zero = [c for c in list(X.columns) if sum(X.loc[:, c]) == 0]"
   ],
   "metadata": {
    "collapsed": false,
    "pycharm": {
     "name": "#%%\n"
    }
   }
  },
  {
   "cell_type": "code",
   "execution_count": 23,
   "outputs": [],
   "source": [
    "X.drop(columns=always_zero, axis=1, inplace=True)"
   ],
   "metadata": {
    "collapsed": false,
    "pycharm": {
     "name": "#%%\n"
    }
   }
  },
  {
   "cell_type": "code",
   "execution_count": 24,
   "outputs": [],
   "source": [
    "X, _, y, _ = train_test_split(X, y, test_size=0.50)"
   ],
   "metadata": {
    "collapsed": false,
    "pycharm": {
     "name": "#%%\n"
    }
   }
  },
  {
   "cell_type": "code",
   "execution_count": 25,
   "outputs": [],
   "source": [
    "X_train, X_test, y_train, y_test = train_test_split(X, y, test_size=0.2)\n",
    "X_train.reset_index(inplace=True, drop=True)\n",
    "X_test.reset_index(inplace=True, drop=True)"
   ],
   "metadata": {
    "collapsed": false,
    "pycharm": {
     "name": "#%%\n"
    }
   }
  },
  {
   "cell_type": "code",
   "execution_count": 26,
   "outputs": [
    {
     "data": {
      "text/plain": "       pixel13  pixel14  pixel15  pixel16  pixel33  pixel34  pixel35  pixel36  \\\n0          0.0      0.0      0.0      0.0      0.0      0.0      0.0      0.0   \n1          0.0      0.0      0.0      0.0      0.0      0.0      0.0      0.0   \n2          0.0      0.0      0.0      0.0      0.0      0.0      0.0      0.0   \n3          0.0      0.0      0.0      0.0      0.0      0.0      0.0      0.0   \n4          0.0      0.0      0.0      0.0      0.0      0.0      0.0      0.0   \n...        ...      ...      ...      ...      ...      ...      ...      ...   \n27995      0.0      0.0      0.0      0.0      0.0      0.0      0.0      0.0   \n27996      0.0      0.0      0.0      0.0      0.0      0.0      0.0      0.0   \n27997      0.0      0.0      0.0      0.0      0.0      0.0      0.0      0.0   \n27998      0.0      0.0      0.0      0.0      0.0      0.0      0.0      0.0   \n27999      0.0      0.0      0.0      0.0      0.0      0.0      0.0      0.0   \n\n       pixel37  pixel38  ...  pixel771  pixel772  pixel773  pixel774  \\\n0          0.0      0.0  ...       0.0  0.000000  0.000000  0.000000   \n1          0.0      0.0  ...       0.0  0.000000  0.000000  0.000000   \n2          0.0      0.0  ...       0.0  0.000000  0.000000  0.000000   \n3          0.0      0.0  ...       0.0  0.000000  0.000000  0.000000   \n4          0.0      0.0  ...       0.0  0.000000  0.000000  0.000000   \n...        ...      ...  ...       ...       ...       ...       ...   \n27995      0.0      0.0  ...       0.0  0.000000  0.000000  0.000000   \n27996      0.0      0.0  ...       0.0  0.000000  0.000000  0.000000   \n27997      0.0      0.0  ...       0.0  0.207843  0.768627  0.054902   \n27998      0.0      0.0  ...       0.0  0.000000  0.000000  0.000000   \n27999      0.0      0.0  ...       0.0  0.000000  0.000000  0.000000   \n\n       pixel775  pixel776  pixel777  pixel778  pixel779  pixel780  \n0           0.0       0.0       0.0       0.0       0.0       0.0  \n1           0.0       0.0       0.0       0.0       0.0       0.0  \n2           0.0       0.0       0.0       0.0       0.0       0.0  \n3           0.0       0.0       0.0       0.0       0.0       0.0  \n4           0.0       0.0       0.0       0.0       0.0       0.0  \n...         ...       ...       ...       ...       ...       ...  \n27995       0.0       0.0       0.0       0.0       0.0       0.0  \n27996       0.0       0.0       0.0       0.0       0.0       0.0  \n27997       0.0       0.0       0.0       0.0       0.0       0.0  \n27998       0.0       0.0       0.0       0.0       0.0       0.0  \n27999       0.0       0.0       0.0       0.0       0.0       0.0  \n\n[28000 rows x 719 columns]",
      "text/html": "<div>\n<style scoped>\n    .dataframe tbody tr th:only-of-type {\n        vertical-align: middle;\n    }\n\n    .dataframe tbody tr th {\n        vertical-align: top;\n    }\n\n    .dataframe thead th {\n        text-align: right;\n    }\n</style>\n<table border=\"1\" class=\"dataframe\">\n  <thead>\n    <tr style=\"text-align: right;\">\n      <th></th>\n      <th>pixel13</th>\n      <th>pixel14</th>\n      <th>pixel15</th>\n      <th>pixel16</th>\n      <th>pixel33</th>\n      <th>pixel34</th>\n      <th>pixel35</th>\n      <th>pixel36</th>\n      <th>pixel37</th>\n      <th>pixel38</th>\n      <th>...</th>\n      <th>pixel771</th>\n      <th>pixel772</th>\n      <th>pixel773</th>\n      <th>pixel774</th>\n      <th>pixel775</th>\n      <th>pixel776</th>\n      <th>pixel777</th>\n      <th>pixel778</th>\n      <th>pixel779</th>\n      <th>pixel780</th>\n    </tr>\n  </thead>\n  <tbody>\n    <tr>\n      <th>0</th>\n      <td>0.0</td>\n      <td>0.0</td>\n      <td>0.0</td>\n      <td>0.0</td>\n      <td>0.0</td>\n      <td>0.0</td>\n      <td>0.0</td>\n      <td>0.0</td>\n      <td>0.0</td>\n      <td>0.0</td>\n      <td>...</td>\n      <td>0.0</td>\n      <td>0.000000</td>\n      <td>0.000000</td>\n      <td>0.000000</td>\n      <td>0.0</td>\n      <td>0.0</td>\n      <td>0.0</td>\n      <td>0.0</td>\n      <td>0.0</td>\n      <td>0.0</td>\n    </tr>\n    <tr>\n      <th>1</th>\n      <td>0.0</td>\n      <td>0.0</td>\n      <td>0.0</td>\n      <td>0.0</td>\n      <td>0.0</td>\n      <td>0.0</td>\n      <td>0.0</td>\n      <td>0.0</td>\n      <td>0.0</td>\n      <td>0.0</td>\n      <td>...</td>\n      <td>0.0</td>\n      <td>0.000000</td>\n      <td>0.000000</td>\n      <td>0.000000</td>\n      <td>0.0</td>\n      <td>0.0</td>\n      <td>0.0</td>\n      <td>0.0</td>\n      <td>0.0</td>\n      <td>0.0</td>\n    </tr>\n    <tr>\n      <th>2</th>\n      <td>0.0</td>\n      <td>0.0</td>\n      <td>0.0</td>\n      <td>0.0</td>\n      <td>0.0</td>\n      <td>0.0</td>\n      <td>0.0</td>\n      <td>0.0</td>\n      <td>0.0</td>\n      <td>0.0</td>\n      <td>...</td>\n      <td>0.0</td>\n      <td>0.000000</td>\n      <td>0.000000</td>\n      <td>0.000000</td>\n      <td>0.0</td>\n      <td>0.0</td>\n      <td>0.0</td>\n      <td>0.0</td>\n      <td>0.0</td>\n      <td>0.0</td>\n    </tr>\n    <tr>\n      <th>3</th>\n      <td>0.0</td>\n      <td>0.0</td>\n      <td>0.0</td>\n      <td>0.0</td>\n      <td>0.0</td>\n      <td>0.0</td>\n      <td>0.0</td>\n      <td>0.0</td>\n      <td>0.0</td>\n      <td>0.0</td>\n      <td>...</td>\n      <td>0.0</td>\n      <td>0.000000</td>\n      <td>0.000000</td>\n      <td>0.000000</td>\n      <td>0.0</td>\n      <td>0.0</td>\n      <td>0.0</td>\n      <td>0.0</td>\n      <td>0.0</td>\n      <td>0.0</td>\n    </tr>\n    <tr>\n      <th>4</th>\n      <td>0.0</td>\n      <td>0.0</td>\n      <td>0.0</td>\n      <td>0.0</td>\n      <td>0.0</td>\n      <td>0.0</td>\n      <td>0.0</td>\n      <td>0.0</td>\n      <td>0.0</td>\n      <td>0.0</td>\n      <td>...</td>\n      <td>0.0</td>\n      <td>0.000000</td>\n      <td>0.000000</td>\n      <td>0.000000</td>\n      <td>0.0</td>\n      <td>0.0</td>\n      <td>0.0</td>\n      <td>0.0</td>\n      <td>0.0</td>\n      <td>0.0</td>\n    </tr>\n    <tr>\n      <th>...</th>\n      <td>...</td>\n      <td>...</td>\n      <td>...</td>\n      <td>...</td>\n      <td>...</td>\n      <td>...</td>\n      <td>...</td>\n      <td>...</td>\n      <td>...</td>\n      <td>...</td>\n      <td>...</td>\n      <td>...</td>\n      <td>...</td>\n      <td>...</td>\n      <td>...</td>\n      <td>...</td>\n      <td>...</td>\n      <td>...</td>\n      <td>...</td>\n      <td>...</td>\n      <td>...</td>\n    </tr>\n    <tr>\n      <th>27995</th>\n      <td>0.0</td>\n      <td>0.0</td>\n      <td>0.0</td>\n      <td>0.0</td>\n      <td>0.0</td>\n      <td>0.0</td>\n      <td>0.0</td>\n      <td>0.0</td>\n      <td>0.0</td>\n      <td>0.0</td>\n      <td>...</td>\n      <td>0.0</td>\n      <td>0.000000</td>\n      <td>0.000000</td>\n      <td>0.000000</td>\n      <td>0.0</td>\n      <td>0.0</td>\n      <td>0.0</td>\n      <td>0.0</td>\n      <td>0.0</td>\n      <td>0.0</td>\n    </tr>\n    <tr>\n      <th>27996</th>\n      <td>0.0</td>\n      <td>0.0</td>\n      <td>0.0</td>\n      <td>0.0</td>\n      <td>0.0</td>\n      <td>0.0</td>\n      <td>0.0</td>\n      <td>0.0</td>\n      <td>0.0</td>\n      <td>0.0</td>\n      <td>...</td>\n      <td>0.0</td>\n      <td>0.000000</td>\n      <td>0.000000</td>\n      <td>0.000000</td>\n      <td>0.0</td>\n      <td>0.0</td>\n      <td>0.0</td>\n      <td>0.0</td>\n      <td>0.0</td>\n      <td>0.0</td>\n    </tr>\n    <tr>\n      <th>27997</th>\n      <td>0.0</td>\n      <td>0.0</td>\n      <td>0.0</td>\n      <td>0.0</td>\n      <td>0.0</td>\n      <td>0.0</td>\n      <td>0.0</td>\n      <td>0.0</td>\n      <td>0.0</td>\n      <td>0.0</td>\n      <td>...</td>\n      <td>0.0</td>\n      <td>0.207843</td>\n      <td>0.768627</td>\n      <td>0.054902</td>\n      <td>0.0</td>\n      <td>0.0</td>\n      <td>0.0</td>\n      <td>0.0</td>\n      <td>0.0</td>\n      <td>0.0</td>\n    </tr>\n    <tr>\n      <th>27998</th>\n      <td>0.0</td>\n      <td>0.0</td>\n      <td>0.0</td>\n      <td>0.0</td>\n      <td>0.0</td>\n      <td>0.0</td>\n      <td>0.0</td>\n      <td>0.0</td>\n      <td>0.0</td>\n      <td>0.0</td>\n      <td>...</td>\n      <td>0.0</td>\n      <td>0.000000</td>\n      <td>0.000000</td>\n      <td>0.000000</td>\n      <td>0.0</td>\n      <td>0.0</td>\n      <td>0.0</td>\n      <td>0.0</td>\n      <td>0.0</td>\n      <td>0.0</td>\n    </tr>\n    <tr>\n      <th>27999</th>\n      <td>0.0</td>\n      <td>0.0</td>\n      <td>0.0</td>\n      <td>0.0</td>\n      <td>0.0</td>\n      <td>0.0</td>\n      <td>0.0</td>\n      <td>0.0</td>\n      <td>0.0</td>\n      <td>0.0</td>\n      <td>...</td>\n      <td>0.0</td>\n      <td>0.000000</td>\n      <td>0.000000</td>\n      <td>0.000000</td>\n      <td>0.0</td>\n      <td>0.0</td>\n      <td>0.0</td>\n      <td>0.0</td>\n      <td>0.0</td>\n      <td>0.0</td>\n    </tr>\n  </tbody>\n</table>\n<p>28000 rows × 719 columns</p>\n</div>"
     },
     "execution_count": 26,
     "metadata": {},
     "output_type": "execute_result"
    }
   ],
   "source": [
    "X_train"
   ],
   "metadata": {
    "collapsed": false,
    "pycharm": {
     "name": "#%%\n"
    }
   }
  },
  {
   "cell_type": "code",
   "execution_count": 27,
   "outputs": [
    {
     "data": {
      "text/plain": "      pixel13  pixel14  pixel15  pixel16  pixel33  pixel34  pixel35  pixel36  \\\n0         0.0      0.0      0.0      0.0      0.0      0.0      0.0      0.0   \n1         0.0      0.0      0.0      0.0      0.0      0.0      0.0      0.0   \n2         0.0      0.0      0.0      0.0      0.0      0.0      0.0      0.0   \n3         0.0      0.0      0.0      0.0      0.0      0.0      0.0      0.0   \n4         0.0      0.0      0.0      0.0      0.0      0.0      0.0      0.0   \n...       ...      ...      ...      ...      ...      ...      ...      ...   \n6995      0.0      0.0      0.0      0.0      0.0      0.0      0.0      0.0   \n6996      0.0      0.0      0.0      0.0      0.0      0.0      0.0      0.0   \n6997      0.0      0.0      0.0      0.0      0.0      0.0      0.0      0.0   \n6998      0.0      0.0      0.0      0.0      0.0      0.0      0.0      0.0   \n6999      0.0      0.0      0.0      0.0      0.0      0.0      0.0      0.0   \n\n      pixel37  pixel38  ...  pixel771  pixel772  pixel773  pixel774  pixel775  \\\n0         0.0      0.0  ...       0.0       0.0       0.0       0.0       0.0   \n1         0.0      0.0  ...       0.0       0.0       0.0       0.0       0.0   \n2         0.0      0.0  ...       0.0       0.0       0.0       0.0       0.0   \n3         0.0      0.0  ...       0.0       0.0       0.0       0.0       0.0   \n4         0.0      0.0  ...       0.0       0.0       0.0       0.0       0.0   \n...       ...      ...  ...       ...       ...       ...       ...       ...   \n6995      0.0      0.0  ...       0.0       0.0       0.0       0.0       0.0   \n6996      0.0      0.0  ...       0.0       0.0       0.0       0.0       0.0   \n6997      0.0      0.0  ...       0.0       0.0       0.0       0.0       0.0   \n6998      0.0      0.0  ...       0.0       0.0       0.0       0.0       0.0   \n6999      0.0      0.0  ...       0.0       0.0       0.0       0.0       0.0   \n\n      pixel776  pixel777  pixel778  pixel779  pixel780  \n0          0.0       0.0       0.0       0.0       0.0  \n1          0.0       0.0       0.0       0.0       0.0  \n2          0.0       0.0       0.0       0.0       0.0  \n3          0.0       0.0       0.0       0.0       0.0  \n4          0.0       0.0       0.0       0.0       0.0  \n...        ...       ...       ...       ...       ...  \n6995       0.0       0.0       0.0       0.0       0.0  \n6996       0.0       0.0       0.0       0.0       0.0  \n6997       0.0       0.0       0.0       0.0       0.0  \n6998       0.0       0.0       0.0       0.0       0.0  \n6999       0.0       0.0       0.0       0.0       0.0  \n\n[7000 rows x 719 columns]",
      "text/html": "<div>\n<style scoped>\n    .dataframe tbody tr th:only-of-type {\n        vertical-align: middle;\n    }\n\n    .dataframe tbody tr th {\n        vertical-align: top;\n    }\n\n    .dataframe thead th {\n        text-align: right;\n    }\n</style>\n<table border=\"1\" class=\"dataframe\">\n  <thead>\n    <tr style=\"text-align: right;\">\n      <th></th>\n      <th>pixel13</th>\n      <th>pixel14</th>\n      <th>pixel15</th>\n      <th>pixel16</th>\n      <th>pixel33</th>\n      <th>pixel34</th>\n      <th>pixel35</th>\n      <th>pixel36</th>\n      <th>pixel37</th>\n      <th>pixel38</th>\n      <th>...</th>\n      <th>pixel771</th>\n      <th>pixel772</th>\n      <th>pixel773</th>\n      <th>pixel774</th>\n      <th>pixel775</th>\n      <th>pixel776</th>\n      <th>pixel777</th>\n      <th>pixel778</th>\n      <th>pixel779</th>\n      <th>pixel780</th>\n    </tr>\n  </thead>\n  <tbody>\n    <tr>\n      <th>0</th>\n      <td>0.0</td>\n      <td>0.0</td>\n      <td>0.0</td>\n      <td>0.0</td>\n      <td>0.0</td>\n      <td>0.0</td>\n      <td>0.0</td>\n      <td>0.0</td>\n      <td>0.0</td>\n      <td>0.0</td>\n      <td>...</td>\n      <td>0.0</td>\n      <td>0.0</td>\n      <td>0.0</td>\n      <td>0.0</td>\n      <td>0.0</td>\n      <td>0.0</td>\n      <td>0.0</td>\n      <td>0.0</td>\n      <td>0.0</td>\n      <td>0.0</td>\n    </tr>\n    <tr>\n      <th>1</th>\n      <td>0.0</td>\n      <td>0.0</td>\n      <td>0.0</td>\n      <td>0.0</td>\n      <td>0.0</td>\n      <td>0.0</td>\n      <td>0.0</td>\n      <td>0.0</td>\n      <td>0.0</td>\n      <td>0.0</td>\n      <td>...</td>\n      <td>0.0</td>\n      <td>0.0</td>\n      <td>0.0</td>\n      <td>0.0</td>\n      <td>0.0</td>\n      <td>0.0</td>\n      <td>0.0</td>\n      <td>0.0</td>\n      <td>0.0</td>\n      <td>0.0</td>\n    </tr>\n    <tr>\n      <th>2</th>\n      <td>0.0</td>\n      <td>0.0</td>\n      <td>0.0</td>\n      <td>0.0</td>\n      <td>0.0</td>\n      <td>0.0</td>\n      <td>0.0</td>\n      <td>0.0</td>\n      <td>0.0</td>\n      <td>0.0</td>\n      <td>...</td>\n      <td>0.0</td>\n      <td>0.0</td>\n      <td>0.0</td>\n      <td>0.0</td>\n      <td>0.0</td>\n      <td>0.0</td>\n      <td>0.0</td>\n      <td>0.0</td>\n      <td>0.0</td>\n      <td>0.0</td>\n    </tr>\n    <tr>\n      <th>3</th>\n      <td>0.0</td>\n      <td>0.0</td>\n      <td>0.0</td>\n      <td>0.0</td>\n      <td>0.0</td>\n      <td>0.0</td>\n      <td>0.0</td>\n      <td>0.0</td>\n      <td>0.0</td>\n      <td>0.0</td>\n      <td>...</td>\n      <td>0.0</td>\n      <td>0.0</td>\n      <td>0.0</td>\n      <td>0.0</td>\n      <td>0.0</td>\n      <td>0.0</td>\n      <td>0.0</td>\n      <td>0.0</td>\n      <td>0.0</td>\n      <td>0.0</td>\n    </tr>\n    <tr>\n      <th>4</th>\n      <td>0.0</td>\n      <td>0.0</td>\n      <td>0.0</td>\n      <td>0.0</td>\n      <td>0.0</td>\n      <td>0.0</td>\n      <td>0.0</td>\n      <td>0.0</td>\n      <td>0.0</td>\n      <td>0.0</td>\n      <td>...</td>\n      <td>0.0</td>\n      <td>0.0</td>\n      <td>0.0</td>\n      <td>0.0</td>\n      <td>0.0</td>\n      <td>0.0</td>\n      <td>0.0</td>\n      <td>0.0</td>\n      <td>0.0</td>\n      <td>0.0</td>\n    </tr>\n    <tr>\n      <th>...</th>\n      <td>...</td>\n      <td>...</td>\n      <td>...</td>\n      <td>...</td>\n      <td>...</td>\n      <td>...</td>\n      <td>...</td>\n      <td>...</td>\n      <td>...</td>\n      <td>...</td>\n      <td>...</td>\n      <td>...</td>\n      <td>...</td>\n      <td>...</td>\n      <td>...</td>\n      <td>...</td>\n      <td>...</td>\n      <td>...</td>\n      <td>...</td>\n      <td>...</td>\n      <td>...</td>\n    </tr>\n    <tr>\n      <th>6995</th>\n      <td>0.0</td>\n      <td>0.0</td>\n      <td>0.0</td>\n      <td>0.0</td>\n      <td>0.0</td>\n      <td>0.0</td>\n      <td>0.0</td>\n      <td>0.0</td>\n      <td>0.0</td>\n      <td>0.0</td>\n      <td>...</td>\n      <td>0.0</td>\n      <td>0.0</td>\n      <td>0.0</td>\n      <td>0.0</td>\n      <td>0.0</td>\n      <td>0.0</td>\n      <td>0.0</td>\n      <td>0.0</td>\n      <td>0.0</td>\n      <td>0.0</td>\n    </tr>\n    <tr>\n      <th>6996</th>\n      <td>0.0</td>\n      <td>0.0</td>\n      <td>0.0</td>\n      <td>0.0</td>\n      <td>0.0</td>\n      <td>0.0</td>\n      <td>0.0</td>\n      <td>0.0</td>\n      <td>0.0</td>\n      <td>0.0</td>\n      <td>...</td>\n      <td>0.0</td>\n      <td>0.0</td>\n      <td>0.0</td>\n      <td>0.0</td>\n      <td>0.0</td>\n      <td>0.0</td>\n      <td>0.0</td>\n      <td>0.0</td>\n      <td>0.0</td>\n      <td>0.0</td>\n    </tr>\n    <tr>\n      <th>6997</th>\n      <td>0.0</td>\n      <td>0.0</td>\n      <td>0.0</td>\n      <td>0.0</td>\n      <td>0.0</td>\n      <td>0.0</td>\n      <td>0.0</td>\n      <td>0.0</td>\n      <td>0.0</td>\n      <td>0.0</td>\n      <td>...</td>\n      <td>0.0</td>\n      <td>0.0</td>\n      <td>0.0</td>\n      <td>0.0</td>\n      <td>0.0</td>\n      <td>0.0</td>\n      <td>0.0</td>\n      <td>0.0</td>\n      <td>0.0</td>\n      <td>0.0</td>\n    </tr>\n    <tr>\n      <th>6998</th>\n      <td>0.0</td>\n      <td>0.0</td>\n      <td>0.0</td>\n      <td>0.0</td>\n      <td>0.0</td>\n      <td>0.0</td>\n      <td>0.0</td>\n      <td>0.0</td>\n      <td>0.0</td>\n      <td>0.0</td>\n      <td>...</td>\n      <td>0.0</td>\n      <td>0.0</td>\n      <td>0.0</td>\n      <td>0.0</td>\n      <td>0.0</td>\n      <td>0.0</td>\n      <td>0.0</td>\n      <td>0.0</td>\n      <td>0.0</td>\n      <td>0.0</td>\n    </tr>\n    <tr>\n      <th>6999</th>\n      <td>0.0</td>\n      <td>0.0</td>\n      <td>0.0</td>\n      <td>0.0</td>\n      <td>0.0</td>\n      <td>0.0</td>\n      <td>0.0</td>\n      <td>0.0</td>\n      <td>0.0</td>\n      <td>0.0</td>\n      <td>...</td>\n      <td>0.0</td>\n      <td>0.0</td>\n      <td>0.0</td>\n      <td>0.0</td>\n      <td>0.0</td>\n      <td>0.0</td>\n      <td>0.0</td>\n      <td>0.0</td>\n      <td>0.0</td>\n      <td>0.0</td>\n    </tr>\n  </tbody>\n</table>\n<p>7000 rows × 719 columns</p>\n</div>"
     },
     "execution_count": 27,
     "metadata": {},
     "output_type": "execute_result"
    }
   ],
   "source": [
    "X_test"
   ],
   "metadata": {
    "collapsed": false,
    "pycharm": {
     "name": "#%%\n"
    }
   }
  },
  {
   "cell_type": "code",
   "execution_count": 28,
   "outputs": [
    {
     "data": {
      "text/plain": "array([9, 1, 9, ..., 7, 4, 5], dtype=int64)"
     },
     "execution_count": 28,
     "metadata": {},
     "output_type": "execute_result"
    }
   ],
   "source": [
    "y_train"
   ],
   "metadata": {
    "collapsed": false,
    "pycharm": {
     "name": "#%%\n"
    }
   }
  },
  {
   "cell_type": "code",
   "execution_count": 29,
   "outputs": [
    {
     "data": {
      "text/plain": "       pixel13  pixel14  pixel15  pixel16  pixel33  pixel34  pixel35  pixel36  \\\n0          0.0      0.0      0.0      0.0      0.0      0.0      0.0      0.0   \n1          0.0      0.0      0.0      0.0      0.0      0.0      0.0      0.0   \n2          0.0      0.0      0.0      0.0      0.0      0.0      0.0      0.0   \n3          0.0      0.0      0.0      0.0      0.0      0.0      0.0      0.0   \n4          0.0      0.0      0.0      0.0      0.0      0.0      0.0      0.0   \n...        ...      ...      ...      ...      ...      ...      ...      ...   \n27995      0.0      0.0      0.0      0.0      0.0      0.0      0.0      0.0   \n27996      0.0      0.0      0.0      0.0      0.0      0.0      0.0      0.0   \n27997      0.0      0.0      0.0      0.0      0.0      0.0      0.0      0.0   \n27998      0.0      0.0      0.0      0.0      0.0      0.0      0.0      0.0   \n27999      0.0      0.0      0.0      0.0      0.0      0.0      0.0      0.0   \n\n       pixel37  pixel38  ...  pixel771  pixel772  pixel773  pixel774  \\\n0          0.0      0.0  ...       0.0  0.000000  0.000000  0.000000   \n1          0.0      0.0  ...       0.0  0.000000  0.000000  0.000000   \n2          0.0      0.0  ...       0.0  0.000000  0.000000  0.000000   \n3          0.0      0.0  ...       0.0  0.000000  0.000000  0.000000   \n4          0.0      0.0  ...       0.0  0.000000  0.000000  0.000000   \n...        ...      ...  ...       ...       ...       ...       ...   \n27995      0.0      0.0  ...       0.0  0.000000  0.000000  0.000000   \n27996      0.0      0.0  ...       0.0  0.000000  0.000000  0.000000   \n27997      0.0      0.0  ...       0.0  0.207843  0.768627  0.054902   \n27998      0.0      0.0  ...       0.0  0.000000  0.000000  0.000000   \n27999      0.0      0.0  ...       0.0  0.000000  0.000000  0.000000   \n\n       pixel775  pixel776  pixel777  pixel778  pixel779  pixel780  \n0           0.0       0.0       0.0       0.0       0.0       0.0  \n1           0.0       0.0       0.0       0.0       0.0       0.0  \n2           0.0       0.0       0.0       0.0       0.0       0.0  \n3           0.0       0.0       0.0       0.0       0.0       0.0  \n4           0.0       0.0       0.0       0.0       0.0       0.0  \n...         ...       ...       ...       ...       ...       ...  \n27995       0.0       0.0       0.0       0.0       0.0       0.0  \n27996       0.0       0.0       0.0       0.0       0.0       0.0  \n27997       0.0       0.0       0.0       0.0       0.0       0.0  \n27998       0.0       0.0       0.0       0.0       0.0       0.0  \n27999       0.0       0.0       0.0       0.0       0.0       0.0  \n\n[28000 rows x 719 columns]",
      "text/html": "<div>\n<style scoped>\n    .dataframe tbody tr th:only-of-type {\n        vertical-align: middle;\n    }\n\n    .dataframe tbody tr th {\n        vertical-align: top;\n    }\n\n    .dataframe thead th {\n        text-align: right;\n    }\n</style>\n<table border=\"1\" class=\"dataframe\">\n  <thead>\n    <tr style=\"text-align: right;\">\n      <th></th>\n      <th>pixel13</th>\n      <th>pixel14</th>\n      <th>pixel15</th>\n      <th>pixel16</th>\n      <th>pixel33</th>\n      <th>pixel34</th>\n      <th>pixel35</th>\n      <th>pixel36</th>\n      <th>pixel37</th>\n      <th>pixel38</th>\n      <th>...</th>\n      <th>pixel771</th>\n      <th>pixel772</th>\n      <th>pixel773</th>\n      <th>pixel774</th>\n      <th>pixel775</th>\n      <th>pixel776</th>\n      <th>pixel777</th>\n      <th>pixel778</th>\n      <th>pixel779</th>\n      <th>pixel780</th>\n    </tr>\n  </thead>\n  <tbody>\n    <tr>\n      <th>0</th>\n      <td>0.0</td>\n      <td>0.0</td>\n      <td>0.0</td>\n      <td>0.0</td>\n      <td>0.0</td>\n      <td>0.0</td>\n      <td>0.0</td>\n      <td>0.0</td>\n      <td>0.0</td>\n      <td>0.0</td>\n      <td>...</td>\n      <td>0.0</td>\n      <td>0.000000</td>\n      <td>0.000000</td>\n      <td>0.000000</td>\n      <td>0.0</td>\n      <td>0.0</td>\n      <td>0.0</td>\n      <td>0.0</td>\n      <td>0.0</td>\n      <td>0.0</td>\n    </tr>\n    <tr>\n      <th>1</th>\n      <td>0.0</td>\n      <td>0.0</td>\n      <td>0.0</td>\n      <td>0.0</td>\n      <td>0.0</td>\n      <td>0.0</td>\n      <td>0.0</td>\n      <td>0.0</td>\n      <td>0.0</td>\n      <td>0.0</td>\n      <td>...</td>\n      <td>0.0</td>\n      <td>0.000000</td>\n      <td>0.000000</td>\n      <td>0.000000</td>\n      <td>0.0</td>\n      <td>0.0</td>\n      <td>0.0</td>\n      <td>0.0</td>\n      <td>0.0</td>\n      <td>0.0</td>\n    </tr>\n    <tr>\n      <th>2</th>\n      <td>0.0</td>\n      <td>0.0</td>\n      <td>0.0</td>\n      <td>0.0</td>\n      <td>0.0</td>\n      <td>0.0</td>\n      <td>0.0</td>\n      <td>0.0</td>\n      <td>0.0</td>\n      <td>0.0</td>\n      <td>...</td>\n      <td>0.0</td>\n      <td>0.000000</td>\n      <td>0.000000</td>\n      <td>0.000000</td>\n      <td>0.0</td>\n      <td>0.0</td>\n      <td>0.0</td>\n      <td>0.0</td>\n      <td>0.0</td>\n      <td>0.0</td>\n    </tr>\n    <tr>\n      <th>3</th>\n      <td>0.0</td>\n      <td>0.0</td>\n      <td>0.0</td>\n      <td>0.0</td>\n      <td>0.0</td>\n      <td>0.0</td>\n      <td>0.0</td>\n      <td>0.0</td>\n      <td>0.0</td>\n      <td>0.0</td>\n      <td>...</td>\n      <td>0.0</td>\n      <td>0.000000</td>\n      <td>0.000000</td>\n      <td>0.000000</td>\n      <td>0.0</td>\n      <td>0.0</td>\n      <td>0.0</td>\n      <td>0.0</td>\n      <td>0.0</td>\n      <td>0.0</td>\n    </tr>\n    <tr>\n      <th>4</th>\n      <td>0.0</td>\n      <td>0.0</td>\n      <td>0.0</td>\n      <td>0.0</td>\n      <td>0.0</td>\n      <td>0.0</td>\n      <td>0.0</td>\n      <td>0.0</td>\n      <td>0.0</td>\n      <td>0.0</td>\n      <td>...</td>\n      <td>0.0</td>\n      <td>0.000000</td>\n      <td>0.000000</td>\n      <td>0.000000</td>\n      <td>0.0</td>\n      <td>0.0</td>\n      <td>0.0</td>\n      <td>0.0</td>\n      <td>0.0</td>\n      <td>0.0</td>\n    </tr>\n    <tr>\n      <th>...</th>\n      <td>...</td>\n      <td>...</td>\n      <td>...</td>\n      <td>...</td>\n      <td>...</td>\n      <td>...</td>\n      <td>...</td>\n      <td>...</td>\n      <td>...</td>\n      <td>...</td>\n      <td>...</td>\n      <td>...</td>\n      <td>...</td>\n      <td>...</td>\n      <td>...</td>\n      <td>...</td>\n      <td>...</td>\n      <td>...</td>\n      <td>...</td>\n      <td>...</td>\n      <td>...</td>\n    </tr>\n    <tr>\n      <th>27995</th>\n      <td>0.0</td>\n      <td>0.0</td>\n      <td>0.0</td>\n      <td>0.0</td>\n      <td>0.0</td>\n      <td>0.0</td>\n      <td>0.0</td>\n      <td>0.0</td>\n      <td>0.0</td>\n      <td>0.0</td>\n      <td>...</td>\n      <td>0.0</td>\n      <td>0.000000</td>\n      <td>0.000000</td>\n      <td>0.000000</td>\n      <td>0.0</td>\n      <td>0.0</td>\n      <td>0.0</td>\n      <td>0.0</td>\n      <td>0.0</td>\n      <td>0.0</td>\n    </tr>\n    <tr>\n      <th>27996</th>\n      <td>0.0</td>\n      <td>0.0</td>\n      <td>0.0</td>\n      <td>0.0</td>\n      <td>0.0</td>\n      <td>0.0</td>\n      <td>0.0</td>\n      <td>0.0</td>\n      <td>0.0</td>\n      <td>0.0</td>\n      <td>...</td>\n      <td>0.0</td>\n      <td>0.000000</td>\n      <td>0.000000</td>\n      <td>0.000000</td>\n      <td>0.0</td>\n      <td>0.0</td>\n      <td>0.0</td>\n      <td>0.0</td>\n      <td>0.0</td>\n      <td>0.0</td>\n    </tr>\n    <tr>\n      <th>27997</th>\n      <td>0.0</td>\n      <td>0.0</td>\n      <td>0.0</td>\n      <td>0.0</td>\n      <td>0.0</td>\n      <td>0.0</td>\n      <td>0.0</td>\n      <td>0.0</td>\n      <td>0.0</td>\n      <td>0.0</td>\n      <td>...</td>\n      <td>0.0</td>\n      <td>0.207843</td>\n      <td>0.768627</td>\n      <td>0.054902</td>\n      <td>0.0</td>\n      <td>0.0</td>\n      <td>0.0</td>\n      <td>0.0</td>\n      <td>0.0</td>\n      <td>0.0</td>\n    </tr>\n    <tr>\n      <th>27998</th>\n      <td>0.0</td>\n      <td>0.0</td>\n      <td>0.0</td>\n      <td>0.0</td>\n      <td>0.0</td>\n      <td>0.0</td>\n      <td>0.0</td>\n      <td>0.0</td>\n      <td>0.0</td>\n      <td>0.0</td>\n      <td>...</td>\n      <td>0.0</td>\n      <td>0.000000</td>\n      <td>0.000000</td>\n      <td>0.000000</td>\n      <td>0.0</td>\n      <td>0.0</td>\n      <td>0.0</td>\n      <td>0.0</td>\n      <td>0.0</td>\n      <td>0.0</td>\n    </tr>\n    <tr>\n      <th>27999</th>\n      <td>0.0</td>\n      <td>0.0</td>\n      <td>0.0</td>\n      <td>0.0</td>\n      <td>0.0</td>\n      <td>0.0</td>\n      <td>0.0</td>\n      <td>0.0</td>\n      <td>0.0</td>\n      <td>0.0</td>\n      <td>...</td>\n      <td>0.0</td>\n      <td>0.000000</td>\n      <td>0.000000</td>\n      <td>0.000000</td>\n      <td>0.0</td>\n      <td>0.0</td>\n      <td>0.0</td>\n      <td>0.0</td>\n      <td>0.0</td>\n      <td>0.0</td>\n    </tr>\n  </tbody>\n</table>\n<p>28000 rows × 719 columns</p>\n</div>"
     },
     "execution_count": 29,
     "metadata": {},
     "output_type": "execute_result"
    }
   ],
   "source": [
    "X_train"
   ],
   "metadata": {
    "collapsed": false,
    "pycharm": {
     "name": "#%%\n"
    }
   }
  },
  {
   "cell_type": "code",
   "execution_count": 30,
   "outputs": [],
   "source": [
    "train = Dataset(x=X_train, y=y_train)\n",
    "test = Dataset(x=X_test, y=y_test)"
   ],
   "metadata": {
    "collapsed": false,
    "pycharm": {
     "name": "#%%\n"
    }
   }
  },
  {
   "cell_type": "markdown",
   "source": [
    "KNN Trial"
   ],
   "metadata": {
    "collapsed": false
   }
  },
  {
   "cell_type": "code",
   "execution_count": 31,
   "outputs": [],
   "source": [
    "knn = KNN(train=train, test=test, distance_fun=distance.euclidean, k=10)"
   ],
   "metadata": {
    "collapsed": false,
    "pycharm": {
     "name": "#%%\n"
    }
   }
  },
  {
   "cell_type": "code",
   "execution_count": 32,
   "outputs": [],
   "source": [
    "knn.train()"
   ],
   "metadata": {
    "collapsed": false,
    "pycharm": {
     "name": "#%%\n"
    }
   }
  },
  {
   "cell_type": "code",
   "execution_count": 33,
   "outputs": [
    {
     "name": "stderr",
     "output_type": "stream",
     "text": [
      "2022-12-13 16:50:57.455 | INFO     | assignment_2.digits_classifiers.classifiers:predict:227 -  > 0.000%\n",
      "2022-12-13 16:51:11.662 | INFO     | assignment_2.digits_classifiers.classifiers:predict:227 -  > 0.143%\n",
      "2022-12-13 16:51:24.577 | INFO     | assignment_2.digits_classifiers.classifiers:predict:227 -  > 0.286%\n",
      "2022-12-13 16:51:36.702 | INFO     | assignment_2.digits_classifiers.classifiers:predict:227 -  > 0.429%\n",
      "2022-12-13 16:51:50.085 | INFO     | assignment_2.digits_classifiers.classifiers:predict:227 -  > 0.571%\n",
      "2022-12-13 16:52:02.991 | INFO     | assignment_2.digits_classifiers.classifiers:predict:227 -  > 0.714%\n",
      "2022-12-13 16:52:15.710 | INFO     | assignment_2.digits_classifiers.classifiers:predict:227 -  > 0.857%\n",
      "2022-12-13 16:52:27.788 | INFO     | assignment_2.digits_classifiers.classifiers:predict:227 -  > 1.000%\n",
      "2022-12-13 16:52:40.663 | INFO     | assignment_2.digits_classifiers.classifiers:predict:227 -  > 1.143%\n",
      "2022-12-13 16:52:53.445 | INFO     | assignment_2.digits_classifiers.classifiers:predict:227 -  > 1.286%\n",
      "2022-12-13 16:53:05.834 | INFO     | assignment_2.digits_classifiers.classifiers:predict:227 -  > 1.429%\n",
      "2022-12-13 16:53:18.396 | INFO     | assignment_2.digits_classifiers.classifiers:predict:227 -  > 1.571%\n",
      "2022-12-13 16:53:30.909 | INFO     | assignment_2.digits_classifiers.classifiers:predict:227 -  > 1.714%\n",
      "2022-12-13 16:53:43.695 | INFO     | assignment_2.digits_classifiers.classifiers:predict:227 -  > 1.857%\n",
      "2022-12-13 16:53:56.055 | INFO     | assignment_2.digits_classifiers.classifiers:predict:227 -  > 2.000%\n",
      "2022-12-13 16:54:08.842 | INFO     | assignment_2.digits_classifiers.classifiers:predict:227 -  > 2.143%\n",
      "2022-12-13 16:54:21.327 | INFO     | assignment_2.digits_classifiers.classifiers:predict:227 -  > 2.286%\n",
      "2022-12-13 16:54:38.250 | INFO     | assignment_2.digits_classifiers.classifiers:predict:227 -  > 2.429%\n",
      "2022-12-13 16:54:51.406 | INFO     | assignment_2.digits_classifiers.classifiers:predict:227 -  > 2.571%\n",
      "2022-12-13 16:55:34.798 | INFO     | assignment_2.digits_classifiers.classifiers:predict:227 -  > 2.714%\n",
      "2022-12-13 16:55:55.286 | INFO     | assignment_2.digits_classifiers.classifiers:predict:227 -  > 2.857%\n",
      "2022-12-13 16:56:13.925 | INFO     | assignment_2.digits_classifiers.classifiers:predict:227 -  > 3.000%\n",
      "2022-12-13 16:56:28.827 | INFO     | assignment_2.digits_classifiers.classifiers:predict:227 -  > 3.143%\n",
      "2022-12-13 16:56:44.175 | INFO     | assignment_2.digits_classifiers.classifiers:predict:227 -  > 3.286%\n",
      "2022-12-13 16:57:01.635 | INFO     | assignment_2.digits_classifiers.classifiers:predict:227 -  > 3.429%\n",
      "2022-12-13 16:57:20.496 | INFO     | assignment_2.digits_classifiers.classifiers:predict:227 -  > 3.571%\n",
      "2022-12-13 16:57:38.175 | INFO     | assignment_2.digits_classifiers.classifiers:predict:227 -  > 3.714%\n",
      "2022-12-13 16:57:54.539 | INFO     | assignment_2.digits_classifiers.classifiers:predict:227 -  > 3.857%\n",
      "2022-12-13 16:58:09.888 | INFO     | assignment_2.digits_classifiers.classifiers:predict:227 -  > 4.000%\n",
      "2022-12-13 16:58:23.706 | INFO     | assignment_2.digits_classifiers.classifiers:predict:227 -  > 4.143%\n",
      "2022-12-13 16:58:37.233 | INFO     | assignment_2.digits_classifiers.classifiers:predict:227 -  > 4.286%\n",
      "2022-12-13 16:58:50.882 | INFO     | assignment_2.digits_classifiers.classifiers:predict:227 -  > 4.429%\n",
      "2022-12-13 16:59:05.614 | INFO     | assignment_2.digits_classifiers.classifiers:predict:227 -  > 4.571%\n",
      "2022-12-13 16:59:18.825 | INFO     | assignment_2.digits_classifiers.classifiers:predict:227 -  > 4.714%\n",
      "2022-12-13 16:59:32.536 | INFO     | assignment_2.digits_classifiers.classifiers:predict:227 -  > 4.857%\n",
      "2022-12-13 16:59:46.026 | INFO     | assignment_2.digits_classifiers.classifiers:predict:227 -  > 5.000%\n",
      "2022-12-13 16:59:59.628 | INFO     | assignment_2.digits_classifiers.classifiers:predict:227 -  > 5.143%\n",
      "2022-12-13 17:00:13.647 | INFO     | assignment_2.digits_classifiers.classifiers:predict:227 -  > 5.286%\n",
      "2022-12-13 17:00:27.589 | INFO     | assignment_2.digits_classifiers.classifiers:predict:227 -  > 5.429%\n",
      "2022-12-13 17:00:41.136 | INFO     | assignment_2.digits_classifiers.classifiers:predict:227 -  > 5.571%\n",
      "2022-12-13 17:00:54.194 | INFO     | assignment_2.digits_classifiers.classifiers:predict:227 -  > 5.714%\n",
      "2022-12-13 17:01:07.149 | INFO     | assignment_2.digits_classifiers.classifiers:predict:227 -  > 5.857%\n",
      "2022-12-13 17:01:21.518 | INFO     | assignment_2.digits_classifiers.classifiers:predict:227 -  > 6.000%\n",
      "2022-12-13 17:01:35.391 | INFO     | assignment_2.digits_classifiers.classifiers:predict:227 -  > 6.143%\n",
      "2022-12-13 17:01:49.170 | INFO     | assignment_2.digits_classifiers.classifiers:predict:227 -  > 6.286%\n",
      "2022-12-13 17:02:03.138 | INFO     | assignment_2.digits_classifiers.classifiers:predict:227 -  > 6.429%\n",
      "2022-12-13 17:02:15.118 | INFO     | assignment_2.digits_classifiers.classifiers:predict:227 -  > 6.571%\n",
      "2022-12-13 17:02:30.976 | INFO     | assignment_2.digits_classifiers.classifiers:predict:227 -  > 6.714%\n",
      "2022-12-13 17:02:45.480 | INFO     | assignment_2.digits_classifiers.classifiers:predict:227 -  > 6.857%\n",
      "2022-12-13 17:02:57.972 | INFO     | assignment_2.digits_classifiers.classifiers:predict:227 -  > 7.000%\n",
      "2022-12-13 17:03:10.880 | INFO     | assignment_2.digits_classifiers.classifiers:predict:227 -  > 7.143%\n",
      "2022-12-13 17:03:23.716 | INFO     | assignment_2.digits_classifiers.classifiers:predict:227 -  > 7.286%\n",
      "2022-12-13 17:03:36.734 | INFO     | assignment_2.digits_classifiers.classifiers:predict:227 -  > 7.429%\n",
      "2022-12-13 17:03:49.578 | INFO     | assignment_2.digits_classifiers.classifiers:predict:227 -  > 7.571%\n",
      "2022-12-13 17:04:02.172 | INFO     | assignment_2.digits_classifiers.classifiers:predict:227 -  > 7.714%\n",
      "2022-12-13 17:04:14.978 | INFO     | assignment_2.digits_classifiers.classifiers:predict:227 -  > 7.857%\n",
      "2022-12-13 17:04:27.909 | INFO     | assignment_2.digits_classifiers.classifiers:predict:227 -  > 8.000%\n",
      "2022-12-13 17:04:40.769 | INFO     | assignment_2.digits_classifiers.classifiers:predict:227 -  > 8.143%\n",
      "2022-12-13 17:04:55.326 | INFO     | assignment_2.digits_classifiers.classifiers:predict:227 -  > 8.286%\n",
      "2022-12-13 17:05:08.953 | INFO     | assignment_2.digits_classifiers.classifiers:predict:227 -  > 8.429%\n",
      "2022-12-13 17:05:23.325 | INFO     | assignment_2.digits_classifiers.classifiers:predict:227 -  > 8.571%\n",
      "2022-12-13 17:05:34.856 | INFO     | assignment_2.digits_classifiers.classifiers:predict:227 -  > 8.714%\n",
      "2022-12-13 17:05:48.136 | INFO     | assignment_2.digits_classifiers.classifiers:predict:227 -  > 8.857%\n",
      "2022-12-13 17:06:01.308 | INFO     | assignment_2.digits_classifiers.classifiers:predict:227 -  > 9.000%\n",
      "2022-12-13 17:06:15.718 | INFO     | assignment_2.digits_classifiers.classifiers:predict:227 -  > 9.143%\n",
      "2022-12-13 17:06:30.366 | INFO     | assignment_2.digits_classifiers.classifiers:predict:227 -  > 9.286%\n",
      "2022-12-13 17:06:43.796 | INFO     | assignment_2.digits_classifiers.classifiers:predict:227 -  > 9.429%\n",
      "2022-12-13 17:06:58.724 | INFO     | assignment_2.digits_classifiers.classifiers:predict:227 -  > 9.571%\n",
      "2022-12-13 17:07:11.310 | INFO     | assignment_2.digits_classifiers.classifiers:predict:227 -  > 9.714%\n",
      "2022-12-13 17:07:23.292 | INFO     | assignment_2.digits_classifiers.classifiers:predict:227 -  > 9.857%\n",
      "2022-12-13 17:07:38.672 | INFO     | assignment_2.digits_classifiers.classifiers:predict:227 -  > 10.000%\n",
      "2022-12-13 17:07:51.752 | INFO     | assignment_2.digits_classifiers.classifiers:predict:227 -  > 10.143%\n",
      "2022-12-13 17:08:05.635 | INFO     | assignment_2.digits_classifiers.classifiers:predict:227 -  > 10.286%\n",
      "2022-12-13 17:08:19.665 | INFO     | assignment_2.digits_classifiers.classifiers:predict:227 -  > 10.429%\n",
      "2022-12-13 17:08:32.316 | INFO     | assignment_2.digits_classifiers.classifiers:predict:227 -  > 10.571%\n",
      "2022-12-13 17:08:45.083 | INFO     | assignment_2.digits_classifiers.classifiers:predict:227 -  > 10.714%\n",
      "2022-12-13 17:08:59.067 | INFO     | assignment_2.digits_classifiers.classifiers:predict:227 -  > 10.857%\n",
      "2022-12-13 17:09:12.761 | INFO     | assignment_2.digits_classifiers.classifiers:predict:227 -  > 11.000%\n",
      "2022-12-13 17:09:25.197 | INFO     | assignment_2.digits_classifiers.classifiers:predict:227 -  > 11.143%\n",
      "2022-12-13 17:09:37.025 | INFO     | assignment_2.digits_classifiers.classifiers:predict:227 -  > 11.286%\n",
      "2022-12-13 17:09:49.634 | INFO     | assignment_2.digits_classifiers.classifiers:predict:227 -  > 11.429%\n",
      "2022-12-13 17:10:02.134 | INFO     | assignment_2.digits_classifiers.classifiers:predict:227 -  > 11.571%\n",
      "2022-12-13 17:10:14.785 | INFO     | assignment_2.digits_classifiers.classifiers:predict:227 -  > 11.714%\n",
      "2022-12-13 17:10:26.707 | INFO     | assignment_2.digits_classifiers.classifiers:predict:227 -  > 11.857%\n",
      "2022-12-13 17:10:39.176 | INFO     | assignment_2.digits_classifiers.classifiers:predict:227 -  > 12.000%\n",
      "2022-12-13 17:10:51.916 | INFO     | assignment_2.digits_classifiers.classifiers:predict:227 -  > 12.143%\n",
      "2022-12-13 17:11:04.074 | INFO     | assignment_2.digits_classifiers.classifiers:predict:227 -  > 12.286%\n",
      "2022-12-13 17:11:17.187 | INFO     | assignment_2.digits_classifiers.classifiers:predict:227 -  > 12.429%\n",
      "2022-12-13 17:11:29.640 | INFO     | assignment_2.digits_classifiers.classifiers:predict:227 -  > 12.571%\n",
      "2022-12-13 17:11:42.078 | INFO     | assignment_2.digits_classifiers.classifiers:predict:227 -  > 12.714%\n",
      "2022-12-13 17:11:53.906 | INFO     | assignment_2.digits_classifiers.classifiers:predict:227 -  > 12.857%\n",
      "2022-12-13 17:12:06.187 | INFO     | assignment_2.digits_classifiers.classifiers:predict:227 -  > 13.000%\n",
      "2022-12-13 17:12:18.437 | INFO     | assignment_2.digits_classifiers.classifiers:predict:227 -  > 13.143%\n",
      "2022-12-13 17:12:30.578 | INFO     | assignment_2.digits_classifiers.classifiers:predict:227 -  > 13.286%\n",
      "2022-12-13 17:12:42.609 | INFO     | assignment_2.digits_classifiers.classifiers:predict:227 -  > 13.429%\n",
      "2022-12-13 17:12:55.109 | INFO     | assignment_2.digits_classifiers.classifiers:predict:227 -  > 13.571%\n",
      "2022-12-13 17:13:07.340 | INFO     | assignment_2.digits_classifiers.classifiers:predict:227 -  > 13.714%\n",
      "2022-12-13 17:13:25.606 | INFO     | assignment_2.digits_classifiers.classifiers:predict:227 -  > 13.857%\n",
      "2022-12-13 17:13:45.959 | INFO     | assignment_2.digits_classifiers.classifiers:predict:227 -  > 14.000%\n",
      "2022-12-13 17:14:04.563 | INFO     | assignment_2.digits_classifiers.classifiers:predict:227 -  > 14.143%\n",
      "2022-12-13 17:14:18.905 | INFO     | assignment_2.digits_classifiers.classifiers:predict:227 -  > 14.286%\n",
      "2022-12-13 17:14:31.924 | INFO     | assignment_2.digits_classifiers.classifiers:predict:227 -  > 14.429%\n",
      "2022-12-13 17:14:44.759 | INFO     | assignment_2.digits_classifiers.classifiers:predict:227 -  > 14.571%\n",
      "2022-12-13 17:14:57.929 | INFO     | assignment_2.digits_classifiers.classifiers:predict:227 -  > 14.714%\n",
      "2022-12-13 17:15:11.432 | INFO     | assignment_2.digits_classifiers.classifiers:predict:227 -  > 14.857%\n",
      "2022-12-13 17:15:26.647 | INFO     | assignment_2.digits_classifiers.classifiers:predict:227 -  > 15.000%\n",
      "2022-12-13 17:15:42.129 | INFO     | assignment_2.digits_classifiers.classifiers:predict:227 -  > 15.143%\n",
      "2022-12-13 17:15:54.935 | INFO     | assignment_2.digits_classifiers.classifiers:predict:227 -  > 15.286%\n",
      "2022-12-13 17:16:10.237 | INFO     | assignment_2.digits_classifiers.classifiers:predict:227 -  > 15.429%\n",
      "2022-12-13 17:16:22.990 | INFO     | assignment_2.digits_classifiers.classifiers:predict:227 -  > 15.571%\n",
      "2022-12-13 17:16:35.668 | INFO     | assignment_2.digits_classifiers.classifiers:predict:227 -  > 15.714%\n",
      "2022-12-13 17:16:47.655 | INFO     | assignment_2.digits_classifiers.classifiers:predict:227 -  > 15.857%\n",
      "2022-12-13 17:16:59.894 | INFO     | assignment_2.digits_classifiers.classifiers:predict:227 -  > 16.000%\n",
      "2022-12-13 17:17:12.265 | INFO     | assignment_2.digits_classifiers.classifiers:predict:227 -  > 16.143%\n",
      "2022-12-13 17:17:24.858 | INFO     | assignment_2.digits_classifiers.classifiers:predict:227 -  > 16.286%\n",
      "2022-12-13 17:17:37.583 | INFO     | assignment_2.digits_classifiers.classifiers:predict:227 -  > 16.429%\n",
      "2022-12-13 17:17:52.302 | INFO     | assignment_2.digits_classifiers.classifiers:predict:227 -  > 16.571%\n",
      "2022-12-13 17:18:06.700 | INFO     | assignment_2.digits_classifiers.classifiers:predict:227 -  > 16.714%\n"
     ]
    },
    {
     "ename": "KeyboardInterrupt",
     "evalue": "",
     "output_type": "error",
     "traceback": [
      "\u001B[1;31m---------------------------------------------------------------------------\u001B[0m",
      "\u001B[1;31mKeyboardInterrupt\u001B[0m                         Traceback (most recent call last)",
      "\u001B[1;32m~\\AppData\\Local\\Temp/ipykernel_18472/3614682469.py\u001B[0m in \u001B[0;36m<module>\u001B[1;34m\u001B[0m\n\u001B[1;32m----> 1\u001B[1;33m \u001B[0mknn\u001B[0m\u001B[1;33m.\u001B[0m\u001B[0mpredict\u001B[0m\u001B[1;33m(\u001B[0m\u001B[1;33m)\u001B[0m\u001B[1;33m\u001B[0m\u001B[1;33m\u001B[0m\u001B[0m\n\u001B[0m",
      "\u001B[1;32m~\\Documents\\GitHub\\AI_assignments\\assignment_2\\digits_classifiers\\classifiers.py\u001B[0m in \u001B[0;36mpredict\u001B[1;34m(self)\u001B[0m\n\u001B[0;32m    231\u001B[0m \u001B[1;33m\u001B[0m\u001B[0m\n\u001B[0;32m    232\u001B[0m     def __init__(self, train: Dataset, test: Dataset,\n\u001B[1;32m--> 233\u001B[1;33m                  distance_fun: Callable, k: int = 1):\n\u001B[0m\u001B[0;32m    234\u001B[0m         \"\"\"\n\u001B[0;32m    235\u001B[0m \u001B[1;33m\u001B[0m\u001B[0m\n",
      "\u001B[1;32m~\\anaconda3\\lib\\site-packages\\scipy\\spatial\\distance.py\u001B[0m in \u001B[0;36meuclidean\u001B[1;34m(u, v, w)\u001B[0m\n\u001B[0;32m    595\u001B[0m \u001B[1;33m\u001B[0m\u001B[0m\n\u001B[0;32m    596\u001B[0m     \"\"\"\n\u001B[1;32m--> 597\u001B[1;33m     \u001B[1;32mreturn\u001B[0m \u001B[0mminkowski\u001B[0m\u001B[1;33m(\u001B[0m\u001B[0mu\u001B[0m\u001B[1;33m,\u001B[0m \u001B[0mv\u001B[0m\u001B[1;33m,\u001B[0m \u001B[0mp\u001B[0m\u001B[1;33m=\u001B[0m\u001B[1;36m2\u001B[0m\u001B[1;33m,\u001B[0m \u001B[0mw\u001B[0m\u001B[1;33m=\u001B[0m\u001B[0mw\u001B[0m\u001B[1;33m)\u001B[0m\u001B[1;33m\u001B[0m\u001B[1;33m\u001B[0m\u001B[0m\n\u001B[0m\u001B[0;32m    598\u001B[0m \u001B[1;33m\u001B[0m\u001B[0m\n\u001B[0;32m    599\u001B[0m \u001B[1;33m\u001B[0m\u001B[0m\n",
      "\u001B[1;32m~\\anaconda3\\lib\\site-packages\\scipy\\spatial\\distance.py\u001B[0m in \u001B[0;36mminkowski\u001B[1;34m(u, v, p, w)\u001B[0m\n\u001B[0;32m    482\u001B[0m \u001B[1;33m\u001B[0m\u001B[0m\n\u001B[0;32m    483\u001B[0m     \"\"\"\n\u001B[1;32m--> 484\u001B[1;33m     \u001B[0mu\u001B[0m \u001B[1;33m=\u001B[0m \u001B[0m_validate_vector\u001B[0m\u001B[1;33m(\u001B[0m\u001B[0mu\u001B[0m\u001B[1;33m)\u001B[0m\u001B[1;33m\u001B[0m\u001B[1;33m\u001B[0m\u001B[0m\n\u001B[0m\u001B[0;32m    485\u001B[0m     \u001B[0mv\u001B[0m \u001B[1;33m=\u001B[0m \u001B[0m_validate_vector\u001B[0m\u001B[1;33m(\u001B[0m\u001B[0mv\u001B[0m\u001B[1;33m)\u001B[0m\u001B[1;33m\u001B[0m\u001B[1;33m\u001B[0m\u001B[0m\n\u001B[0;32m    486\u001B[0m     \u001B[1;32mif\u001B[0m \u001B[0mp\u001B[0m \u001B[1;33m<\u001B[0m \u001B[1;36m1\u001B[0m\u001B[1;33m:\u001B[0m\u001B[1;33m\u001B[0m\u001B[1;33m\u001B[0m\u001B[0m\n",
      "\u001B[1;32m~\\anaconda3\\lib\\site-packages\\scipy\\spatial\\distance.py\u001B[0m in \u001B[0;36m_validate_vector\u001B[1;34m(u, dtype)\u001B[0m\n\u001B[0;32m    298\u001B[0m \u001B[1;32mdef\u001B[0m \u001B[0m_validate_vector\u001B[0m\u001B[1;33m(\u001B[0m\u001B[0mu\u001B[0m\u001B[1;33m,\u001B[0m \u001B[0mdtype\u001B[0m\u001B[1;33m=\u001B[0m\u001B[1;32mNone\u001B[0m\u001B[1;33m)\u001B[0m\u001B[1;33m:\u001B[0m\u001B[1;33m\u001B[0m\u001B[1;33m\u001B[0m\u001B[0m\n\u001B[0;32m    299\u001B[0m     \u001B[1;31m# XXX Is order='c' really necessary?\u001B[0m\u001B[1;33m\u001B[0m\u001B[1;33m\u001B[0m\u001B[0m\n\u001B[1;32m--> 300\u001B[1;33m     \u001B[0mu\u001B[0m \u001B[1;33m=\u001B[0m \u001B[0mnp\u001B[0m\u001B[1;33m.\u001B[0m\u001B[0masarray\u001B[0m\u001B[1;33m(\u001B[0m\u001B[0mu\u001B[0m\u001B[1;33m,\u001B[0m \u001B[0mdtype\u001B[0m\u001B[1;33m=\u001B[0m\u001B[0mdtype\u001B[0m\u001B[1;33m,\u001B[0m \u001B[0morder\u001B[0m\u001B[1;33m=\u001B[0m\u001B[1;34m'c'\u001B[0m\u001B[1;33m)\u001B[0m\u001B[1;33m\u001B[0m\u001B[1;33m\u001B[0m\u001B[0m\n\u001B[0m\u001B[0;32m    301\u001B[0m     \u001B[1;32mif\u001B[0m \u001B[0mu\u001B[0m\u001B[1;33m.\u001B[0m\u001B[0mndim\u001B[0m \u001B[1;33m==\u001B[0m \u001B[1;36m1\u001B[0m\u001B[1;33m:\u001B[0m\u001B[1;33m\u001B[0m\u001B[1;33m\u001B[0m\u001B[0m\n\u001B[0;32m    302\u001B[0m         \u001B[1;32mreturn\u001B[0m \u001B[0mu\u001B[0m\u001B[1;33m\u001B[0m\u001B[1;33m\u001B[0m\u001B[0m\n",
      "\u001B[1;32m~\\anaconda3\\lib\\site-packages\\numpy\\core\\_asarray.py\u001B[0m in \u001B[0;36masarray\u001B[1;34m(a, dtype, order, like)\u001B[0m\n\u001B[0;32m    100\u001B[0m         \u001B[1;32mreturn\u001B[0m \u001B[0m_asarray_with_like\u001B[0m\u001B[1;33m(\u001B[0m\u001B[0ma\u001B[0m\u001B[1;33m,\u001B[0m \u001B[0mdtype\u001B[0m\u001B[1;33m=\u001B[0m\u001B[0mdtype\u001B[0m\u001B[1;33m,\u001B[0m \u001B[0morder\u001B[0m\u001B[1;33m=\u001B[0m\u001B[0morder\u001B[0m\u001B[1;33m,\u001B[0m \u001B[0mlike\u001B[0m\u001B[1;33m=\u001B[0m\u001B[0mlike\u001B[0m\u001B[1;33m)\u001B[0m\u001B[1;33m\u001B[0m\u001B[1;33m\u001B[0m\u001B[0m\n\u001B[0;32m    101\u001B[0m \u001B[1;33m\u001B[0m\u001B[0m\n\u001B[1;32m--> 102\u001B[1;33m     \u001B[1;32mreturn\u001B[0m \u001B[0marray\u001B[0m\u001B[1;33m(\u001B[0m\u001B[0ma\u001B[0m\u001B[1;33m,\u001B[0m \u001B[0mdtype\u001B[0m\u001B[1;33m,\u001B[0m \u001B[0mcopy\u001B[0m\u001B[1;33m=\u001B[0m\u001B[1;32mFalse\u001B[0m\u001B[1;33m,\u001B[0m \u001B[0morder\u001B[0m\u001B[1;33m=\u001B[0m\u001B[0morder\u001B[0m\u001B[1;33m)\u001B[0m\u001B[1;33m\u001B[0m\u001B[1;33m\u001B[0m\u001B[0m\n\u001B[0m\u001B[0;32m    103\u001B[0m \u001B[1;33m\u001B[0m\u001B[0m\n\u001B[0;32m    104\u001B[0m \u001B[1;33m\u001B[0m\u001B[0m\n",
      "\u001B[1;31mKeyboardInterrupt\u001B[0m: "
     ]
    }
   ],
   "source": [
    "knn.predict()"
   ],
   "metadata": {
    "collapsed": false,
    "pycharm": {
     "name": "#%%\n"
    }
   }
  },
  {
   "cell_type": "code",
   "execution_count": null,
   "outputs": [],
   "source": [
    "knn.predicted"
   ],
   "metadata": {
    "collapsed": false,
    "pycharm": {
     "name": "#%%\n"
    }
   }
  },
  {
   "cell_type": "code",
   "execution_count": null,
   "outputs": [],
   "source": [
    "knn.confusion_matrix()"
   ],
   "metadata": {
    "collapsed": false,
    "pycharm": {
     "name": "#%%\n"
    }
   }
  },
  {
   "cell_type": "code",
   "execution_count": null,
   "outputs": [],
   "source": [
    "knn.accuracy"
   ],
   "metadata": {
    "collapsed": false,
    "pycharm": {
     "name": "#%%\n"
    }
   }
  }
 ],
 "metadata": {
  "kernelspec": {
   "display_name": "Python 3",
   "language": "python",
   "name": "python3"
  },
  "language_info": {
   "codemirror_mode": {
    "name": "ipython",
    "version": 2
   },
   "file_extension": ".py",
   "mimetype": "text/x-python",
   "name": "python",
   "nbconvert_exporter": "python",
   "pygments_lexer": "ipython2",
   "version": "2.7.6"
  }
 },
 "nbformat": 4,
 "nbformat_minor": 0
}