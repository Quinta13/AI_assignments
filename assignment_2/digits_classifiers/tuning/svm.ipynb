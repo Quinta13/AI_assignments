{
 "cells": [
  {
   "cell_type": "markdown",
   "source": [
    "# SVM Tuning"
   ],
   "metadata": {
    "collapsed": false
   }
  },
  {
   "cell_type": "code",
   "execution_count": 1,
   "outputs": [],
   "source": [
    "from sklearn.model_selection import train_test_split\n",
    "\n",
    "from assignment_2.digits_classifiers.model import Dataset, ClassifierTuning\n",
    "from assignment_2.digits_classifiers.classifiers import SVMLinearClassifier, SVMPolynomialClassifier, SVMRBFKernelsClassifier\n",
    "from assignment_2.digits_classifiers.io import read_datasets"
   ],
   "metadata": {
    "collapsed": false,
    "pycharm": {
     "name": "#%%\n"
    }
   }
  },
  {
   "cell_type": "markdown",
   "source": [
    "## Import dataset"
   ],
   "metadata": {
    "collapsed": false,
    "pycharm": {
     "name": "#%% md\n"
    }
   }
  },
  {
   "cell_type": "code",
   "execution_count": 2,
   "outputs": [
    {
     "name": "stderr",
     "output_type": "stream",
     "text": [
      "2022-12-14 14:51:55.098 | INFO     | assignment_2.digits_classifiers.io:read_datasets:40 - Reading datasets\n"
     ]
    }
   ],
   "source": [
    "data = read_datasets()"
   ],
   "metadata": {
    "collapsed": false,
    "pycharm": {
     "name": "#%%\n"
    }
   }
  },
  {
   "cell_type": "code",
   "execution_count": 3,
   "outputs": [],
   "source": [
    "X, y = data"
   ],
   "metadata": {
    "collapsed": false,
    "pycharm": {
     "name": "#%%\n"
    }
   }
  },
  {
   "cell_type": "markdown",
   "source": [
    "## Removing constant columns"
   ],
   "metadata": {
    "collapsed": false
   }
  },
  {
   "cell_type": "code",
   "execution_count": 4,
   "outputs": [],
   "source": [
    "always_zero = [c for c in list(X.columns) if sum(X.loc[:, c]) == 0]"
   ],
   "metadata": {
    "collapsed": false,
    "pycharm": {
     "name": "#%%\n"
    }
   }
  },
  {
   "cell_type": "code",
   "execution_count": 5,
   "outputs": [],
   "source": [
    "X.drop(columns=always_zero, axis=1, inplace=True)"
   ],
   "metadata": {
    "collapsed": false,
    "pycharm": {
     "name": "#%%\n"
    }
   }
  },
  {
   "cell_type": "markdown",
   "source": [
    "## Discard part of data"
   ],
   "metadata": {
    "collapsed": false
   }
  },
  {
   "cell_type": "code",
   "execution_count": 6,
   "outputs": [],
   "source": [
    "X, _, y, _ = train_test_split(X, y, test_size=0.95)"
   ],
   "metadata": {
    "collapsed": false,
    "pycharm": {
     "name": "#%%\n"
    }
   }
  },
  {
   "cell_type": "markdown",
   "source": [
    "## Train Test split"
   ],
   "metadata": {
    "collapsed": false
   }
  },
  {
   "cell_type": "code",
   "execution_count": 7,
   "outputs": [],
   "source": [
    "X_train, X_test, y_train, y_test = train_test_split(X, y, test_size=0.2)\n",
    "X_train.reset_index(inplace=True, drop=True)\n",
    "X_test.reset_index(inplace=True, drop=True)"
   ],
   "metadata": {
    "collapsed": false,
    "pycharm": {
     "name": "#%%\n"
    }
   }
  },
  {
   "cell_type": "code",
   "execution_count": 8,
   "outputs": [
    {
     "data": {
      "text/plain": "      pixel13  pixel14  pixel15  pixel16  pixel33  pixel34  pixel35  pixel36  \\\n0         0.0      0.0      0.0      0.0      0.0      0.0      0.0      0.0   \n1         0.0      0.0      0.0      0.0      0.0      0.0      0.0      0.0   \n2         0.0      0.0      0.0      0.0      0.0      0.0      0.0      0.0   \n3         0.0      0.0      0.0      0.0      0.0      0.0      0.0      0.0   \n4         0.0      0.0      0.0      0.0      0.0      0.0      0.0      0.0   \n...       ...      ...      ...      ...      ...      ...      ...      ...   \n2795      0.0      0.0      0.0      0.0      0.0      0.0      0.0      0.0   \n2796      0.0      0.0      0.0      0.0      0.0      0.0      0.0      0.0   \n2797      0.0      0.0      0.0      0.0      0.0      0.0      0.0      0.0   \n2798      0.0      0.0      0.0      0.0      0.0      0.0      0.0      0.0   \n2799      0.0      0.0      0.0      0.0      0.0      0.0      0.0      0.0   \n\n      pixel37  pixel38  ...  pixel771  pixel772  pixel773  pixel774  pixel775  \\\n0         0.0      0.0  ...       0.0       0.0       0.0       0.0       0.0   \n1         0.0      0.0  ...       0.0       0.0       0.0       0.0       0.0   \n2         0.0      0.0  ...       0.0       0.0       0.0       0.0       0.0   \n3         0.0      0.0  ...       0.0       0.0       0.0       0.0       0.0   \n4         0.0      0.0  ...       0.0       0.0       0.0       0.0       0.0   \n...       ...      ...  ...       ...       ...       ...       ...       ...   \n2795      0.0      0.0  ...       0.0       0.0       0.0       0.0       0.0   \n2796      0.0      0.0  ...       0.0       0.0       0.0       0.0       0.0   \n2797      0.0      0.0  ...       0.0       0.0       0.0       0.0       0.0   \n2798      0.0      0.0  ...       0.0       0.0       0.0       0.0       0.0   \n2799      0.0      0.0  ...       0.0       0.0       0.0       0.0       0.0   \n\n      pixel776  pixel777  pixel778  pixel779  pixel780  \n0          0.0       0.0       0.0       0.0       0.0  \n1          0.0       0.0       0.0       0.0       0.0  \n2          0.0       0.0       0.0       0.0       0.0  \n3          0.0       0.0       0.0       0.0       0.0  \n4          0.0       0.0       0.0       0.0       0.0  \n...        ...       ...       ...       ...       ...  \n2795       0.0       0.0       0.0       0.0       0.0  \n2796       0.0       0.0       0.0       0.0       0.0  \n2797       0.0       0.0       0.0       0.0       0.0  \n2798       0.0       0.0       0.0       0.0       0.0  \n2799       0.0       0.0       0.0       0.0       0.0  \n\n[2800 rows x 719 columns]",
      "text/html": "<div>\n<style scoped>\n    .dataframe tbody tr th:only-of-type {\n        vertical-align: middle;\n    }\n\n    .dataframe tbody tr th {\n        vertical-align: top;\n    }\n\n    .dataframe thead th {\n        text-align: right;\n    }\n</style>\n<table border=\"1\" class=\"dataframe\">\n  <thead>\n    <tr style=\"text-align: right;\">\n      <th></th>\n      <th>pixel13</th>\n      <th>pixel14</th>\n      <th>pixel15</th>\n      <th>pixel16</th>\n      <th>pixel33</th>\n      <th>pixel34</th>\n      <th>pixel35</th>\n      <th>pixel36</th>\n      <th>pixel37</th>\n      <th>pixel38</th>\n      <th>...</th>\n      <th>pixel771</th>\n      <th>pixel772</th>\n      <th>pixel773</th>\n      <th>pixel774</th>\n      <th>pixel775</th>\n      <th>pixel776</th>\n      <th>pixel777</th>\n      <th>pixel778</th>\n      <th>pixel779</th>\n      <th>pixel780</th>\n    </tr>\n  </thead>\n  <tbody>\n    <tr>\n      <th>0</th>\n      <td>0.0</td>\n      <td>0.0</td>\n      <td>0.0</td>\n      <td>0.0</td>\n      <td>0.0</td>\n      <td>0.0</td>\n      <td>0.0</td>\n      <td>0.0</td>\n      <td>0.0</td>\n      <td>0.0</td>\n      <td>...</td>\n      <td>0.0</td>\n      <td>0.0</td>\n      <td>0.0</td>\n      <td>0.0</td>\n      <td>0.0</td>\n      <td>0.0</td>\n      <td>0.0</td>\n      <td>0.0</td>\n      <td>0.0</td>\n      <td>0.0</td>\n    </tr>\n    <tr>\n      <th>1</th>\n      <td>0.0</td>\n      <td>0.0</td>\n      <td>0.0</td>\n      <td>0.0</td>\n      <td>0.0</td>\n      <td>0.0</td>\n      <td>0.0</td>\n      <td>0.0</td>\n      <td>0.0</td>\n      <td>0.0</td>\n      <td>...</td>\n      <td>0.0</td>\n      <td>0.0</td>\n      <td>0.0</td>\n      <td>0.0</td>\n      <td>0.0</td>\n      <td>0.0</td>\n      <td>0.0</td>\n      <td>0.0</td>\n      <td>0.0</td>\n      <td>0.0</td>\n    </tr>\n    <tr>\n      <th>2</th>\n      <td>0.0</td>\n      <td>0.0</td>\n      <td>0.0</td>\n      <td>0.0</td>\n      <td>0.0</td>\n      <td>0.0</td>\n      <td>0.0</td>\n      <td>0.0</td>\n      <td>0.0</td>\n      <td>0.0</td>\n      <td>...</td>\n      <td>0.0</td>\n      <td>0.0</td>\n      <td>0.0</td>\n      <td>0.0</td>\n      <td>0.0</td>\n      <td>0.0</td>\n      <td>0.0</td>\n      <td>0.0</td>\n      <td>0.0</td>\n      <td>0.0</td>\n    </tr>\n    <tr>\n      <th>3</th>\n      <td>0.0</td>\n      <td>0.0</td>\n      <td>0.0</td>\n      <td>0.0</td>\n      <td>0.0</td>\n      <td>0.0</td>\n      <td>0.0</td>\n      <td>0.0</td>\n      <td>0.0</td>\n      <td>0.0</td>\n      <td>...</td>\n      <td>0.0</td>\n      <td>0.0</td>\n      <td>0.0</td>\n      <td>0.0</td>\n      <td>0.0</td>\n      <td>0.0</td>\n      <td>0.0</td>\n      <td>0.0</td>\n      <td>0.0</td>\n      <td>0.0</td>\n    </tr>\n    <tr>\n      <th>4</th>\n      <td>0.0</td>\n      <td>0.0</td>\n      <td>0.0</td>\n      <td>0.0</td>\n      <td>0.0</td>\n      <td>0.0</td>\n      <td>0.0</td>\n      <td>0.0</td>\n      <td>0.0</td>\n      <td>0.0</td>\n      <td>...</td>\n      <td>0.0</td>\n      <td>0.0</td>\n      <td>0.0</td>\n      <td>0.0</td>\n      <td>0.0</td>\n      <td>0.0</td>\n      <td>0.0</td>\n      <td>0.0</td>\n      <td>0.0</td>\n      <td>0.0</td>\n    </tr>\n    <tr>\n      <th>...</th>\n      <td>...</td>\n      <td>...</td>\n      <td>...</td>\n      <td>...</td>\n      <td>...</td>\n      <td>...</td>\n      <td>...</td>\n      <td>...</td>\n      <td>...</td>\n      <td>...</td>\n      <td>...</td>\n      <td>...</td>\n      <td>...</td>\n      <td>...</td>\n      <td>...</td>\n      <td>...</td>\n      <td>...</td>\n      <td>...</td>\n      <td>...</td>\n      <td>...</td>\n      <td>...</td>\n    </tr>\n    <tr>\n      <th>2795</th>\n      <td>0.0</td>\n      <td>0.0</td>\n      <td>0.0</td>\n      <td>0.0</td>\n      <td>0.0</td>\n      <td>0.0</td>\n      <td>0.0</td>\n      <td>0.0</td>\n      <td>0.0</td>\n      <td>0.0</td>\n      <td>...</td>\n      <td>0.0</td>\n      <td>0.0</td>\n      <td>0.0</td>\n      <td>0.0</td>\n      <td>0.0</td>\n      <td>0.0</td>\n      <td>0.0</td>\n      <td>0.0</td>\n      <td>0.0</td>\n      <td>0.0</td>\n    </tr>\n    <tr>\n      <th>2796</th>\n      <td>0.0</td>\n      <td>0.0</td>\n      <td>0.0</td>\n      <td>0.0</td>\n      <td>0.0</td>\n      <td>0.0</td>\n      <td>0.0</td>\n      <td>0.0</td>\n      <td>0.0</td>\n      <td>0.0</td>\n      <td>...</td>\n      <td>0.0</td>\n      <td>0.0</td>\n      <td>0.0</td>\n      <td>0.0</td>\n      <td>0.0</td>\n      <td>0.0</td>\n      <td>0.0</td>\n      <td>0.0</td>\n      <td>0.0</td>\n      <td>0.0</td>\n    </tr>\n    <tr>\n      <th>2797</th>\n      <td>0.0</td>\n      <td>0.0</td>\n      <td>0.0</td>\n      <td>0.0</td>\n      <td>0.0</td>\n      <td>0.0</td>\n      <td>0.0</td>\n      <td>0.0</td>\n      <td>0.0</td>\n      <td>0.0</td>\n      <td>...</td>\n      <td>0.0</td>\n      <td>0.0</td>\n      <td>0.0</td>\n      <td>0.0</td>\n      <td>0.0</td>\n      <td>0.0</td>\n      <td>0.0</td>\n      <td>0.0</td>\n      <td>0.0</td>\n      <td>0.0</td>\n    </tr>\n    <tr>\n      <th>2798</th>\n      <td>0.0</td>\n      <td>0.0</td>\n      <td>0.0</td>\n      <td>0.0</td>\n      <td>0.0</td>\n      <td>0.0</td>\n      <td>0.0</td>\n      <td>0.0</td>\n      <td>0.0</td>\n      <td>0.0</td>\n      <td>...</td>\n      <td>0.0</td>\n      <td>0.0</td>\n      <td>0.0</td>\n      <td>0.0</td>\n      <td>0.0</td>\n      <td>0.0</td>\n      <td>0.0</td>\n      <td>0.0</td>\n      <td>0.0</td>\n      <td>0.0</td>\n    </tr>\n    <tr>\n      <th>2799</th>\n      <td>0.0</td>\n      <td>0.0</td>\n      <td>0.0</td>\n      <td>0.0</td>\n      <td>0.0</td>\n      <td>0.0</td>\n      <td>0.0</td>\n      <td>0.0</td>\n      <td>0.0</td>\n      <td>0.0</td>\n      <td>...</td>\n      <td>0.0</td>\n      <td>0.0</td>\n      <td>0.0</td>\n      <td>0.0</td>\n      <td>0.0</td>\n      <td>0.0</td>\n      <td>0.0</td>\n      <td>0.0</td>\n      <td>0.0</td>\n      <td>0.0</td>\n    </tr>\n  </tbody>\n</table>\n<p>2800 rows × 719 columns</p>\n</div>"
     },
     "execution_count": 8,
     "metadata": {},
     "output_type": "execute_result"
    }
   ],
   "source": [
    "X_train"
   ],
   "metadata": {
    "collapsed": false,
    "pycharm": {
     "name": "#%%\n"
    }
   }
  },
  {
   "cell_type": "code",
   "execution_count": 9,
   "outputs": [],
   "source": [
    "data = Dataset(x=X, y=y)\n",
    "train = Dataset(x=X_train, y=y_train)\n",
    "test = Dataset(x=X_test, y=y_test)"
   ],
   "metadata": {
    "collapsed": false,
    "pycharm": {
     "name": "#%%\n"
    }
   }
  },
  {
   "cell_type": "code",
   "execution_count": 10,
   "outputs": [
    {
     "data": {
      "text/plain": "<Figure size 432x288 with 1 Axes>",
      "image/png": "[encoded data removed]"
     },
     "metadata": {
      "needs_background": "light"
     },
     "output_type": "display_data"
    }
   ],
   "source": [
    "data.digit_distribution()"
   ],
   "metadata": {
    "collapsed": false,
    "pycharm": {
     "name": "#%%\n"
    }
   }
  },
  {
   "cell_type": "markdown",
   "source": [
    "## Training SVM"
   ],
   "metadata": {
    "collapsed": false
   }
  },
  {
   "cell_type": "markdown",
   "source": [
    "### Linear SVM"
   ],
   "metadata": {
    "collapsed": false,
    "pycharm": {
     "name": "#%% md\n"
    }
   }
  },
  {
   "cell_type": "code",
   "execution_count": 11,
   "outputs": [],
   "source": [
    "linears = [\n",
    "    SVMLinearClassifier(train=train, test=test, c=c)\n",
    "    for c in [1, 2, 5, 10]\n",
    "]"
   ],
   "metadata": {
    "collapsed": false,
    "pycharm": {
     "name": "#%%\n"
    }
   }
  },
  {
   "cell_type": "code",
   "execution_count": 12,
   "outputs": [],
   "source": [
    "tuning_linears = ClassifierTuning(classifiers=linears, data=train, k=5)"
   ],
   "metadata": {
    "collapsed": false,
    "pycharm": {
     "name": "#%%\n"
    }
   }
  },
  {
   "cell_type": "code",
   "execution_count": 13,
   "outputs": [
    {
     "name": "stderr",
     "output_type": "stream",
     "text": [
      "2022-12-14 14:52:02.862 | INFO     | assignment_2.digits_classifiers.model:evaluate_best_model:298 - Evaluating classifier: [LinearSVM: Train 2800, Test 700] - [C: 1]\n",
      "2022-12-14 14:52:02.909 | INFO     | assignment_2.digits_classifiers.model:evaluate:244 -  > Processing fold 1\n",
      "2022-12-14 14:52:03.315 | INFO     | assignment_2.digits_classifiers.model:evaluate:244 -  > Processing fold 2\n",
      "2022-12-14 14:52:03.674 | INFO     | assignment_2.digits_classifiers.model:evaluate:244 -  > Processing fold 3\n",
      "2022-12-14 14:52:04.034 | INFO     | assignment_2.digits_classifiers.model:evaluate:244 -  > Processing fold 4\n",
      "2022-12-14 14:52:04.378 | INFO     | assignment_2.digits_classifiers.model:evaluate:244 -  > Processing fold 5\n",
      "2022-12-14 14:52:04.721 | INFO     | assignment_2.digits_classifiers.model:evaluate_best_model:298 - Evaluating classifier: [LinearSVM: Train 2800, Test 700] - [C: 2]\n",
      "2022-12-14 14:52:04.768 | INFO     | assignment_2.digits_classifiers.model:evaluate:244 -  > Processing fold 1\n",
      "2022-12-14 14:52:05.112 | INFO     | assignment_2.digits_classifiers.model:evaluate:244 -  > Processing fold 2\n",
      "2022-12-14 14:52:05.456 | INFO     | assignment_2.digits_classifiers.model:evaluate:244 -  > Processing fold 3\n",
      "2022-12-14 14:52:05.815 | INFO     | assignment_2.digits_classifiers.model:evaluate:244 -  > Processing fold 4\n",
      "2022-12-14 14:52:06.206 | INFO     | assignment_2.digits_classifiers.model:evaluate:244 -  > Processing fold 5\n",
      "2022-12-14 14:52:06.570 | INFO     | assignment_2.digits_classifiers.model:evaluate_best_model:298 - Evaluating classifier: [LinearSVM: Train 2800, Test 700] - [C: 5]\n",
      "2022-12-14 14:52:06.632 | INFO     | assignment_2.digits_classifiers.model:evaluate:244 -  > Processing fold 1\n",
      "2022-12-14 14:52:07.007 | INFO     | assignment_2.digits_classifiers.model:evaluate:244 -  > Processing fold 2\n",
      "2022-12-14 14:52:07.382 | INFO     | assignment_2.digits_classifiers.model:evaluate:244 -  > Processing fold 3\n",
      "2022-12-14 14:52:07.773 | INFO     | assignment_2.digits_classifiers.model:evaluate:244 -  > Processing fold 4\n",
      "2022-12-14 14:52:08.142 | INFO     | assignment_2.digits_classifiers.model:evaluate:244 -  > Processing fold 5\n",
      "2022-12-14 14:52:08.517 | INFO     | assignment_2.digits_classifiers.model:evaluate_best_model:298 - Evaluating classifier: [LinearSVM: Train 2800, Test 700] - [C: 10]\n",
      "2022-12-14 14:52:08.564 | INFO     | assignment_2.digits_classifiers.model:evaluate:244 -  > Processing fold 1\n",
      "2022-12-14 14:52:08.908 | INFO     | assignment_2.digits_classifiers.model:evaluate:244 -  > Processing fold 2\n",
      "2022-12-14 14:52:09.272 | INFO     | assignment_2.digits_classifiers.model:evaluate:244 -  > Processing fold 3\n",
      "2022-12-14 14:52:09.663 | INFO     | assignment_2.digits_classifiers.model:evaluate:244 -  > Processing fold 4\n",
      "2022-12-14 14:52:10.038 | INFO     | assignment_2.digits_classifiers.model:evaluate:244 -  > Processing fold 5\n"
     ]
    }
   ],
   "source": [
    "tuning_linears.evaluate_best_model()"
   ],
   "metadata": {
    "collapsed": false,
    "pycharm": {
     "name": "#%%\n"
    }
   }
  },
  {
   "cell_type": "code",
   "execution_count": 14,
   "outputs": [
    {
     "data": {
      "text/plain": "[LinearSVM: Train 2240, Test 560] - [C: 1]"
     },
     "execution_count": 14,
     "metadata": {},
     "output_type": "execute_result"
    }
   ],
   "source": [
    "tuning_linears.best_model"
   ],
   "metadata": {
    "collapsed": false,
    "pycharm": {
     "name": "#%%\n"
    }
   }
  },
  {
   "cell_type": "code",
   "execution_count": 15,
   "outputs": [
    {
     "data": {
      "text/plain": "0.9114285714285715"
     },
     "execution_count": 15,
     "metadata": {},
     "output_type": "execute_result"
    }
   ],
   "source": [
    "best_linear = tuning_linears.best_model\n",
    "best_linear.change_dataset(\n",
    "    train=train,\n",
    "    test=test\n",
    ")\n",
    "best_linear.train()\n",
    "best_linear.predict()\n",
    "best_linear.accuracy"
   ],
   "metadata": {
    "collapsed": false,
    "pycharm": {
     "name": "#%%\n"
    }
   }
  },
  {
   "cell_type": "code",
   "execution_count": 16,
   "outputs": [
    {
     "data": {
      "text/plain": "<Figure size 432x288 with 2 Axes>",
      "image/png": "[encoded data removed]"
     },
     "metadata": {
      "needs_background": "light"
     },
     "output_type": "display_data"
    }
   ],
   "source": [
    "best_linear.confusion_matrix()"
   ],
   "metadata": {
    "collapsed": false,
    "pycharm": {
     "name": "#%%\n"
    }
   }
  },
  {
   "cell_type": "markdown",
   "source": [
    "### Polinomial SVM"
   ],
   "metadata": {
    "collapsed": false
   }
  },
  {
   "cell_type": "code",
   "execution_count": 17,
   "outputs": [],
   "source": [
    "polys = [\n",
    "    SVMPolynomialClassifier(train=train, test=test, c=c, degree=2)\n",
    "    for c in [1, 2, 5, 10]\n",
    "]"
   ],
   "metadata": {
    "collapsed": false,
    "pycharm": {
     "name": "#%%\n"
    }
   }
  },
  {
   "cell_type": "code",
   "execution_count": 18,
   "outputs": [],
   "source": [
    "tuning_polys = ClassifierTuning(classifiers=polys, data=train, k=5)"
   ],
   "metadata": {
    "collapsed": false,
    "pycharm": {
     "name": "#%%\n"
    }
   }
  },
  {
   "cell_type": "code",
   "execution_count": 19,
   "outputs": [
    {
     "name": "stderr",
     "output_type": "stream",
     "text": [
      "2022-12-14 14:52:11.651 | INFO     | assignment_2.digits_classifiers.model:evaluate_best_model:298 - Evaluating classifier: [PolynomialSVM: Train 2800, Test 700] - [C: 1, Degree: 2]\n",
      "2022-12-14 14:52:11.698 | INFO     | assignment_2.digits_classifiers.model:evaluate:244 -  > Processing fold 1\n",
      "2022-12-14 14:52:12.261 | INFO     | assignment_2.digits_classifiers.model:evaluate:244 -  > Processing fold 2\n",
      "2022-12-14 14:52:12.917 | INFO     | assignment_2.digits_classifiers.model:evaluate:244 -  > Processing fold 3\n",
      "2022-12-14 14:52:13.620 | INFO     | assignment_2.digits_classifiers.model:evaluate:244 -  > Processing fold 4\n",
      "2022-12-14 14:52:14.370 | INFO     | assignment_2.digits_classifiers.model:evaluate:244 -  > Processing fold 5\n",
      "2022-12-14 14:52:15.120 | INFO     | assignment_2.digits_classifiers.model:evaluate_best_model:298 - Evaluating classifier: [PolynomialSVM: Train 2800, Test 700] - [C: 2, Degree: 2]\n",
      "2022-12-14 14:52:15.167 | INFO     | assignment_2.digits_classifiers.model:evaluate:244 -  > Processing fold 1\n",
      "2022-12-14 14:52:15.823 | INFO     | assignment_2.digits_classifiers.model:evaluate:244 -  > Processing fold 2\n",
      "2022-12-14 14:52:16.375 | INFO     | assignment_2.digits_classifiers.model:evaluate:244 -  > Processing fold 3\n",
      "2022-12-14 14:52:16.859 | INFO     | assignment_2.digits_classifiers.model:evaluate:244 -  > Processing fold 4\n",
      "2022-12-14 14:52:17.359 | INFO     | assignment_2.digits_classifiers.model:evaluate:244 -  > Processing fold 5\n",
      "2022-12-14 14:52:17.797 | INFO     | assignment_2.digits_classifiers.model:evaluate_best_model:298 - Evaluating classifier: [PolynomialSVM: Train 2800, Test 700] - [C: 5, Degree: 2]\n",
      "2022-12-14 14:52:17.843 | INFO     | assignment_2.digits_classifiers.model:evaluate:244 -  > Processing fold 1\n",
      "2022-12-14 14:52:18.250 | INFO     | assignment_2.digits_classifiers.model:evaluate:244 -  > Processing fold 2\n",
      "2022-12-14 14:52:18.672 | INFO     | assignment_2.digits_classifiers.model:evaluate:244 -  > Processing fold 3\n",
      "2022-12-14 14:52:19.109 | INFO     | assignment_2.digits_classifiers.model:evaluate:244 -  > Processing fold 4\n",
      "2022-12-14 14:52:19.546 | INFO     | assignment_2.digits_classifiers.model:evaluate:244 -  > Processing fold 5\n",
      "2022-12-14 14:52:20.030 | INFO     | assignment_2.digits_classifiers.model:evaluate_best_model:298 - Evaluating classifier: [PolynomialSVM: Train 2800, Test 700] - [C: 10, Degree: 2]\n",
      "2022-12-14 14:52:20.062 | INFO     | assignment_2.digits_classifiers.model:evaluate:244 -  > Processing fold 1\n",
      "2022-12-14 14:52:20.530 | INFO     | assignment_2.digits_classifiers.model:evaluate:244 -  > Processing fold 2\n",
      "2022-12-14 14:52:20.983 | INFO     | assignment_2.digits_classifiers.model:evaluate:244 -  > Processing fold 3\n",
      "2022-12-14 14:52:21.472 | INFO     | assignment_2.digits_classifiers.model:evaluate:244 -  > Processing fold 4\n",
      "2022-12-14 14:52:22.066 | INFO     | assignment_2.digits_classifiers.model:evaluate:244 -  > Processing fold 5\n"
     ]
    }
   ],
   "source": [
    "tuning_polys.evaluate_best_model()"
   ],
   "metadata": {
    "collapsed": false,
    "pycharm": {
     "name": "#%%\n"
    }
   }
  },
  {
   "cell_type": "code",
   "execution_count": 20,
   "outputs": [
    {
     "data": {
      "text/plain": "0.9542857142857143"
     },
     "execution_count": 20,
     "metadata": {},
     "output_type": "execute_result"
    }
   ],
   "source": [
    "best_polys = tuning_polys.best_model\n",
    "best_polys.change_dataset(\n",
    "    train=train,\n",
    "    test=test\n",
    ")\n",
    "best_polys.train()\n",
    "best_polys.predict()\n",
    "best_polys.accuracy"
   ],
   "metadata": {
    "collapsed": false,
    "pycharm": {
     "name": "#%%\n"
    }
   }
  },
  {
   "cell_type": "code",
   "execution_count": 21,
   "outputs": [
    {
     "data": {
      "text/plain": "<Figure size 432x288 with 2 Axes>",
      "image/png": "[encoded data removed]"
     },
     "metadata": {
      "needs_background": "light"
     },
     "output_type": "display_data"
    }
   ],
   "source": [
    "best_polys.confusion_matrix()"
   ],
   "metadata": {
    "collapsed": false,
    "pycharm": {
     "name": "#%%\n"
    }
   }
  },
  {
   "cell_type": "markdown",
   "source": [
    "### RBF Kernel Classifier"
   ],
   "metadata": {
    "collapsed": false,
    "pycharm": {
     "name": "#%% md\n"
    }
   }
  },
  {
   "cell_type": "code",
   "execution_count": 22,
   "outputs": [],
   "source": [
    "rbfs = [\n",
    "    SVMRBFKernelsClassifier(train=train, test=test, c=c)\n",
    "    for c in [1, 2, 5, 10]\n",
    "]"
   ],
   "metadata": {
    "collapsed": false,
    "pycharm": {
     "name": "#%%\n"
    }
   }
  },
  {
   "cell_type": "code",
   "execution_count": 23,
   "outputs": [],
   "source": [
    "tuning_rbfs = ClassifierTuning(classifiers=rbfs, data=train, k=5)"
   ],
   "metadata": {
    "collapsed": false,
    "pycharm": {
     "name": "#%%\n"
    }
   }
  },
  {
   "cell_type": "code",
   "execution_count": 24,
   "outputs": [
    {
     "name": "stderr",
     "output_type": "stream",
     "text": [
      "2022-12-14 14:52:24.176 | INFO     | assignment_2.digits_classifiers.model:evaluate_best_model:298 - Evaluating classifier: [RBFKernelsSVM: Train 2800, Test 700] - [C: 1]\n",
      "2022-12-14 14:52:24.207 | INFO     | assignment_2.digits_classifiers.model:evaluate:244 -  > Processing fold 1\n",
      "2022-12-14 14:52:25.113 | INFO     | assignment_2.digits_classifiers.model:evaluate:244 -  > Processing fold 2\n",
      "2022-12-14 14:52:26.004 | INFO     | assignment_2.digits_classifiers.model:evaluate:244 -  > Processing fold 3\n",
      "2022-12-14 14:52:27.010 | INFO     | assignment_2.digits_classifiers.model:evaluate:244 -  > Processing fold 4\n",
      "2022-12-14 14:52:28.119 | INFO     | assignment_2.digits_classifiers.model:evaluate:244 -  > Processing fold 5\n",
      "2022-12-14 14:52:29.139 | INFO     | assignment_2.digits_classifiers.model:evaluate_best_model:298 - Evaluating classifier: [RBFKernelsSVM: Train 2800, Test 700] - [C: 2]\n",
      "2022-12-14 14:52:29.201 | INFO     | assignment_2.digits_classifiers.model:evaluate:244 -  > Processing fold 1\n",
      "2022-12-14 14:52:30.514 | INFO     | assignment_2.digits_classifiers.model:evaluate:244 -  > Processing fold 2\n",
      "2022-12-14 14:52:32.004 | INFO     | assignment_2.digits_classifiers.model:evaluate:244 -  > Processing fold 3\n",
      "2022-12-14 14:52:32.989 | INFO     | assignment_2.digits_classifiers.model:evaluate:244 -  > Processing fold 4\n",
      "2022-12-14 14:52:33.911 | INFO     | assignment_2.digits_classifiers.model:evaluate:244 -  > Processing fold 5\n",
      "2022-12-14 14:52:34.723 | INFO     | assignment_2.digits_classifiers.model:evaluate_best_model:298 - Evaluating classifier: [RBFKernelsSVM: Train 2800, Test 700] - [C: 5]\n",
      "2022-12-14 14:52:34.754 | INFO     | assignment_2.digits_classifiers.model:evaluate:244 -  > Processing fold 1\n",
      "2022-12-14 14:52:35.567 | INFO     | assignment_2.digits_classifiers.model:evaluate:244 -  > Processing fold 2\n",
      "2022-12-14 14:52:36.337 | INFO     | assignment_2.digits_classifiers.model:evaluate:244 -  > Processing fold 3\n",
      "2022-12-14 14:52:37.134 | INFO     | assignment_2.digits_classifiers.model:evaluate:244 -  > Processing fold 4\n",
      "2022-12-14 14:52:38.056 | INFO     | assignment_2.digits_classifiers.model:evaluate:244 -  > Processing fold 5\n",
      "2022-12-14 14:52:39.040 | INFO     | assignment_2.digits_classifiers.model:evaluate_best_model:298 - Evaluating classifier: [RBFKernelsSVM: Train 2800, Test 700] - [C: 10]\n",
      "2022-12-14 14:52:39.103 | INFO     | assignment_2.digits_classifiers.model:evaluate:244 -  > Processing fold 1\n",
      "2022-12-14 14:52:40.071 | INFO     | assignment_2.digits_classifiers.model:evaluate:244 -  > Processing fold 2\n",
      "2022-12-14 14:52:40.853 | INFO     | assignment_2.digits_classifiers.model:evaluate:244 -  > Processing fold 3\n",
      "2022-12-14 14:52:41.639 | INFO     | assignment_2.digits_classifiers.model:evaluate:244 -  > Processing fold 4\n",
      "2022-12-14 14:52:42.404 | INFO     | assignment_2.digits_classifiers.model:evaluate:244 -  > Processing fold 5\n"
     ]
    }
   ],
   "source": [
    "tuning_rbfs.evaluate_best_model()"
   ],
   "metadata": {
    "collapsed": false,
    "pycharm": {
     "name": "#%%\n"
    }
   }
  },
  {
   "cell_type": "code",
   "execution_count": 25,
   "outputs": [
    {
     "data": {
      "text/plain": "0.9685714285714285"
     },
     "execution_count": 25,
     "metadata": {},
     "output_type": "execute_result"
    }
   ],
   "source": [
    "best_rbfs = tuning_rbfs.best_model\n",
    "best_rbfs.change_dataset(\n",
    "    train=train,\n",
    "    test=test\n",
    ")\n",
    "best_rbfs.train()\n",
    "best_rbfs.predict()\n",
    "best_rbfs.accuracy"
   ],
   "metadata": {
    "collapsed": false,
    "pycharm": {
     "name": "#%%\n"
    }
   }
  },
  {
   "cell_type": "code",
   "execution_count": 26,
   "outputs": [
    {
     "data": {
      "text/plain": "<Figure size 432x288 with 2 Axes>",
      "image/png": "[encoded data removed]"
     },
     "metadata": {
      "needs_background": "light"
     },
     "output_type": "display_data"
    }
   ],
   "source": [
    "best_rbfs.confusion_matrix()"
   ],
   "metadata": {
    "collapsed": false,
    "pycharm": {
     "name": "#%%\n"
    }
   }
  }
 ],
 "metadata": {
  "kernelspec": {
   "display_name": "Python 3",
   "language": "python",
   "name": "python3"
  },
  "language_info": {
   "codemirror_mode": {
    "name": "ipython",
    "version": 2
   },
   "file_extension": ".py",
   "mimetype": "text/x-python",
   "name": "python",
   "nbconvert_exporter": "python",
   "pygments_lexer": "ipython2",
   "version": "2.7.6"
  }
 },
 "nbformat": 4,
 "nbformat_minor": 0
}