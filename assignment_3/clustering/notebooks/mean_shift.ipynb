{
 "cells": [
  {
   "cell_type": "markdown",
   "metadata": {
    "collapsed": true,
    "pycharm": {
     "name": "#%% md\n"
    }
   },
   "source": [
    "# Mean Shift"
   ],
   "outputs": [],
   "execution_count": 1
  },
  {
   "cell_type": "markdown",
   "source": [
    "## Reading dataset"
   ],
   "metadata": {
    "collapsed": false,
    "pycharm": {
     "name": "#%% md\n"
    }
   }
  },
  {
   "cell_type": "code",
   "execution_count": 1,
   "outputs": [],
   "source": [
    "from assignment_3.clustering.io import read_small_dataset\n",
    "from assignment_3.clustering.model import MeanShiftEvaluation, DataClusterSplit"
   ],
   "metadata": {
    "collapsed": false,
    "pycharm": {
     "name": "#%%\n"
    }
   }
  },
  {
   "cell_type": "code",
   "execution_count": 2,
   "outputs": [
    {
     "name": "stderr",
     "output_type": "stream",
     "text": [
      "2023-02-26 18:13:05.438 | INFO     | assignment_3.clustering.io:read_small_dataset:50 - Reading datasets\n"
     ]
    },
    {
     "data": {
      "text/plain": "[Features: 784; Length: 1050]"
     },
     "execution_count": 2,
     "metadata": {},
     "output_type": "execute_result"
    }
   ],
   "source": [
    "data = read_small_dataset().reduce_to_percentage(0.1)\n",
    "data"
   ],
   "metadata": {
    "collapsed": false,
    "pycharm": {
     "name": "#%%\n"
    }
   }
  },
  {
   "cell_type": "code",
   "execution_count": 3,
   "outputs": [],
   "source": [
    "X, y = data"
   ],
   "metadata": {
    "collapsed": false,
    "pycharm": {
     "name": "#%%\n"
    }
   }
  },
  {
   "cell_type": "markdown",
   "source": [
    "## Construct iteration"
   ],
   "metadata": {
    "collapsed": false,
    "pycharm": {
     "name": "#%% md\n"
    }
   }
  },
  {
   "cell_type": "code",
   "execution_count": 4,
   "outputs": [
    {
     "data": {
      "text/plain": "MeanShiftEvaluation [n_components: [2, 5, 10, 20, 30], kernel-size: [0.1, 0.2, 0.3]]"
     },
     "execution_count": 4,
     "metadata": {},
     "output_type": "execute_result"
    }
   ],
   "source": [
    "mean_shift_evaluation = MeanShiftEvaluation(\n",
    "    data=data,\n",
    "    n_components=[2, 5, 10, 20, 30],\n",
    "    hyperparameter=[0.1, 0.2, 0.3]\n",
    "    #n_components=[2, 5, 10, 20, 30, 50, 100, 130, 170, 200],\n",
    "    #hyperparameter=[0.01, 0.05, 0.1, 0.2, 0.3, 0.4, 0.5, 0.75]\n",
    ")\n",
    "mean_shift_evaluation"
   ],
   "metadata": {
    "collapsed": false,
    "pycharm": {
     "name": "#%%\n"
    }
   }
  },
  {
   "cell_type": "code",
   "execution_count": 5,
   "outputs": [
    {
     "name": "stdout",
     "output_type": "stream",
     "text": [
      "Processing kernel size: 0.1\n",
      "  > Processed number of component: 2 [8.97373 s] \n",
      "  > Processed number of component: 5 [2.81039 s] \n",
      "  > Processed number of component: 10 [1.29096 s] \n",
      "  > Processed number of component: 20 [0.96488 s] \n",
      "  > Processed number of component: 30 [1.04770 s] \n",
      "Processing kernel size: 0.2\n",
      "  > Processed number of component: 2 [10.16082 s] \n",
      "  > Processed number of component: 5 [4.85525 s] \n",
      "  > Processed number of component: 10 [1.59880 s] \n",
      "  > Processed number of component: 20 [0.93523 s] \n",
      "  > Processed number of component: 30 [0.89715 s] \n",
      "Processing kernel size: 0.3\n",
      "  > Processed number of component: 2 [6.21888 s] \n",
      "  > Processed number of component: 5 [8.47025 s] \n",
      "  > Processed number of component: 10 [1.85444 s] \n",
      "  > Processed number of component: 20 [1.12781 s] \n",
      "  > Processed number of component: 30 [1.21153 s] \n",
      "Wall time: 53.3 s\n"
     ]
    }
   ],
   "source": [
    "%%time\n",
    "mean_shift_evaluation.evaluate()"
   ],
   "metadata": {
    "collapsed": false,
    "pycharm": {
     "name": "#%%\n"
    }
   }
  },
  {
   "cell_type": "code",
   "execution_count": 6,
   "outputs": [
    {
     "data": {
      "text/plain": "{0.1: {2: {'score': 0.8602914340187934, 'n_clusters': 14, 'time': 8.9737334},\n  5: {'score': 0.9029551954242135,\n   'n_clusters': 628,\n   'time': 2.810386000000001},\n  10: {'score': 0.9004512233873531,\n   'n_clusters': 1000,\n   'time': 1.2909641999999977},\n  20: {'score': 0.9001770393572109,\n   'n_clusters': 1044,\n   'time': 0.9648763000000002},\n  30: {'score': 0.9001697762040946,\n   'n_clusters': 1047,\n   'time': 1.0477045999999994}},\n 0.2: {2: {'score': 0.5316464660220618, 'n_clusters': 2, 'time': 10.1608171},\n  5: {'score': 0.8901157565027917,\n   'n_clusters': 57,\n   'time': 4.855246000000001},\n  10: {'score': 0.9032439057605883,\n   'n_clusters': 814,\n   'time': 1.5987973999999952},\n  20: {'score': 0.9006091969676335,\n   'n_clusters': 985,\n   'time': 0.9352283999999997},\n  30: {'score': 0.9002496708883744,\n   'n_clusters': 1027,\n   'time': 0.8971475999999967}},\n 0.3: {2: {'score': 0.09983567116074266,\n   'n_clusters': 1,\n   'time': 6.218877500000005},\n  5: {'score': 0.39933905306641243,\n   'n_clusters': 4,\n   'time': 8.470254399999995},\n  10: {'score': 0.907572745017931,\n   'n_clusters': 267,\n   'time': 1.854436899999996},\n  20: {'score': 0.9024885378364883,\n   'n_clusters': 936,\n   'time': 1.1278133999999937},\n  30: {'score': 0.9010449861546144,\n   'n_clusters': 971,\n   'time': 1.2115283999999988}}}"
     },
     "execution_count": 6,
     "metadata": {},
     "output_type": "execute_result"
    }
   ],
   "source": [
    "mean_shift_evaluation.results"
   ],
   "metadata": {
    "collapsed": false,
    "pycharm": {
     "name": "#%%\n"
    }
   }
  },
  {
   "cell_type": "code",
   "execution_count": 7,
   "outputs": [
    {
     "data": {
      "text/plain": "MeanShift[N-rows: 1050; N-components: 10; , Score: 0.907572745017931, N-clusters: 267] [KernelSize: 0.3] "
     },
     "execution_count": 7,
     "metadata": {},
     "output_type": "execute_result"
    }
   ],
   "source": [
    "mean_shift_evaluation.best_model"
   ],
   "metadata": {
    "collapsed": false,
    "pycharm": {
     "name": "#%%\n"
    }
   }
  },
  {
   "cell_type": "code",
   "execution_count": 8,
   "outputs": [
    {
     "data": {
      "text/plain": "<Figure size 432x288 with 1 Axes>",
      "image/png": "[encoded data removed]"
     },
     "metadata": {
      "needs_background": "light"
     },
     "output_type": "display_data"
    }
   ],
   "source": [
    "mean_shift_evaluation.plot_score()"
   ],
   "metadata": {
    "collapsed": false,
    "pycharm": {
     "name": "#%%\n"
    }
   }
  },
  {
   "cell_type": "code",
   "execution_count": 9,
   "outputs": [
    {
     "data": {
      "text/plain": "<Figure size 432x288 with 1 Axes>",
      "image/png": "[encoded data removed]"
     },
     "metadata": {
      "needs_background": "light"
     },
     "output_type": "display_data"
    }
   ],
   "source": [
    "mean_shift_evaluation.plot_n_clusters()"
   ],
   "metadata": {
    "collapsed": false,
    "pycharm": {
     "name": "#%%\n"
    }
   }
  },
  {
   "cell_type": "code",
   "execution_count": 10,
   "outputs": [
    {
     "data": {
      "text/plain": "<Figure size 432x288 with 1 Axes>",
      "image/png": "[encoded data removed]"
     },
     "metadata": {
      "needs_background": "light"
     },
     "output_type": "display_data"
    }
   ],
   "source": [
    "mean_shift_evaluation.plot_time()"
   ],
   "metadata": {
    "collapsed": false,
    "pycharm": {
     "name": "#%%\n"
    }
   }
  },
  {
   "cell_type": "markdown",
   "source": [],
   "metadata": {
    "collapsed": false,
    "pycharm": {
     "name": "#%% md\n"
    }
   }
  },
  {
   "cell_type": "markdown",
   "source": [
    "## Best model"
   ],
   "metadata": {
    "collapsed": false
   }
  },
  {
   "cell_type": "code",
   "execution_count": 11,
   "outputs": [],
   "source": [
    "best = mean_shift_evaluation.best_model"
   ],
   "metadata": {
    "collapsed": false,
    "pycharm": {
     "name": "#%%\n"
    }
   }
  },
  {
   "cell_type": "code",
   "execution_count": 12,
   "outputs": [
    {
     "data": {
      "text/plain": "MeanShift[N-rows: 1050; N-components: 10; , Score: 0.907572745017931, N-clusters: 267] [KernelSize: 0.3] "
     },
     "execution_count": 12,
     "metadata": {},
     "output_type": "execute_result"
    }
   ],
   "source": [
    "best"
   ],
   "metadata": {
    "collapsed": false,
    "pycharm": {
     "name": "#%%\n"
    }
   }
  },
  {
   "cell_type": "code",
   "execution_count": 13,
   "outputs": [],
   "source": [
    "clusters = DataClusterSplit(data=data, index=best.out)"
   ],
   "metadata": {
    "collapsed": false,
    "pycharm": {
     "name": "#%%\n"
    }
   }
  },
  {
   "cell_type": "code",
   "execution_count": 14,
   "outputs": [
    {
     "data": {
      "text/plain": "Cluster Data Split [Data: 1050, Clusters: 267,Mean-per-Cluster: 3.932584269662921, Score: 0.907572745017931] "
     },
     "execution_count": 14,
     "metadata": {},
     "output_type": "execute_result"
    }
   ],
   "source": [
    "clusters"
   ],
   "metadata": {
    "collapsed": false,
    "pycharm": {
     "name": "#%%\n"
    }
   }
  },
  {
   "cell_type": "code",
   "execution_count": 15,
   "outputs": [
    {
     "data": {
      "text/plain": "<Figure size 432x288 with 1 Axes>",
      "image/png": "[encoded data removed]"
     },
     "metadata": {
      "needs_background": "light"
     },
     "output_type": "display_data"
    }
   ],
   "source": [
    "clusters.frequencies_histo()"
   ],
   "metadata": {
    "collapsed": false,
    "pycharm": {
     "name": "#%%\n"
    }
   }
  },
  {
   "cell_type": "code",
   "execution_count": 16,
   "outputs": [],
   "source": [
    "clusters_best = clusters.get_sub_clusters(a=15)"
   ],
   "metadata": {
    "collapsed": false,
    "pycharm": {
     "name": "#%%\n"
    }
   }
  },
  {
   "cell_type": "code",
   "execution_count": 17,
   "outputs": [
    {
     "data": {
      "text/plain": "Cluster Data Split [Data: 385, Clusters: 15,Mean-per-Cluster: 25.666666666666668, Score: 0.8840503246753246] "
     },
     "execution_count": 17,
     "metadata": {},
     "output_type": "execute_result"
    }
   ],
   "source": [
    "clusters_best"
   ],
   "metadata": {
    "collapsed": false,
    "pycharm": {
     "name": "#%%\n"
    }
   }
  },
  {
   "cell_type": "code",
   "execution_count": 25,
   "outputs": [
    {
     "data": {
      "text/plain": "0.8840503246753246"
     },
     "execution_count": 25,
     "metadata": {},
     "output_type": "execute_result"
    }
   ],
   "source": [
    "clusters_best.rand_index_score"
   ],
   "metadata": {
    "collapsed": false,
    "pycharm": {
     "name": "#%%\n"
    }
   }
  },
  {
   "cell_type": "code",
   "execution_count": 18,
   "outputs": [
    {
     "data": {
      "text/plain": "<Figure size 432x288 with 1 Axes>",
      "image/png": "[encoded data removed]"
     },
     "metadata": {
      "needs_background": "light"
     },
     "output_type": "display_data"
    }
   ],
   "source": [
    "clusters_best.frequencies_histo()"
   ],
   "metadata": {
    "collapsed": false,
    "pycharm": {
     "name": "#%%\n"
    }
   }
  },
  {
   "cell_type": "code",
   "execution_count": 19,
   "outputs": [
    {
     "name": "stdout",
     "output_type": "stream",
     "text": [
      "[Mode 1: {1: 54, 7: 2, 9: 2, 6: 1}] \n"
     ]
    },
    {
     "data": {
      "text/plain": "<Figure size 432x288 with 1 Axes>",
      "image/png": "[encoded data removed]"
     },
     "metadata": {
      "needs_background": "light"
     },
     "output_type": "display_data"
    },
    {
     "name": "stdout",
     "output_type": "stream",
     "text": [
      "[Mode 1: {1: 47, 2: 1}] \n"
     ]
    },
    {
     "data": {
      "text/plain": "<Figure size 432x288 with 1 Axes>",
      "image/png": "[encoded data removed]"
     },
     "metadata": {
      "needs_background": "light"
     },
     "output_type": "display_data"
    },
    {
     "name": "stdout",
     "output_type": "stream",
     "text": [
      "[Mode 6: {6: 32}] \n"
     ]
    },
    {
     "data": {
      "text/plain": "<Figure size 432x288 with 1 Axes>",
      "image/png": "[encoded data removed]"
     },
     "metadata": {
      "needs_background": "light"
     },
     "output_type": "display_data"
    },
    {
     "name": "stdout",
     "output_type": "stream",
     "text": [
      "[Mode 9: {9: 16, 4: 10, 8: 1}] \n"
     ]
    },
    {
     "data": {
      "text/plain": "<Figure size 432x288 with 1 Axes>",
      "image/png": "[encoded data removed]"
     },
     "metadata": {
      "needs_background": "light"
     },
     "output_type": "display_data"
    },
    {
     "name": "stdout",
     "output_type": "stream",
     "text": [
      "[Mode 9: {9: 17, 4: 4, 7: 1}] \n"
     ]
    },
    {
     "data": {
      "text/plain": "<Figure size 432x288 with 1 Axes>",
      "image/png": "[encoded data removed]"
     },
     "metadata": {
      "needs_background": "light"
     },
     "output_type": "display_data"
    },
    {
     "name": "stdout",
     "output_type": "stream",
     "text": [
      "[Mode 7: {7: 23}] \n"
     ]
    },
    {
     "data": {
      "text/plain": "<Figure size 432x288 with 1 Axes>",
      "image/png": "[encoded data removed]"
     },
     "metadata": {
      "needs_background": "light"
     },
     "output_type": "display_data"
    },
    {
     "name": "stdout",
     "output_type": "stream",
     "text": [
      "[Mode 8: {8: 18, 3: 3}] \n"
     ]
    },
    {
     "data": {
      "text/plain": "<Figure size 432x288 with 1 Axes>",
      "image/png": "[encoded data removed]"
     },
     "metadata": {
      "needs_background": "light"
     },
     "output_type": "display_data"
    },
    {
     "name": "stdout",
     "output_type": "stream",
     "text": [
      "[Mode 4: {4: 15, 9: 6, 7: 1, 5: 1}] \n"
     ]
    },
    {
     "data": {
      "text/plain": "<Figure size 432x288 with 1 Axes>",
      "image/png": "[encoded data removed]"
     },
     "metadata": {
      "needs_background": "light"
     },
     "output_type": "display_data"
    },
    {
     "name": "stdout",
     "output_type": "stream",
     "text": [
      "[Mode 7: {7: 8, 9: 8, 4: 2, 8: 1}] \n"
     ]
    },
    {
     "data": {
      "text/plain": "<Figure size 432x288 with 1 Axes>",
      "image/png": "[encoded data removed]"
     },
     "metadata": {
      "needs_background": "light"
     },
     "output_type": "display_data"
    },
    {
     "name": "stdout",
     "output_type": "stream",
     "text": [
      "[Mode 7: {7: 24, 9: 2}] \n"
     ]
    },
    {
     "data": {
      "text/plain": "<Figure size 432x288 with 1 Axes>",
      "image/png": "[encoded data removed]"
     },
     "metadata": {
      "needs_background": "light"
     },
     "output_type": "display_data"
    },
    {
     "name": "stdout",
     "output_type": "stream",
     "text": [
      "[Mode 4: {4: 17, 9: 1}] \n"
     ]
    },
    {
     "data": {
      "text/plain": "<Figure size 432x288 with 1 Axes>",
      "image/png": "[encoded data removed]"
     },
     "metadata": {
      "needs_background": "light"
     },
     "output_type": "display_data"
    },
    {
     "name": "stdout",
     "output_type": "stream",
     "text": [
      "[Mode 5: {5: 6, 6: 4, 4: 3, 9: 1, 0: 1, 8: 1}] \n"
     ]
    },
    {
     "data": {
      "text/plain": "<Figure size 432x288 with 1 Axes>",
      "image/png": "[encoded data removed]"
     },
     "metadata": {
      "needs_background": "light"
     },
     "output_type": "display_data"
    },
    {
     "name": "stdout",
     "output_type": "stream",
     "text": [
      "[Mode 3: {3: 16}] \n"
     ]
    },
    {
     "data": {
      "text/plain": "<Figure size 432x288 with 1 Axes>",
      "image/png": "[encoded data removed]"
     },
     "metadata": {
      "needs_background": "light"
     },
     "output_type": "display_data"
    },
    {
     "name": "stdout",
     "output_type": "stream",
     "text": [
      "[Mode 3: {3: 14, 8: 3, 9: 1}] \n"
     ]
    },
    {
     "data": {
      "text/plain": "<Figure size 432x288 with 1 Axes>",
      "image/png": "[encoded data removed]"
     },
     "metadata": {
      "needs_background": "light"
     },
     "output_type": "display_data"
    },
    {
     "name": "stdout",
     "output_type": "stream",
     "text": [
      "[Mode 9: {9: 10, 7: 4, 1: 1, 4: 1, 3: 1}] \n"
     ]
    },
    {
     "data": {
      "text/plain": "<Figure size 432x288 with 1 Axes>",
      "image/png": "[encoded data removed]"
     },
     "metadata": {
      "needs_background": "light"
     },
     "output_type": "display_data"
    }
   ],
   "source": [
    "clusters_best.plot_mean_digit()"
   ],
   "metadata": {
    "collapsed": false,
    "pycharm": {
     "name": "#%%\n"
    }
   }
  },
  {
   "cell_type": "code",
   "execution_count": 20,
   "outputs": [],
   "source": [
    "clusters_bad = clusters.get_sub_clusters(b=1)"
   ],
   "metadata": {
    "collapsed": false,
    "pycharm": {
     "name": "#%%\n"
    }
   }
  },
  {
   "cell_type": "code",
   "execution_count": 21,
   "outputs": [
    {
     "data": {
      "text/plain": "Cluster Data Split [Data: 128, Clusters: 128,Mean-per-Cluster: 1, Score: 0.8709399606299213] "
     },
     "execution_count": 21,
     "metadata": {},
     "output_type": "execute_result"
    }
   ],
   "source": [
    "clusters_bad"
   ],
   "metadata": {
    "collapsed": false,
    "pycharm": {
     "name": "#%%\n"
    }
   }
  },
  {
   "cell_type": "code",
   "execution_count": 22,
   "outputs": [
    {
     "name": "stdout",
     "output_type": "stream",
     "text": [
      "[Mode 0: {0: 1}] \n"
     ]
    },
    {
     "data": {
      "text/plain": "<Figure size 432x288 with 1 Axes>",
      "image/png": "[encoded data removed]"
     },
     "metadata": {
      "needs_background": "light"
     },
     "output_type": "display_data"
    },
    {
     "name": "stdout",
     "output_type": "stream",
     "text": [
      "[Mode 0: {0: 1}] \n"
     ]
    },
    {
     "data": {
      "text/plain": "<Figure size 432x288 with 1 Axes>",
      "image/png": "[encoded data removed]"
     },
     "metadata": {
      "needs_background": "light"
     },
     "output_type": "display_data"
    },
    {
     "name": "stdout",
     "output_type": "stream",
     "text": [
      "[Mode 0: {0: 1}] \n"
     ]
    },
    {
     "data": {
      "text/plain": "<Figure size 432x288 with 1 Axes>",
      "image/png": "[encoded data removed]"
     },
     "metadata": {
      "needs_background": "light"
     },
     "output_type": "display_data"
    },
    {
     "name": "stdout",
     "output_type": "stream",
     "text": [
      "[Mode 0: {0: 1}] \n"
     ]
    },
    {
     "data": {
      "text/plain": "<Figure size 432x288 with 1 Axes>",
      "image/png": "[encoded data removed]"
     },
     "metadata": {
      "needs_background": "light"
     },
     "output_type": "display_data"
    },
    {
     "name": "stdout",
     "output_type": "stream",
     "text": [
      "[Mode 8: {8: 1}] \n"
     ]
    },
    {
     "data": {
      "text/plain": "<Figure size 432x288 with 1 Axes>",
      "image/png": "[encoded data removed]"
     },
     "metadata": {
      "needs_background": "light"
     },
     "output_type": "display_data"
    },
    {
     "name": "stdout",
     "output_type": "stream",
     "text": [
      "[Mode 0: {0: 1}] \n"
     ]
    },
    {
     "data": {
      "text/plain": "<Figure size 432x288 with 1 Axes>",
      "image/png": "[encoded data removed]"
     },
     "metadata": {
      "needs_background": "light"
     },
     "output_type": "display_data"
    },
    {
     "name": "stdout",
     "output_type": "stream",
     "text": [
      "[Mode 0: {0: 1}] \n"
     ]
    },
    {
     "data": {
      "text/plain": "<Figure size 432x288 with 1 Axes>",
      "image/png": "[encoded data removed]"
     },
     "metadata": {
      "needs_background": "light"
     },
     "output_type": "display_data"
    },
    {
     "name": "stdout",
     "output_type": "stream",
     "text": [
      "[Mode 6: {6: 1}] \n"
     ]
    },
    {
     "data": {
      "text/plain": "<Figure size 432x288 with 1 Axes>",
      "image/png": "[encoded data removed]"
     },
     "metadata": {
      "needs_background": "light"
     },
     "output_type": "display_data"
    },
    {
     "name": "stdout",
     "output_type": "stream",
     "text": [
      "[Mode 0: {0: 1}] \n"
     ]
    },
    {
     "data": {
      "text/plain": "<Figure size 432x288 with 1 Axes>",
      "image/png": "[encoded data removed]"
     },
     "metadata": {
      "needs_background": "light"
     },
     "output_type": "display_data"
    },
    {
     "name": "stdout",
     "output_type": "stream",
     "text": [
      "[Mode 5: {5: 1}] \n"
     ]
    },
    {
     "data": {
      "text/plain": "<Figure size 432x288 with 1 Axes>",
      "image/png": "[encoded data removed]"
     },
     "metadata": {
      "needs_background": "light"
     },
     "output_type": "display_data"
    },
    {
     "name": "stdout",
     "output_type": "stream",
     "text": [
      "[Mode 5: {5: 1}] \n"
     ]
    },
    {
     "data": {
      "text/plain": "<Figure size 432x288 with 1 Axes>",
      "image/png": "[encoded data removed]"
     },
     "metadata": {
      "needs_background": "light"
     },
     "output_type": "display_data"
    },
    {
     "name": "stdout",
     "output_type": "stream",
     "text": [
      "[Mode 2: {2: 1}] \n"
     ]
    },
    {
     "data": {
      "text/plain": "<Figure size 432x288 with 1 Axes>",
      "image/png": "[encoded data removed]"
     },
     "metadata": {
      "needs_background": "light"
     },
     "output_type": "display_data"
    },
    {
     "name": "stdout",
     "output_type": "stream",
     "text": [
      "[Mode 6: {6: 1}] \n"
     ]
    },
    {
     "data": {
      "text/plain": "<Figure size 432x288 with 1 Axes>",
      "image/png": "[encoded data removed]"
     },
     "metadata": {
      "needs_background": "light"
     },
     "output_type": "display_data"
    },
    {
     "name": "stdout",
     "output_type": "stream",
     "text": [
      "[Mode 9: {9: 1}] \n"
     ]
    },
    {
     "data": {
      "text/plain": "<Figure size 432x288 with 1 Axes>",
      "image/png": "[encoded data removed]"
     },
     "metadata": {
      "needs_background": "light"
     },
     "output_type": "display_data"
    },
    {
     "name": "stdout",
     "output_type": "stream",
     "text": [
      "[Mode 0: {0: 1}] \n"
     ]
    },
    {
     "data": {
      "text/plain": "<Figure size 432x288 with 1 Axes>",
      "image/png": "[encoded data removed]"
     },
     "metadata": {
      "needs_background": "light"
     },
     "output_type": "display_data"
    },
    {
     "name": "stdout",
     "output_type": "stream",
     "text": [
      "[Mode 3: {3: 1}] \n"
     ]
    },
    {
     "data": {
      "text/plain": "<Figure size 432x288 with 1 Axes>",
      "image/png": "[encoded data removed]"
     },
     "metadata": {
      "needs_background": "light"
     },
     "output_type": "display_data"
    },
    {
     "name": "stdout",
     "output_type": "stream",
     "text": [
      "[Mode 8: {8: 1}] \n"
     ]
    },
    {
     "data": {
      "text/plain": "<Figure size 432x288 with 1 Axes>",
      "image/png": "[encoded data removed]"
     },
     "metadata": {
      "needs_background": "light"
     },
     "output_type": "display_data"
    },
    {
     "name": "stdout",
     "output_type": "stream",
     "text": [
      "[Mode 2: {2: 1}] \n"
     ]
    },
    {
     "data": {
      "text/plain": "<Figure size 432x288 with 1 Axes>",
      "image/png": "[encoded data removed]"
     },
     "metadata": {
      "needs_background": "light"
     },
     "output_type": "display_data"
    },
    {
     "name": "stdout",
     "output_type": "stream",
     "text": [
      "[Mode 7: {7: 1}] \n"
     ]
    },
    {
     "data": {
      "text/plain": "<Figure size 432x288 with 1 Axes>",
      "image/png": "[encoded data removed]"
     },
     "metadata": {
      "needs_background": "light"
     },
     "output_type": "display_data"
    },
    {
     "name": "stdout",
     "output_type": "stream",
     "text": [
      "[Mode 6: {6: 1}] \n"
     ]
    },
    {
     "data": {
      "text/plain": "<Figure size 432x288 with 1 Axes>",
      "image/png": "[encoded data removed]"
     },
     "metadata": {
      "needs_background": "light"
     },
     "output_type": "display_data"
    },
    {
     "name": "stdout",
     "output_type": "stream",
     "text": [
      "[Mode 0: {0: 1}] \n"
     ]
    },
    {
     "data": {
      "text/plain": "<Figure size 432x288 with 1 Axes>",
      "image/png": "[encoded data removed]"
     },
     "metadata": {
      "needs_background": "light"
     },
     "output_type": "display_data"
    },
    {
     "name": "stdout",
     "output_type": "stream",
     "text": [
      "[Mode 3: {3: 1}] \n"
     ]
    },
    {
     "data": {
      "text/plain": "<Figure size 432x288 with 1 Axes>",
      "image/png": "[encoded data removed]"
     },
     "metadata": {
      "needs_background": "light"
     },
     "output_type": "display_data"
    },
    {
     "name": "stdout",
     "output_type": "stream",
     "text": [
      "[Mode 5: {5: 1}] \n"
     ]
    },
    {
     "data": {
      "text/plain": "<Figure size 432x288 with 1 Axes>",
      "image/png": "[encoded data removed]"
     },
     "metadata": {
      "needs_background": "light"
     },
     "output_type": "display_data"
    },
    {
     "name": "stdout",
     "output_type": "stream",
     "text": [
      "[Mode 3: {3: 1}] \n"
     ]
    },
    {
     "data": {
      "text/plain": "<Figure size 432x288 with 1 Axes>",
      "image/png": "[encoded data removed]"
     },
     "metadata": {
      "needs_background": "light"
     },
     "output_type": "display_data"
    },
    {
     "name": "stdout",
     "output_type": "stream",
     "text": [
      "[Mode 0: {0: 1}] \n"
     ]
    },
    {
     "data": {
      "text/plain": "<Figure size 432x288 with 1 Axes>",
      "image/png": "[encoded data removed]"
     },
     "metadata": {
      "needs_background": "light"
     },
     "output_type": "display_data"
    },
    {
     "name": "stdout",
     "output_type": "stream",
     "text": [
      "[Mode 5: {5: 1}] \n"
     ]
    },
    {
     "data": {
      "text/plain": "<Figure size 432x288 with 1 Axes>",
      "image/png": "[encoded data removed]"
     },
     "metadata": {
      "needs_background": "light"
     },
     "output_type": "display_data"
    },
    {
     "name": "stdout",
     "output_type": "stream",
     "text": [
      "[Mode 0: {0: 1}] \n"
     ]
    },
    {
     "data": {
      "text/plain": "<Figure size 432x288 with 1 Axes>",
      "image/png": "[encoded data removed]"
     },
     "metadata": {
      "needs_background": "light"
     },
     "output_type": "display_data"
    },
    {
     "name": "stdout",
     "output_type": "stream",
     "text": [
      "[Mode 6: {6: 1}] \n"
     ]
    },
    {
     "data": {
      "text/plain": "<Figure size 432x288 with 1 Axes>",
      "image/png": "[encoded data removed]"
     },
     "metadata": {
      "needs_background": "light"
     },
     "output_type": "display_data"
    },
    {
     "name": "stdout",
     "output_type": "stream",
     "text": [
      "[Mode 3: {3: 1}] \n"
     ]
    },
    {
     "data": {
      "text/plain": "<Figure size 432x288 with 1 Axes>",
      "image/png": "[encoded data removed]"
     },
     "metadata": {
      "needs_background": "light"
     },
     "output_type": "display_data"
    },
    {
     "name": "stdout",
     "output_type": "stream",
     "text": [
      "[Mode 6: {6: 1}] \n"
     ]
    },
    {
     "data": {
      "text/plain": "<Figure size 432x288 with 1 Axes>",
      "image/png": "[encoded data removed]"
     },
     "metadata": {
      "needs_background": "light"
     },
     "output_type": "display_data"
    },
    {
     "name": "stdout",
     "output_type": "stream",
     "text": [
      "[Mode 8: {8: 1}] \n"
     ]
    },
    {
     "data": {
      "text/plain": "<Figure size 432x288 with 1 Axes>",
      "image/png": "[encoded data removed]"
     },
     "metadata": {
      "needs_background": "light"
     },
     "output_type": "display_data"
    },
    {
     "name": "stdout",
     "output_type": "stream",
     "text": [
      "[Mode 4: {4: 1}] \n"
     ]
    },
    {
     "data": {
      "text/plain": "<Figure size 432x288 with 1 Axes>",
      "image/png": "[encoded data removed]"
     },
     "metadata": {
      "needs_background": "light"
     },
     "output_type": "display_data"
    },
    {
     "name": "stdout",
     "output_type": "stream",
     "text": [
      "[Mode 6: {6: 1}] \n"
     ]
    },
    {
     "data": {
      "text/plain": "<Figure size 432x288 with 1 Axes>",
      "image/png": "[encoded data removed]"
     },
     "metadata": {
      "needs_background": "light"
     },
     "output_type": "display_data"
    },
    {
     "name": "stdout",
     "output_type": "stream",
     "text": [
      "[Mode 3: {3: 1}] \n"
     ]
    },
    {
     "data": {
      "text/plain": "<Figure size 432x288 with 1 Axes>",
      "image/png": "[encoded data removed]"
     },
     "metadata": {
      "needs_background": "light"
     },
     "output_type": "display_data"
    },
    {
     "name": "stdout",
     "output_type": "stream",
     "text": [
      "[Mode 8: {8: 1}] \n"
     ]
    },
    {
     "data": {
      "text/plain": "<Figure size 432x288 with 1 Axes>",
      "image/png": "[encoded data removed]"
     },
     "metadata": {
      "needs_background": "light"
     },
     "output_type": "display_data"
    },
    {
     "name": "stdout",
     "output_type": "stream",
     "text": [
      "[Mode 6: {6: 1}] \n"
     ]
    },
    {
     "data": {
      "text/plain": "<Figure size 432x288 with 1 Axes>",
      "image/png": "[encoded data removed]"
     },
     "metadata": {
      "needs_background": "light"
     },
     "output_type": "display_data"
    },
    {
     "name": "stdout",
     "output_type": "stream",
     "text": [
      "[Mode 8: {8: 1}] \n"
     ]
    },
    {
     "data": {
      "text/plain": "<Figure size 432x288 with 1 Axes>",
      "image/png": "[encoded data removed]"
     },
     "metadata": {
      "needs_background": "light"
     },
     "output_type": "display_data"
    },
    {
     "name": "stdout",
     "output_type": "stream",
     "text": [
      "[Mode 0: {0: 1}] \n"
     ]
    },
    {
     "data": {
      "text/plain": "<Figure size 432x288 with 1 Axes>",
      "image/png": "[encoded data removed]"
     },
     "metadata": {
      "needs_background": "light"
     },
     "output_type": "display_data"
    },
    {
     "name": "stdout",
     "output_type": "stream",
     "text": [
      "[Mode 8: {8: 1}] \n"
     ]
    },
    {
     "data": {
      "text/plain": "<Figure size 432x288 with 1 Axes>",
      "image/png": "[encoded data removed]"
     },
     "metadata": {
      "needs_background": "light"
     },
     "output_type": "display_data"
    },
    {
     "name": "stdout",
     "output_type": "stream",
     "text": [
      "[Mode 3: {3: 1}] \n"
     ]
    },
    {
     "data": {
      "text/plain": "<Figure size 432x288 with 1 Axes>",
      "image/png": "[encoded data removed]"
     },
     "metadata": {
      "needs_background": "light"
     },
     "output_type": "display_data"
    },
    {
     "name": "stdout",
     "output_type": "stream",
     "text": [
      "[Mode 5: {5: 1}] \n"
     ]
    },
    {
     "data": {
      "text/plain": "<Figure size 432x288 with 1 Axes>",
      "image/png": "[encoded data removed]"
     },
     "metadata": {
      "needs_background": "light"
     },
     "output_type": "display_data"
    },
    {
     "name": "stdout",
     "output_type": "stream",
     "text": [
      "[Mode 0: {0: 1}] \n"
     ]
    },
    {
     "data": {
      "text/plain": "<Figure size 432x288 with 1 Axes>",
      "image/png": "[encoded data removed]"
     },
     "metadata": {
      "needs_background": "light"
     },
     "output_type": "display_data"
    },
    {
     "name": "stdout",
     "output_type": "stream",
     "text": [
      "[Mode 6: {6: 1}] \n"
     ]
    },
    {
     "data": {
      "text/plain": "<Figure size 432x288 with 1 Axes>",
      "image/png": "[encoded data removed]"
     },
     "metadata": {
      "needs_background": "light"
     },
     "output_type": "display_data"
    },
    {
     "name": "stdout",
     "output_type": "stream",
     "text": [
      "[Mode 3: {3: 1}] \n"
     ]
    },
    {
     "data": {
      "text/plain": "<Figure size 432x288 with 1 Axes>",
      "image/png": "[encoded data removed]"
     },
     "metadata": {
      "needs_background": "light"
     },
     "output_type": "display_data"
    },
    {
     "name": "stdout",
     "output_type": "stream",
     "text": [
      "[Mode 8: {8: 1}] \n"
     ]
    },
    {
     "data": {
      "text/plain": "<Figure size 432x288 with 1 Axes>",
      "image/png": "[encoded data removed]"
     },
     "metadata": {
      "needs_background": "light"
     },
     "output_type": "display_data"
    },
    {
     "name": "stdout",
     "output_type": "stream",
     "text": [
      "[Mode 6: {6: 1}] \n"
     ]
    },
    {
     "data": {
      "text/plain": "<Figure size 432x288 with 1 Axes>",
      "image/png": "[encoded data removed]"
     },
     "metadata": {
      "needs_background": "light"
     },
     "output_type": "display_data"
    },
    {
     "name": "stdout",
     "output_type": "stream",
     "text": [
      "[Mode 0: {0: 1}] \n"
     ]
    },
    {
     "data": {
      "text/plain": "<Figure size 432x288 with 1 Axes>",
      "image/png": "[encoded data removed]"
     },
     "metadata": {
      "needs_background": "light"
     },
     "output_type": "display_data"
    },
    {
     "name": "stdout",
     "output_type": "stream",
     "text": [
      "[Mode 3: {3: 1}] \n"
     ]
    },
    {
     "data": {
      "text/plain": "<Figure size 432x288 with 1 Axes>",
      "image/png": "[encoded data removed]"
     },
     "metadata": {
      "needs_background": "light"
     },
     "output_type": "display_data"
    },
    {
     "name": "stdout",
     "output_type": "stream",
     "text": [
      "[Mode 0: {0: 1}] \n"
     ]
    },
    {
     "data": {
      "text/plain": "<Figure size 432x288 with 1 Axes>",
      "image/png": "[encoded data removed]"
     },
     "metadata": {
      "needs_background": "light"
     },
     "output_type": "display_data"
    },
    {
     "name": "stdout",
     "output_type": "stream",
     "text": [
      "[Mode 2: {2: 1}] \n"
     ]
    },
    {
     "data": {
      "text/plain": "<Figure size 432x288 with 1 Axes>",
      "image/png": "[encoded data removed]"
     },
     "metadata": {
      "needs_background": "light"
     },
     "output_type": "display_data"
    },
    {
     "name": "stdout",
     "output_type": "stream",
     "text": [
      "[Mode 2: {2: 1}] \n"
     ]
    },
    {
     "data": {
      "text/plain": "<Figure size 432x288 with 1 Axes>",
      "image/png": "[encoded data removed]"
     },
     "metadata": {
      "needs_background": "light"
     },
     "output_type": "display_data"
    },
    {
     "name": "stdout",
     "output_type": "stream",
     "text": [
      "[Mode 2: {2: 1}] \n"
     ]
    },
    {
     "data": {
      "text/plain": "<Figure size 432x288 with 1 Axes>",
      "image/png": "[encoded data removed]"
     },
     "metadata": {
      "needs_background": "light"
     },
     "output_type": "display_data"
    },
    {
     "name": "stdout",
     "output_type": "stream",
     "text": [
      "[Mode 5: {5: 1}] \n"
     ]
    },
    {
     "data": {
      "text/plain": "<Figure size 432x288 with 1 Axes>",
      "image/png": "[encoded data removed]"
     },
     "metadata": {
      "needs_background": "light"
     },
     "output_type": "display_data"
    },
    {
     "name": "stdout",
     "output_type": "stream",
     "text": [
      "[Mode 4: {4: 1}] \n"
     ]
    },
    {
     "data": {
      "text/plain": "<Figure size 432x288 with 1 Axes>",
      "image/png": "[encoded data removed]"
     },
     "metadata": {
      "needs_background": "light"
     },
     "output_type": "display_data"
    },
    {
     "name": "stdout",
     "output_type": "stream",
     "text": [
      "[Mode 4: {4: 1}] \n"
     ]
    },
    {
     "data": {
      "text/plain": "<Figure size 432x288 with 1 Axes>",
      "image/png": "[encoded data removed]"
     },
     "metadata": {
      "needs_background": "light"
     },
     "output_type": "display_data"
    },
    {
     "name": "stdout",
     "output_type": "stream",
     "text": [
      "[Mode 5: {5: 1}] \n"
     ]
    },
    {
     "data": {
      "text/plain": "<Figure size 432x288 with 1 Axes>",
      "image/png": "[encoded data removed]"
     },
     "metadata": {
      "needs_background": "light"
     },
     "output_type": "display_data"
    },
    {
     "name": "stdout",
     "output_type": "stream",
     "text": [
      "[Mode 2: {2: 1}] \n"
     ]
    },
    {
     "data": {
      "text/plain": "<Figure size 432x288 with 1 Axes>",
      "image/png": "[encoded data removed]"
     },
     "metadata": {
      "needs_background": "light"
     },
     "output_type": "display_data"
    },
    {
     "name": "stdout",
     "output_type": "stream",
     "text": [
      "[Mode 4: {4: 1}] \n"
     ]
    },
    {
     "data": {
      "text/plain": "<Figure size 432x288 with 1 Axes>",
      "image/png": "[encoded data removed]"
     },
     "metadata": {
      "needs_background": "light"
     },
     "output_type": "display_data"
    },
    {
     "name": "stdout",
     "output_type": "stream",
     "text": [
      "[Mode 3: {3: 1}] \n"
     ]
    },
    {
     "data": {
      "text/plain": "<Figure size 432x288 with 1 Axes>",
      "image/png": "[encoded data removed]"
     },
     "metadata": {
      "needs_background": "light"
     },
     "output_type": "display_data"
    },
    {
     "name": "stdout",
     "output_type": "stream",
     "text": [
      "[Mode 4: {4: 1}] \n"
     ]
    },
    {
     "data": {
      "text/plain": "<Figure size 432x288 with 1 Axes>",
      "image/png": "[encoded data removed]"
     },
     "metadata": {
      "needs_background": "light"
     },
     "output_type": "display_data"
    },
    {
     "name": "stdout",
     "output_type": "stream",
     "text": [
      "[Mode 4: {4: 1}] \n"
     ]
    },
    {
     "data": {
      "text/plain": "<Figure size 432x288 with 1 Axes>",
      "image/png": "[encoded data removed]"
     },
     "metadata": {
      "needs_background": "light"
     },
     "output_type": "display_data"
    },
    {
     "name": "stdout",
     "output_type": "stream",
     "text": [
      "[Mode 2: {2: 1}] \n"
     ]
    },
    {
     "data": {
      "text/plain": "<Figure size 432x288 with 1 Axes>",
      "image/png": "[encoded data removed]"
     },
     "metadata": {
      "needs_background": "light"
     },
     "output_type": "display_data"
    },
    {
     "name": "stdout",
     "output_type": "stream",
     "text": [
      "[Mode 2: {2: 1}] \n"
     ]
    },
    {
     "data": {
      "text/plain": "<Figure size 432x288 with 1 Axes>",
      "image/png": "[encoded data removed]"
     },
     "metadata": {
      "needs_background": "light"
     },
     "output_type": "display_data"
    },
    {
     "name": "stdout",
     "output_type": "stream",
     "text": [
      "[Mode 2: {2: 1}] \n"
     ]
    },
    {
     "data": {
      "text/plain": "<Figure size 432x288 with 1 Axes>",
      "image/png": "[encoded data removed]"
     },
     "metadata": {
      "needs_background": "light"
     },
     "output_type": "display_data"
    },
    {
     "name": "stdout",
     "output_type": "stream",
     "text": [
      "[Mode 2: {2: 1}] \n"
     ]
    },
    {
     "data": {
      "text/plain": "<Figure size 432x288 with 1 Axes>",
      "image/png": "[encoded data removed]"
     },
     "metadata": {
      "needs_background": "light"
     },
     "output_type": "display_data"
    },
    {
     "name": "stdout",
     "output_type": "stream",
     "text": [
      "[Mode 2: {2: 1}] \n"
     ]
    },
    {
     "data": {
      "text/plain": "<Figure size 432x288 with 1 Axes>",
      "image/png": "[encoded data removed]"
     },
     "metadata": {
      "needs_background": "light"
     },
     "output_type": "display_data"
    },
    {
     "name": "stdout",
     "output_type": "stream",
     "text": [
      "[Mode 8: {8: 1}] \n"
     ]
    },
    {
     "data": {
      "text/plain": "<Figure size 432x288 with 1 Axes>",
      "image/png": "[encoded data removed]"
     },
     "metadata": {
      "needs_background": "light"
     },
     "output_type": "display_data"
    },
    {
     "name": "stdout",
     "output_type": "stream",
     "text": [
      "[Mode 2: {2: 1}] \n"
     ]
    },
    {
     "data": {
      "text/plain": "<Figure size 432x288 with 1 Axes>",
      "image/png": "[encoded data removed]"
     },
     "metadata": {
      "needs_background": "light"
     },
     "output_type": "display_data"
    },
    {
     "name": "stdout",
     "output_type": "stream",
     "text": [
      "[Mode 8: {8: 1}] \n"
     ]
    },
    {
     "data": {
      "text/plain": "<Figure size 432x288 with 1 Axes>",
      "image/png": "[encoded data removed]"
     },
     "metadata": {
      "needs_background": "light"
     },
     "output_type": "display_data"
    },
    {
     "name": "stdout",
     "output_type": "stream",
     "text": [
      "[Mode 5: {5: 1}] \n"
     ]
    },
    {
     "data": {
      "text/plain": "<Figure size 432x288 with 1 Axes>",
      "image/png": "[encoded data removed]"
     },
     "metadata": {
      "needs_background": "light"
     },
     "output_type": "display_data"
    },
    {
     "name": "stdout",
     "output_type": "stream",
     "text": [
      "[Mode 3: {3: 1}] \n"
     ]
    },
    {
     "data": {
      "text/plain": "<Figure size 432x288 with 1 Axes>",
      "image/png": "[encoded data removed]"
     },
     "metadata": {
      "needs_background": "light"
     },
     "output_type": "display_data"
    },
    {
     "name": "stdout",
     "output_type": "stream",
     "text": [
      "[Mode 2: {2: 1}] \n"
     ]
    },
    {
     "data": {
      "text/plain": "<Figure size 432x288 with 1 Axes>",
      "image/png": "[encoded data removed]"
     },
     "metadata": {
      "needs_background": "light"
     },
     "output_type": "display_data"
    },
    {
     "name": "stdout",
     "output_type": "stream",
     "text": [
      "[Mode 2: {2: 1}] \n"
     ]
    },
    {
     "data": {
      "text/plain": "<Figure size 432x288 with 1 Axes>",
      "image/png": "[encoded data removed]"
     },
     "metadata": {
      "needs_background": "light"
     },
     "output_type": "display_data"
    },
    {
     "name": "stdout",
     "output_type": "stream",
     "text": [
      "[Mode 5: {5: 1}] \n"
     ]
    },
    {
     "data": {
      "text/plain": "<Figure size 432x288 with 1 Axes>",
      "image/png": "[encoded data removed]"
     },
     "metadata": {
      "needs_background": "light"
     },
     "output_type": "display_data"
    },
    {
     "name": "stdout",
     "output_type": "stream",
     "text": [
      "[Mode 4: {4: 1}] \n"
     ]
    },
    {
     "data": {
      "text/plain": "<Figure size 432x288 with 1 Axes>",
      "image/png": "[encoded data removed]"
     },
     "metadata": {
      "needs_background": "light"
     },
     "output_type": "display_data"
    },
    {
     "name": "stdout",
     "output_type": "stream",
     "text": [
      "[Mode 9: {9: 1}] \n"
     ]
    },
    {
     "data": {
      "text/plain": "<Figure size 432x288 with 1 Axes>",
      "image/png": "[encoded data removed]"
     },
     "metadata": {
      "needs_background": "light"
     },
     "output_type": "display_data"
    },
    {
     "name": "stdout",
     "output_type": "stream",
     "text": [
      "[Mode 5: {5: 1}] \n"
     ]
    },
    {
     "data": {
      "text/plain": "<Figure size 432x288 with 1 Axes>",
      "image/png": "[encoded data removed]"
     },
     "metadata": {
      "needs_background": "light"
     },
     "output_type": "display_data"
    },
    {
     "name": "stdout",
     "output_type": "stream",
     "text": [
      "[Mode 8: {8: 1}] \n"
     ]
    },
    {
     "data": {
      "text/plain": "<Figure size 432x288 with 1 Axes>",
      "image/png": "[encoded data removed]"
     },
     "metadata": {
      "needs_background": "light"
     },
     "output_type": "display_data"
    },
    {
     "name": "stdout",
     "output_type": "stream",
     "text": [
      "[Mode 8: {8: 1}] \n"
     ]
    },
    {
     "data": {
      "text/plain": "<Figure size 432x288 with 1 Axes>",
      "image/png": "[encoded data removed]"
     },
     "metadata": {
      "needs_background": "light"
     },
     "output_type": "display_data"
    },
    {
     "name": "stdout",
     "output_type": "stream",
     "text": [
      "[Mode 5: {5: 1}] \n"
     ]
    },
    {
     "data": {
      "text/plain": "<Figure size 432x288 with 1 Axes>",
      "image/png": "[encoded data removed]"
     },
     "metadata": {
      "needs_background": "light"
     },
     "output_type": "display_data"
    },
    {
     "name": "stdout",
     "output_type": "stream",
     "text": [
      "[Mode 4: {4: 1}] \n"
     ]
    },
    {
     "data": {
      "text/plain": "<Figure size 432x288 with 1 Axes>",
      "image/png": "[encoded data removed]"
     },
     "metadata": {
      "needs_background": "light"
     },
     "output_type": "display_data"
    },
    {
     "name": "stdout",
     "output_type": "stream",
     "text": [
      "[Mode 2: {2: 1}] \n"
     ]
    },
    {
     "data": {
      "text/plain": "<Figure size 432x288 with 1 Axes>",
      "image/png": "[encoded data removed]"
     },
     "metadata": {
      "needs_background": "light"
     },
     "output_type": "display_data"
    },
    {
     "name": "stdout",
     "output_type": "stream",
     "text": [
      "[Mode 6: {6: 1}] \n"
     ]
    },
    {
     "data": {
      "text/plain": "<Figure size 432x288 with 1 Axes>",
      "image/png": "[encoded data removed]"
     },
     "metadata": {
      "needs_background": "light"
     },
     "output_type": "display_data"
    },
    {
     "name": "stdout",
     "output_type": "stream",
     "text": [
      "[Mode 6: {6: 1}] \n"
     ]
    },
    {
     "data": {
      "text/plain": "<Figure size 432x288 with 1 Axes>",
      "image/png": "[encoded data removed]"
     },
     "metadata": {
      "needs_background": "light"
     },
     "output_type": "display_data"
    },
    {
     "name": "stdout",
     "output_type": "stream",
     "text": [
      "[Mode 8: {8: 1}] \n"
     ]
    },
    {
     "data": {
      "text/plain": "<Figure size 432x288 with 1 Axes>",
      "image/png": "[encoded data removed]"
     },
     "metadata": {
      "needs_background": "light"
     },
     "output_type": "display_data"
    },
    {
     "name": "stdout",
     "output_type": "stream",
     "text": [
      "[Mode 4: {4: 1}] \n"
     ]
    },
    {
     "data": {
      "text/plain": "<Figure size 432x288 with 1 Axes>",
      "image/png": "[encoded data removed]"
     },
     "metadata": {
      "needs_background": "light"
     },
     "output_type": "display_data"
    },
    {
     "name": "stdout",
     "output_type": "stream",
     "text": [
      "[Mode 3: {3: 1}] \n"
     ]
    },
    {
     "data": {
      "text/plain": "<Figure size 432x288 with 1 Axes>",
      "image/png": "[encoded data removed]"
     },
     "metadata": {
      "needs_background": "light"
     },
     "output_type": "display_data"
    },
    {
     "name": "stdout",
     "output_type": "stream",
     "text": [
      "[Mode 2: {2: 1}] \n"
     ]
    },
    {
     "data": {
      "text/plain": "<Figure size 432x288 with 1 Axes>",
      "image/png": "[encoded data removed]"
     },
     "metadata": {
      "needs_background": "light"
     },
     "output_type": "display_data"
    },
    {
     "name": "stdout",
     "output_type": "stream",
     "text": [
      "[Mode 4: {4: 1}] \n"
     ]
    },
    {
     "data": {
      "text/plain": "<Figure size 432x288 with 1 Axes>",
      "image/png": "[encoded data removed]"
     },
     "metadata": {
      "needs_background": "light"
     },
     "output_type": "display_data"
    },
    {
     "name": "stdout",
     "output_type": "stream",
     "text": [
      "[Mode 8: {8: 1}] \n"
     ]
    },
    {
     "data": {
      "text/plain": "<Figure size 432x288 with 1 Axes>",
      "image/png": "[encoded data removed]"
     },
     "metadata": {
      "needs_background": "light"
     },
     "output_type": "display_data"
    },
    {
     "name": "stdout",
     "output_type": "stream",
     "text": [
      "[Mode 1: {1: 1}] \n"
     ]
    },
    {
     "data": {
      "text/plain": "<Figure size 432x288 with 1 Axes>",
      "image/png": "[encoded data removed]"
     },
     "metadata": {
      "needs_background": "light"
     },
     "output_type": "display_data"
    },
    {
     "name": "stdout",
     "output_type": "stream",
     "text": [
      "[Mode 4: {4: 1}] \n"
     ]
    },
    {
     "data": {
      "text/plain": "<Figure size 432x288 with 1 Axes>",
      "image/png": "[encoded data removed]"
     },
     "metadata": {
      "needs_background": "light"
     },
     "output_type": "display_data"
    },
    {
     "name": "stdout",
     "output_type": "stream",
     "text": [
      "[Mode 2: {2: 1}] \n"
     ]
    },
    {
     "data": {
      "text/plain": "<Figure size 432x288 with 1 Axes>",
      "image/png": "[encoded data removed]"
     },
     "metadata": {
      "needs_background": "light"
     },
     "output_type": "display_data"
    },
    {
     "name": "stdout",
     "output_type": "stream",
     "text": [
      "[Mode 2: {2: 1}] \n"
     ]
    },
    {
     "data": {
      "text/plain": "<Figure size 432x288 with 1 Axes>",
      "image/png": "[encoded data removed]"
     },
     "metadata": {
      "needs_background": "light"
     },
     "output_type": "display_data"
    },
    {
     "name": "stdout",
     "output_type": "stream",
     "text": [
      "[Mode 2: {2: 1}] \n"
     ]
    },
    {
     "data": {
      "text/plain": "<Figure size 432x288 with 1 Axes>",
      "image/png": "[encoded data removed]"
     },
     "metadata": {
      "needs_background": "light"
     },
     "output_type": "display_data"
    },
    {
     "name": "stdout",
     "output_type": "stream",
     "text": [
      "[Mode 3: {3: 1}] \n"
     ]
    },
    {
     "data": {
      "text/plain": "<Figure size 432x288 with 1 Axes>",
      "image/png": "[encoded data removed]"
     },
     "metadata": {
      "needs_background": "light"
     },
     "output_type": "display_data"
    },
    {
     "name": "stdout",
     "output_type": "stream",
     "text": [
      "[Mode 5: {5: 1}] \n"
     ]
    },
    {
     "data": {
      "text/plain": "<Figure size 432x288 with 1 Axes>",
      "image/png": "[encoded data removed]"
     },
     "metadata": {
      "needs_background": "light"
     },
     "output_type": "display_data"
    },
    {
     "name": "stdout",
     "output_type": "stream",
     "text": [
      "[Mode 2: {2: 1}] \n"
     ]
    },
    {
     "data": {
      "text/plain": "<Figure size 432x288 with 1 Axes>",
      "image/png": "[encoded data removed]"
     },
     "metadata": {
      "needs_background": "light"
     },
     "output_type": "display_data"
    },
    {
     "name": "stdout",
     "output_type": "stream",
     "text": [
      "[Mode 4: {4: 1}] \n"
     ]
    },
    {
     "data": {
      "text/plain": "<Figure size 432x288 with 1 Axes>",
      "image/png": "[encoded data removed]"
     },
     "metadata": {
      "needs_background": "light"
     },
     "output_type": "display_data"
    },
    {
     "name": "stdout",
     "output_type": "stream",
     "text": [
      "[Mode 3: {3: 1}] \n"
     ]
    },
    {
     "data": {
      "text/plain": "<Figure size 432x288 with 1 Axes>",
      "image/png": "[encoded data removed]"
     },
     "metadata": {
      "needs_background": "light"
     },
     "output_type": "display_data"
    },
    {
     "name": "stdout",
     "output_type": "stream",
     "text": [
      "[Mode 2: {2: 1}] \n"
     ]
    },
    {
     "data": {
      "text/plain": "<Figure size 432x288 with 1 Axes>",
      "image/png": "[encoded data removed]"
     },
     "metadata": {
      "needs_background": "light"
     },
     "output_type": "display_data"
    },
    {
     "name": "stdout",
     "output_type": "stream",
     "text": [
      "[Mode 8: {8: 1}] \n"
     ]
    },
    {
     "data": {
      "text/plain": "<Figure size 432x288 with 1 Axes>",
      "image/png": "[encoded data removed]"
     },
     "metadata": {
      "needs_background": "light"
     },
     "output_type": "display_data"
    },
    {
     "name": "stdout",
     "output_type": "stream",
     "text": [
      "[Mode 6: {6: 1}] \n"
     ]
    },
    {
     "data": {
      "text/plain": "<Figure size 432x288 with 1 Axes>",
      "image/png": "[encoded data removed]"
     },
     "metadata": {
      "needs_background": "light"
     },
     "output_type": "display_data"
    },
    {
     "name": "stdout",
     "output_type": "stream",
     "text": [
      "[Mode 2: {2: 1}] \n"
     ]
    },
    {
     "data": {
      "text/plain": "<Figure size 432x288 with 1 Axes>",
      "image/png": "[encoded data removed]"
     },
     "metadata": {
      "needs_background": "light"
     },
     "output_type": "display_data"
    },
    {
     "name": "stdout",
     "output_type": "stream",
     "text": [
      "[Mode 7: {7: 1}] \n"
     ]
    },
    {
     "data": {
      "text/plain": "<Figure size 432x288 with 1 Axes>",
      "image/png": "[encoded data removed]"
     },
     "metadata": {
      "needs_background": "light"
     },
     "output_type": "display_data"
    },
    {
     "name": "stdout",
     "output_type": "stream",
     "text": [
      "[Mode 9: {9: 1}] \n"
     ]
    },
    {
     "data": {
      "text/plain": "<Figure size 432x288 with 1 Axes>",
      "image/png": "[encoded data removed]"
     },
     "metadata": {
      "needs_background": "light"
     },
     "output_type": "display_data"
    },
    {
     "name": "stdout",
     "output_type": "stream",
     "text": [
      "[Mode 4: {4: 1}] \n"
     ]
    },
    {
     "data": {
      "text/plain": "<Figure size 432x288 with 1 Axes>",
      "image/png": "[encoded data removed]"
     },
     "metadata": {
      "needs_background": "light"
     },
     "output_type": "display_data"
    },
    {
     "name": "stdout",
     "output_type": "stream",
     "text": [
      "[Mode 2: {2: 1}] \n"
     ]
    },
    {
     "data": {
      "text/plain": "<Figure size 432x288 with 1 Axes>",
      "image/png": "[encoded data removed]"
     },
     "metadata": {
      "needs_background": "light"
     },
     "output_type": "display_data"
    },
    {
     "name": "stdout",
     "output_type": "stream",
     "text": [
      "[Mode 8: {8: 1}] \n"
     ]
    },
    {
     "data": {
      "text/plain": "<Figure size 432x288 with 1 Axes>",
      "image/png": "[encoded data removed]"
     },
     "metadata": {
      "needs_background": "light"
     },
     "output_type": "display_data"
    },
    {
     "name": "stdout",
     "output_type": "stream",
     "text": [
      "[Mode 2: {2: 1}] \n"
     ]
    },
    {
     "data": {
      "text/plain": "<Figure size 432x288 with 1 Axes>",
      "image/png": "[encoded data removed]"
     },
     "metadata": {
      "needs_background": "light"
     },
     "output_type": "display_data"
    },
    {
     "name": "stdout",
     "output_type": "stream",
     "text": [
      "[Mode 5: {5: 1}] \n"
     ]
    },
    {
     "data": {
      "text/plain": "<Figure size 432x288 with 1 Axes>",
      "image/png": "[encoded data removed]"
     },
     "metadata": {
      "needs_background": "light"
     },
     "output_type": "display_data"
    },
    {
     "name": "stdout",
     "output_type": "stream",
     "text": [
      "[Mode 3: {3: 1}] \n"
     ]
    },
    {
     "data": {
      "text/plain": "<Figure size 432x288 with 1 Axes>",
      "image/png": "[encoded data removed]"
     },
     "metadata": {
      "needs_background": "light"
     },
     "output_type": "display_data"
    },
    {
     "name": "stdout",
     "output_type": "stream",
     "text": [
      "[Mode 8: {8: 1}] \n"
     ]
    },
    {
     "data": {
      "text/plain": "<Figure size 432x288 with 1 Axes>",
      "image/png": "[encoded data removed]"
     },
     "metadata": {
      "needs_background": "light"
     },
     "output_type": "display_data"
    },
    {
     "name": "stdout",
     "output_type": "stream",
     "text": [
      "[Mode 2: {2: 1}] \n"
     ]
    },
    {
     "data": {
      "text/plain": "<Figure size 432x288 with 1 Axes>",
      "image/png": "[encoded data removed]"
     },
     "metadata": {
      "needs_background": "light"
     },
     "output_type": "display_data"
    },
    {
     "name": "stdout",
     "output_type": "stream",
     "text": [
      "[Mode 7: {7: 1}] \n"
     ]
    },
    {
     "data": {
      "text/plain": "<Figure size 432x288 with 1 Axes>",
      "image/png": "[encoded data removed]"
     },
     "metadata": {
      "needs_background": "light"
     },
     "output_type": "display_data"
    },
    {
     "name": "stdout",
     "output_type": "stream",
     "text": [
      "[Mode 3: {3: 1}] \n"
     ]
    },
    {
     "data": {
      "text/plain": "<Figure size 432x288 with 1 Axes>",
      "image/png": "[encoded data removed]"
     },
     "metadata": {
      "needs_background": "light"
     },
     "output_type": "display_data"
    },
    {
     "name": "stdout",
     "output_type": "stream",
     "text": [
      "[Mode 7: {7: 1}] \n"
     ]
    },
    {
     "data": {
      "text/plain": "<Figure size 432x288 with 1 Axes>",
      "image/png": "[encoded data removed]"
     },
     "metadata": {
      "needs_background": "light"
     },
     "output_type": "display_data"
    },
    {
     "name": "stdout",
     "output_type": "stream",
     "text": [
      "[Mode 7: {7: 1}] \n"
     ]
    },
    {
     "data": {
      "text/plain": "<Figure size 432x288 with 1 Axes>",
      "image/png": "[encoded data removed]"
     },
     "metadata": {
      "needs_background": "light"
     },
     "output_type": "display_data"
    },
    {
     "name": "stdout",
     "output_type": "stream",
     "text": [
      "[Mode 5: {5: 1}] \n"
     ]
    },
    {
     "data": {
      "text/plain": "<Figure size 432x288 with 1 Axes>",
      "image/png": "[encoded data removed]"
     },
     "metadata": {
      "needs_background": "light"
     },
     "output_type": "display_data"
    },
    {
     "name": "stdout",
     "output_type": "stream",
     "text": [
      "[Mode 2: {2: 1}] \n"
     ]
    },
    {
     "data": {
      "text/plain": "<Figure size 432x288 with 1 Axes>",
      "image/png": "[encoded data removed]"
     },
     "metadata": {
      "needs_background": "light"
     },
     "output_type": "display_data"
    },
    {
     "name": "stdout",
     "output_type": "stream",
     "text": [
      "[Mode 4: {4: 1}] \n"
     ]
    },
    {
     "data": {
      "text/plain": "<Figure size 432x288 with 1 Axes>",
      "image/png": "[encoded data removed]"
     },
     "metadata": {
      "needs_background": "light"
     },
     "output_type": "display_data"
    },
    {
     "name": "stdout",
     "output_type": "stream",
     "text": [
      "[Mode 2: {2: 1}] \n"
     ]
    },
    {
     "data": {
      "text/plain": "<Figure size 432x288 with 1 Axes>",
      "image/png": "[encoded data removed]"
     },
     "metadata": {
      "needs_background": "light"
     },
     "output_type": "display_data"
    },
    {
     "name": "stdout",
     "output_type": "stream",
     "text": [
      "[Mode 8: {8: 1}] \n"
     ]
    },
    {
     "data": {
      "text/plain": "<Figure size 432x288 with 1 Axes>",
      "image/png": "[encoded data removed]"
     },
     "metadata": {
      "needs_background": "light"
     },
     "output_type": "display_data"
    },
    {
     "name": "stdout",
     "output_type": "stream",
     "text": [
      "[Mode 3: {3: 1}] \n"
     ]
    },
    {
     "data": {
      "text/plain": "<Figure size 432x288 with 1 Axes>",
      "image/png": "[encoded data removed]"
     },
     "metadata": {
      "needs_background": "light"
     },
     "output_type": "display_data"
    },
    {
     "name": "stdout",
     "output_type": "stream",
     "text": [
      "[Mode 2: {2: 1}] \n"
     ]
    },
    {
     "data": {
      "text/plain": "<Figure size 432x288 with 1 Axes>",
      "image/png": "[encoded data removed]"
     },
     "metadata": {
      "needs_background": "light"
     },
     "output_type": "display_data"
    },
    {
     "name": "stdout",
     "output_type": "stream",
     "text": [
      "[Mode 4: {4: 1}] \n"
     ]
    },
    {
     "data": {
      "text/plain": "<Figure size 432x288 with 1 Axes>",
      "image/png": "[encoded data removed]"
     },
     "metadata": {
      "needs_background": "light"
     },
     "output_type": "display_data"
    },
    {
     "name": "stdout",
     "output_type": "stream",
     "text": [
      "[Mode 8: {8: 1}] \n"
     ]
    },
    {
     "data": {
      "text/plain": "<Figure size 432x288 with 1 Axes>",
      "image/png": "[encoded data removed]"
     },
     "metadata": {
      "needs_background": "light"
     },
     "output_type": "display_data"
    },
    {
     "name": "stdout",
     "output_type": "stream",
     "text": [
      "[Mode 8: {8: 1}] \n"
     ]
    },
    {
     "data": {
      "text/plain": "<Figure size 432x288 with 1 Axes>",
      "image/png": "[encoded data removed]"
     },
     "metadata": {
      "needs_background": "light"
     },
     "output_type": "display_data"
    }
   ],
   "source": [
    "clusters_bad.plot_mean_digit()"
   ],
   "metadata": {
    "collapsed": false,
    "pycharm": {
     "name": "#%%\n"
    }
   }
  },
  {
   "cell_type": "markdown",
   "source": [
    "## Trial"
   ],
   "metadata": {
    "collapsed": false,
    "pycharm": {
     "name": "#%% md\n"
    }
   }
  },
  {
   "cell_type": "code",
   "execution_count": 26,
   "outputs": [
    {
     "data": {
      "text/plain": "Cluster Data Split [Data: 385, Clusters: 15,Mean-per-Cluster: 25.666666666666668, Score: 0.8840503246753246] "
     },
     "execution_count": 26,
     "metadata": {},
     "output_type": "execute_result"
    }
   ],
   "source": [
    "clusters_best"
   ],
   "metadata": {
    "collapsed": false,
    "pycharm": {
     "name": "#%%\n"
    }
   }
  },
  {
   "cell_type": "code",
   "execution_count": 30,
   "outputs": [
    {
     "name": "stdout",
     "output_type": "stream",
     "text": [
      "[[-6.92324165e+00 -1.06695320e+01]\n",
      " [-8.63062033e+00 -7.13940564e+00]\n",
      " [-9.63048069e+00 -2.72044935e+00]\n",
      " [-2.30647659e+00  5.30797676e+00]\n",
      " [-7.57005366e+00 -3.01446491e+00]\n",
      " [-1.00051011e+00  2.77905153e+00]\n",
      " [-4.81826839e+00 -2.77214822e+00]\n",
      " [-5.33964799e+00 -1.27625764e+00]\n",
      " [-7.94308840e+00 -3.89993901e+00]\n",
      " [-5.54924525e+00 -3.41298968e+00]\n",
      " [-5.14508990e+00 -9.54492198e+00]\n",
      " [-7.09669936e+00 -8.04074036e+00]\n",
      " [-5.82641512e+00 -1.96346196e+00]\n",
      " [-1.83198811e+00  3.52863145e+00]\n",
      " [-7.34267235e+00 -3.16546482e+00]\n",
      " [-7.34072825e+00 -6.92427252e+00]\n",
      " [-7.94653906e+00 -3.36768655e+00]\n",
      " [-8.24598536e+00 -8.61315821e+00]\n",
      " [-1.98197711e+00  4.02243551e+00]\n",
      " [-4.35098035e+00 -3.69476678e+00]\n",
      " [-1.04768696e+01 -3.60318139e+00]\n",
      " [-1.10195984e+01 -3.15882031e+00]\n",
      " [-5.17255904e+00 -4.31835971e+00]\n",
      " [-2.40671820e+00  6.09894447e+00]\n",
      " [-6.72149498e+00 -2.88440806e+00]\n",
      " [-6.58935963e+00 -4.43379548e+00]\n",
      " [-1.46126019e+00  4.52549851e+00]\n",
      " [-9.19003455e-01  3.45278927e+00]\n",
      " [-1.04093517e+01 -2.67482046e+00]\n",
      " [-6.36722809e+00 -3.32666072e+00]\n",
      " [-6.72766125e+00 -7.14516267e+00]\n",
      " [-2.27956075e+00  5.10452190e+00]\n",
      " [-5.84887560e+00 -3.03970506e+00]\n",
      " [-6.07993051e+00 -7.08197568e+00]\n",
      " [-5.26682929e+00 -2.69645055e+00]\n",
      " [-6.05367512e+00 -9.62979077e+00]\n",
      " [-1.00822205e+01 -4.25071043e+00]\n",
      " [-1.18708735e+01 -3.03273343e+00]\n",
      " [-5.37107307e+00 -7.95635833e+00]\n",
      " [-9.37590900e+00 -4.55315308e+00]\n",
      " [-6.63401987e+00 -2.58340356e+00]\n",
      " [-9.54609655e+00 -2.84917422e+00]\n",
      " [-1.69825542e+00  2.79071751e+00]\n",
      " [-5.60217602e+00 -6.59908490e-01]\n",
      " [-6.03429022e+00 -4.08821196e+00]\n",
      " [-6.37230784e+00 -8.63190046e+00]\n",
      " [-1.02264783e+01 -2.33998717e+00]\n",
      " [-5.95678148e+00 -3.97905701e+00]\n",
      " [-1.42706535e+00  5.08904128e+00]\n",
      " [-6.20735304e-01  6.59346952e+00]\n",
      " [-3.28102793e-01  4.11918201e+00]\n",
      " [-1.06230545e+01 -4.54719161e+00]\n",
      " [-9.12674270e+00 -4.46180568e+00]\n",
      " [-5.24134497e+00 -3.23505873e+00]\n",
      " [-7.19967531e+00 -7.10400981e+00]\n",
      " [-1.01136977e+01 -4.12880752e+00]\n",
      " [-1.03416132e+01 -4.95351774e+00]\n",
      " [-1.25041532e+01 -6.06751247e+00]\n",
      " [-9.32331640e+00 -4.67574045e+00]\n",
      " [-7.32033002e+00 -2.73350095e+00]\n",
      " [-2.20533407e+00  4.20765201e+00]\n",
      " [-5.27930518e-01  5.92630669e+00]\n",
      " [-8.87430034e+00 -3.64808151e+00]\n",
      " [-6.66948545e+00 -4.26059884e+00]\n",
      " [-1.37397258e+00  5.29163103e+00]\n",
      " [-6.60085708e+00 -3.11969688e+00]\n",
      " [-7.99175412e+00 -8.33564851e+00]\n",
      " [-6.22447869e+00 -2.43846224e+00]\n",
      " [-1.11054250e+01 -3.97106687e+00]\n",
      " [-8.95762335e+00 -4.87178859e+00]\n",
      " [-6.65461644e+00 -7.29335713e+00]\n",
      " [-1.09531378e+01 -3.36743812e+00]\n",
      " [-5.11351008e+00 -2.01881992e+00]\n",
      " [-7.24251438e+00 -9.66368448e+00]\n",
      " [-5.34929456e+00 -3.54577332e+00]\n",
      " [-6.29261332e+00 -3.68892426e+00]\n",
      " [-7.35387953e+00 -8.54504434e+00]\n",
      " [-5.78423473e+00 -4.48406848e+00]\n",
      " [-5.66256325e+00 -2.34390092e+00]\n",
      " [-8.60893311e+00 -4.61469279e+00]\n",
      " [-2.52019906e-01  4.53559145e+00]\n",
      " [-1.92744799e+00  4.93684534e+00]\n",
      " [-9.41306589e+00 -3.62907430e+00]\n",
      " [-8.48608233e-01  5.45093196e+00]\n",
      " [-8.66753040e-01  3.78295914e+00]\n",
      " [-1.01842915e+01 -4.01017303e+00]\n",
      " [-7.93192918e+00 -5.42450547e+00]\n",
      " [-2.75447175e+00  4.57587230e+00]\n",
      " [-1.17171070e+01 -3.89622755e+00]\n",
      " [-8.85081213e+00 -4.00305113e+00]\n",
      " [-1.34392496e+00  2.38428865e+00]\n",
      " [-8.16203654e+00 -7.31459336e+00]\n",
      " [-9.18886814e+00 -2.16359386e+00]\n",
      " [-7.13229260e+00 -4.02296730e+00]\n",
      " [-4.26103071e-02  4.90923075e+00]\n",
      " [-7.24449448e+00 -7.65150300e+00]\n",
      " [-8.13784646e+00 -7.65806949e+00]\n",
      " [-6.73451345e+00 -1.38330194e+00]\n",
      " [-8.96369424e+00 -9.27033880e+00]\n",
      " [ 8.68765801e-01  4.15785509e+00]\n",
      " [-5.45176929e-01  3.81996593e+00]\n",
      " [-8.01694428e+00 -8.67137366e+00]\n",
      " [-3.33375571e+00  5.23151969e+00]\n",
      " [-1.14385885e+01 -2.72109548e+00]\n",
      " [-2.52087627e+00  5.08120139e+00]\n",
      " [-6.84394443e+00 -4.15058222e+00]\n",
      " [-5.87619738e+00 -3.28078916e+00]\n",
      " [-1.21819546e+00  4.30633464e+00]\n",
      " [-2.00341358e+00  4.45008673e+00]\n",
      " [-1.01077040e+01 -3.94479960e+00]\n",
      " [-7.03045854e+00 -1.23734756e+00]\n",
      " [-6.95685137e+00 -8.12381049e+00]\n",
      " [-2.33022219e+00  4.78405366e+00]\n",
      " [-9.98435983e+00 -4.64804214e+00]\n",
      " [-2.33080604e+00  4.39382527e+00]\n",
      " [-1.07796242e+01 -4.39085753e+00]\n",
      " [-2.03484486e+00  3.76775946e+00]\n",
      " [-7.16744245e+00 -3.24998378e+00]\n",
      " [-4.99221336e-01  4.77598259e+00]\n",
      " [-5.76681144e+00 -3.41281779e+00]\n",
      " [-1.06990569e+01 -4.49057157e+00]\n",
      " [-7.28729621e+00 -6.68306776e+00]\n",
      " [-8.17831829e+00 -8.22063813e+00]\n",
      " [-9.14443128e+00 -4.36637786e+00]\n",
      " [-7.22323543e+00 -3.51226376e+00]\n",
      " [-9.71296439e+00 -3.69088110e+00]\n",
      " [-3.19091528e-02  4.74450157e+00]\n",
      " [-7.10406044e+00 -8.38198228e+00]\n",
      " [-7.52482501e+00 -7.50887444e+00]\n",
      " [-6.31161343e+00 -2.97641697e+00]\n",
      " [-5.38142198e-01  4.81539041e+00]\n",
      " [-9.58041050e+00 -3.16857790e+00]\n",
      " [-9.53106924e+00 -2.91966168e+00]\n",
      " [-1.07650223e+01 -3.27877784e+00]\n",
      " [-9.54658956e+00 -4.64826945e+00]\n",
      " [-7.39393373e+00 -6.80612264e+00]\n",
      " [-2.99151157e+00  2.64580131e+00]\n",
      " [-5.67558254e+00 -4.55902255e+00]\n",
      " [-3.51754177e+00  5.64265390e+00]\n",
      " [-9.98539618e-01  6.19864808e+00]\n",
      " [-5.96497901e+00 -2.03746469e+00]\n",
      " [-8.85279507e+00 -7.79138079e+00]\n",
      " [-4.64310426e+00 -2.22789422e+00]\n",
      " [-1.35938959e+00  4.05424002e+00]\n",
      " [-5.25790464e-01  3.30659860e+00]\n",
      " [-1.15637509e+00  5.69971575e+00]\n",
      " [-6.42530010e+00 -2.17328619e+00]\n",
      " [-5.70183305e+00 -2.63083838e+00]\n",
      " [-6.04632971e+00 -6.92266990e+00]\n",
      " [-8.14559288e+00 -7.42775410e+00]\n",
      " [-9.15685095e+00 -4.05623576e+00]\n",
      " [-9.16170778e+00 -2.40998944e+00]\n",
      " [-1.46864442e+00  6.50674501e+00]\n",
      " [-6.74672798e+00 -8.17245974e+00]\n",
      " [-1.98605940e+00  3.06381408e+00]\n",
      " [-1.03289957e+01 -3.56680940e+00]\n",
      " [-9.34313235e+00 -4.00453699e+00]\n",
      " [-9.55954616e+00 -2.83102023e+00]\n",
      " [-1.01659113e+01 -4.12752889e+00]\n",
      " [-9.84144865e+00 -4.14356957e+00]\n",
      " [-1.02768102e+01 -2.33049946e+00]\n",
      " [-1.01030572e+01 -3.32315288e+00]\n",
      " [-9.90228742e+00 -3.03189848e+00]\n",
      " [-9.72121320e+00 -4.68662015e+00]\n",
      " [-1.85139546e+00  3.51886090e+00]\n",
      " [-6.69321189e+00 -6.30021862e+00]\n",
      " [-6.53371839e+00 -8.14922726e+00]\n",
      " [-8.46369500e+00 -8.07146029e+00]\n",
      " [-5.75004528e+00 -3.56590967e+00]\n",
      " [-1.17104176e+00  4.33091816e+00]\n",
      " [-8.52628579e+00 -8.66957601e+00]\n",
      " [-9.23890684e+00 -3.06843973e+00]\n",
      " [-6.12803051e+00 -2.51698058e+00]\n",
      " [-8.10406451e+00 -7.42020487e+00]\n",
      " [-1.61589091e+00  4.18017563e+00]\n",
      " [-8.98758533e+00 -3.03333061e+00]\n",
      " [-1.19410359e+01 -3.60085418e+00]\n",
      " [-1.04399418e+01 -3.62982119e+00]\n",
      " [-1.14242679e+01 -2.18538860e+00]\n",
      " [-9.00992914e+00 -9.06865247e+00]\n",
      " [-6.47435649e+00 -3.74338863e+00]\n",
      " [-9.63138049e+00 -4.99793793e+00]\n",
      " [ 5.26015501e-01  3.00999353e+00]\n",
      " [-9.76324393e+00 -9.36656623e+00]\n",
      " [-6.27965526e+00 -8.81809587e+00]\n",
      " [-9.46883276e+00 -6.19043506e+00]\n",
      " [-5.77336618e+00 -3.56739953e+00]\n",
      " [-6.69242533e+00 -8.30171791e+00]\n",
      " [-7.44439970e+00 -9.16803180e+00]\n",
      " [-7.11478469e+00 -5.38699134e+00]\n",
      " [-3.85803976e-01  6.37359162e+00]\n",
      " [-2.00454712e+00  4.17565013e+00]\n",
      " [-5.75517628e+00 -9.30821074e+00]\n",
      " [-9.14168421e+00 -7.20572694e+00]\n",
      " [-5.92092535e+00 -3.27574048e+00]\n",
      " [-2.35122066e+00  4.00973634e+00]\n",
      " [-5.91907851e+00 -2.23919861e+00]\n",
      " [-5.62200526e+00 -8.69290967e+00]\n",
      " [-7.54246304e+00 -8.12722811e+00]\n",
      " [-2.41395785e+00  5.65935802e+00]\n",
      " [-6.37151596e+00 -8.91129543e+00]\n",
      " [-1.21401792e+01 -4.78351741e+00]\n",
      " [-4.45264491e+00  6.34401868e+00]\n",
      " [-5.59698820e+00 -4.19535853e+00]\n",
      " [-6.07503622e+00 -2.15606405e+00]\n",
      " [-7.24828238e+00 -7.05222790e+00]\n",
      " [-4.77891101e+00 -2.41333165e+00]\n",
      " [-1.24112155e+01 -5.73091492e+00]\n",
      " [-6.75264349e+00 -8.34654975e+00]\n",
      " [-5.05492139e+00 -4.22257749e+00]\n",
      " [-1.03825448e+01 -2.49524031e+00]\n",
      " [-7.22570502e+00 -3.79313579e+00]\n",
      " [-1.19498178e+01 -5.35567769e+00]\n",
      " [-7.62867092e+00 -8.06354170e+00]\n",
      " [-4.61767113e+00 -1.67111145e+00]\n",
      " [-5.12219664e+00 -3.31302123e+00]\n",
      " [-6.29225072e+00 -2.35738294e+00]\n",
      " [ 2.42271161e-04  5.14853403e+00]\n",
      " [-8.79988166e+00 -2.24875438e+00]\n",
      " [-2.77687025e+00  4.64090557e+00]\n",
      " [-6.39694979e+00 -3.76963703e+00]\n",
      " [-6.92263081e+00 -7.63972262e+00]\n",
      " [-1.15768688e+01 -4.78197653e+00]\n",
      " [-5.66824737e+00 -3.82607509e+00]\n",
      " [-1.11578826e+01 -2.60324173e+00]\n",
      " [-1.04730854e+01 -3.47573837e+00]\n",
      " [-9.98118494e+00 -3.77616083e+00]\n",
      " [-1.04102078e+00  3.96331794e+00]\n",
      " [-9.32856015e+00 -2.60893309e+00]\n",
      " [-1.13898357e+00  3.26214848e+00]\n",
      " [-6.17905638e+00 -7.96336646e+00]\n",
      " [-1.02356544e+01 -2.79806066e+00]\n",
      " [-5.77133256e+00 -8.59222577e+00]\n",
      " [-9.14500844e+00 -3.91798845e+00]\n",
      " [-1.61734616e+00  4.98930508e+00]\n",
      " [-2.77867530e+00  6.36256877e+00]\n",
      " [-9.54642849e+00 -5.63740853e+00]\n",
      " [-6.91486590e+00 -7.68969378e+00]\n",
      " [-1.84612968e+00  4.30474400e+00]\n",
      " [-5.52834586e+00 -8.15360311e+00]\n",
      " [-6.00915337e+00 -3.34925152e+00]\n",
      " [-8.54628324e+00 -4.57138540e+00]\n",
      " [-7.31655639e+00 -7.77051293e+00]\n",
      " [-7.20423399e+00 -8.88176559e+00]\n",
      " [-7.55600732e+00 -8.01885499e+00]\n",
      " [-5.67856792e+00 -7.60509852e+00]\n",
      " [-5.21446826e+00 -4.79995312e+00]\n",
      " [-9.37662980e+00 -2.99722684e+00]\n",
      " [-5.31844709e+00 -8.92829839e+00]\n",
      " [-1.08278844e+01 -4.83392615e+00]\n",
      " [-6.06569910e+00 -1.53376946e+00]\n",
      " [-2.34673261e+00  3.56128423e+00]\n",
      " [-1.25606826e+00  5.00006839e+00]\n",
      " [-5.83979745e+00 -2.17836186e+00]\n",
      " [-6.87088211e+00 -2.22716236e+00]\n",
      " [-1.79600465e+00  4.28743568e+00]\n",
      " [-9.37972697e+00 -4.13752487e+00]\n",
      " [-7.23605937e+00 -4.54710992e+00]\n",
      " [-1.02794488e+01 -1.89699302e+00]\n",
      " [-1.41689046e+00  4.60832005e+00]\n",
      " [-5.78045412e+00 -4.58297922e+00]\n",
      " [ 8.52518583e-02  3.64528297e+00]\n",
      " [-9.20268641e+00 -4.32778687e+00]\n",
      " [-9.56818636e+00 -4.56034695e+00]\n",
      " [-1.16434858e+00  4.23178671e+00]\n",
      " [-6.16345851e+00 -3.10830802e+00]\n",
      " [-6.32152564e+00 -9.66280079e+00]\n",
      " [-7.52099974e+00 -9.13311836e+00]\n",
      " [-9.22029330e+00 -4.07211972e+00]\n",
      " [-1.08491682e+01 -2.95246712e+00]\n",
      " [-9.86366431e+00 -2.75129369e+00]\n",
      " [-6.79715224e+00 -3.45804136e+00]\n",
      " [-9.79490066e-01  4.08668827e+00]\n",
      " [-2.06043810e+00  5.23049549e+00]\n",
      " [-5.66839183e+00 -7.95067847e-01]\n",
      " [-7.57969185e-01  4.90898421e+00]\n",
      " [-1.04205695e+01 -3.86688414e+00]\n",
      " [-7.12425009e+00 -6.70423870e+00]\n",
      " [-1.37889483e+00  4.33337717e+00]\n",
      " [-6.61466444e+00 -7.52579102e+00]\n",
      " [-1.34052081e+00  4.15711949e+00]\n",
      " [-6.21160000e+00 -8.29293984e+00]\n",
      " [-7.56885613e+00 -8.13527221e+00]\n",
      " [-1.77000693e+00  3.78912781e+00]\n",
      " [-7.36585834e+00 -7.34577219e+00]\n",
      " [-1.49952284e+00  5.28265879e+00]\n",
      " [-2.85882794e+00  5.26983519e+00]\n",
      " [-7.73884935e+00 -3.24327665e+00]\n",
      " [-1.08201797e+01 -3.23163726e+00]\n",
      " [-8.53682012e+00 -3.36087575e+00]\n",
      " [-1.20349137e+01 -5.89593773e+00]\n",
      " [-5.26910909e+00 -2.73521824e+00]\n",
      " [-6.71299604e+00 -2.90324984e+00]\n",
      " [-8.36118634e+00 -2.72698382e+00]\n",
      " [-5.48941428e+00 -6.94662021e+00]\n",
      " [ 5.31139823e-01  2.51012895e+00]\n",
      " [-5.64126775e+00 -7.24922893e+00]\n",
      " [-9.48263889e+00 -6.73588302e+00]\n",
      " [-7.53103704e+00 -6.76823676e+00]\n",
      " [-6.31078595e+00 -2.05174648e+00]\n",
      " [-8.70233178e+00 -4.19462540e+00]\n",
      " [-6.11013071e+00 -2.31061128e+00]\n",
      " [-5.83972633e+00 -9.20677418e+00]\n",
      " [-1.17536381e+01 -3.23855895e+00]\n",
      " [-9.29199482e+00 -9.85256171e+00]\n",
      " [-7.85568214e+00 -6.92950589e+00]\n",
      " [-1.01967107e+01 -2.08687717e+00]\n",
      " [-7.96356538e+00 -7.83357116e+00]\n",
      " [-6.77680402e+00 -6.65511992e+00]\n",
      " [-1.08749940e+01 -4.82113577e+00]\n",
      " [-1.84048021e+00  3.80256924e+00]\n",
      " [-7.98067403e+00 -8.56048015e+00]\n",
      " [-6.32066246e+00 -3.30751892e+00]\n",
      " [-6.17979966e+00 -3.00803447e+00]\n",
      " [-2.17665436e+00  3.40946304e+00]\n",
      " [-6.73224718e-01  4.62002377e+00]\n",
      " [-8.93892171e+00 -3.51521408e+00]\n",
      " [-7.48937497e+00 -8.88475909e+00]\n",
      " [-2.89641328e+00  5.28232880e+00]\n",
      " [-8.13399258e-01  3.54697393e+00]\n",
      " [-5.77752667e+00 -2.85145276e+00]\n",
      " [-6.24883850e+00 -8.76563508e+00]\n",
      " [-3.10367371e+00  3.90202401e+00]\n",
      " [-1.05724063e+00  4.82677207e+00]\n",
      " [-5.73215048e+00 -5.04695454e+00]\n",
      " [-9.93696231e+00 -3.74222379e+00]\n",
      " [-3.03267723e+00  4.72164926e+00]\n",
      " [-1.07035530e+01 -2.76066248e+00]\n",
      " [-5.68475631e+00 -3.76816924e+00]\n",
      " [-8.62182374e+00 -8.76567023e+00]\n",
      " [-6.67177294e+00 -9.97714796e+00]\n",
      " [-1.92577841e+00  4.43910442e+00]\n",
      " [-8.16299488e+00 -3.38896569e+00]\n",
      " [-3.74380343e+00 -8.75345344e+00]\n",
      " [-5.66601211e+00 -4.97019633e+00]\n",
      " [-2.88961804e+00  4.95702736e+00]\n",
      " [-2.35995841e+00  4.20309542e+00]\n",
      " [-6.80491557e+00 -3.49602548e+00]\n",
      " [-7.10480676e+00 -4.10830531e+00]\n",
      " [-6.96685539e+00 -3.12876392e+00]\n",
      " [-6.31354495e+00 -8.01283267e+00]\n",
      " [-4.47120679e+00 -3.54131043e+00]\n",
      " [-1.53940095e+00  5.02369298e+00]\n",
      " [-1.60875215e+00  3.76949422e+00]\n",
      " [-1.01927698e+01 -3.14795512e+00]\n",
      " [-2.80207810e+00  4.05714715e+00]\n",
      " [ 2.45098802e-01  5.51754657e+00]\n",
      " [-3.31028117e+00  3.51593428e+00]\n",
      " [-2.84187803e+00  3.74073535e+00]\n",
      " [-5.75867612e+00 -8.75783107e+00]\n",
      " [-5.99591056e+00 -8.11285667e+00]\n",
      " [-4.98360687e+00 -3.20522961e+00]\n",
      " [-1.86845414e+00  4.99311306e+00]\n",
      " [-9.71503679e+00 -4.77944598e+00]\n",
      " [-6.47373322e+00 -2.78682541e+00]\n",
      " [-6.99263028e+00 -7.14344077e+00]\n",
      " [-1.53773863e+00  5.53597378e+00]\n",
      " [-1.04464505e+01 -4.62579659e+00]\n",
      " [-1.09679881e+00  4.64722696e+00]\n",
      " [-7.25256877e+00 -2.91682833e+00]\n",
      " [-1.97451969e-01  2.34634916e+00]\n",
      " [-1.00670412e+01 -4.06174061e+00]\n",
      " [-6.13468589e+00 -4.50793424e+00]\n",
      " [-1.03725172e+01 -4.70331816e+00]\n",
      " [-1.88188805e+00  4.20573180e+00]\n",
      " [-7.15498484e+00 -3.10778598e+00]\n",
      " [-6.14254799e+00 -3.65202206e+00]\n",
      " [-7.42749427e+00 -9.63838456e+00]\n",
      " [-1.13009458e+00  4.54419108e+00]\n",
      " [-6.28485505e+00 -8.78266971e+00]\n",
      " [-7.33325349e+00 -8.28490373e+00]\n",
      " [-6.40320111e+00 -7.16687592e+00]\n",
      " [-7.22187586e+00 -9.48843083e+00]\n",
      " [-6.09834293e+00 -7.44017905e+00]\n",
      " [-7.20807793e+00 -7.12024433e+00]\n",
      " [-9.68744022e+00 -6.04759636e+00]\n",
      " [-7.87372938e+00 -7.59578865e+00]\n",
      " [-1.14663009e+00  4.10839703e+00]\n",
      " [-5.90344220e+00 -8.18075749e+00]\n",
      " [-2.76017908e+00  5.55121358e+00]\n",
      " [-1.23606555e+00  4.48382994e+00]\n",
      " [-9.97584967e+00 -4.42202236e+00]\n",
      " [-2.10668847e+00  5.63099757e+00]\n",
      " [-4.73558876e+00 -4.23748969e+00]\n",
      " [-1.07233096e+01 -4.82111722e+00]\n",
      " [-8.26074369e+00 -5.64724782e+00]\n",
      " [-6.88384344e+00 -7.04605265e+00]\n",
      " [-2.15777347e+00  4.09550489e+00]\n",
      " [-7.85988444e+00 -4.73888254e+00]\n",
      " [-4.60642026e-01  4.59164629e+00]\n",
      " [-5.05685487e+00 -5.02946642e+00]\n",
      " [-7.66055006e+00 -8.46234942e+00]\n",
      " [-8.41923982e+00 -3.45834788e+00]\n",
      " [-1.09947323e+01 -4.06014253e+00]\n",
      " [-6.71376529e+00 -8.22199857e+00]\n",
      " [-1.07972600e+01 -4.24494314e+00]\n",
      " [-8.23746328e+00 -4.01400104e+00]\n",
      " [-2.93211866e+00  4.72003759e+00]\n",
      " [-1.66145139e+00  3.00986944e+00]\n",
      " [-7.65734347e+00 -1.04581360e+01]\n",
      " [-9.98054778e+00 -4.38249083e+00]\n",
      " [-5.51940374e+00 -2.38780334e+00]\n",
      " [-1.96967668e+00  1.97165210e+00]\n",
      " [-3.88464981e+00 -2.84336261e+00]\n",
      " [-5.82969906e+00 -2.99067321e+00]\n",
      " [-6.66700176e+00 -9.14923899e+00]\n",
      " [-6.62889599e+00 -8.84071550e+00]\n",
      " [-6.48944961e+00 -2.06753733e+00]\n",
      " [-7.17134231e+00 -1.09442245e+01]\n",
      " [-1.13042466e+01 -3.87696807e+00]\n",
      " [-9.53654840e+00 -5.12933122e+00]\n",
      " [-6.09866132e+00 -7.42731125e+00]\n",
      " [-8.78925618e+00 -2.83764674e+00]\n",
      " [-7.32386504e+00 -7.96393491e+00]\n",
      " [-1.00330804e+01 -1.84274349e+00]\n",
      " [-1.03619773e+00  3.97153319e+00]\n",
      " [-6.42829877e+00 -6.74397472e+00]\n",
      " [-2.87930430e+00  6.85585852e+00]\n",
      " [-1.05299465e+01 -2.83521515e+00]\n",
      " [-6.11423078e+00 -3.20893543e+00]\n",
      " [-1.78245013e+00  3.47072043e+00]\n",
      " [-8.95271809e+00 -3.34483385e+00]\n",
      " [-5.16617901e+00 -3.79170586e+00]\n",
      " [-1.64215050e+00  3.28447114e+00]\n",
      " [-8.33534296e+00 -7.87023257e+00]\n",
      " [-6.31107706e+00 -3.92118081e+00]\n",
      " [-1.78002448e+00  3.17336913e+00]\n",
      " [-1.68417686e+00  3.63132825e+00]\n",
      " [-1.05552072e+01 -3.01417980e+00]\n",
      " [-5.34354009e+00 -2.13897664e+00]\n",
      " [-1.15365057e+01 -4.40124373e+00]\n",
      " [-4.89503758e+00 -2.48633456e+00]\n",
      " [-5.44396990e+00 -8.95941292e+00]\n",
      " [-1.58173878e+00  5.02487013e+00]\n",
      " [-7.02993859e+00 -6.69931052e+00]\n",
      " [-6.17074238e+00 -2.56078204e+00]\n",
      " [-2.22186534e+00  6.36136794e+00]\n",
      " [-7.57385446e+00 -8.31971406e+00]\n",
      " [-7.65822594e+00 -7.64292051e+00]\n",
      " [-6.89501293e+00 -9.31723608e+00]\n",
      " [-1.11141825e+01 -3.87242145e+00]\n",
      " [-7.94152277e-01  2.10495117e+00]\n",
      " [-6.42803193e+00 -5.52129397e+00]\n",
      " [-5.89780702e+00 -8.19289680e+00]\n",
      " [-6.59169697e+00 -2.44779959e+00]\n",
      " [-6.45785776e+00 -3.30981436e+00]\n",
      " [-1.07755713e+01 -2.83750744e+00]\n",
      " [-1.02341495e+01 -3.22553505e+00]\n",
      " [-6.26681839e+00 -8.25516014e+00]\n",
      " [-5.20580980e+00 -3.29853839e+00]\n",
      " [-5.46045264e+00 -2.30831553e+00]\n",
      " [-7.04259952e+00 -3.45332351e+00]\n",
      " [-6.09962804e+00 -3.14226915e+00]\n",
      " [-5.66006950e+00 -3.43776965e+00]\n",
      " [-7.08097398e+00 -3.03972377e+00]\n",
      " [-8.41264712e+00 -6.68248825e+00]\n",
      " [-7.36513410e+00 -1.38859731e+00]\n",
      " [-1.04166504e+01 -4.43253346e+00]\n",
      " [-6.41623854e+00 -8.04588481e+00]\n",
      " [-5.88919348e+00 -2.37049472e+00]\n",
      " [-1.42946517e+00  5.16850105e+00]\n",
      " [-6.56118069e+00 -3.95967311e+00]\n",
      " [-1.47299851e+00  4.81654152e+00]\n",
      " [-5.88100804e+00 -3.31692615e+00]\n",
      " [-1.04125594e+01 -3.50140251e+00]\n",
      " [-8.55209377e+00 -3.15841000e+00]\n",
      " [-7.90673749e-01  5.15690151e+00]\n",
      " [-1.00754365e-01  4.51589257e+00]\n",
      " [-1.30901393e+00  3.09420646e+00]\n",
      " [-9.54755699e+00 -2.18801345e+00]\n",
      " [-5.32030011e+00 -2.99303869e+00]\n",
      " [-9.48229870e+00 -5.06821960e+00]\n",
      " [-6.74361627e+00 -8.87844303e+00]\n",
      " [-1.02518924e+01 -2.55350460e+00]\n",
      " [-1.96576392e+00  5.23446451e+00]\n",
      " [-5.88036774e+00 -2.36326290e+00]\n",
      " [-7.34774574e+00 -8.41955499e+00]\n",
      " [-7.58703957e-01  3.72276201e+00]\n",
      " [-8.41357863e+00 -6.85069257e+00]\n",
      " [-8.20576492e-01  5.33759195e+00]\n",
      " [-7.93489041e+00 -7.78403764e+00]\n",
      " [-5.69446566e+00 -4.06205304e+00]\n",
      " [-8.57698874e-01  4.45305717e+00]\n",
      " [ 1.50975008e-01  3.10076295e+00]\n",
      " [-6.55394441e+00 -6.44256627e+00]\n",
      " [-1.09316272e+01 -4.48636887e+00]\n",
      " [-6.50155596e+00 -4.65329331e+00]\n",
      " [-6.93650519e+00 -6.39281292e+00]\n",
      " [-1.01336898e+01 -4.75061833e+00]\n",
      " [-9.89148978e+00 -5.47902886e+00]\n",
      " [-8.89871617e+00 -4.85498304e+00]\n",
      " [-8.11394993e+00 -7.83656921e+00]\n",
      " [-5.29078354e+00 -3.64846688e+00]\n",
      " [-1.41076074e+00  4.10984872e+00]\n",
      " [-9.50537595e+00 -4.63402669e+00]\n",
      " [-7.82749456e+00 -2.51032104e+00]\n",
      " [-6.38088086e+00 -8.50663809e+00]\n",
      " [-8.96014913e+00 -8.06349899e+00]\n",
      " [-7.66603898e+00 -7.59715459e+00]\n",
      " [-6.46534407e+00 -2.85544633e+00]]\n"
     ]
    },
    {
     "ename": "TypeError",
     "evalue": "'<=' not supported between instances of 'str' and 'int'",
     "output_type": "error",
     "traceback": [
      "\u001B[1;31m---------------------------------------------------------------------------\u001B[0m",
      "\u001B[1;31mTypeError\u001B[0m                                 Traceback (most recent call last)",
      "\u001B[1;32m~\\AppData\\Local\\Temp/ipykernel_15132/450793926.py\u001B[0m in \u001B[0;36m<module>\u001B[1;34m\u001B[0m\n\u001B[0;32m     39\u001B[0m     \u001B[0mclusterer\u001B[0m \u001B[1;33m=\u001B[0m \u001B[0mKMeans\u001B[0m\u001B[1;33m(\u001B[0m\u001B[0mn_clusters\u001B[0m\u001B[1;33m=\u001B[0m\u001B[0mn_clusters\u001B[0m\u001B[1;33m,\u001B[0m \u001B[0mn_init\u001B[0m\u001B[1;33m=\u001B[0m\u001B[1;34m\"auto\"\u001B[0m\u001B[1;33m,\u001B[0m \u001B[0mrandom_state\u001B[0m\u001B[1;33m=\u001B[0m\u001B[1;36m10\u001B[0m\u001B[1;33m)\u001B[0m\u001B[1;33m\u001B[0m\u001B[1;33m\u001B[0m\u001B[0m\n\u001B[0;32m     40\u001B[0m     \u001B[0mprint\u001B[0m\u001B[1;33m(\u001B[0m\u001B[0mX\u001B[0m\u001B[1;33m)\u001B[0m\u001B[1;33m\u001B[0m\u001B[1;33m\u001B[0m\u001B[0m\n\u001B[1;32m---> 41\u001B[1;33m     \u001B[0mcluster_labels\u001B[0m \u001B[1;33m=\u001B[0m \u001B[0mclusterer\u001B[0m\u001B[1;33m.\u001B[0m\u001B[0mfit_predict\u001B[0m\u001B[1;33m(\u001B[0m\u001B[0mX\u001B[0m\u001B[1;33m)\u001B[0m\u001B[1;33m\u001B[0m\u001B[1;33m\u001B[0m\u001B[0m\n\u001B[0m\u001B[0;32m     42\u001B[0m \u001B[1;33m\u001B[0m\u001B[0m\n\u001B[0;32m     43\u001B[0m     \u001B[1;31m# The silhouette_score gives the average value for all the samples.\u001B[0m\u001B[1;33m\u001B[0m\u001B[1;33m\u001B[0m\u001B[0m\n",
      "\u001B[1;32m~\\anaconda3\\lib\\site-packages\\sklearn\\cluster\\_kmeans.py\u001B[0m in \u001B[0;36mfit_predict\u001B[1;34m(self, X, y, sample_weight)\u001B[0m\n\u001B[0;32m   1075\u001B[0m             \u001B[0mIndex\u001B[0m \u001B[0mof\u001B[0m \u001B[0mthe\u001B[0m \u001B[0mcluster\u001B[0m \u001B[0meach\u001B[0m \u001B[0msample\u001B[0m \u001B[0mbelongs\u001B[0m \u001B[0mto\u001B[0m\u001B[1;33m.\u001B[0m\u001B[1;33m\u001B[0m\u001B[1;33m\u001B[0m\u001B[0m\n\u001B[0;32m   1076\u001B[0m         \"\"\"\n\u001B[1;32m-> 1077\u001B[1;33m         \u001B[1;32mreturn\u001B[0m \u001B[0mself\u001B[0m\u001B[1;33m.\u001B[0m\u001B[0mfit\u001B[0m\u001B[1;33m(\u001B[0m\u001B[0mX\u001B[0m\u001B[1;33m,\u001B[0m \u001B[0msample_weight\u001B[0m\u001B[1;33m=\u001B[0m\u001B[0msample_weight\u001B[0m\u001B[1;33m)\u001B[0m\u001B[1;33m.\u001B[0m\u001B[0mlabels_\u001B[0m\u001B[1;33m\u001B[0m\u001B[1;33m\u001B[0m\u001B[0m\n\u001B[0m\u001B[0;32m   1078\u001B[0m \u001B[1;33m\u001B[0m\u001B[0m\n\u001B[0;32m   1079\u001B[0m     \u001B[1;32mdef\u001B[0m \u001B[0mfit_transform\u001B[0m\u001B[1;33m(\u001B[0m\u001B[0mself\u001B[0m\u001B[1;33m,\u001B[0m \u001B[0mX\u001B[0m\u001B[1;33m,\u001B[0m \u001B[0my\u001B[0m\u001B[1;33m=\u001B[0m\u001B[1;32mNone\u001B[0m\u001B[1;33m,\u001B[0m \u001B[0msample_weight\u001B[0m\u001B[1;33m=\u001B[0m\u001B[1;32mNone\u001B[0m\u001B[1;33m)\u001B[0m\u001B[1;33m:\u001B[0m\u001B[1;33m\u001B[0m\u001B[1;33m\u001B[0m\u001B[0m\n",
      "\u001B[1;32m~\\anaconda3\\lib\\site-packages\\sklearn\\cluster\\_kmeans.py\u001B[0m in \u001B[0;36mfit\u001B[1;34m(self, X, y, sample_weight)\u001B[0m\n\u001B[0;32m    982\u001B[0m                                 accept_large_sparse=False)\n\u001B[0;32m    983\u001B[0m \u001B[1;33m\u001B[0m\u001B[0m\n\u001B[1;32m--> 984\u001B[1;33m         \u001B[0mself\u001B[0m\u001B[1;33m.\u001B[0m\u001B[0m_check_params\u001B[0m\u001B[1;33m(\u001B[0m\u001B[0mX\u001B[0m\u001B[1;33m)\u001B[0m\u001B[1;33m\u001B[0m\u001B[1;33m\u001B[0m\u001B[0m\n\u001B[0m\u001B[0;32m    985\u001B[0m         \u001B[0mrandom_state\u001B[0m \u001B[1;33m=\u001B[0m \u001B[0mcheck_random_state\u001B[0m\u001B[1;33m(\u001B[0m\u001B[0mself\u001B[0m\u001B[1;33m.\u001B[0m\u001B[0mrandom_state\u001B[0m\u001B[1;33m)\u001B[0m\u001B[1;33m\u001B[0m\u001B[1;33m\u001B[0m\u001B[0m\n\u001B[0;32m    986\u001B[0m         \u001B[0msample_weight\u001B[0m \u001B[1;33m=\u001B[0m \u001B[0m_check_sample_weight\u001B[0m\u001B[1;33m(\u001B[0m\u001B[0msample_weight\u001B[0m\u001B[1;33m,\u001B[0m \u001B[0mX\u001B[0m\u001B[1;33m,\u001B[0m \u001B[0mdtype\u001B[0m\u001B[1;33m=\u001B[0m\u001B[0mX\u001B[0m\u001B[1;33m.\u001B[0m\u001B[0mdtype\u001B[0m\u001B[1;33m)\u001B[0m\u001B[1;33m\u001B[0m\u001B[1;33m\u001B[0m\u001B[0m\n",
      "\u001B[1;32m~\\anaconda3\\lib\\site-packages\\sklearn\\cluster\\_kmeans.py\u001B[0m in \u001B[0;36m_check_params\u001B[1;34m(self, X)\u001B[0m\n\u001B[0;32m    798\u001B[0m \u001B[1;33m\u001B[0m\u001B[0m\n\u001B[0;32m    799\u001B[0m         \u001B[1;31m# n_init\u001B[0m\u001B[1;33m\u001B[0m\u001B[1;33m\u001B[0m\u001B[0m\n\u001B[1;32m--> 800\u001B[1;33m         \u001B[1;32mif\u001B[0m \u001B[0mself\u001B[0m\u001B[1;33m.\u001B[0m\u001B[0mn_init\u001B[0m \u001B[1;33m<=\u001B[0m \u001B[1;36m0\u001B[0m\u001B[1;33m:\u001B[0m\u001B[1;33m\u001B[0m\u001B[1;33m\u001B[0m\u001B[0m\n\u001B[0m\u001B[0;32m    801\u001B[0m             raise ValueError(\n\u001B[0;32m    802\u001B[0m                 f\"n_init should be > 0, got {self.n_init} instead.\")\n",
      "\u001B[1;31mTypeError\u001B[0m: '<=' not supported between instances of 'str' and 'int'"
     ]
    },
    {
     "data": {
      "text/plain": "<Figure size 1296x504 with 2 Axes>",
      "image/png": "[encoded data removed]"
     },
     "metadata": {
      "needs_background": "light"
     },
     "output_type": "display_data"
    }
   ],
   "source": [
    "from sklearn.datasets import make_blobs\n",
    "from sklearn.cluster import KMeans\n",
    "from sklearn.metrics import silhouette_samples, silhouette_score\n",
    "\n",
    "import matplotlib.pyplot as plt\n",
    "import matplotlib.cm as cm\n",
    "import numpy as np\n",
    "\n",
    "# Generating the sample data from make_blobs\n",
    "# This particular setting has one distinct cluster and 3 clusters placed close\n",
    "# together.\n",
    "X, y = make_blobs(\n",
    "    n_samples=500,\n",
    "    n_features=2,\n",
    "    centers=4,\n",
    "    cluster_std=1,\n",
    "    center_box=(-10.0, 10.0),\n",
    "    shuffle=True,\n",
    "    random_state=1,\n",
    ")  # For reproducibility\n",
    "\n",
    "range_n_clusters = [2, 3, 4, 5, 6]\n",
    "\n",
    "for n_clusters in range_n_clusters:\n",
    "    # Create a subplot with 1 row and 2 columns\n",
    "    fig, (ax1, ax2) = plt.subplots(1, 2)\n",
    "    fig.set_size_inches(18, 7)\n",
    "\n",
    "    # The 1st subplot is the silhouette plot\n",
    "    # The silhouette coefficient can range from -1, 1 but in this example all\n",
    "    # lie within [-0.1, 1]\n",
    "    ax1.set_xlim([-0.1, 1])\n",
    "    # The (n_clusters+1)*10 is for inserting blank space between silhouette\n",
    "    # plots of individual clusters, to demarcate them clearly.\n",
    "    ax1.set_ylim([0, len(X) + (n_clusters + 1) * 10])\n",
    "\n",
    "    # Initialize the clusterer with n_clusters value and a random generator\n",
    "    # seed of 10 for reproducibility.\n",
    "    clusterer = KMeans(n_clusters=n_clusters, n_init=\"auto\", random_state=10)\n",
    "    print(X)\n",
    "    cluster_labels = clusterer.fit_predict(X)\n",
    "\n",
    "    # The silhouette_score gives the average value for all the samples.\n",
    "    # This gives a perspective into the density and separation of the formed\n",
    "    # clusters\n",
    "    silhouette_avg = silhouette_score(X, cluster_labels)\n",
    "    print(\n",
    "        \"For n_clusters =\",\n",
    "        n_clusters,\n",
    "        \"The average silhouette_score is :\",\n",
    "        silhouette_avg,\n",
    "    )\n",
    "\n",
    "    # Compute the silhouette scores for each sample\n",
    "    sample_silhouette_values = silhouette_samples(X, cluster_labels)\n",
    "\n",
    "    y_lower = 10\n",
    "    for i in range(n_clusters):\n",
    "        # Aggregate the silhouette scores for samples belonging to\n",
    "        # cluster i, and sort them\n",
    "        ith_cluster_silhouette_values = sample_silhouette_values[cluster_labels == i]\n",
    "\n",
    "        ith_cluster_silhouette_values.sort()\n",
    "\n",
    "        size_cluster_i = ith_cluster_silhouette_values.shape[0]\n",
    "        y_upper = y_lower + size_cluster_i\n",
    "\n",
    "        color = cm.nipy_spectral(float(i) / n_clusters)\n",
    "        ax1.fill_betweenx(\n",
    "            np.arange(y_lower, y_upper),\n",
    "            0,\n",
    "            ith_cluster_silhouette_values,\n",
    "            facecolor=color,\n",
    "            edgecolor=color,\n",
    "            alpha=0.7,\n",
    "        )\n",
    "\n",
    "        # Label the silhouette plots with their cluster numbers at the middle\n",
    "        ax1.text(-0.05, y_lower + 0.5 * size_cluster_i, str(i))\n",
    "\n",
    "        # Compute the new y_lower for next plot\n",
    "        y_lower = y_upper + 10  # 10 for the 0 samples\n",
    "\n",
    "    ax1.set_title(\"The silhouette plot for the various clusters.\")\n",
    "    ax1.set_xlabel(\"The silhouette coefficient values\")\n",
    "    ax1.set_ylabel(\"Cluster label\")\n",
    "\n",
    "    # The vertical line for average silhouette score of all the values\n",
    "    ax1.axvline(x=silhouette_avg, color=\"red\", linestyle=\"--\")\n",
    "\n",
    "    ax1.set_yticks([])  # Clear the yaxis labels / ticks\n",
    "    ax1.set_xticks([-0.1, 0, 0.2, 0.4, 0.6, 0.8, 1])\n",
    "\n",
    "    # 2nd Plot showing the actual clusters formed\n",
    "    colors = cm.nipy_spectral(cluster_labels.astype(float) / n_clusters)\n",
    "    ax2.scatter(\n",
    "        X[:, 0], X[:, 1], marker=\".\", s=30, lw=0, alpha=0.7, c=colors, edgecolor=\"k\"\n",
    "    )\n",
    "\n",
    "    # Labeling the clusters\n",
    "    centers = clusterer.cluster_centers_\n",
    "    # Draw white circles at cluster centers\n",
    "    ax2.scatter(\n",
    "        centers[:, 0],\n",
    "        centers[:, 1],\n",
    "        marker=\"o\",\n",
    "        c=\"white\",\n",
    "        alpha=1,\n",
    "        s=200,\n",
    "        edgecolor=\"k\",\n",
    "    )\n",
    "\n",
    "    for i, c in enumerate(centers):\n",
    "        ax2.scatter(c[0], c[1], marker=\"$%d$\" % i, alpha=1, s=50, edgecolor=\"k\")\n",
    "\n",
    "    ax2.set_title(\"The visualization of the clustered data.\")\n",
    "    ax2.set_xlabel(\"Feature space for the 1st feature\")\n",
    "    ax2.set_ylabel(\"Feature space for the 2nd feature\")\n",
    "\n",
    "    plt.suptitle(\n",
    "        \"Silhouette analysis for KMeans clustering on sample data with n_clusters = %d\"\n",
    "        % n_clusters,\n",
    "        fontsize=14,\n",
    "        fontweight=\"bold\",\n",
    "    )\n",
    "\n",
    "plt.show()\n"
   ],
   "metadata": {
    "collapsed": false,
    "pycharm": {
     "name": "#%%\n"
    }
   }
  },
  {
   "cell_type": "code",
   "execution_count": null,
   "outputs": [],
   "source": [],
   "metadata": {
    "collapsed": false,
    "pycharm": {
     "name": "#%%\n"
    }
   }
  }
 ],
 "metadata": {
  "kernelspec": {
   "display_name": "Python 3",
   "language": "python",
   "name": "python3"
  },
  "language_info": {
   "codemirror_mode": {
    "name": "ipython",
    "version": 2
   },
   "file_extension": ".py",
   "mimetype": "text/x-python",
   "name": "python",
   "nbconvert_exporter": "python",
   "pygments_lexer": "ipython2",
   "version": "2.7.6"
  }
 },
 "nbformat": 4,
 "nbformat_minor": 0
}