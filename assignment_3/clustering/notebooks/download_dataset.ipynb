{
 "cells": [
  {
   "cell_type": "code",
   "execution_count": null,
   "outputs": [
    {
     "name": "stderr",
     "output_type": "stream",
     "text": [
      "2023-02-09 13:04:15.916 | INFO     | clustering.utils:create_dir:26 - Creating C:\\Users\\user\\Documents\\GitHub\\AI_assignments\\assignment_3\\clustering\\datasets\n",
      "2023-02-09 13:04:15.916 | INFO     | clustering.io:download_dataset:22 - Fetching data\n"
     ]
    }
   ],
   "source": [
    "from clustering.io import download_dataset\n",
    "\n",
    "download_dataset()"
   ],
   "metadata": {
    "collapsed": false,
    "pycharm": {
     "name": "#%%\n",
     "is_executing": true
    }
   }
  }
 ],
 "metadata": {
  "kernelspec": {
   "display_name": "Python 3",
   "language": "python",
   "name": "python3"
  },
  "language_info": {
   "codemirror_mode": {
    "name": "ipython",
    "version": 2
   },
   "file_extension": ".py",
   "mimetype": "text/x-python",
   "name": "python",
   "nbconvert_exporter": "python",
   "pygments_lexer": "ipython2",
   "version": "2.7.6"
  }
 },
 "nbformat": 4,
 "nbformat_minor": 0
}