{
 "cells": [
  {
   "cell_type": "markdown",
   "source": [
    "# Normalized Cut"
   ],
   "metadata": {
    "collapsed": false
   }
  },
  {
   "cell_type": "markdown",
   "source": [
    "## Reading dataset"
   ],
   "metadata": {
    "collapsed": false
   }
  },
  {
   "cell_type": "code",
   "execution_count": 1,
   "outputs": [],
   "source": [
    "from assignment_3.clustering.io import read_small_dataset\n",
    "from assignment_3.clustering.model import NormalizedCutEvaluation, DataClusterSplit"
   ],
   "metadata": {
    "collapsed": false,
    "pycharm": {
     "name": "#%%\n"
    }
   }
  },
  {
   "cell_type": "code",
   "execution_count": 2,
   "outputs": [
    {
     "name": "stderr",
     "output_type": "stream",
     "text": [
      "2023-02-26 17:49:42.583 | INFO     | assignment_3.clustering.io:read_small_dataset:50 - Reading datasets\n"
     ]
    },
    {
     "data": {
      "text/plain": "[Features: 784; Length: 1050]"
     },
     "execution_count": 2,
     "metadata": {},
     "output_type": "execute_result"
    }
   ],
   "source": [
    "data = read_small_dataset().reduce_to_percentage(0.1)\n",
    "data"
   ],
   "metadata": {
    "collapsed": false,
    "pycharm": {
     "name": "#%%\n"
    }
   }
  },
  {
   "cell_type": "code",
   "execution_count": 3,
   "outputs": [],
   "source": [
    "X, y = data"
   ],
   "metadata": {
    "collapsed": false,
    "pycharm": {
     "name": "#%%\n"
    }
   }
  },
  {
   "cell_type": "markdown",
   "source": [
    "## Construct iteration"
   ],
   "metadata": {
    "collapsed": false
   }
  },
  {
   "cell_type": "code",
   "execution_count": 4,
   "outputs": [
    {
     "data": {
      "text/plain": "NormalizedCutEvaluation [n_components: [2, 5, 10, 20, 30], k: [5, 10, 15]]"
     },
     "execution_count": 4,
     "metadata": {},
     "output_type": "execute_result"
    }
   ],
   "source": [
    "ncut_evaluation = NormalizedCutEvaluation(\n",
    "    data=data,\n",
    "    n_components=[2, 5, 10, 20, 30],\n",
    "    hyperparameter=[5, 10, 15]\n",
    "    #n_components=[2, 5, 10, 20, 30, 50, 100, 130, 170, 200],\n",
    "    #hyperparameter=[0.01, 0.05, 0.1, 0.2, 0.3, 0.4, 0.5, 0.75]\n",
    ")\n",
    "ncut_evaluation"
   ],
   "metadata": {
    "collapsed": false,
    "pycharm": {
     "name": "#%%\n"
    }
   }
  },
  {
   "cell_type": "code",
   "execution_count": 5,
   "outputs": [
    {
     "name": "stdout",
     "output_type": "stream",
     "text": [
      "Processing number of clusters K: 5\n",
      "  > Processed number of component: 2 [0.18235 s] \n",
      "  > Processed number of component: 5 [0.18792 s] \n",
      "  > Processed number of component: 10 [0.20267 s] \n",
      "  > Processed number of component: 20 [0.22994 s] \n",
      "  > Processed number of component: 30 [0.23378 s] \n",
      "Processing number of clusters K: 10\n",
      "  > Processed number of component: 2 [0.34470 s] \n",
      "  > Processed number of component: 5 [0.26103 s] \n",
      "  > Processed number of component: 10 [0.23308 s] \n",
      "  > Processed number of component: 20 [0.24541 s] \n",
      "  > Processed number of component: 30 [0.24409 s] \n",
      "Processing number of clusters K: 15\n",
      "  > Processed number of component: 2 [1.02377 s] \n",
      "  > Processed number of component: 5 [0.26495 s] \n",
      "  > Processed number of component: 10 [0.26341 s] \n",
      "  > Processed number of component: 20 [0.25691 s] \n",
      "  > Processed number of component: 30 [0.29392 s] \n",
      "Wall time: 5.21 s\n"
     ]
    }
   ],
   "source": [
    "%%time\n",
    "ncut_evaluation.evaluate()"
   ],
   "metadata": {
    "collapsed": false,
    "pycharm": {
     "name": "#%%\n"
    }
   }
  },
  {
   "cell_type": "code",
   "execution_count": 6,
   "outputs": [
    {
     "data": {
      "text/plain": "{5: {2: {'score': 0.724546733850833,\n   'n_clusters': 5,\n   'time': 0.18235279999999943},\n  5: {'score': 0.8011548413454991,\n   'n_clusters': 5,\n   'time': 0.18792290000000023},\n  10: {'score': 0.7862617458804303,\n   'n_clusters': 5,\n   'time': 0.20266870000000026},\n  20: {'score': 0.7743992010531572,\n   'n_clusters': 5,\n   'time': 0.2299414000000004},\n  30: {'score': 0.765007944073721,\n   'n_clusters': 5,\n   'time': 0.2337756999999998}},\n 10: {2: {'score': 0.8454764174497253,\n   'n_clusters': 10,\n   'time': 0.34469740000000026},\n  5: {'score': 0.8469417585909483,\n   'n_clusters': 10,\n   'time': 0.26102950000000025},\n  10: {'score': 0.8713586635798266,\n   'n_clusters': 10,\n   'time': 0.23307900000000004},\n  20: {'score': 0.8647546416087885,\n   'n_clusters': 10,\n   'time': 0.24540579999999945},\n  30: {'score': 0.8676762449498389,\n   'n_clusters': 10,\n   'time': 0.24409499999999973}},\n 15: {2: {'score': 0.8455163647918653,\n   'n_clusters': 15,\n   'time': 1.0237669999999994},\n  5: {'score': 0.8652957465159562,\n   'n_clusters': 15,\n   'time': 0.2649485000000009},\n  10: {'score': 0.8806827363929366,\n   'n_clusters': 15,\n   'time': 0.2634147999999996},\n  20: {'score': 0.8935457805619865,\n   'n_clusters': 15,\n   'time': 0.2569050999999991},\n  30: {'score': 0.8942557537791094,\n   'n_clusters': 15,\n   'time': 0.29391810000000085}}}"
     },
     "execution_count": 6,
     "metadata": {},
     "output_type": "execute_result"
    }
   ],
   "source": [
    "ncut_evaluation.results"
   ],
   "metadata": {
    "collapsed": false,
    "pycharm": {
     "name": "#%%\n"
    }
   }
  },
  {
   "cell_type": "code",
   "execution_count": 7,
   "outputs": [
    {
     "data": {
      "text/plain": "NormalizedCut[N-rows: 1050; N-components: 30; , Score: 0.8942557537791094, N-clusters: 15] [K: 15] "
     },
     "execution_count": 7,
     "metadata": {},
     "output_type": "execute_result"
    }
   ],
   "source": [
    "ncut_evaluation.best_model"
   ],
   "metadata": {
    "collapsed": false,
    "pycharm": {
     "name": "#%%\n"
    }
   }
  },
  {
   "cell_type": "code",
   "execution_count": 8,
   "outputs": [
    {
     "data": {
      "text/plain": "<Figure size 432x288 with 1 Axes>",
      "image/png": "[encoded data removed]"
     },
     "metadata": {
      "needs_background": "light"
     },
     "output_type": "display_data"
    }
   ],
   "source": [
    "ncut_evaluation.plot_score()"
   ],
   "metadata": {
    "collapsed": false,
    "pycharm": {
     "name": "#%%\n"
    }
   }
  },
  {
   "cell_type": "code",
   "execution_count": 9,
   "outputs": [
    {
     "data": {
      "text/plain": "<Figure size 432x288 with 1 Axes>",
      "image/png": "[encoded data removed]"
     },
     "metadata": {
      "needs_background": "light"
     },
     "output_type": "display_data"
    }
   ],
   "source": [
    "ncut_evaluation.plot_n_clusters()"
   ],
   "metadata": {
    "collapsed": false,
    "pycharm": {
     "name": "#%%\n"
    }
   }
  },
  {
   "cell_type": "code",
   "execution_count": 10,
   "outputs": [
    {
     "data": {
      "text/plain": "<Figure size 432x288 with 1 Axes>",
      "image/png": "[encoded data removed]"
     },
     "metadata": {
      "needs_background": "light"
     },
     "output_type": "display_data"
    }
   ],
   "source": [
    "ncut_evaluation.plot_time()"
   ],
   "metadata": {
    "collapsed": false,
    "pycharm": {
     "name": "#%%\n"
    }
   }
  },
  {
   "cell_type": "markdown",
   "source": [],
   "metadata": {
    "collapsed": false
   }
  },
  {
   "cell_type": "markdown",
   "source": [
    "## Best model"
   ],
   "metadata": {
    "collapsed": false
   }
  },
  {
   "cell_type": "code",
   "execution_count": 11,
   "outputs": [],
   "source": [
    "best = ncut_evaluation.best_model"
   ],
   "metadata": {
    "collapsed": false,
    "pycharm": {
     "name": "#%%\n"
    }
   }
  },
  {
   "cell_type": "code",
   "execution_count": 12,
   "outputs": [
    {
     "data": {
      "text/plain": "NormalizedCut[N-rows: 1050; N-components: 30; , Score: 0.8942557537791094, N-clusters: 15] [K: 15] "
     },
     "execution_count": 12,
     "metadata": {},
     "output_type": "execute_result"
    }
   ],
   "source": [
    "best"
   ],
   "metadata": {
    "collapsed": false,
    "pycharm": {
     "name": "#%%\n"
    }
   }
  },
  {
   "cell_type": "code",
   "execution_count": 13,
   "outputs": [],
   "source": [
    "clusters = DataClusterSplit(data=data, index=best.out)"
   ],
   "metadata": {
    "collapsed": false,
    "pycharm": {
     "name": "#%%\n"
    }
   }
  },
  {
   "cell_type": "code",
   "execution_count": 14,
   "outputs": [
    {
     "data": {
      "text/plain": "Cluster Data Split [Data: 1050, Clusters: 15, Mean-per-Cluster: 70] "
     },
     "execution_count": 14,
     "metadata": {},
     "output_type": "execute_result"
    }
   ],
   "source": [
    "clusters"
   ],
   "metadata": {
    "collapsed": false,
    "pycharm": {
     "name": "#%%\n"
    }
   }
  },
  {
   "cell_type": "code",
   "execution_count": 15,
   "outputs": [
    {
     "data": {
      "text/plain": "<Figure size 432x288 with 1 Axes>",
      "image/png": "[encoded data removed]"
     },
     "metadata": {
      "needs_background": "light"
     },
     "output_type": "display_data"
    }
   ],
   "source": [
    "clusters.frequencies_histo()"
   ],
   "metadata": {
    "collapsed": false,
    "pycharm": {
     "name": "#%%\n"
    }
   }
  },
  {
   "cell_type": "code",
   "execution_count": 16,
   "outputs": [
    {
     "name": "stdout",
     "output_type": "stream",
     "text": [
      "[Mode 5: {5: 20, 4: 17, 0: 13, 8: 10, 2: 8, 6: 6, 7: 5, 9: 3, 3: 2}] \n"
     ]
    },
    {
     "data": {
      "text/plain": "<Figure size 432x288 with 1 Axes>",
      "image/png": "[encoded data removed]"
     },
     "metadata": {
      "needs_background": "light"
     },
     "output_type": "display_data"
    },
    {
     "name": "stdout",
     "output_type": "stream",
     "text": [
      "[Mode 6: {6: 51, 0: 7, 5: 7, 8: 2, 3: 2, 9: 1}] \n"
     ]
    },
    {
     "data": {
      "text/plain": "<Figure size 432x288 with 1 Axes>",
      "image/png": "[encoded data removed]"
     },
     "metadata": {
      "needs_background": "light"
     },
     "output_type": "display_data"
    },
    {
     "name": "stdout",
     "output_type": "stream",
     "text": [
      "[Mode 7: {7: 42, 9: 3, 3: 1}] \n"
     ]
    },
    {
     "data": {
      "text/plain": "<Figure size 432x288 with 1 Axes>",
      "image/png": "[encoded data removed]"
     },
     "metadata": {
      "needs_background": "light"
     },
     "output_type": "display_data"
    },
    {
     "name": "stdout",
     "output_type": "stream",
     "text": [
      "[Mode 0: {0: 47}] \n"
     ]
    },
    {
     "data": {
      "text/plain": "<Figure size 432x288 with 1 Axes>",
      "image/png": "[encoded data removed]"
     },
     "metadata": {
      "needs_background": "light"
     },
     "output_type": "display_data"
    },
    {
     "name": "stdout",
     "output_type": "stream",
     "text": [
      "[Mode 0: {0: 30}] \n"
     ]
    },
    {
     "data": {
      "text/plain": "<Figure size 432x288 with 1 Axes>",
      "image/png": "[encoded data removed]"
     },
     "metadata": {
      "needs_background": "light"
     },
     "output_type": "display_data"
    },
    {
     "name": "stdout",
     "output_type": "stream",
     "text": [
      "[Mode 3: {3: 35, 5: 19, 8: 7, 2: 4, 0: 2}] \n"
     ]
    },
    {
     "data": {
      "text/plain": "<Figure size 432x288 with 1 Axes>",
      "image/png": "[encoded data removed]"
     },
     "metadata": {
      "needs_background": "light"
     },
     "output_type": "display_data"
    },
    {
     "name": "stdout",
     "output_type": "stream",
     "text": [
      "[Mode 9: {9: 25, 7: 24, 4: 22, 8: 2}] \n"
     ]
    },
    {
     "data": {
      "text/plain": "<Figure size 432x288 with 1 Axes>",
      "image/png": "[encoded data removed]"
     },
     "metadata": {
      "needs_background": "light"
     },
     "output_type": "display_data"
    },
    {
     "name": "stdout",
     "output_type": "stream",
     "text": [
      "[Mode 6: {6: 38, 5: 18, 0: 7, 2: 2, 8: 1, 1: 1}] \n"
     ]
    },
    {
     "data": {
      "text/plain": "<Figure size 432x288 with 1 Axes>",
      "image/png": "[encoded data removed]"
     },
     "metadata": {
      "needs_background": "light"
     },
     "output_type": "display_data"
    },
    {
     "name": "stdout",
     "output_type": "stream",
     "text": [
      "[Mode 9: {9: 43, 4: 36, 7: 5, 5: 5, 8: 3, 3: 1}] \n"
     ]
    },
    {
     "data": {
      "text/plain": "<Figure size 432x288 with 1 Axes>",
      "image/png": "[encoded data removed]"
     },
     "metadata": {
      "needs_background": "light"
     },
     "output_type": "display_data"
    },
    {
     "name": "stdout",
     "output_type": "stream",
     "text": [
      "[Mode 1: {1: 70, 2: 5, 3: 2, 8: 1, 7: 1}] \n"
     ]
    },
    {
     "data": {
      "text/plain": "<Figure size 432x288 with 1 Axes>",
      "image/png": "[encoded data removed]"
     },
     "metadata": {
      "needs_background": "light"
     },
     "output_type": "display_data"
    },
    {
     "name": "stdout",
     "output_type": "stream",
     "text": [
      "[Mode 2: {2: 38, 7: 25, 9: 17, 4: 10, 3: 3, 1: 3, 0: 2, 8: 2}] \n"
     ]
    },
    {
     "data": {
      "text/plain": "<Figure size 432x288 with 1 Axes>",
      "image/png": "[encoded data removed]"
     },
     "metadata": {
      "needs_background": "light"
     },
     "output_type": "display_data"
    },
    {
     "name": "stdout",
     "output_type": "stream",
     "text": [
      "[Mode 2: {2: 51, 8: 7, 3: 7, 0: 5, 5: 1}] \n"
     ]
    },
    {
     "data": {
      "text/plain": "<Figure size 432x288 with 1 Axes>",
      "image/png": "[encoded data removed]"
     },
     "metadata": {
      "needs_background": "light"
     },
     "output_type": "display_data"
    },
    {
     "name": "stdout",
     "output_type": "stream",
     "text": [
      "[Mode 8: {8: 62, 5: 16, 2: 3, 0: 2, 3: 2, 9: 1}] \n"
     ]
    },
    {
     "data": {
      "text/plain": "<Figure size 432x288 with 1 Axes>",
      "image/png": "[encoded data removed]"
     },
     "metadata": {
      "needs_background": "light"
     },
     "output_type": "display_data"
    },
    {
     "name": "stdout",
     "output_type": "stream",
     "text": [
      "[Mode 1: {1: 43, 7: 5, 4: 3, 9: 3, 2: 2}] \n"
     ]
    },
    {
     "data": {
      "text/plain": "<Figure size 432x288 with 1 Axes>",
      "image/png": "[encoded data removed]"
     },
     "metadata": {
      "needs_background": "light"
     },
     "output_type": "display_data"
    },
    {
     "name": "stdout",
     "output_type": "stream",
     "text": [
      "[Mode 3: {3: 55, 5: 17, 9: 4, 8: 2, 6: 1, 0: 1, 2: 1}] \n"
     ]
    },
    {
     "data": {
      "text/plain": "<Figure size 432x288 with 1 Axes>",
      "image/png": "[encoded data removed]"
     },
     "metadata": {
      "needs_background": "light"
     },
     "output_type": "display_data"
    }
   ],
   "source": [
    "clusters.plot_mean_digit()"
   ],
   "metadata": {
    "collapsed": false,
    "pycharm": {
     "name": "#%%\n"
    }
   }
  }
 ],
 "metadata": {
  "kernelspec": {
   "display_name": "Python 3",
   "language": "python",
   "name": "python3"
  },
  "language_info": {
   "codemirror_mode": {
    "name": "ipython",
    "version": 2
   },
   "file_extension": ".py",
   "mimetype": "text/x-python",
   "name": "python",
   "nbconvert_exporter": "python",
   "pygments_lexer": "ipython2",
   "version": "2.7.6"
  }
 },
 "nbformat": 4,
 "nbformat_minor": 0
}